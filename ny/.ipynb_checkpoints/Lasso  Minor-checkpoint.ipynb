{
 "cells": [
  {
   "cell_type": "markdown",
   "id": "760924d5",
   "metadata": {},
   "source": [
    "### The Lasso is a linear model that estimates sparse coefficients. It is useful in some contexts due to its tendency to prefer solutions with fewer non-zero coefficients, effectively reducing the number of features upon which the given solution is dependent. "
   ]
  },
  {
   "cell_type": "code",
   "execution_count": 1,
   "id": "6703d5d1",
   "metadata": {},
   "outputs": [],
   "source": [
    "from warnings import filterwarnings\n",
    "filterwarnings(\"ignore\")\n",
    "\n",
    "import sys\n",
    "sys.path.append('../common')\n",
    "\n",
    "from print_more_stuff import print_more_stuff\n",
    "from preprocessing import mean_and_std\n",
    "from regression_models import dosomething\n",
    "\n",
    "import pandas as pd\n",
    "import matplotlib.pyplot as plt\n",
    "import numpy as np\n",
    "import seaborn as sns\n",
    "\n",
    "from sklearn.linear_model import Lasso\n",
    "from sklearn.model_selection import train_test_split, cross_val_score, GridSearchCV"
   ]
  },
  {
   "cell_type": "code",
   "execution_count": 2,
   "id": "e76f44b1",
   "metadata": {},
   "outputs": [],
   "source": [
    "outliers_df = pd.read_csv('geocoded.csv')\n",
    "outliers_df.drop(columns=[\"Unnamed: 0\"],inplace=True)"
   ]
  },
  {
   "cell_type": "code",
   "execution_count": 3,
   "id": "3a3b5d51",
   "metadata": {},
   "outputs": [
    {
     "name": "stdout",
     "output_type": "stream",
     "text": [
      "<class 'pandas.core.frame.DataFrame'>\n",
      "RangeIndex: 12242 entries, 0 to 12241\n",
      "Data columns (total 13 columns):\n",
      " #   Column          Non-Null Count  Dtype  \n",
      "---  ------          --------------  -----  \n",
      " 0   Unnamed: 0.1    12242 non-null  int64  \n",
      " 1   bed             12242 non-null  float64\n",
      " 2   bath            12242 non-null  float64\n",
      " 3   acre_lot        12242 non-null  float64\n",
      " 4   zip_code        12242 non-null  float64\n",
      " 5   house_size      12242 non-null  float64\n",
      " 6   prev_sold_date  12242 non-null  object \n",
      " 7   price           12242 non-null  float64\n",
      " 8   prev_sold_year  12242 non-null  int64  \n",
      " 9   zip_code_str    12242 non-null  int64  \n",
      " 10  latitude        12242 non-null  float64\n",
      " 11  longitude       12242 non-null  float64\n",
      " 12  county          12242 non-null  int64  \n",
      "dtypes: float64(8), int64(4), object(1)\n",
      "memory usage: 1.2+ MB\n"
     ]
    }
   ],
   "source": [
    "outliers_df.info()"
   ]
  },
  {
   "cell_type": "markdown",
   "id": "5916fc01",
   "metadata": {},
   "source": [
    "#### Find the zip code of that has the most houses."
   ]
  },
  {
   "cell_type": "code",
   "execution_count": 4,
   "id": "9e5d7fc0",
   "metadata": {},
   "outputs": [
    {
     "data": {
      "text/plain": [
       "10023.0"
      ]
     },
     "execution_count": 4,
     "metadata": {},
     "output_type": "execute_result"
    }
   ],
   "source": [
    "groupby_zipcode = outliers_df.groupby([\"zip_code\"])[\"zip_code\"].count().sort_values(ascending=False)\n",
    "groupby_zipcode_df = pd.DataFrame(groupby_zipcode).rename(columns={\"zip_code\":\"count\"}).reset_index()\n",
    "first_zipcode = groupby_zipcode_df.iloc[0][\"zip_code\"]\n",
    "first_zipcode"
   ]
  },
  {
   "cell_type": "markdown",
   "id": "a7773fb4",
   "metadata": {},
   "source": [
    "#### Find the rows of the zip code that has the most houses."
   ]
  },
  {
   "cell_type": "code",
   "execution_count": 5,
   "id": "4e07ce06",
   "metadata": {},
   "outputs": [],
   "source": [
    "one_zipcode_df = outliers_df[outliers_df[\"zip_code\"].isin([first_zipcode])]"
   ]
  },
  {
   "cell_type": "code",
   "execution_count": 6,
   "id": "68727f63",
   "metadata": {},
   "outputs": [
    {
     "name": "stdout",
     "output_type": "stream",
     "text": [
      "<class 'pandas.core.frame.DataFrame'>\n",
      "Int64Index: 150 entries, 3689 to 3838\n",
      "Data columns (total 13 columns):\n",
      " #   Column          Non-Null Count  Dtype  \n",
      "---  ------          --------------  -----  \n",
      " 0   Unnamed: 0.1    150 non-null    int64  \n",
      " 1   bed             150 non-null    float64\n",
      " 2   bath            150 non-null    float64\n",
      " 3   acre_lot        150 non-null    float64\n",
      " 4   zip_code        150 non-null    float64\n",
      " 5   house_size      150 non-null    float64\n",
      " 6   prev_sold_date  150 non-null    object \n",
      " 7   price           150 non-null    float64\n",
      " 8   prev_sold_year  150 non-null    int64  \n",
      " 9   zip_code_str    150 non-null    int64  \n",
      " 10  latitude        150 non-null    float64\n",
      " 11  longitude       150 non-null    float64\n",
      " 12  county          150 non-null    int64  \n",
      "dtypes: float64(8), int64(4), object(1)\n",
      "memory usage: 16.4+ KB\n"
     ]
    }
   ],
   "source": [
    "one_zipcode_df.info()"
   ]
  },
  {
   "cell_type": "markdown",
   "id": "460e1e2a",
   "metadata": {},
   "source": [
    "#### Create an object to pass to the function that will normalize the data"
   ]
  },
  {
   "cell_type": "code",
   "execution_count": 7,
   "id": "4a65123a",
   "metadata": {},
   "outputs": [
    {
     "data": {
      "text/html": [
       "<div>\n",
       "<style scoped>\n",
       "    .dataframe tbody tr th:only-of-type {\n",
       "        vertical-align: middle;\n",
       "    }\n",
       "\n",
       "    .dataframe tbody tr th {\n",
       "        vertical-align: top;\n",
       "    }\n",
       "\n",
       "    .dataframe thead th {\n",
       "        text-align: right;\n",
       "    }\n",
       "</style>\n",
       "<table border=\"1\" class=\"dataframe\">\n",
       "  <thead>\n",
       "    <tr style=\"text-align: right;\">\n",
       "      <th></th>\n",
       "      <th>Unnamed: 0.1</th>\n",
       "      <th>bed</th>\n",
       "      <th>bath</th>\n",
       "      <th>acre_lot</th>\n",
       "      <th>zip_code</th>\n",
       "      <th>house_size</th>\n",
       "      <th>prev_sold_date</th>\n",
       "      <th>price</th>\n",
       "      <th>prev_sold_year</th>\n",
       "      <th>zip_code_str</th>\n",
       "      <th>latitude</th>\n",
       "      <th>longitude</th>\n",
       "      <th>county</th>\n",
       "    </tr>\n",
       "  </thead>\n",
       "  <tbody>\n",
       "    <tr>\n",
       "      <th>3834</th>\n",
       "      <td>3835</td>\n",
       "      <td>2.0</td>\n",
       "      <td>2.0</td>\n",
       "      <td>0.05</td>\n",
       "      <td>10023.0</td>\n",
       "      <td>1200.0</td>\n",
       "      <td>2017-06-13</td>\n",
       "      <td>1885000.0</td>\n",
       "      <td>2017</td>\n",
       "      <td>10023</td>\n",
       "      <td>40.775921</td>\n",
       "      <td>-73.982607</td>\n",
       "      <td>3</td>\n",
       "    </tr>\n",
       "    <tr>\n",
       "      <th>3835</th>\n",
       "      <td>3836</td>\n",
       "      <td>1.0</td>\n",
       "      <td>1.0</td>\n",
       "      <td>0.05</td>\n",
       "      <td>10023.0</td>\n",
       "      <td>1200.0</td>\n",
       "      <td>2017-08-15</td>\n",
       "      <td>1500000.0</td>\n",
       "      <td>2017</td>\n",
       "      <td>10023</td>\n",
       "      <td>40.775921</td>\n",
       "      <td>-73.982607</td>\n",
       "      <td>3</td>\n",
       "    </tr>\n",
       "    <tr>\n",
       "      <th>3836</th>\n",
       "      <td>3837</td>\n",
       "      <td>2.0</td>\n",
       "      <td>2.0</td>\n",
       "      <td>0.05</td>\n",
       "      <td>10023.0</td>\n",
       "      <td>1200.0</td>\n",
       "      <td>2019-07-17</td>\n",
       "      <td>1695000.0</td>\n",
       "      <td>2019</td>\n",
       "      <td>10023</td>\n",
       "      <td>40.775921</td>\n",
       "      <td>-73.982607</td>\n",
       "      <td>3</td>\n",
       "    </tr>\n",
       "    <tr>\n",
       "      <th>3837</th>\n",
       "      <td>3838</td>\n",
       "      <td>2.0</td>\n",
       "      <td>2.0</td>\n",
       "      <td>0.05</td>\n",
       "      <td>10023.0</td>\n",
       "      <td>1200.0</td>\n",
       "      <td>2019-01-14</td>\n",
       "      <td>1295000.0</td>\n",
       "      <td>2019</td>\n",
       "      <td>10023</td>\n",
       "      <td>40.775921</td>\n",
       "      <td>-73.982607</td>\n",
       "      <td>3</td>\n",
       "    </tr>\n",
       "    <tr>\n",
       "      <th>3838</th>\n",
       "      <td>3839</td>\n",
       "      <td>3.0</td>\n",
       "      <td>1.0</td>\n",
       "      <td>0.05</td>\n",
       "      <td>10023.0</td>\n",
       "      <td>1200.0</td>\n",
       "      <td>2017-07-21</td>\n",
       "      <td>435000.0</td>\n",
       "      <td>2017</td>\n",
       "      <td>10023</td>\n",
       "      <td>40.775921</td>\n",
       "      <td>-73.982607</td>\n",
       "      <td>3</td>\n",
       "    </tr>\n",
       "  </tbody>\n",
       "</table>\n",
       "</div>"
      ],
      "text/plain": [
       "      Unnamed: 0.1  bed  bath  acre_lot  zip_code  house_size prev_sold_date  \\\n",
       "3834          3835  2.0   2.0      0.05   10023.0      1200.0     2017-06-13   \n",
       "3835          3836  1.0   1.0      0.05   10023.0      1200.0     2017-08-15   \n",
       "3836          3837  2.0   2.0      0.05   10023.0      1200.0     2019-07-17   \n",
       "3837          3838  2.0   2.0      0.05   10023.0      1200.0     2019-01-14   \n",
       "3838          3839  3.0   1.0      0.05   10023.0      1200.0     2017-07-21   \n",
       "\n",
       "          price  prev_sold_year  zip_code_str   latitude  longitude  county  \n",
       "3834  1885000.0            2017         10023  40.775921 -73.982607       3  \n",
       "3835  1500000.0            2017         10023  40.775921 -73.982607       3  \n",
       "3836  1695000.0            2019         10023  40.775921 -73.982607       3  \n",
       "3837  1295000.0            2019         10023  40.775921 -73.982607       3  \n",
       "3838   435000.0            2017         10023  40.775921 -73.982607       3  "
      ]
     },
     "execution_count": 7,
     "metadata": {},
     "output_type": "execute_result"
    }
   ],
   "source": [
    "params = {\n",
    "    \"data\":one_zipcode_df,\n",
    "    \"features_a\":[\"prev_sold_year\",\"zip_code\",\"latitude\",\"longitude\"],\n",
    "    \"features_n\":[\"bed\",\"bath\",\"acre_lot\",\"house_size\",\"price\"]\n",
    "}\n",
    "#normalize_df = mean_and_std(params)\n",
    "normalize_df = one_zipcode_df\n",
    "normalize_df.tail()"
   ]
  },
  {
   "cell_type": "markdown",
   "id": "495250a7",
   "metadata": {},
   "source": [
    "#### Create a variable for the correlation of the normalized data"
   ]
  },
  {
   "cell_type": "code",
   "execution_count": 8,
   "id": "5d93d4f9",
   "metadata": {},
   "outputs": [
    {
     "data": {
      "text/plain": [
       "acre_lot          0.170108\n",
       "bed               0.626874\n",
       "bath              0.909782\n",
       "house_size        0.798127\n",
       "prev_sold_year   -0.017182\n",
       "price             1.000000\n",
       "Name: price, dtype: float64"
      ]
     },
     "execution_count": 8,
     "metadata": {},
     "output_type": "execute_result"
    }
   ],
   "source": [
    "correlation = normalize_df[[\"acre_lot\",\"bed\",\"bath\",\"house_size\",\"prev_sold_year\",\"price\"]].corr()\n",
    "correlation[\"price\"]"
   ]
  },
  {
   "cell_type": "markdown",
   "id": "9000ab13",
   "metadata": {},
   "source": [
    "#### Display a Heatmap with the correlated data"
   ]
  },
  {
   "cell_type": "code",
   "execution_count": 9,
   "id": "ade3651b",
   "metadata": {},
   "outputs": [
    {
     "data": {
      "text/plain": [
       "Text(0.5, 1.0, 'Correlation Between Variables')"
      ]
     },
     "execution_count": 9,
     "metadata": {},
     "output_type": "execute_result"
    },
    {
     "data": {
      "image/png": "[encoded data removed]",
      "text/plain": [
       "<Figure size 640x480 with 2 Axes>"
      ]
     },
     "metadata": {},
     "output_type": "display_data"
    }
   ],
   "source": [
    "sns.heatmap(correlation, vmin=-1, vmax=1, cmap = 'coolwarm', annot=True, fmt='.2f', linewidths=0.1)\n",
    "plt.title(\"Correlation Between Variables\", pad=20)"
   ]
  },
  {
   "cell_type": "markdown",
   "id": "64454080",
   "metadata": {},
   "source": [
    "#### Create a variable to hold the features that correlate with the price feature between 0.20 and 0.80"
   ]
  },
  {
   "cell_type": "code",
   "execution_count": 10,
   "id": "e438ace4",
   "metadata": {},
   "outputs": [
    {
     "name": "stdout",
     "output_type": "stream",
     "text": [
      "['latitude', 'longitude', 'bed', 'house_size']\n"
     ]
    }
   ],
   "source": [
    "'''\n",
    "'''\n",
    "savefeatures = [\"latitude\",\"longitude\"]\n",
    "for feature, value in correlation[\"price\"].items():\n",
    "    if abs(value) < 0.81 and abs(value) >= 0.20:\n",
    "        savefeatures.append(feature)\n",
    "\n",
    "print(savefeatures)"
   ]
  },
  {
   "cell_type": "code",
   "execution_count": null,
   "id": "5083bce3",
   "metadata": {},
   "outputs": [],
   "source": []
  },
  {
   "cell_type": "markdown",
   "id": "eb5d6854",
   "metadata": {},
   "source": [
    "#### Create common variables to store frequently used values."
   ]
  },
  {
   "cell_type": "code",
   "execution_count": 11,
   "id": "aa1c1059",
   "metadata": {},
   "outputs": [],
   "source": [
    "features = savefeatures\n",
    "num_features_to_select = len(features)-1\n",
    "random_state_value = 42"
   ]
  },
  {
   "cell_type": "markdown",
   "id": "d2df4928",
   "metadata": {},
   "source": [
    "#### Datasets for modeling, testing the models, and making predictions."
   ]
  },
  {
   "cell_type": "code",
   "execution_count": 12,
   "id": "7bff4fc2",
   "metadata": {},
   "outputs": [],
   "source": [
    "X = normalize_df[features]\n",
    "y = normalize_df[\"price\"]\n",
    "X_train, X_test, y_train, y_test = train_test_split(X, y, test_size=0.3, random_state=random_state_value)"
   ]
  },
  {
   "cell_type": "code",
   "execution_count": null,
   "id": "25f416da",
   "metadata": {},
   "outputs": [],
   "source": []
  },
  {
   "cell_type": "markdown",
   "id": "6cf44df9",
   "metadata": {},
   "source": [
    "#### Variable to store the results generated by the models."
   ]
  },
  {
   "cell_type": "code",
   "execution_count": 13,
   "id": "3bbe39f7",
   "metadata": {},
   "outputs": [],
   "source": [
    "results_dict = {\"model\":[], \"explained variance score\":[],\"mae score\":[],\"mse score\":[],\"r2 score\":[], \"mean fit time\":[]}"
   ]
  },
  {
   "cell_type": "markdown",
   "id": "e4262559",
   "metadata": {},
   "source": [
    "#### Function to format the results generated by the models."
   ]
  },
  {
   "cell_type": "code",
   "execution_count": 14,
   "id": "d1427612",
   "metadata": {},
   "outputs": [],
   "source": [
    "def results_dict_append(rtnval):\n",
    "    results_dict[\"model\"].append(rtnval[\"model\"])\n",
    "    results_dict[\"explained variance score\"].append(rtnval[\"explained variance score\"])\n",
    "    results_dict[\"mae score\"].append(rtnval[\"mae score\"])\n",
    "    results_dict[\"mse score\"].append(rtnval[\"mse score\"])\n",
    "    results_dict[\"r2 score\"].append(rtnval[\"r2 score\"])\n",
    "    results_dict[\"mean fit time\"].append(rtnval[\"mean fit time\"])"
   ]
  },
  {
   "cell_type": "code",
   "execution_count": null,
   "id": "65b401a0",
   "metadata": {},
   "outputs": [],
   "source": []
  },
  {
   "cell_type": "markdown",
   "id": "1251c0e1",
   "metadata": {},
   "source": [
    "#### Use Grid Search CV to find the best Hyperparameters for Lasso Regression"
   ]
  },
  {
   "cell_type": "code",
   "execution_count": 15,
   "id": "f686f4ec",
   "metadata": {},
   "outputs": [
    {
     "name": "stdout",
     "output_type": "stream",
     "text": [
      "Best parameters found: {'alpha': 1e-08}\n"
     ]
    }
   ],
   "source": [
    "myrange = []\n",
    "for i in range(5,9):\n",
    "    myrange.append(10**-i)\n",
    "param_dict = {'alpha': myrange}\n",
    "lasso_gscv = GridSearchCV(Lasso(), param_grid=param_dict, scoring='neg_mean_squared_error')\n",
    "lasso_gscv_model = lasso_gscv.fit(X, y)\n",
    "print(f\"Best parameters found: {lasso_gscv.best_params_}\")"
   ]
  },
  {
   "cell_type": "markdown",
   "id": "9c7e5ed5",
   "metadata": {},
   "source": [
    "#### The best params attribute will be used to fit  model with the training data and make a prediction with the test data."
   ]
  },
  {
   "cell_type": "code",
   "execution_count": 16,
   "id": "18340346",
   "metadata": {},
   "outputs": [
    {
     "name": "stdout",
     "output_type": "stream",
     "text": [
      "The selected features are: ['latitude', 'longitude', 'bed', 'house_size']\n",
      "Best Params EVS = 0.681201943\n",
      "Best Params MSE = 701,294,499,278.507446\n",
      "Best Params MAE = 721,693.950774\n",
      "Best Params R2 = 0.667712\n",
      "Best Params Fit Time = 0.003869295120239258\n"
     ]
    }
   ],
   "source": [
    "lasso_bp = dosomething(\"Lasso\",\"Best Params\", normalize_df, features, \"price\", lasso_gscv.best_params_)\n",
    "results_dict_append(lasso_bp[\"results\"])\n",
    "lasso_bp_predict = lasso_bp[\"predictions\"]"
   ]
  },
  {
   "cell_type": "code",
   "execution_count": null,
   "id": "9d1d4895",
   "metadata": {},
   "outputs": [],
   "source": []
  },
  {
   "cell_type": "markdown",
   "id": "527ca7b4",
   "metadata": {},
   "source": [
    "### SelectFromModel is a meta-transformer that can be used alongside any estimator that assigns importance to each feature through a specific attribute or via an importance_getter callable after fitting. The features are considered unimportant and removed if the corresponding importance of the feature values are below the provided threshold parameter."
   ]
  },
  {
   "cell_type": "code",
   "execution_count": 17,
   "id": "4f42a62d",
   "metadata": {},
   "outputs": [
    {
     "name": "stdout",
     "output_type": "stream",
     "text": [
      "The selected features are: ['bed', 'house_size']\n",
      "Select From Model EVS = 0.681202001\n",
      "Select From Model MSE = 701,294,340,426.075317\n",
      "Select From Model MAE = 721,693.787313\n",
      "Select From Model R2 = 0.667712\n",
      "Select From Model Fit Time = 0.0025131702423095703\n"
     ]
    }
   ],
   "source": [
    "lasso_sfm = dosomething(\"Lasso\",\"Select From Model\", normalize_df, features, \"price\")\n",
    "results_dict_append(lasso_sfm[\"results\"])\n",
    "lasso_sfm_predict = lasso_sfm[\"predictions\"]"
   ]
  },
  {
   "cell_type": "code",
   "execution_count": null,
   "id": "84d19331",
   "metadata": {},
   "outputs": [],
   "source": []
  },
  {
   "cell_type": "markdown",
   "id": "178bbc2b",
   "metadata": {},
   "source": [
    "###  Sequential Feature Selector (forward selection) adds features to form a feature subset in a greedy fashion. At each stage, this estimator chooses the best feature to add or remove based on the cross-validation score of an estimator."
   ]
  },
  {
   "cell_type": "code",
   "execution_count": 18,
   "id": "70329d90",
   "metadata": {},
   "outputs": [
    {
     "name": "stdout",
     "output_type": "stream",
     "text": [
      "The selected features are: ['latitude', 'bed', 'house_size']\n",
      "Sequential Feature Selector EVS = 0.681202001\n",
      "Sequential Feature Selector MSE = 701,294,340,426.075317\n",
      "Sequential Feature Selector MAE = 721,693.787313\n",
      "Sequential Feature Selector R2 = 0.667712\n",
      "Sequential Feature Selector Fit Time = 0.002605152130126953\n"
     ]
    }
   ],
   "source": [
    "lasso_sfs = dosomething(\"Lasso\",\"Sequential Feature Selector\", normalize_df, features, \"price\")\n",
    "results_dict_append(lasso_sfs[\"results\"])\n",
    "lasso_sfs_predict = lasso_sfs[\"predictions\"]"
   ]
  },
  {
   "cell_type": "code",
   "execution_count": null,
   "id": "3eafd718",
   "metadata": {},
   "outputs": [],
   "source": []
  },
  {
   "cell_type": "markdown",
   "id": "d1e378cd",
   "metadata": {},
   "source": [
    "### Recursive feature elimination uses an external estimator that assigns weights to features with the goal of selecting features by recursively considering smaller and smaller sets of features."
   ]
  },
  {
   "cell_type": "code",
   "execution_count": 19,
   "id": "724e9d78",
   "metadata": {},
   "outputs": [
    {
     "name": "stdout",
     "output_type": "stream",
     "text": [
      "The selected features are: ['longitude', 'bed', 'house_size']\n",
      "Recursive Feature Elimination EVS = 0.681202001\n",
      "Recursive Feature Elimination MSE = 701,294,340,426.075317\n",
      "Recursive Feature Elimination MAE = 721,693.787313\n",
      "Recursive Feature Elimination R2 = 0.667712\n",
      "Recursive Feature Elimination Fit Time = 0.0018826007843017578\n"
     ]
    }
   ],
   "source": [
    "lasso_rfe = dosomething(\"Lasso\",\"Recursive Feature Elimination\", normalize_df, features, \"price\")\n",
    "results_dict_append(lasso_rfe[\"results\"])\n",
    "lasso_rfe_predict = lasso_rfe[\"predictions\"]"
   ]
  },
  {
   "cell_type": "code",
   "execution_count": null,
   "id": "df831550",
   "metadata": {},
   "outputs": [],
   "source": []
  },
  {
   "cell_type": "markdown",
   "id": "3e44bd35",
   "metadata": {},
   "source": [
    "#### Graphing the results works best when the data is provided in a DataFrame."
   ]
  },
  {
   "cell_type": "code",
   "execution_count": 20,
   "id": "4a4fb079",
   "metadata": {},
   "outputs": [],
   "source": [
    "lasso_bp_predict_df = pd.DataFrame(lasso_bp_predict).reset_index()\n",
    "lasso_bp_predict_df.rename(columns={0: \"prediction\"},inplace=True)\n",
    "\n",
    "lasso_sfm_predict_df = pd.DataFrame(lasso_sfm_predict).reset_index()\n",
    "lasso_sfm_predict_df.rename(columns={0: \"prediction\"},inplace=True)\n",
    "\n",
    "lasso_sfs_predict_df = pd.DataFrame(lasso_sfs_predict).reset_index()\n",
    "lasso_sfs_predict_df.rename(columns={0: \"prediction\"},inplace=True)\n",
    "\n",
    "lasso_rfe_predict_df = pd.DataFrame(lasso_rfe_predict).reset_index()\n",
    "lasso_rfe_predict_df.rename(columns={0: \"prediction\"},inplace=True)\n",
    "\n",
    "y_test_df = pd.DataFrame(y_test).reset_index()"
   ]
  },
  {
   "cell_type": "code",
   "execution_count": 21,
   "id": "71cb2b0a",
   "metadata": {},
   "outputs": [
    {
     "data": {
      "image/png": "[encoded data removed]",
      "text/plain": [
       "<Figure size 1000x600 with 1 Axes>"
      ]
     },
     "metadata": {},
     "output_type": "display_data"
    }
   ],
   "source": [
    "fig, ax = plt.subplots(figsize=(10, 6))\n",
    "\n",
    "ax.ticklabel_format(style='plain')\n",
    "ax.yaxis.set_major_formatter('${x:1,.0f}')\n",
    "ax.xaxis.set_major_formatter(' ')\n",
    "\n",
    "plt.scatter(y_test_df.index,y_test_df[\"price\"], color=\"red\")\n",
    "plt.scatter(lasso_bp_predict_df.index,lasso_bp_predict_df[\"prediction\"], color=\"blue\")\n",
    "plt.scatter(lasso_sfs_predict_df.index,lasso_sfs_predict_df[\"prediction\"], color=\"green\")\n",
    "plt.show()"
   ]
  },
  {
   "cell_type": "code",
   "execution_count": null,
   "id": "256264b3",
   "metadata": {},
   "outputs": [],
   "source": []
  },
  {
   "cell_type": "markdown",
   "id": "3d3255cf",
   "metadata": {},
   "source": [
    "#### Output the results so they can be copied into another Notebook comparing the results of all the models."
   ]
  },
  {
   "cell_type": "code",
   "execution_count": 22,
   "id": "cf40daca",
   "metadata": {},
   "outputs": [
    {
     "data": {
      "text/plain": [
       "{'model': ['Best Params',\n",
       "  'Select From Model',\n",
       "  'Sequential Feature Selector',\n",
       "  'Recursive Feature Elimination'],\n",
       " 'explained variance score': ['0.681201943',\n",
       "  '0.681202001',\n",
       "  '0.681202001',\n",
       "  '0.681202001'],\n",
       " 'mae score': ['721,693.950774',\n",
       "  '721,693.787313',\n",
       "  '721,693.787313',\n",
       "  '721,693.787313'],\n",
       " 'mse score': ['701,294,499,278.507446',\n",
       "  '701,294,340,426.075317',\n",
       "  '701,294,340,426.075317',\n",
       "  '701,294,340,426.075317'],\n",
       " 'r2 score': ['0.667712', '0.667712', '0.667712', '0.667712'],\n",
       " 'mean fit time': [0.003869295120239258,\n",
       "  0.0025131702423095703,\n",
       "  0.002605152130126953,\n",
       "  0.0018826007843017578]}"
      ]
     },
     "execution_count": 22,
     "metadata": {},
     "output_type": "execute_result"
    }
   ],
   "source": [
    "results_dict"
   ]
  },
  {
   "cell_type": "code",
   "execution_count": 23,
   "id": "d8787cfa",
   "metadata": {},
   "outputs": [
    {
     "data": {
      "text/html": [
       "<div>\n",
       "<style scoped>\n",
       "    .dataframe tbody tr th:only-of-type {\n",
       "        vertical-align: middle;\n",
       "    }\n",
       "\n",
       "    .dataframe tbody tr th {\n",
       "        vertical-align: top;\n",
       "    }\n",
       "\n",
       "    .dataframe thead th {\n",
       "        text-align: right;\n",
       "    }\n",
       "</style>\n",
       "<table border=\"1\" class=\"dataframe\">\n",
       "  <thead>\n",
       "    <tr style=\"text-align: right;\">\n",
       "      <th></th>\n",
       "      <th>explained variance score</th>\n",
       "      <th>mae score</th>\n",
       "      <th>mse score</th>\n",
       "      <th>r2 score</th>\n",
       "      <th>mean fit time</th>\n",
       "    </tr>\n",
       "    <tr>\n",
       "      <th>model</th>\n",
       "      <th></th>\n",
       "      <th></th>\n",
       "      <th></th>\n",
       "      <th></th>\n",
       "      <th></th>\n",
       "    </tr>\n",
       "  </thead>\n",
       "  <tbody>\n",
       "    <tr>\n",
       "      <th>Best Params</th>\n",
       "      <td>0.681201943</td>\n",
       "      <td>721,693.950774</td>\n",
       "      <td>701,294,499,278.507446</td>\n",
       "      <td>0.667712</td>\n",
       "      <td>0.003869</td>\n",
       "    </tr>\n",
       "    <tr>\n",
       "      <th>Select From Model</th>\n",
       "      <td>0.681202001</td>\n",
       "      <td>721,693.787313</td>\n",
       "      <td>701,294,340,426.075317</td>\n",
       "      <td>0.667712</td>\n",
       "      <td>0.002513</td>\n",
       "    </tr>\n",
       "    <tr>\n",
       "      <th>Sequential Feature Selector</th>\n",
       "      <td>0.681202001</td>\n",
       "      <td>721,693.787313</td>\n",
       "      <td>701,294,340,426.075317</td>\n",
       "      <td>0.667712</td>\n",
       "      <td>0.002605</td>\n",
       "    </tr>\n",
       "    <tr>\n",
       "      <th>Recursive Feature Elimination</th>\n",
       "      <td>0.681202001</td>\n",
       "      <td>721,693.787313</td>\n",
       "      <td>701,294,340,426.075317</td>\n",
       "      <td>0.667712</td>\n",
       "      <td>0.001883</td>\n",
       "    </tr>\n",
       "  </tbody>\n",
       "</table>\n",
       "</div>"
      ],
      "text/plain": [
       "                              explained variance score       mae score  \\\n",
       "model                                                                    \n",
       "Best Params                                0.681201943  721,693.950774   \n",
       "Select From Model                          0.681202001  721,693.787313   \n",
       "Sequential Feature Selector                0.681202001  721,693.787313   \n",
       "Recursive Feature Elimination              0.681202001  721,693.787313   \n",
       "\n",
       "                                            mse score  r2 score  mean fit time  \n",
       "model                                                                           \n",
       "Best Params                    701,294,499,278.507446  0.667712       0.003869  \n",
       "Select From Model              701,294,340,426.075317  0.667712       0.002513  \n",
       "Sequential Feature Selector    701,294,340,426.075317  0.667712       0.002605  \n",
       "Recursive Feature Elimination  701,294,340,426.075317  0.667712       0.001883  "
      ]
     },
     "execution_count": 23,
     "metadata": {},
     "output_type": "execute_result"
    }
   ],
   "source": [
    "model_comparisons = pd.DataFrame(results_dict).set_index('model')\n",
    "model_comparisons"
   ]
  }
 ],
 "metadata": {
  "kernelspec": {
   "display_name": "Python 3 (ipykernel)",
   "language": "python",
   "name": "python3"
  },
  "language_info": {
   "codemirror_mode": {
    "name": "ipython",
    "version": 3
   },
   "file_extension": ".py",
   "mimetype": "text/x-python",
   "name": "python",
   "nbconvert_exporter": "python",
   "pygments_lexer": "ipython3",
   "version": "3.11.4"
  }
 },
 "nbformat": 4,
 "nbformat_minor": 5
}
