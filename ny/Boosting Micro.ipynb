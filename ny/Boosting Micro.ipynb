{
 "cells": [
  {
   "cell_type": "code",
   "execution_count": 1,
   "id": "26a257c8",
   "metadata": {},
   "outputs": [],
   "source": [
    "from warnings import filterwarnings\n",
    "filterwarnings(\"ignore\")\n",
    "\n",
    "import sys\n",
    "sys.path.append('../common')\n",
    "\n",
    "from print_more_stuff import print_more_stuff\n",
    "from regression_models import dosomething\n",
    "from preprocessing import mean_and_std\n",
    "\n",
    "import pandas as pd\n",
    "import matplotlib.pyplot as plt\n",
    "import numpy as np\n",
    "import seaborn as sns\n",
    "\n",
    "from sklearn.ensemble import AdaBoostRegressor, GradientBoostingRegressor, HistGradientBoostingRegressor, RandomForestRegressor\n",
    "from sklearn.model_selection import train_test_split, GridSearchCV"
   ]
  },
  {
   "cell_type": "code",
   "execution_count": 2,
   "id": "a2ecb96d",
   "metadata": {},
   "outputs": [],
   "source": [
    "outliers_df = pd.read_csv(\"geocoded.csv\")\n",
    "outliers_df.drop(columns=[\"Unnamed: 0\"],inplace=True)"
   ]
  },
  {
   "cell_type": "code",
   "execution_count": 3,
   "id": "52c271cd",
   "metadata": {},
   "outputs": [
    {
     "name": "stdout",
     "output_type": "stream",
     "text": [
      "<class 'pandas.core.frame.DataFrame'>\n",
      "RangeIndex: 12242 entries, 0 to 12241\n",
      "Data columns (total 12 columns):\n",
      " #   Column          Non-Null Count  Dtype  \n",
      "---  ------          --------------  -----  \n",
      " 0   Unnamed: 0.1    12242 non-null  int64  \n",
      " 1   bed             12242 non-null  float64\n",
      " 2   bath            12242 non-null  float64\n",
      " 3   acre_lot        12242 non-null  float64\n",
      " 4   zip_code        12242 non-null  float64\n",
      " 5   house_size      12242 non-null  float64\n",
      " 6   prev_sold_date  12242 non-null  object \n",
      " 7   price           12242 non-null  float64\n",
      " 8   prev_sold_year  12242 non-null  int64  \n",
      " 9   zip_code_str    12242 non-null  int64  \n",
      " 10  latitude        12242 non-null  float64\n",
      " 11  longitude       12242 non-null  float64\n",
      "dtypes: float64(8), int64(3), object(1)\n",
      "memory usage: 1.1+ MB\n"
     ]
    }
   ],
   "source": [
    "outliers_df.info()"
   ]
  },
  {
   "cell_type": "code",
   "execution_count": 4,
   "id": "9fd0276b",
   "metadata": {},
   "outputs": [
    {
     "data": {
      "text/html": [
       "<div>\n",
       "<style scoped>\n",
       "    .dataframe tbody tr th:only-of-type {\n",
       "        vertical-align: middle;\n",
       "    }\n",
       "\n",
       "    .dataframe tbody tr th {\n",
       "        vertical-align: top;\n",
       "    }\n",
       "\n",
       "    .dataframe thead th {\n",
       "        text-align: right;\n",
       "    }\n",
       "</style>\n",
       "<table border=\"1\" class=\"dataframe\">\n",
       "  <thead>\n",
       "    <tr style=\"text-align: right;\">\n",
       "      <th></th>\n",
       "      <th>Unnamed: 0.1</th>\n",
       "      <th>bed</th>\n",
       "      <th>bath</th>\n",
       "      <th>acre_lot</th>\n",
       "      <th>zip_code</th>\n",
       "      <th>house_size</th>\n",
       "      <th>prev_sold_date</th>\n",
       "      <th>price</th>\n",
       "      <th>prev_sold_year</th>\n",
       "      <th>zip_code_str</th>\n",
       "      <th>latitude</th>\n",
       "      <th>longitude</th>\n",
       "    </tr>\n",
       "  </thead>\n",
       "  <tbody>\n",
       "    <tr>\n",
       "      <th>0</th>\n",
       "      <td>0</td>\n",
       "      <td>3.0</td>\n",
       "      <td>2.0</td>\n",
       "      <td>2.02</td>\n",
       "      <td>12521.0</td>\n",
       "      <td>1600.0</td>\n",
       "      <td>2021-11-24</td>\n",
       "      <td>425000.0</td>\n",
       "      <td>2021</td>\n",
       "      <td>12521</td>\n",
       "      <td>42.171335</td>\n",
       "      <td>-73.650487</td>\n",
       "    </tr>\n",
       "    <tr>\n",
       "      <th>1</th>\n",
       "      <td>1</td>\n",
       "      <td>4.0</td>\n",
       "      <td>2.0</td>\n",
       "      <td>0.24</td>\n",
       "      <td>12521.0</td>\n",
       "      <td>1239.0</td>\n",
       "      <td>2018-02-01</td>\n",
       "      <td>225000.0</td>\n",
       "      <td>2018</td>\n",
       "      <td>12521</td>\n",
       "      <td>42.171335</td>\n",
       "      <td>-73.650487</td>\n",
       "    </tr>\n",
       "    <tr>\n",
       "      <th>2</th>\n",
       "      <td>2</td>\n",
       "      <td>3.0</td>\n",
       "      <td>3.0</td>\n",
       "      <td>0.09</td>\n",
       "      <td>12521.0</td>\n",
       "      <td>1320.0</td>\n",
       "      <td>2020-02-28</td>\n",
       "      <td>995000.0</td>\n",
       "      <td>2020</td>\n",
       "      <td>12521</td>\n",
       "      <td>42.171335</td>\n",
       "      <td>-73.650487</td>\n",
       "    </tr>\n",
       "    <tr>\n",
       "      <th>3</th>\n",
       "      <td>3</td>\n",
       "      <td>3.0</td>\n",
       "      <td>3.0</td>\n",
       "      <td>5.00</td>\n",
       "      <td>12521.0</td>\n",
       "      <td>2517.0</td>\n",
       "      <td>2017-05-30</td>\n",
       "      <td>895000.0</td>\n",
       "      <td>2017</td>\n",
       "      <td>12521</td>\n",
       "      <td>42.171335</td>\n",
       "      <td>-73.650487</td>\n",
       "    </tr>\n",
       "    <tr>\n",
       "      <th>4</th>\n",
       "      <td>4</td>\n",
       "      <td>3.0</td>\n",
       "      <td>2.0</td>\n",
       "      <td>1.20</td>\n",
       "      <td>12546.0</td>\n",
       "      <td>1350.0</td>\n",
       "      <td>2018-08-31</td>\n",
       "      <td>375000.0</td>\n",
       "      <td>2018</td>\n",
       "      <td>12546</td>\n",
       "      <td>41.948000</td>\n",
       "      <td>-73.523349</td>\n",
       "    </tr>\n",
       "  </tbody>\n",
       "</table>\n",
       "</div>"
      ],
      "text/plain": [
       "   Unnamed: 0.1  bed  bath  acre_lot  zip_code  house_size prev_sold_date  \\\n",
       "0             0  3.0   2.0      2.02   12521.0      1600.0     2021-11-24   \n",
       "1             1  4.0   2.0      0.24   12521.0      1239.0     2018-02-01   \n",
       "2             2  3.0   3.0      0.09   12521.0      1320.0     2020-02-28   \n",
       "3             3  3.0   3.0      5.00   12521.0      2517.0     2017-05-30   \n",
       "4             4  3.0   2.0      1.20   12546.0      1350.0     2018-08-31   \n",
       "\n",
       "      price  prev_sold_year  zip_code_str   latitude  longitude  \n",
       "0  425000.0            2021         12521  42.171335 -73.650487  \n",
       "1  225000.0            2018         12521  42.171335 -73.650487  \n",
       "2  995000.0            2020         12521  42.171335 -73.650487  \n",
       "3  895000.0            2017         12521  42.171335 -73.650487  \n",
       "4  375000.0            2018         12546  41.948000 -73.523349  "
      ]
     },
     "execution_count": 4,
     "metadata": {},
     "output_type": "execute_result"
    }
   ],
   "source": [
    "outliers_df.head()"
   ]
  },
  {
   "cell_type": "code",
   "execution_count": 5,
   "id": "efce80b6",
   "metadata": {},
   "outputs": [
    {
     "data": {
      "text/plain": [
       "10023.0"
      ]
     },
     "execution_count": 5,
     "metadata": {},
     "output_type": "execute_result"
    }
   ],
   "source": [
    "groupby_zipcode = outliers_df.groupby([\"zip_code\"])[\"zip_code\"].count().sort_values(ascending=False)\n",
    "groupby_zipcode_df = pd.DataFrame(groupby_zipcode).rename(columns={\"zip_code\":\"count\"}).reset_index()\n",
    "first_zipcode = groupby_zipcode_df.iloc[0][\"zip_code\"]\n",
    "first_zipcode"
   ]
  },
  {
   "cell_type": "code",
   "execution_count": 6,
   "id": "1bdde1ba",
   "metadata": {},
   "outputs": [],
   "source": [
    "one_zipcode_df = outliers_df[outliers_df[\"zip_code\"].isin([first_zipcode])]"
   ]
  },
  {
   "cell_type": "code",
   "execution_count": 7,
   "id": "74399ed1",
   "metadata": {},
   "outputs": [
    {
     "name": "stdout",
     "output_type": "stream",
     "text": [
      "<class 'pandas.core.frame.DataFrame'>\n",
      "Int64Index: 150 entries, 3689 to 3838\n",
      "Data columns (total 12 columns):\n",
      " #   Column          Non-Null Count  Dtype  \n",
      "---  ------          --------------  -----  \n",
      " 0   Unnamed: 0.1    150 non-null    int64  \n",
      " 1   bed             150 non-null    float64\n",
      " 2   bath            150 non-null    float64\n",
      " 3   acre_lot        150 non-null    float64\n",
      " 4   zip_code        150 non-null    float64\n",
      " 5   house_size      150 non-null    float64\n",
      " 6   prev_sold_date  150 non-null    object \n",
      " 7   price           150 non-null    float64\n",
      " 8   prev_sold_year  150 non-null    int64  \n",
      " 9   zip_code_str    150 non-null    int64  \n",
      " 10  latitude        150 non-null    float64\n",
      " 11  longitude       150 non-null    float64\n",
      "dtypes: float64(8), int64(3), object(1)\n",
      "memory usage: 15.2+ KB\n"
     ]
    }
   ],
   "source": [
    "one_zipcode_df.info()"
   ]
  },
  {
   "cell_type": "code",
   "execution_count": 8,
   "id": "d801b217",
   "metadata": {},
   "outputs": [
    {
     "data": {
      "text/html": [
       "<div>\n",
       "<style scoped>\n",
       "    .dataframe tbody tr th:only-of-type {\n",
       "        vertical-align: middle;\n",
       "    }\n",
       "\n",
       "    .dataframe tbody tr th {\n",
       "        vertical-align: top;\n",
       "    }\n",
       "\n",
       "    .dataframe thead th {\n",
       "        text-align: right;\n",
       "    }\n",
       "</style>\n",
       "<table border=\"1\" class=\"dataframe\">\n",
       "  <thead>\n",
       "    <tr style=\"text-align: right;\">\n",
       "      <th></th>\n",
       "      <th>bed</th>\n",
       "      <th>bath</th>\n",
       "      <th>acre_lot</th>\n",
       "      <th>house_size</th>\n",
       "      <th>price</th>\n",
       "      <th>prev_sold_year</th>\n",
       "      <th>latitude</th>\n",
       "      <th>longitude</th>\n",
       "      <th>zip_code</th>\n",
       "    </tr>\n",
       "  </thead>\n",
       "  <tbody>\n",
       "    <tr>\n",
       "      <th>3834</th>\n",
       "      <td>0.158628</td>\n",
       "      <td>0.278238</td>\n",
       "      <td>-0.197783</td>\n",
       "      <td>-0.097337</td>\n",
       "      <td>0.013886</td>\n",
       "      <td>2017</td>\n",
       "      <td>40.775921</td>\n",
       "      <td>-73.982607</td>\n",
       "      <td>10023.0</td>\n",
       "    </tr>\n",
       "    <tr>\n",
       "      <th>3835</th>\n",
       "      <td>-0.974429</td>\n",
       "      <td>-0.739706</td>\n",
       "      <td>-0.197783</td>\n",
       "      <td>-0.097337</td>\n",
       "      <td>-0.230905</td>\n",
       "      <td>2017</td>\n",
       "      <td>40.775921</td>\n",
       "      <td>-73.982607</td>\n",
       "      <td>10023.0</td>\n",
       "    </tr>\n",
       "    <tr>\n",
       "      <th>3836</th>\n",
       "      <td>0.158628</td>\n",
       "      <td>0.278238</td>\n",
       "      <td>-0.197783</td>\n",
       "      <td>-0.097337</td>\n",
       "      <td>-0.106920</td>\n",
       "      <td>2019</td>\n",
       "      <td>40.775921</td>\n",
       "      <td>-73.982607</td>\n",
       "      <td>10023.0</td>\n",
       "    </tr>\n",
       "    <tr>\n",
       "      <th>3837</th>\n",
       "      <td>0.158628</td>\n",
       "      <td>0.278238</td>\n",
       "      <td>-0.197783</td>\n",
       "      <td>-0.097337</td>\n",
       "      <td>-0.361248</td>\n",
       "      <td>2019</td>\n",
       "      <td>40.775921</td>\n",
       "      <td>-73.982607</td>\n",
       "      <td>10023.0</td>\n",
       "    </tr>\n",
       "    <tr>\n",
       "      <th>3838</th>\n",
       "      <td>1.291685</td>\n",
       "      <td>-0.739706</td>\n",
       "      <td>-0.197783</td>\n",
       "      <td>-0.097337</td>\n",
       "      <td>-0.908053</td>\n",
       "      <td>2017</td>\n",
       "      <td>40.775921</td>\n",
       "      <td>-73.982607</td>\n",
       "      <td>10023.0</td>\n",
       "    </tr>\n",
       "  </tbody>\n",
       "</table>\n",
       "</div>"
      ],
      "text/plain": [
       "           bed      bath  acre_lot  house_size     price  prev_sold_year  \\\n",
       "3834  0.158628  0.278238 -0.197783   -0.097337  0.013886            2017   \n",
       "3835 -0.974429 -0.739706 -0.197783   -0.097337 -0.230905            2017   \n",
       "3836  0.158628  0.278238 -0.197783   -0.097337 -0.106920            2019   \n",
       "3837  0.158628  0.278238 -0.197783   -0.097337 -0.361248            2019   \n",
       "3838  1.291685 -0.739706 -0.197783   -0.097337 -0.908053            2017   \n",
       "\n",
       "       latitude  longitude  zip_code  \n",
       "3834  40.775921 -73.982607   10023.0  \n",
       "3835  40.775921 -73.982607   10023.0  \n",
       "3836  40.775921 -73.982607   10023.0  \n",
       "3837  40.775921 -73.982607   10023.0  \n",
       "3838  40.775921 -73.982607   10023.0  "
      ]
     },
     "execution_count": 8,
     "metadata": {},
     "output_type": "execute_result"
    }
   ],
   "source": [
    "#      \"data\":one_zipcode_df,\n",
    "params = {\n",
    "    \"data\":one_zipcode_df,\n",
    "    \"features_a\":[\"prev_sold_year\",\"latitude\",\"longitude\",\"zip_code\"],\n",
    "    \"features_n\":[\"bed\",\"bath\",\"acre_lot\",\"house_size\",\"price\"]\n",
    "}\n",
    "normalize_df = mean_and_std(params)\n",
    "#normalize_df = outliers_df\n",
    "normalize_df.tail()"
   ]
  },
  {
   "cell_type": "code",
   "execution_count": 9,
   "id": "91c222ef",
   "metadata": {},
   "outputs": [
    {
     "data": {
      "text/plain": [
       "acre_lot          0.170108\n",
       "bed               0.626874\n",
       "bath              0.909782\n",
       "house_size        0.798127\n",
       "prev_sold_year   -0.017182\n",
       "price             1.000000\n",
       "Name: price, dtype: float64"
      ]
     },
     "execution_count": 9,
     "metadata": {},
     "output_type": "execute_result"
    }
   ],
   "source": [
    "correlation = normalize_df[[\"acre_lot\",\"bed\",\"bath\",\"house_size\",\"prev_sold_year\",\"price\"]].corr()\n",
    "correlation[\"price\"]"
   ]
  },
  {
   "cell_type": "code",
   "execution_count": 10,
   "id": "1f97ba90",
   "metadata": {},
   "outputs": [
    {
     "data": {
      "text/plain": [
       "Text(0.5, 1.0, 'Correlation Between Variables')"
      ]
     },
     "execution_count": 10,
     "metadata": {},
     "output_type": "execute_result"
    },
    {
     "data": {
      "image/png": "[encoded data removed]",
      "text/plain": [
       "<Figure size 640x480 with 2 Axes>"
      ]
     },
     "metadata": {},
     "output_type": "display_data"
    }
   ],
   "source": [
    "sns.heatmap(correlation, vmin=-1, vmax=1, cmap = 'coolwarm', annot=True, fmt='.2f', linewidths=0.1)\n",
    "plt.title(\"Correlation Between Variables\", pad=20)"
   ]
  },
  {
   "cell_type": "code",
   "execution_count": 11,
   "id": "9b769506",
   "metadata": {},
   "outputs": [
    {
     "name": "stdout",
     "output_type": "stream",
     "text": [
      "['latitude', 'longitude', 'bed', 'house_size']\n"
     ]
    }
   ],
   "source": [
    "'''\n",
    "'''\n",
    "savefeatures = [\"latitude\",\"longitude\"]\n",
    "for feature, value in correlation[\"price\"].items():\n",
    "    if abs(value) < 0.81 and abs(value) >= 0.20:\n",
    "        savefeatures.append(feature)\n",
    "\n",
    "print(savefeatures)"
   ]
  },
  {
   "cell_type": "code",
   "execution_count": null,
   "id": "d83b5af5",
   "metadata": {},
   "outputs": [],
   "source": []
  },
  {
   "cell_type": "code",
   "execution_count": 12,
   "id": "d8dcd46e",
   "metadata": {},
   "outputs": [],
   "source": [
    "#features = [\"latitude\",\"longitude\",\"bed\",\"bath\",\"house_size\"]\n",
    "features = savefeatures\n",
    "num_features_to_select = len(features)-1\n",
    "random_state_value = 42"
   ]
  },
  {
   "cell_type": "code",
   "execution_count": 13,
   "id": "b3d6ac49",
   "metadata": {},
   "outputs": [],
   "source": [
    "X = normalize_df[savefeatures]\n",
    "y = normalize_df[\"price\"]\n",
    "X_train, X_test, y_train, y_test = train_test_split(X, y, test_size=0.3, random_state=random_state_value)"
   ]
  },
  {
   "cell_type": "code",
   "execution_count": null,
   "id": "9a3835ce",
   "metadata": {},
   "outputs": [],
   "source": []
  },
  {
   "cell_type": "code",
   "execution_count": 14,
   "id": "05c888c7",
   "metadata": {},
   "outputs": [],
   "source": [
    "results_dict = {\"model\":[], \"explained variance score\":[],\"mae score\":[],\"mse score\":[],\"r2 score\":[], \"mean fit time\":[]}"
   ]
  },
  {
   "cell_type": "code",
   "execution_count": 15,
   "id": "1b7c29e9",
   "metadata": {},
   "outputs": [],
   "source": [
    "def results_dict_append(rtnval):\n",
    "    results_dict[\"model\"].append(rtnval[\"model\"])\n",
    "    results_dict[\"explained variance score\"].append(rtnval[\"explained variance score\"])\n",
    "    results_dict[\"mae score\"].append(rtnval[\"mae score\"])\n",
    "    results_dict[\"mse score\"].append(rtnval[\"mse score\"])\n",
    "    results_dict[\"r2 score\"].append(rtnval[\"r2 score\"])\n",
    "    results_dict[\"mean fit time\"].append(rtnval[\"mean fit time\"])"
   ]
  },
  {
   "cell_type": "code",
   "execution_count": null,
   "id": "6dc74098",
   "metadata": {},
   "outputs": [],
   "source": []
  },
  {
   "cell_type": "code",
   "execution_count": 16,
   "id": "08435cb6",
   "metadata": {},
   "outputs": [],
   "source": [
    "adaboost_gscv = GridSearchCV(AdaBoostRegressor(random_state=0, n_estimators=100), {})\n",
    "adaboost_gscv_model = adaboost_gscv.fit(X_train, y_train)\n",
    "adaboost_predict = adaboost_gscv.predict(X_test)"
   ]
  },
  {
   "cell_type": "code",
   "execution_count": 17,
   "id": "835a38c4",
   "metadata": {},
   "outputs": [
    {
     "name": "stdout",
     "output_type": "stream",
     "text": [
      "Ada Boost Regressor EVS = 0.713502117\n",
      "Ada Boost Regressor MSE = 0.262645\n",
      "Ada Boost Regressor MAE = 0.373217\n",
      "Ada Boost Regressor R2 = 0.692167\n",
      "Ada Boost Regressor Fit Time = 0.006305551528930664\n"
     ]
    }
   ],
   "source": [
    "results = print_more_stuff(\"Ada Boost Regressor\", y_test, adaboost_predict, adaboost_gscv)\n",
    "results_dict_append(results)"
   ]
  },
  {
   "cell_type": "code",
   "execution_count": null,
   "id": "11ebe714",
   "metadata": {},
   "outputs": [],
   "source": []
  },
  {
   "cell_type": "code",
   "execution_count": 18,
   "id": "60d07ef1",
   "metadata": {},
   "outputs": [],
   "source": [
    "gbr_gscv = GridSearchCV(GradientBoostingRegressor(random_state=0), {})\n",
    "gbr_gscv_model = gbr_gscv.fit(X_train, y_train)\n",
    "gbr_predict = gbr_gscv.predict(X_test)"
   ]
  },
  {
   "cell_type": "code",
   "execution_count": 19,
   "id": "3ef9dfb5",
   "metadata": {},
   "outputs": [
    {
     "name": "stdout",
     "output_type": "stream",
     "text": [
      "Gradient Boosting Regressor EVS = 0.795106974\n",
      "Gradient Boosting Regressor MSE = 0.174820\n",
      "Gradient Boosting Regressor MAE = 0.315570\n",
      "Gradient Boosting Regressor R2 = 0.795102\n",
      "Gradient Boosting Regressor Fit Time = 0.018778276443481446\n"
     ]
    }
   ],
   "source": [
    "results = print_more_stuff(\"Gradient Boosting Regressor\", y_test, gbr_predict, gbr_gscv)\n",
    "results_dict_append(results)"
   ]
  },
  {
   "cell_type": "code",
   "execution_count": null,
   "id": "b52af392",
   "metadata": {},
   "outputs": [],
   "source": []
  },
  {
   "cell_type": "code",
   "execution_count": 20,
   "id": "f5fb3fb9",
   "metadata": {},
   "outputs": [],
   "source": [
    "rfr_gscv = GridSearchCV(RandomForestRegressor(max_depth=2, random_state=0), {})\n",
    "rfr_gscv_model = rfr_gscv.fit(X_train, y_train)\n",
    "rfr_predict = rfr_gscv.predict(X_test)"
   ]
  },
  {
   "cell_type": "code",
   "execution_count": 21,
   "id": "c6ff6179",
   "metadata": {},
   "outputs": [
    {
     "name": "stdout",
     "output_type": "stream",
     "text": [
      "Random Forest Regressor EVS = 0.758725199\n",
      "Random Forest Regressor MSE = 0.207866\n",
      "Random Forest Regressor MAE = 0.366123\n",
      "Random Forest Regressor R2 = 0.756371\n",
      "Random Forest Regressor Fit Time = 0.057838964462280276\n"
     ]
    }
   ],
   "source": [
    "results = print_more_stuff(\"Random Forest Regressor\", y_test, rfr_predict, rfr_gscv)\n",
    "results_dict_append(results)"
   ]
  },
  {
   "cell_type": "code",
   "execution_count": null,
   "id": "c6785294",
   "metadata": {},
   "outputs": [],
   "source": []
  },
  {
   "cell_type": "code",
   "execution_count": 22,
   "id": "79345127",
   "metadata": {},
   "outputs": [],
   "source": [
    "histgbr_gscv = GridSearchCV(HistGradientBoostingRegressor(), {})\n",
    "histgbr_gscv_model = histgbr_gscv.fit(X_train, y_train)\n",
    "histgbr_predict = histgbr_gscv.predict(X_test)"
   ]
  },
  {
   "cell_type": "code",
   "execution_count": 23,
   "id": "7a790e16",
   "metadata": {},
   "outputs": [
    {
     "name": "stdout",
     "output_type": "stream",
     "text": [
      "Hist Gradient Boosting Regressor EVS = 0.721259049\n",
      "Hist Gradient Boosting Regressor MSE = 0.237900\n",
      "Hist Gradient Boosting Regressor MAE = 0.344220\n",
      "Hist Gradient Boosting Regressor R2 = 0.721169\n",
      "Hist Gradient Boosting Regressor Fit Time = 0.07928967475891113\n"
     ]
    }
   ],
   "source": [
    "results = print_more_stuff(\"Hist Gradient Boosting Regressor\", y_test, histgbr_predict, histgbr_gscv)\n",
    "results_dict_append(results)"
   ]
  },
  {
   "cell_type": "code",
   "execution_count": null,
   "id": "8d5d3dd1",
   "metadata": {},
   "outputs": [],
   "source": []
  },
  {
   "cell_type": "code",
   "execution_count": 24,
   "id": "052290d6",
   "metadata": {},
   "outputs": [],
   "source": [
    "adaboost_predict_df = pd.DataFrame(adaboost_predict).reset_index()\n",
    "adaboost_predict_df.rename(columns={0: \"prediction\"},inplace=True)\n",
    "\n",
    "gbr_predict_df = pd.DataFrame(gbr_predict).reset_index()\n",
    "gbr_predict_df.rename(columns={0: \"prediction\"},inplace=True)\n",
    "\n",
    "rfr_predict_df = pd.DataFrame(rfr_predict).reset_index()\n",
    "rfr_predict_df.rename(columns={0: \"prediction\"},inplace=True)\n",
    "\n",
    "histgbr_predict_df = pd.DataFrame(histgbr_predict).reset_index()\n",
    "histgbr_predict_df.rename(columns={0: \"prediction\"},inplace=True)\n",
    "\n",
    "y_test_df = pd.DataFrame(y_test).reset_index()"
   ]
  },
  {
   "cell_type": "code",
   "execution_count": 25,
   "id": "7fee38a1",
   "metadata": {},
   "outputs": [
    {
     "data": {
      "image/png": "[encoded data removed]",
      "text/plain": [
       "<Figure size 1000x600 with 1 Axes>"
      ]
     },
     "metadata": {},
     "output_type": "display_data"
    }
   ],
   "source": [
    "fig, ax = plt.subplots(figsize=(10, 6))\n",
    "\n",
    "ax.ticklabel_format(style='plain')\n",
    "ax.yaxis.set_major_formatter('${x:1,.0f}')\n",
    "ax.xaxis.set_major_formatter(' ')\n",
    "\n",
    "plt.scatter(y_test_df.index,y_test_df[\"price\"], color=\"red\")\n",
    "plt.scatter(gbr_predict_df.index,gbr_predict_df[\"prediction\"], color=\"blue\")\n",
    "plt.scatter(histgbr_predict_df.index,histgbr_predict_df[\"prediction\"], color=\"green\")\n",
    "#plt.scatter(rfr_predict_df.index,adaboost_predict_df[\"prediction\"], color=\"black\")\n",
    "#plt.scatter(rfr_predict_df.index,rfr_predict_df[\"prediction\"], color=\"black\")\n",
    "plt.show()"
   ]
  },
  {
   "cell_type": "code",
   "execution_count": 26,
   "id": "eb4fc48f",
   "metadata": {},
   "outputs": [
    {
     "data": {
      "text/plain": [
       "{'model': ['Ada Boost Regressor',\n",
       "  'Gradient Boosting Regressor',\n",
       "  'Random Forest Regressor',\n",
       "  'Hist Gradient Boosting Regressor'],\n",
       " 'explained variance score': ['0.713502117',\n",
       "  '0.795106974',\n",
       "  '0.758725199',\n",
       "  '0.721259049'],\n",
       " 'mae score': ['0.373217', '0.315570', '0.366123', '0.344220'],\n",
       " 'mse score': ['0.262645', '0.174820', '0.207866', '0.237900'],\n",
       " 'r2 score': ['0.692167', '0.795102', '0.756371', '0.721169'],\n",
       " 'mean fit time': [0.006305551528930664,\n",
       "  0.018778276443481446,\n",
       "  0.057838964462280276,\n",
       "  0.07928967475891113]}"
      ]
     },
     "execution_count": 26,
     "metadata": {},
     "output_type": "execute_result"
    }
   ],
   "source": [
    "results_dict"
   ]
  },
  {
   "cell_type": "code",
   "execution_count": 27,
   "id": "0bb47534",
   "metadata": {},
   "outputs": [
    {
     "data": {
      "text/html": [
       "<div>\n",
       "<style scoped>\n",
       "    .dataframe tbody tr th:only-of-type {\n",
       "        vertical-align: middle;\n",
       "    }\n",
       "\n",
       "    .dataframe tbody tr th {\n",
       "        vertical-align: top;\n",
       "    }\n",
       "\n",
       "    .dataframe thead th {\n",
       "        text-align: right;\n",
       "    }\n",
       "</style>\n",
       "<table border=\"1\" class=\"dataframe\">\n",
       "  <thead>\n",
       "    <tr style=\"text-align: right;\">\n",
       "      <th></th>\n",
       "      <th>explained variance score</th>\n",
       "      <th>mae score</th>\n",
       "      <th>mse score</th>\n",
       "      <th>r2 score</th>\n",
       "      <th>mean fit time</th>\n",
       "    </tr>\n",
       "    <tr>\n",
       "      <th>model</th>\n",
       "      <th></th>\n",
       "      <th></th>\n",
       "      <th></th>\n",
       "      <th></th>\n",
       "      <th></th>\n",
       "    </tr>\n",
       "  </thead>\n",
       "  <tbody>\n",
       "    <tr>\n",
       "      <th>Ada Boost Regressor</th>\n",
       "      <td>0.713502117</td>\n",
       "      <td>0.373217</td>\n",
       "      <td>0.262645</td>\n",
       "      <td>0.692167</td>\n",
       "      <td>0.006306</td>\n",
       "    </tr>\n",
       "    <tr>\n",
       "      <th>Gradient Boosting Regressor</th>\n",
       "      <td>0.795106974</td>\n",
       "      <td>0.315570</td>\n",
       "      <td>0.174820</td>\n",
       "      <td>0.795102</td>\n",
       "      <td>0.018778</td>\n",
       "    </tr>\n",
       "    <tr>\n",
       "      <th>Random Forest Regressor</th>\n",
       "      <td>0.758725199</td>\n",
       "      <td>0.366123</td>\n",
       "      <td>0.207866</td>\n",
       "      <td>0.756371</td>\n",
       "      <td>0.057839</td>\n",
       "    </tr>\n",
       "    <tr>\n",
       "      <th>Hist Gradient Boosting Regressor</th>\n",
       "      <td>0.721259049</td>\n",
       "      <td>0.344220</td>\n",
       "      <td>0.237900</td>\n",
       "      <td>0.721169</td>\n",
       "      <td>0.079290</td>\n",
       "    </tr>\n",
       "  </tbody>\n",
       "</table>\n",
       "</div>"
      ],
      "text/plain": [
       "                                 explained variance score mae score mse score  \\\n",
       "model                                                                           \n",
       "Ada Boost Regressor                           0.713502117  0.373217  0.262645   \n",
       "Gradient Boosting Regressor                   0.795106974  0.315570  0.174820   \n",
       "Random Forest Regressor                       0.758725199  0.366123  0.207866   \n",
       "Hist Gradient Boosting Regressor              0.721259049  0.344220  0.237900   \n",
       "\n",
       "                                  r2 score  mean fit time  \n",
       "model                                                      \n",
       "Ada Boost Regressor               0.692167       0.006306  \n",
       "Gradient Boosting Regressor       0.795102       0.018778  \n",
       "Random Forest Regressor           0.756371       0.057839  \n",
       "Hist Gradient Boosting Regressor  0.721169       0.079290  "
      ]
     },
     "execution_count": 27,
     "metadata": {},
     "output_type": "execute_result"
    }
   ],
   "source": [
    "model_comparisons = pd.DataFrame(results_dict).set_index('model')\n",
    "model_comparisons"
   ]
  }
 ],
 "metadata": {
  "kernelspec": {
   "display_name": "Python 3 (ipykernel)",
   "language": "python",
   "name": "python3"
  },
  "language_info": {
   "codemirror_mode": {
    "name": "ipython",
    "version": 3
   },
   "file_extension": ".py",
   "mimetype": "text/x-python",
   "name": "python",
   "nbconvert_exporter": "python",
   "pygments_lexer": "ipython3",
   "version": "3.11.4"
  }
 },
 "nbformat": 4,
 "nbformat_minor": 5
}
