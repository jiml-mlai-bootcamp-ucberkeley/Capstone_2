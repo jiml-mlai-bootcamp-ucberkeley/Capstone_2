{
 "cells": [
  {
   "cell_type": "code",
   "execution_count": 1,
   "id": "8d2c476d",
   "metadata": {},
   "outputs": [],
   "source": [
    "\n",
    "from warnings import filterwarnings \n",
    "filterwarnings(\"ignore\")\n",
    "\n",
    "import pandas as pd\n",
    "from pprint import pprint\n",
    "\n",
    "pd.set_option('display.max_columns', None)\n",
    "pd.set_option('display.max_rows', None)\n"
   ]
  },
  {
   "cell_type": "markdown",
   "id": "7ede9187",
   "metadata": {},
   "source": [
    "### Read the data from the file downloaded from Kaggle"
   ]
  },
  {
   "cell_type": "code",
   "execution_count": 2,
   "id": "cf720f09",
   "metadata": {},
   "outputs": [
    {
     "data": {
      "text/html": [
       "<div>\n",
       "<style scoped>\n",
       "    .dataframe tbody tr th:only-of-type {\n",
       "        vertical-align: middle;\n",
       "    }\n",
       "\n",
       "    .dataframe tbody tr th {\n",
       "        vertical-align: top;\n",
       "    }\n",
       "\n",
       "    .dataframe thead th {\n",
       "        text-align: right;\n",
       "    }\n",
       "</style>\n",
       "<table border=\"1\" class=\"dataframe\">\n",
       "  <thead>\n",
       "    <tr style=\"text-align: right;\">\n",
       "      <th></th>\n",
       "      <th>status</th>\n",
       "      <th>bed</th>\n",
       "      <th>bath</th>\n",
       "      <th>acre_lot</th>\n",
       "      <th>city</th>\n",
       "      <th>state</th>\n",
       "      <th>zip_code</th>\n",
       "      <th>house_size</th>\n",
       "      <th>prev_sold_date</th>\n",
       "      <th>price</th>\n",
       "    </tr>\n",
       "  </thead>\n",
       "  <tbody>\n",
       "    <tr>\n",
       "      <th>0</th>\n",
       "      <td>for_sale</td>\n",
       "      <td>3.0</td>\n",
       "      <td>2.0</td>\n",
       "      <td>0.12</td>\n",
       "      <td>Adjuntas</td>\n",
       "      <td>Puerto Rico</td>\n",
       "      <td>601.0</td>\n",
       "      <td>920.0</td>\n",
       "      <td>NaN</td>\n",
       "      <td>105000.0</td>\n",
       "    </tr>\n",
       "    <tr>\n",
       "      <th>1</th>\n",
       "      <td>for_sale</td>\n",
       "      <td>4.0</td>\n",
       "      <td>2.0</td>\n",
       "      <td>0.08</td>\n",
       "      <td>Adjuntas</td>\n",
       "      <td>Puerto Rico</td>\n",
       "      <td>601.0</td>\n",
       "      <td>1527.0</td>\n",
       "      <td>NaN</td>\n",
       "      <td>80000.0</td>\n",
       "    </tr>\n",
       "    <tr>\n",
       "      <th>2</th>\n",
       "      <td>for_sale</td>\n",
       "      <td>2.0</td>\n",
       "      <td>1.0</td>\n",
       "      <td>0.15</td>\n",
       "      <td>Juana Diaz</td>\n",
       "      <td>Puerto Rico</td>\n",
       "      <td>795.0</td>\n",
       "      <td>748.0</td>\n",
       "      <td>NaN</td>\n",
       "      <td>67000.0</td>\n",
       "    </tr>\n",
       "    <tr>\n",
       "      <th>3</th>\n",
       "      <td>for_sale</td>\n",
       "      <td>4.0</td>\n",
       "      <td>2.0</td>\n",
       "      <td>0.10</td>\n",
       "      <td>Ponce</td>\n",
       "      <td>Puerto Rico</td>\n",
       "      <td>731.0</td>\n",
       "      <td>1800.0</td>\n",
       "      <td>NaN</td>\n",
       "      <td>145000.0</td>\n",
       "    </tr>\n",
       "    <tr>\n",
       "      <th>4</th>\n",
       "      <td>for_sale</td>\n",
       "      <td>6.0</td>\n",
       "      <td>2.0</td>\n",
       "      <td>0.05</td>\n",
       "      <td>Mayaguez</td>\n",
       "      <td>Puerto Rico</td>\n",
       "      <td>680.0</td>\n",
       "      <td>NaN</td>\n",
       "      <td>NaN</td>\n",
       "      <td>65000.0</td>\n",
       "    </tr>\n",
       "  </tbody>\n",
       "</table>\n",
       "</div>"
      ],
      "text/plain": [
       "     status  bed  bath  acre_lot        city        state  zip_code  \\\n",
       "0  for_sale  3.0   2.0      0.12    Adjuntas  Puerto Rico     601.0   \n",
       "1  for_sale  4.0   2.0      0.08    Adjuntas  Puerto Rico     601.0   \n",
       "2  for_sale  2.0   1.0      0.15  Juana Diaz  Puerto Rico     795.0   \n",
       "3  for_sale  4.0   2.0      0.10       Ponce  Puerto Rico     731.0   \n",
       "4  for_sale  6.0   2.0      0.05    Mayaguez  Puerto Rico     680.0   \n",
       "\n",
       "   house_size prev_sold_date     price  \n",
       "0       920.0            NaN  105000.0  \n",
       "1      1527.0            NaN   80000.0  \n",
       "2       748.0            NaN   67000.0  \n",
       "3      1800.0            NaN  145000.0  \n",
       "4         NaN            NaN   65000.0  "
      ]
     },
     "execution_count": 2,
     "metadata": {},
     "output_type": "execute_result"
    }
   ],
   "source": [
    "realtor_data_df = pd.read_csv('realtor-data.csv')\n",
    "realtor_data_df.head()"
   ]
  },
  {
   "cell_type": "code",
   "execution_count": 3,
   "id": "c3bc58fd",
   "metadata": {},
   "outputs": [
    {
     "name": "stdout",
     "output_type": "stream",
     "text": [
      "<class 'pandas.core.frame.DataFrame'>\n",
      "RangeIndex: 1401066 entries, 0 to 1401065\n",
      "Data columns (total 10 columns):\n",
      " #   Column          Non-Null Count    Dtype  \n",
      "---  ------          --------------    -----  \n",
      " 0   status          1401066 non-null  object \n",
      " 1   bed             1184538 non-null  float64\n",
      " 2   bath            1206853 non-null  float64\n",
      " 3   acre_lot        1043599 non-null  float64\n",
      " 4   city            1400875 non-null  object \n",
      " 5   state           1401066 non-null  object \n",
      " 6   zip_code        1400587 non-null  float64\n",
      " 7   house_size      950954 non-null   float64\n",
      " 8   prev_sold_date  714773 non-null   object \n",
      " 9   price           1400958 non-null  float64\n",
      "dtypes: float64(6), object(4)\n",
      "memory usage: 106.9+ MB\n"
     ]
    }
   ],
   "source": [
    "realtor_data_df.info()"
   ]
  },
  {
   "cell_type": "code",
   "execution_count": 4,
   "id": "0cf55838",
   "metadata": {},
   "outputs": [
    {
     "data": {
      "text/html": [
       "<div>\n",
       "<style scoped>\n",
       "    .dataframe tbody tr th:only-of-type {\n",
       "        vertical-align: middle;\n",
       "    }\n",
       "\n",
       "    .dataframe tbody tr th {\n",
       "        vertical-align: top;\n",
       "    }\n",
       "\n",
       "    .dataframe thead th {\n",
       "        text-align: right;\n",
       "    }\n",
       "</style>\n",
       "<table border=\"1\" class=\"dataframe\">\n",
       "  <thead>\n",
       "    <tr style=\"text-align: right;\">\n",
       "      <th></th>\n",
       "      <th>bed</th>\n",
       "      <th>bath</th>\n",
       "      <th>acre_lot</th>\n",
       "      <th>zip_code</th>\n",
       "      <th>house_size</th>\n",
       "      <th>price</th>\n",
       "    </tr>\n",
       "  </thead>\n",
       "  <tbody>\n",
       "    <tr>\n",
       "      <th>count</th>\n",
       "      <td>1.184538e+06</td>\n",
       "      <td>1.206853e+06</td>\n",
       "      <td>1.043599e+06</td>\n",
       "      <td>1.400587e+06</td>\n",
       "      <td>9.509540e+05</td>\n",
       "      <td>1.400958e+06</td>\n",
       "    </tr>\n",
       "    <tr>\n",
       "      <th>mean</th>\n",
       "      <td>3.392347e+00</td>\n",
       "      <td>2.487426e+00</td>\n",
       "      <td>3.215013e+01</td>\n",
       "      <td>8.356641e+03</td>\n",
       "      <td>2.178643e+03</td>\n",
       "      <td>8.186029e+05</td>\n",
       "    </tr>\n",
       "    <tr>\n",
       "      <th>std</th>\n",
       "      <td>2.051858e+00</td>\n",
       "      <td>1.873599e+00</td>\n",
       "      <td>1.249983e+03</td>\n",
       "      <td>4.130465e+03</td>\n",
       "      <td>3.492618e+03</td>\n",
       "      <td>2.683069e+06</td>\n",
       "    </tr>\n",
       "    <tr>\n",
       "      <th>min</th>\n",
       "      <td>1.000000e+00</td>\n",
       "      <td>1.000000e+00</td>\n",
       "      <td>0.000000e+00</td>\n",
       "      <td>6.010000e+02</td>\n",
       "      <td>4.000000e+00</td>\n",
       "      <td>0.000000e+00</td>\n",
       "    </tr>\n",
       "    <tr>\n",
       "      <th>25%</th>\n",
       "      <td>2.000000e+00</td>\n",
       "      <td>2.000000e+00</td>\n",
       "      <td>1.200000e-01</td>\n",
       "      <td>5.652000e+03</td>\n",
       "      <td>1.170000e+03</td>\n",
       "      <td>2.350000e+05</td>\n",
       "    </tr>\n",
       "    <tr>\n",
       "      <th>50%</th>\n",
       "      <td>3.000000e+00</td>\n",
       "      <td>2.000000e+00</td>\n",
       "      <td>3.200000e-01</td>\n",
       "      <td>8.757000e+03</td>\n",
       "      <td>1.700000e+03</td>\n",
       "      <td>4.467770e+05</td>\n",
       "    </tr>\n",
       "    <tr>\n",
       "      <th>75%</th>\n",
       "      <td>4.000000e+00</td>\n",
       "      <td>3.000000e+00</td>\n",
       "      <td>1.340000e+00</td>\n",
       "      <td>1.142600e+04</td>\n",
       "      <td>2.500000e+03</td>\n",
       "      <td>7.950000e+05</td>\n",
       "    </tr>\n",
       "    <tr>\n",
       "      <th>max</th>\n",
       "      <td>1.230000e+02</td>\n",
       "      <td>1.980000e+02</td>\n",
       "      <td>1.000000e+05</td>\n",
       "      <td>9.999900e+04</td>\n",
       "      <td>1.450112e+06</td>\n",
       "      <td>8.750000e+08</td>\n",
       "    </tr>\n",
       "  </tbody>\n",
       "</table>\n",
       "</div>"
      ],
      "text/plain": [
       "                bed          bath      acre_lot      zip_code    house_size  \\\n",
       "count  1.184538e+06  1.206853e+06  1.043599e+06  1.400587e+06  9.509540e+05   \n",
       "mean   3.392347e+00  2.487426e+00  3.215013e+01  8.356641e+03  2.178643e+03   \n",
       "std    2.051858e+00  1.873599e+00  1.249983e+03  4.130465e+03  3.492618e+03   \n",
       "min    1.000000e+00  1.000000e+00  0.000000e+00  6.010000e+02  4.000000e+00   \n",
       "25%    2.000000e+00  2.000000e+00  1.200000e-01  5.652000e+03  1.170000e+03   \n",
       "50%    3.000000e+00  2.000000e+00  3.200000e-01  8.757000e+03  1.700000e+03   \n",
       "75%    4.000000e+00  3.000000e+00  1.340000e+00  1.142600e+04  2.500000e+03   \n",
       "max    1.230000e+02  1.980000e+02  1.000000e+05  9.999900e+04  1.450112e+06   \n",
       "\n",
       "              price  \n",
       "count  1.400958e+06  \n",
       "mean   8.186029e+05  \n",
       "std    2.683069e+06  \n",
       "min    0.000000e+00  \n",
       "25%    2.350000e+05  \n",
       "50%    4.467770e+05  \n",
       "75%    7.950000e+05  \n",
       "max    8.750000e+08  "
      ]
     },
     "execution_count": 4,
     "metadata": {},
     "output_type": "execute_result"
    }
   ],
   "source": [
    "realtor_data_df.describe()"
   ]
  },
  {
   "cell_type": "markdown",
   "id": "d9ce9d1d",
   "metadata": {},
   "source": [
    "#### Group the data by state and count the occurances."
   ]
  },
  {
   "cell_type": "code",
   "execution_count": 5,
   "id": "9ed48c5e",
   "metadata": {},
   "outputs": [
    {
     "data": {
      "text/plain": [
       "state\n",
       "Connecticut        98816\n",
       "Delaware            2135\n",
       "Georgia               50\n",
       "Louisiana              3\n",
       "Maine              36650\n",
       "Massachusetts     177170\n",
       "New Hampshire      51394\n",
       "New Jersey        256551\n",
       "New York          653061\n",
       "Pennsylvania       20060\n",
       "Puerto Rico        24679\n",
       "Rhode Island       29610\n",
       "South Carolina        25\n",
       "Tennessee             20\n",
       "Vermont            48230\n",
       "Virgin Islands      2573\n",
       "Virginia              31\n",
       "West Virginia          5\n",
       "Wyoming                3\n",
       "Name: state, dtype: int64"
      ]
     },
     "execution_count": 5,
     "metadata": {},
     "output_type": "execute_result"
    }
   ],
   "source": [
    "realtor_data_df.groupby([\"state\"])[\"state\"].count()"
   ]
  },
  {
   "cell_type": "markdown",
   "id": "977c475f",
   "metadata": {},
   "source": [
    "#### Check for duplicate data.\n",
    "#### It appears that the data provider doesn't incrementally update this file."
   ]
  },
  {
   "cell_type": "code",
   "execution_count": 6,
   "id": "805d52e6",
   "metadata": {},
   "outputs": [
    {
     "data": {
      "text/plain": [
       "1249026"
      ]
     },
     "execution_count": 6,
     "metadata": {},
     "output_type": "execute_result"
    }
   ],
   "source": [
    "realtor_data_df.duplicated().sum()"
   ]
  },
  {
   "cell_type": "markdown",
   "id": "b9532329",
   "metadata": {},
   "source": [
    "#### Drop duplicate data."
   ]
  },
  {
   "cell_type": "code",
   "execution_count": 7,
   "id": "12f7ac26",
   "metadata": {},
   "outputs": [
    {
     "name": "stdout",
     "output_type": "stream",
     "text": [
      "<class 'pandas.core.frame.DataFrame'>\n",
      "Int64Index: 152040 entries, 0 to 1401063\n",
      "Data columns (total 10 columns):\n",
      " #   Column          Non-Null Count   Dtype  \n",
      "---  ------          --------------   -----  \n",
      " 0   status          152040 non-null  object \n",
      " 1   bed             126791 non-null  float64\n",
      " 2   bath            128499 non-null  float64\n",
      " 3   acre_lot        115074 non-null  float64\n",
      " 4   city            152004 non-null  object \n",
      " 5   state           152040 non-null  object \n",
      " 6   zip_code        151993 non-null  float64\n",
      " 7   house_size      102571 non-null  float64\n",
      " 8   prev_sold_date  79419 non-null   object \n",
      " 9   price           152020 non-null  float64\n",
      "dtypes: float64(6), object(4)\n",
      "memory usage: 12.8+ MB\n"
     ]
    }
   ],
   "source": [
    "realtor_data_df.drop_duplicates(inplace=True)\n",
    "realtor_data_df.info()"
   ]
  },
  {
   "cell_type": "markdown",
   "id": "dd3f32a0",
   "metadata": {},
   "source": [
    "#### List the features and their characteristics."
   ]
  },
  {
   "cell_type": "code",
   "execution_count": 8,
   "id": "eeb80adc",
   "metadata": {},
   "outputs": [
    {
     "name": "stdout",
     "output_type": "stream",
     "text": [
      "\"++++++++++++++++++ status +++ <class 'str'> ++++++++++++++++++\"\n",
      "\"['for_sale' 'ready_to_build'] : 2 : 152040\"\n",
      "\n",
      "\"++++++++++++++++++ bed +++ <class 'numpy.float64'> ++++++++++++++++++\"\n",
      "('[  3.   4.   2.   6.   5.   1.   9.  nan   7.   8.  12.  13.  10.  11.\\n'\n",
      " '  33.  24.  28.  14.  18.  20.  16.  15.  19.  17.  40.  21.  86.  31.\\n'\n",
      " '  27.  42.  60.  22.  32.  99.  49.  29.  30.  23.  46.  36.  68. 123.\\n'\n",
      " '  25.  47.  35.  38.  64.  48.  75.] : 48 : 126791')\n",
      "\n",
      "\"++++++++++++++++++ bath +++ <class 'numpy.float64'> ++++++++++++++++++\"\n",
      "('[  2.   1.   3.   5.   4.   7.   6.  nan   8.   9.  10.  12.  13.  35.\\n'\n",
      " '  11.  16.  15.  18.  20.  14.  36.  25.  17.  19.  56.  42.  51.  28.\\n'\n",
      " ' 198.  22.  33.  27.  30.  29.  24.  46.  21. 123.  39.  43.  32.  45.\\n'\n",
      " '  64.] : 42 : 128499')\n",
      "\n",
      "\"++++++++++++++++++ acre_lot +++ <class 'numpy.float64'> ++++++++++++++++++\"\n",
      "('[1.200e-01 8.000e-02 1.500e-01 ... 1.009e+02 9.710e+01 6.160e+01] : 4488 : '\n",
      " '115074')\n",
      "\n",
      "\"++++++++++++++++++ city +++ <class 'str'> ++++++++++++++++++\"\n",
      "(\"['Adjuntas' 'Juana Diaz' 'Ponce' ... 'Mount Morris' 'East Concord'\\n\"\n",
      " \" 'Brocton'] : 3512 : 152004\")\n",
      "\n",
      "\"++++++++++++++++++ state +++ <class 'str'> ++++++++++++++++++\"\n",
      "(\"['Puerto Rico' 'Virgin Islands' 'Massachusetts' 'Connecticut'\\n\"\n",
      " \" 'New Hampshire' 'Vermont' 'New Jersey' 'New York' 'South Carolina'\\n\"\n",
      " \" 'Tennessee' 'Rhode Island' 'Virginia' 'Wyoming' 'Maine' 'Georgia'\\n\"\n",
      " \" 'Pennsylvania' 'West Virginia' 'Delaware' 'Louisiana'] : 19 : 152040\")\n",
      "\n",
      "\"++++++++++++++++++ zip_code +++ <class 'numpy.float64'> ++++++++++++++++++\"\n",
      "'[  601.   795.   731. ... 14813. 14739. 14716.] : 4220 : 151993'\n",
      "\n",
      "\"++++++++++++++++++ house_size +++ <class 'numpy.float64'> ++++++++++++++++++\"\n",
      "'[ 920. 1527.  748. ... 9888. 5284. 4802.] : 6855 : 102571'\n",
      "\n",
      "\"++++++++++++++++++ prev_sold_date +++ <class 'float'> ++++++++++++++++++\"\n",
      "(\"[nan '2020-02-28' '2019-06-28' ... '2018-11-03' '1998-08-04' '2020-12-05'] : \"\n",
      " '10319 : 79419')\n",
      "\n",
      "\"++++++++++++++++++ price +++ <class 'numpy.float64'> ++++++++++++++++++\"\n",
      "'[105000.  80000.  67000. ... 129555. 867900.  13750.] : 8735 : 152020'\n",
      "\n"
     ]
    }
   ],
   "source": [
    "for col in realtor_data_df.columns.tolist():\n",
    "    pprint(f\"++++++++++++++++++ {col} +++ {type(realtor_data_df[col][0])} ++++++++++++++++++\")\n",
    "    pprint(f\"{realtor_data_df[col].unique()} : {realtor_data_df[col].nunique()} : {realtor_data_df[col].dropna().shape[0]}\")\n",
    "    print()"
   ]
  },
  {
   "cell_type": "markdown",
   "id": "cc5a56a5",
   "metadata": {},
   "source": [
    "#### After dropping duplicates, group the data by state and count the occurances."
   ]
  },
  {
   "cell_type": "code",
   "execution_count": 9,
   "id": "5e50d345",
   "metadata": {},
   "outputs": [
    {
     "data": {
      "text/plain": [
       "state\n",
       "Connecticut       13753\n",
       "Delaware           1290\n",
       "Georgia               5\n",
       "Louisiana             1\n",
       "Maine              4938\n",
       "Massachusetts     10051\n",
       "New Hampshire      3431\n",
       "New Jersey        32601\n",
       "New York          67159\n",
       "Pennsylvania       9549\n",
       "Puerto Rico        2645\n",
       "Rhode Island       3332\n",
       "South Carolina        1\n",
       "Tennessee             1\n",
       "Vermont            2544\n",
       "Virgin Islands      730\n",
       "Virginia              7\n",
       "West Virginia         1\n",
       "Wyoming               1\n",
       "Name: state, dtype: int64"
      ]
     },
     "execution_count": 9,
     "metadata": {},
     "output_type": "execute_result"
    }
   ],
   "source": [
    "realtor_data_df.groupby([\"state\"])[\"state\"].count()"
   ]
  },
  {
   "cell_type": "markdown",
   "id": "e012b05a",
   "metadata": {},
   "source": [
    "#### After dropping duplicates, group the data by prev_sold_date and count the occurances."
   ]
  },
  {
   "cell_type": "code",
   "execution_count": 10,
   "id": "6a47d25a",
   "metadata": {},
   "outputs": [
    {
     "data": {
      "text/plain": [
       "prev_sold_date\n",
       "2022-04-15    68\n",
       "2022-04-29    58\n",
       "2022-03-31    57\n",
       "2022-04-01    54\n",
       "2022-02-28    54\n",
       "Name: prev_sold_date, dtype: int64"
      ]
     },
     "execution_count": 10,
     "metadata": {},
     "output_type": "execute_result"
    }
   ],
   "source": [
    "realtor_data_df.groupby([\"prev_sold_date\"])[\"prev_sold_date\"].count().sort_values(ascending=False).head()"
   ]
  },
  {
   "cell_type": "code",
   "execution_count": 11,
   "id": "96e163ce",
   "metadata": {},
   "outputs": [
    {
     "data": {
      "text/plain": [
       "prev_sold_date\n",
       "1989-02-14    1\n",
       "1989-02-22    1\n",
       "1989-03-02    1\n",
       "1989-03-04    1\n",
       "1901-01-01    1\n",
       "Name: prev_sold_date, dtype: int64"
      ]
     },
     "execution_count": 11,
     "metadata": {},
     "output_type": "execute_result"
    }
   ],
   "source": [
    "realtor_data_df.groupby([\"prev_sold_date\"])[\"prev_sold_date\"].count().sort_values(ascending=False).tail()"
   ]
  },
  {
   "cell_type": "code",
   "execution_count": 12,
   "id": "ff87cde2",
   "metadata": {
    "scrolled": true
   },
   "outputs": [],
   "source": [
    "realtor_data_df[\"prev_sold_year\"] = pd.to_datetime(realtor_data_df[\"prev_sold_date\"], format='%Y-%m-%d').dt.year"
   ]
  },
  {
   "cell_type": "code",
   "execution_count": 13,
   "id": "2de03c7d",
   "metadata": {},
   "outputs": [
    {
     "data": {
      "text/plain": [
       "state        prev_sold_year\n",
       "Connecticut  1961.0            1\n",
       "             1963.0            1\n",
       "             1965.0            2\n",
       "             1966.0            2\n",
       "             1967.0            2\n",
       "Name: state, dtype: int64"
      ]
     },
     "execution_count": 13,
     "metadata": {},
     "output_type": "execute_result"
    }
   ],
   "source": [
    "realtor_data_df.groupby([\"state\",\"prev_sold_year\"])[\"state\"].count().head()"
   ]
  },
  {
   "cell_type": "code",
   "execution_count": 14,
   "id": "ba59f415",
   "metadata": {},
   "outputs": [
    {
     "data": {
      "text/plain": [
       "state           prev_sold_year\n",
       "Vermont         2022.0            10\n",
       "Virgin Islands  2010.0             1\n",
       "                2013.0             1\n",
       "                2016.0             2\n",
       "                2018.0             1\n",
       "Name: state, dtype: int64"
      ]
     },
     "execution_count": 14,
     "metadata": {},
     "output_type": "execute_result"
    }
   ],
   "source": [
    "realtor_data_df.groupby([\"state\",\"prev_sold_year\"])[\"state\"].count().tail()"
   ]
  },
  {
   "cell_type": "code",
   "execution_count": null,
   "id": "fde062c8",
   "metadata": {},
   "outputs": [],
   "source": []
  },
  {
   "cell_type": "markdown",
   "id": "93220e2d",
   "metadata": {},
   "source": [
    "#### Loop through the data and write the rows for each into separate files."
   ]
  },
  {
   "cell_type": "code",
   "execution_count": 15,
   "id": "5cbbd83e",
   "metadata": {},
   "outputs": [],
   "source": [
    "#what = [{\"nj\":\"New Jersey\"},{\"ny\":\"New York\"},{\"pa\":\"Pennsylvania\"},{\"ma\":\"Massachusetts\"},{\"ct\":\"Connecticut\"}]\n",
    "what = []\n",
    "for w in what:\n",
    "    for key, value in w.items():\n",
    "        print(key + \" \" + value)\n",
    "        state_df = realtor_data_df[(realtor_data_df[\"state\"].isin([value]))]\n",
    "        nospaces = value.replace(' ','')\n",
    "        state_df.to_csv(key + \"/\" + nospaces +'-realtor-data.csv')"
   ]
  },
  {
   "cell_type": "code",
   "execution_count": null,
   "id": "0fd89afe",
   "metadata": {},
   "outputs": [],
   "source": []
  }
 ],
 "metadata": {
  "kernelspec": {
   "display_name": "Python 3 (ipykernel)",
   "language": "python",
   "name": "python3"
  },
  "language_info": {
   "codemirror_mode": {
    "name": "ipython",
    "version": 3
   },
   "file_extension": ".py",
   "mimetype": "text/x-python",
   "name": "python",
   "nbconvert_exporter": "python",
   "pygments_lexer": "ipython3",
   "version": "3.11.4"
  }
 },
 "nbformat": 4,
 "nbformat_minor": 5
}
