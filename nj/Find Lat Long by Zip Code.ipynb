{
 "cells": [
  {
   "cell_type": "code",
   "execution_count": 1,
   "id": "6d8db377",
   "metadata": {},
   "outputs": [],
   "source": [
    "from warnings import filterwarnings \n",
    "filterwarnings(\"ignore\")\n",
    "\n",
    "import pandas as pd\n",
    "import numpy as np"
   ]
  },
  {
   "cell_type": "code",
   "execution_count": 2,
   "id": "29612711",
   "metadata": {},
   "outputs": [],
   "source": [
    "realtor_data_df = pd.read_csv('NewJersey-realtor-data.csv')\n",
    "realtor_data_df[\"prev_sold_year\"] = pd.to_datetime(realtor_data_df[\"prev_sold_date\"], format='%Y-%m-%d').dt.year"
   ]
  },
  {
   "cell_type": "code",
   "execution_count": 3,
   "id": "c7ed6068",
   "metadata": {},
   "outputs": [
    {
     "name": "stdout",
     "output_type": "stream",
     "text": [
      "<class 'pandas.core.frame.DataFrame'>\n",
      "Int64Index: 8061 entries, 2 to 32595\n",
      "Data columns (total 11 columns):\n",
      " #   Column          Non-Null Count  Dtype  \n",
      "---  ------          --------------  -----  \n",
      " 0   Unnamed: 0      8061 non-null   int64  \n",
      " 1   status          8061 non-null   object \n",
      " 2   bed             7646 non-null   float64\n",
      " 3   bath            7628 non-null   float64\n",
      " 4   acre_lot        6701 non-null   float64\n",
      " 5   city            8061 non-null   object \n",
      " 6   state           8061 non-null   object \n",
      " 7   zip_code        8061 non-null   float64\n",
      " 8   house_size      4193 non-null   float64\n",
      " 9   prev_sold_date  8061 non-null   object \n",
      " 10  price           8061 non-null   float64\n",
      "dtypes: float64(6), int64(1), object(4)\n",
      "memory usage: 755.7+ KB\n"
     ]
    }
   ],
   "source": [
    "for_sale_df = realtor_data_df[(realtor_data_df[\"prev_sold_year\"] > 2015.0) &\n",
    "                                     (realtor_data_df[\"state\"].isin([\"New Jersey\"])) &\n",
    "                                     (realtor_data_df[\"status\"] == \"for_sale\") \n",
    "                                    ]\n",
    "for_sale_df.drop(columns=[\"prev_sold_year\"],inplace=True)\n",
    "for_sale_df.info()"
   ]
  },
  {
   "cell_type": "code",
   "execution_count": 4,
   "id": "aeefc3c3",
   "metadata": {},
   "outputs": [
    {
     "data": {
      "text/plain": [
       "532"
      ]
     },
     "execution_count": 4,
     "metadata": {},
     "output_type": "execute_result"
    }
   ],
   "source": [
    "zipcodes = for_sale_df[\"zip_code\"]\n",
    "len(zipcodes.unique())"
   ]
  },
  {
   "cell_type": "code",
   "execution_count": 5,
   "id": "7846aeff",
   "metadata": {},
   "outputs": [
    {
     "data": {
      "text/html": [
       "<div>\n",
       "<style scoped>\n",
       "    .dataframe tbody tr th:only-of-type {\n",
       "        vertical-align: middle;\n",
       "    }\n",
       "\n",
       "    .dataframe tbody tr th {\n",
       "        vertical-align: top;\n",
       "    }\n",
       "\n",
       "    .dataframe thead th {\n",
       "        text-align: right;\n",
       "    }\n",
       "</style>\n",
       "<table border=\"1\" class=\"dataframe\">\n",
       "  <thead>\n",
       "    <tr style=\"text-align: right;\">\n",
       "      <th></th>\n",
       "      <th>ZIP</th>\n",
       "      <th>LAT</th>\n",
       "      <th>LNG</th>\n",
       "    </tr>\n",
       "  </thead>\n",
       "  <tbody>\n",
       "    <tr>\n",
       "      <th>0</th>\n",
       "      <td>601</td>\n",
       "      <td>18.180555</td>\n",
       "      <td>-66.749961</td>\n",
       "    </tr>\n",
       "    <tr>\n",
       "      <th>1</th>\n",
       "      <td>602</td>\n",
       "      <td>18.361945</td>\n",
       "      <td>-67.175597</td>\n",
       "    </tr>\n",
       "    <tr>\n",
       "      <th>2</th>\n",
       "      <td>603</td>\n",
       "      <td>18.455183</td>\n",
       "      <td>-67.119887</td>\n",
       "    </tr>\n",
       "    <tr>\n",
       "      <th>3</th>\n",
       "      <td>606</td>\n",
       "      <td>18.158345</td>\n",
       "      <td>-66.932911</td>\n",
       "    </tr>\n",
       "    <tr>\n",
       "      <th>4</th>\n",
       "      <td>610</td>\n",
       "      <td>18.295366</td>\n",
       "      <td>-67.125135</td>\n",
       "    </tr>\n",
       "  </tbody>\n",
       "</table>\n",
       "</div>"
      ],
      "text/plain": [
       "   ZIP        LAT        LNG\n",
       "0  601  18.180555 -66.749961\n",
       "1  602  18.361945 -67.175597\n",
       "2  603  18.455183 -67.119887\n",
       "3  606  18.158345 -66.932911\n",
       "4  610  18.295366 -67.125135"
      ]
     },
     "execution_count": 5,
     "metadata": {},
     "output_type": "execute_result"
    }
   ],
   "source": [
    "# Because of its size this dataset is not saved in the code repo for this project.\n",
    "# It can be downloaded and saved in the same path to make this Notebook run.\n",
    "zip_lon_lat = pd.read_csv('../../../zip_lat_long.csv')\n",
    "zip_lon_lat.head()"
   ]
  },
  {
   "cell_type": "code",
   "execution_count": 6,
   "id": "739bea9c",
   "metadata": {},
   "outputs": [],
   "source": [
    "merged_df = zip_lon_lat[zip_lon_lat[\"ZIP\"].isin(zipcodes.unique())]"
   ]
  },
  {
   "cell_type": "code",
   "execution_count": 7,
   "id": "8f35b383",
   "metadata": {},
   "outputs": [
    {
     "data": {
      "text/html": [
       "<div>\n",
       "<style scoped>\n",
       "    .dataframe tbody tr th:only-of-type {\n",
       "        vertical-align: middle;\n",
       "    }\n",
       "\n",
       "    .dataframe tbody tr th {\n",
       "        vertical-align: top;\n",
       "    }\n",
       "\n",
       "    .dataframe thead th {\n",
       "        text-align: right;\n",
       "    }\n",
       "</style>\n",
       "<table border=\"1\" class=\"dataframe\">\n",
       "  <thead>\n",
       "    <tr style=\"text-align: right;\">\n",
       "      <th></th>\n",
       "      <th>ZIP</th>\n",
       "      <th>LAT</th>\n",
       "      <th>LNG</th>\n",
       "    </tr>\n",
       "  </thead>\n",
       "  <tbody>\n",
       "    <tr>\n",
       "      <th>1974</th>\n",
       "      <td>7001</td>\n",
       "      <td>40.582316</td>\n",
       "      <td>-74.271506</td>\n",
       "    </tr>\n",
       "    <tr>\n",
       "      <th>1975</th>\n",
       "      <td>7002</td>\n",
       "      <td>40.662338</td>\n",
       "      <td>-74.110275</td>\n",
       "    </tr>\n",
       "    <tr>\n",
       "      <th>1976</th>\n",
       "      <td>7003</td>\n",
       "      <td>40.809128</td>\n",
       "      <td>-74.187155</td>\n",
       "    </tr>\n",
       "    <tr>\n",
       "      <th>1977</th>\n",
       "      <td>7004</td>\n",
       "      <td>40.882508</td>\n",
       "      <td>-74.304593</td>\n",
       "    </tr>\n",
       "    <tr>\n",
       "      <th>1978</th>\n",
       "      <td>7005</td>\n",
       "      <td>40.932771</td>\n",
       "      <td>-74.417304</td>\n",
       "    </tr>\n",
       "    <tr>\n",
       "      <th>...</th>\n",
       "      <td>...</td>\n",
       "      <td>...</td>\n",
       "      <td>...</td>\n",
       "    </tr>\n",
       "    <tr>\n",
       "      <th>2563</th>\n",
       "      <td>8887</td>\n",
       "      <td>40.521268</td>\n",
       "      <td>-74.794840</td>\n",
       "    </tr>\n",
       "    <tr>\n",
       "      <th>2564</th>\n",
       "      <td>8889</td>\n",
       "      <td>40.609021</td>\n",
       "      <td>-74.754216</td>\n",
       "    </tr>\n",
       "    <tr>\n",
       "      <th>2566</th>\n",
       "      <td>8901</td>\n",
       "      <td>40.483638</td>\n",
       "      <td>-74.442460</td>\n",
       "    </tr>\n",
       "    <tr>\n",
       "      <th>2567</th>\n",
       "      <td>8902</td>\n",
       "      <td>40.439213</td>\n",
       "      <td>-74.484303</td>\n",
       "    </tr>\n",
       "    <tr>\n",
       "      <th>2568</th>\n",
       "      <td>8904</td>\n",
       "      <td>40.500795</td>\n",
       "      <td>-74.427911</td>\n",
       "    </tr>\n",
       "  </tbody>\n",
       "</table>\n",
       "<p>529 rows × 3 columns</p>\n",
       "</div>"
      ],
      "text/plain": [
       "       ZIP        LAT        LNG\n",
       "1974  7001  40.582316 -74.271506\n",
       "1975  7002  40.662338 -74.110275\n",
       "1976  7003  40.809128 -74.187155\n",
       "1977  7004  40.882508 -74.304593\n",
       "1978  7005  40.932771 -74.417304\n",
       "...    ...        ...        ...\n",
       "2563  8887  40.521268 -74.794840\n",
       "2564  8889  40.609021 -74.754216\n",
       "2566  8901  40.483638 -74.442460\n",
       "2567  8902  40.439213 -74.484303\n",
       "2568  8904  40.500795 -74.427911\n",
       "\n",
       "[529 rows x 3 columns]"
      ]
     },
     "execution_count": 7,
     "metadata": {},
     "output_type": "execute_result"
    }
   ],
   "source": [
    "merged_df"
   ]
  },
  {
   "cell_type": "markdown",
   "id": "2ca2d460",
   "metadata": {},
   "source": [
    "merged_df.to_csv('zip-lon-lat.csv')"
   ]
  },
  {
   "cell_type": "code",
   "execution_count": null,
   "id": "49e5ba5c",
   "metadata": {},
   "outputs": [],
   "source": []
  }
 ],
 "metadata": {
  "kernelspec": {
   "display_name": "Python 3 (ipykernel)",
   "language": "python",
   "name": "python3"
  },
  "language_info": {
   "codemirror_mode": {
    "name": "ipython",
    "version": 3
   },
   "file_extension": ".py",
   "mimetype": "text/x-python",
   "name": "python",
   "nbconvert_exporter": "python",
   "pygments_lexer": "ipython3",
   "version": "3.11.4"
  }
 },
 "nbformat": 4,
 "nbformat_minor": 5
}
