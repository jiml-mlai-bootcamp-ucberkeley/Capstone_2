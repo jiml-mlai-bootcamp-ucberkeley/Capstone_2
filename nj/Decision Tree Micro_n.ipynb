{
 "cells": [
  {
   "cell_type": "markdown",
   "id": "51fa145f",
   "metadata": {},
   "source": [
    "## The goal of Decision Tree is to create a model that predicts the value of a target variable by learning simple decision rules inferred from the data features. "
   ]
  },
  {
   "cell_type": "code",
   "execution_count": 1,
   "id": "d35d12f2",
   "metadata": {},
   "outputs": [],
   "source": [
    "from warnings import filterwarnings\n",
    "filterwarnings(\"ignore\")\n",
    "\n",
    "import sys\n",
    "sys.path.append('../common')\n",
    "\n",
    "from print_more_stuff import print_more_stuff\n",
    "from normalizer import normalizer\n",
    "\n",
    "import pandas as pd\n",
    "import matplotlib.pyplot as plt\n",
    "import numpy as np\n",
    "\n",
    "from sklearn.feature_selection import SequentialFeatureSelector, RFE\n",
    "from sklearn.tree import DecisionTreeRegressor\n",
    "from sklearn.model_selection import train_test_split, cross_val_score, GridSearchCV"
   ]
  },
  {
   "cell_type": "code",
   "execution_count": 2,
   "id": "e76f44b1",
   "metadata": {},
   "outputs": [],
   "source": [
    "outliers_df = pd.read_csv('outliers.csv')\n",
    "outliers_df.drop(columns=[\"Unnamed: 0\"],inplace=True)"
   ]
  },
  {
   "cell_type": "markdown",
   "id": "d23cb03f",
   "metadata": {},
   "source": [
    "#### Create new feature prev_sold_year from prev_sold_date"
   ]
  },
  {
   "cell_type": "code",
   "execution_count": 3,
   "id": "21530dc5",
   "metadata": {},
   "outputs": [
    {
     "name": "stdout",
     "output_type": "stream",
     "text": [
      "<class 'pandas.core.frame.DataFrame'>\n",
      "RangeIndex: 7617 entries, 0 to 7616\n",
      "Data columns (total 7 columns):\n",
      " #   Column          Non-Null Count  Dtype  \n",
      "---  ------          --------------  -----  \n",
      " 0   bed             7617 non-null   float64\n",
      " 1   bath            7617 non-null   float64\n",
      " 2   acre_lot        7617 non-null   float64\n",
      " 3   zip_code        7617 non-null   float64\n",
      " 4   house_size      7617 non-null   float64\n",
      " 5   price           7617 non-null   float64\n",
      " 6   prev_sold_year  7617 non-null   int64  \n",
      "dtypes: float64(6), int64(1)\n",
      "memory usage: 416.7 KB\n"
     ]
    }
   ],
   "source": [
    "outliers_df[\"prev_sold_year\"] = pd.to_datetime(outliers_df[\"prev_sold_date\"], format='%Y-%m-%d').dt.year\n",
    "outliers_df.drop(columns=[\"prev_sold_date\"],inplace=True)\n",
    "outliers_df.info()"
   ]
  },
  {
   "cell_type": "code",
   "execution_count": 4,
   "id": "5323b150",
   "metadata": {},
   "outputs": [
    {
     "data": {
      "text/html": [
       "<div>\n",
       "<style scoped>\n",
       "    .dataframe tbody tr th:only-of-type {\n",
       "        vertical-align: middle;\n",
       "    }\n",
       "\n",
       "    .dataframe tbody tr th {\n",
       "        vertical-align: top;\n",
       "    }\n",
       "\n",
       "    .dataframe thead th {\n",
       "        text-align: right;\n",
       "    }\n",
       "</style>\n",
       "<table border=\"1\" class=\"dataframe\">\n",
       "  <thead>\n",
       "    <tr style=\"text-align: right;\">\n",
       "      <th></th>\n",
       "      <th>bed</th>\n",
       "      <th>bath</th>\n",
       "      <th>acre_lot</th>\n",
       "      <th>house_size</th>\n",
       "      <th>zip_code</th>\n",
       "      <th>price</th>\n",
       "      <th>prev_sold_year</th>\n",
       "    </tr>\n",
       "  </thead>\n",
       "  <tbody>\n",
       "    <tr>\n",
       "      <th>0</th>\n",
       "      <td>0.001946</td>\n",
       "      <td>0.001297</td>\n",
       "      <td>0.000091</td>\n",
       "      <td>0.999997</td>\n",
       "      <td>7001.0</td>\n",
       "      <td>305100.0</td>\n",
       "      <td>2022</td>\n",
       "    </tr>\n",
       "    <tr>\n",
       "      <th>1</th>\n",
       "      <td>0.002000</td>\n",
       "      <td>0.001333</td>\n",
       "      <td>0.000073</td>\n",
       "      <td>0.999997</td>\n",
       "      <td>7001.0</td>\n",
       "      <td>479000.0</td>\n",
       "      <td>2016</td>\n",
       "    </tr>\n",
       "    <tr>\n",
       "      <th>2</th>\n",
       "      <td>0.000400</td>\n",
       "      <td>0.000267</td>\n",
       "      <td>0.000023</td>\n",
       "      <td>1.000000</td>\n",
       "      <td>7001.0</td>\n",
       "      <td>340000.0</td>\n",
       "      <td>2021</td>\n",
       "    </tr>\n",
       "    <tr>\n",
       "      <th>3</th>\n",
       "      <td>0.003605</td>\n",
       "      <td>0.001442</td>\n",
       "      <td>0.000130</td>\n",
       "      <td>0.999992</td>\n",
       "      <td>7001.0</td>\n",
       "      <td>484000.0</td>\n",
       "      <td>2020</td>\n",
       "    </tr>\n",
       "    <tr>\n",
       "      <th>4</th>\n",
       "      <td>0.002000</td>\n",
       "      <td>0.001333</td>\n",
       "      <td>0.000113</td>\n",
       "      <td>0.999997</td>\n",
       "      <td>7001.0</td>\n",
       "      <td>425000.0</td>\n",
       "      <td>2019</td>\n",
       "    </tr>\n",
       "  </tbody>\n",
       "</table>\n",
       "</div>"
      ],
      "text/plain": [
       "        bed      bath  acre_lot  house_size  zip_code     price  \\\n",
       "0  0.001946  0.001297  0.000091    0.999997    7001.0  305100.0   \n",
       "1  0.002000  0.001333  0.000073    0.999997    7001.0  479000.0   \n",
       "2  0.000400  0.000267  0.000023    1.000000    7001.0  340000.0   \n",
       "3  0.003605  0.001442  0.000130    0.999992    7001.0  484000.0   \n",
       "4  0.002000  0.001333  0.000113    0.999997    7001.0  425000.0   \n",
       "\n",
       "   prev_sold_year  \n",
       "0            2022  \n",
       "1            2016  \n",
       "2            2021  \n",
       "3            2020  \n",
       "4            2019  "
      ]
     },
     "execution_count": 4,
     "metadata": {},
     "output_type": "execute_result"
    }
   ],
   "source": [
    "params = {\n",
    "    \"data\":outliers_df,\n",
    "    \"features_a\":[\"zip_code\",\"price\",\"prev_sold_year\"],\n",
    "    \"features_n\":[\"bed\",\"bath\",\"acre_lot\",\"house_size\"]\n",
    "    \n",
    "}\n",
    "normalize_df = normalizer(params)\n",
    "normalize_df.head()"
   ]
  },
  {
   "cell_type": "code",
   "execution_count": 5,
   "id": "f3186ed4",
   "metadata": {},
   "outputs": [
    {
     "data": {
      "text/html": [
       "<div>\n",
       "<style scoped>\n",
       "    .dataframe tbody tr th:only-of-type {\n",
       "        vertical-align: middle;\n",
       "    }\n",
       "\n",
       "    .dataframe tbody tr th {\n",
       "        vertical-align: top;\n",
       "    }\n",
       "\n",
       "    .dataframe thead th {\n",
       "        text-align: right;\n",
       "    }\n",
       "</style>\n",
       "<table border=\"1\" class=\"dataframe\">\n",
       "  <thead>\n",
       "    <tr style=\"text-align: right;\">\n",
       "      <th></th>\n",
       "      <th>bed</th>\n",
       "      <th>bath</th>\n",
       "      <th>acre_lot</th>\n",
       "      <th>zip_code</th>\n",
       "      <th>house_size</th>\n",
       "      <th>price</th>\n",
       "      <th>prev_sold_year</th>\n",
       "    </tr>\n",
       "  </thead>\n",
       "  <tbody>\n",
       "    <tr>\n",
       "      <th>0</th>\n",
       "      <td>3.0</td>\n",
       "      <td>2.0</td>\n",
       "      <td>0.14</td>\n",
       "      <td>7001.0</td>\n",
       "      <td>1542.0</td>\n",
       "      <td>305100.0</td>\n",
       "      <td>2022</td>\n",
       "    </tr>\n",
       "    <tr>\n",
       "      <th>1</th>\n",
       "      <td>3.0</td>\n",
       "      <td>2.0</td>\n",
       "      <td>0.11</td>\n",
       "      <td>7001.0</td>\n",
       "      <td>1500.0</td>\n",
       "      <td>479000.0</td>\n",
       "      <td>2016</td>\n",
       "    </tr>\n",
       "    <tr>\n",
       "      <th>2</th>\n",
       "      <td>3.0</td>\n",
       "      <td>2.0</td>\n",
       "      <td>0.17</td>\n",
       "      <td>7001.0</td>\n",
       "      <td>7501.0</td>\n",
       "      <td>340000.0</td>\n",
       "      <td>2021</td>\n",
       "    </tr>\n",
       "    <tr>\n",
       "      <th>3</th>\n",
       "      <td>5.0</td>\n",
       "      <td>2.0</td>\n",
       "      <td>0.18</td>\n",
       "      <td>7001.0</td>\n",
       "      <td>1387.0</td>\n",
       "      <td>484000.0</td>\n",
       "      <td>2020</td>\n",
       "    </tr>\n",
       "    <tr>\n",
       "      <th>4</th>\n",
       "      <td>3.0</td>\n",
       "      <td>2.0</td>\n",
       "      <td>0.17</td>\n",
       "      <td>7001.0</td>\n",
       "      <td>1500.0</td>\n",
       "      <td>425000.0</td>\n",
       "      <td>2019</td>\n",
       "    </tr>\n",
       "  </tbody>\n",
       "</table>\n",
       "</div>"
      ],
      "text/plain": [
       "   bed  bath  acre_lot  zip_code  house_size     price  prev_sold_year\n",
       "0  3.0   2.0      0.14    7001.0      1542.0  305100.0            2022\n",
       "1  3.0   2.0      0.11    7001.0      1500.0  479000.0            2016\n",
       "2  3.0   2.0      0.17    7001.0      7501.0  340000.0            2021\n",
       "3  5.0   2.0      0.18    7001.0      1387.0  484000.0            2020\n",
       "4  3.0   2.0      0.17    7001.0      1500.0  425000.0            2019"
      ]
     },
     "execution_count": 5,
     "metadata": {},
     "output_type": "execute_result"
    }
   ],
   "source": []
  },
  {
   "cell_type": "markdown",
   "id": "1008fad0",
   "metadata": {},
   "source": [
    "#### Find the zip code of that has the most houses."
   ]
  },
  {
   "cell_type": "code",
   "execution_count": 6,
   "id": "09137e34",
   "metadata": {},
   "outputs": [
    {
     "data": {
      "text/plain": [
       "8260.0"
      ]
     },
     "execution_count": 6,
     "metadata": {},
     "output_type": "execute_result"
    }
   ],
   "source": [
    "groupby_zipcode = normalize_df.groupby([\"zip_code\"])[\"zip_code\"].count().sort_values(ascending=False)\n",
    "groupby_zipcode_df = pd.DataFrame(groupby_zipcode).rename(columns={\"zip_code\":\"count\"}).reset_index()\n",
    "first_zipcode = groupby_zipcode_df.iloc[0][\"zip_code\"]\n",
    "first_zipcode"
   ]
  },
  {
   "cell_type": "markdown",
   "id": "cbc6461e",
   "metadata": {},
   "source": [
    "#### Find the rows of the zip code that has the most houses."
   ]
  },
  {
   "cell_type": "code",
   "execution_count": 7,
   "id": "8865ecd5",
   "metadata": {},
   "outputs": [],
   "source": [
    "one_zipcode_df = normalize_df[normalize_df[\"zip_code\"].isin([first_zipcode])]"
   ]
  },
  {
   "cell_type": "markdown",
   "id": "6561d05d",
   "metadata": {},
   "source": [
    "#### Create common variables to store frequently used values."
   ]
  },
  {
   "cell_type": "code",
   "execution_count": 8,
   "id": "aa1c1059",
   "metadata": {},
   "outputs": [],
   "source": [
    "features = [\"acre_lot\",\"bed\",\"bath\",\"house_size\",\"prev_sold_year\"]\n",
    "num_features_to_select = len(features)-1\n",
    "random_state_value = 42"
   ]
  },
  {
   "cell_type": "markdown",
   "id": "afb1b03d",
   "metadata": {},
   "source": [
    "#### Datasets for modeling, testing the models, and making predictions."
   ]
  },
  {
   "cell_type": "code",
   "execution_count": 9,
   "id": "7bff4fc2",
   "metadata": {},
   "outputs": [],
   "source": [
    "X = one_zipcode_df[features]\n",
    "y = one_zipcode_df[\"price\"]\n",
    "X_train, X_test, y_train, y_test = train_test_split(X, y, test_size=0.3, random_state=random_state_value)"
   ]
  },
  {
   "cell_type": "markdown",
   "id": "da06cb9b",
   "metadata": {},
   "source": [
    "#### Variable to store the results generated by the models."
   ]
  },
  {
   "cell_type": "code",
   "execution_count": 10,
   "id": "8dcdc3d2",
   "metadata": {},
   "outputs": [],
   "source": [
    "results_dict = {\"model\":[], \"explained variance score\":[],\"mae score\":[],\"mse score\":[],\"r2 score\":[], \"mean fit time\":[]}"
   ]
  },
  {
   "cell_type": "markdown",
   "id": "23303ec8",
   "metadata": {},
   "source": [
    "#### Function to format the results generated by the models."
   ]
  },
  {
   "cell_type": "code",
   "execution_count": 11,
   "id": "01dc0a27",
   "metadata": {},
   "outputs": [],
   "source": [
    "def results_dict_append(rtnval):\n",
    "    results_dict[\"model\"].append(rtnval[\"model\"])\n",
    "    results_dict[\"explained variance score\"].append(rtnval[\"explained variance score\"])\n",
    "    results_dict[\"mae score\"].append(rtnval[\"mae score\"])\n",
    "    results_dict[\"mse score\"].append(rtnval[\"mse score\"])\n",
    "    results_dict[\"r2 score\"].append(rtnval[\"r2 score\"])\n",
    "    results_dict[\"mean fit time\"].append(rtnval[\"mean fit time\"])"
   ]
  },
  {
   "cell_type": "code",
   "execution_count": null,
   "id": "1095b282",
   "metadata": {},
   "outputs": [],
   "source": []
  },
  {
   "cell_type": "markdown",
   "id": "0b7cc9ee",
   "metadata": {},
   "source": [
    "### GridSearchCV exhaustively generates candidates from a grid of parameter values specified."
   ]
  },
  {
   "cell_type": "code",
   "execution_count": 12,
   "id": "81aa8bec",
   "metadata": {},
   "outputs": [
    {
     "name": "stdout",
     "output_type": "stream",
     "text": [
      "Best parameters found: {'min_samples_leaf': 14}\n"
     ]
    }
   ],
   "source": [
    "dtree_gscv = GridSearchCV(DecisionTreeRegressor(random_state=42), {'min_samples_leaf': np.arange(5,15,1)})\n",
    "dtree_gscv_model = dtree_gscv.fit(X, y)\n",
    "print(f\"Best parameters found: {dtree_gscv.best_params_}\")"
   ]
  },
  {
   "cell_type": "markdown",
   "id": "564ddfef",
   "metadata": {},
   "source": [
    "#### The best params attribute will be used to fit  model with the training data and make a prediction with the test data."
   ]
  },
  {
   "cell_type": "code",
   "execution_count": 13,
   "id": "13b915d3",
   "metadata": {},
   "outputs": [
    {
     "name": "stdout",
     "output_type": "stream",
     "text": [
      "Decision Tree Best Params EVS = 0.399975216\n",
      "Decision Tree Best Params MSE = 69,239,130,226.123459\n",
      "Decision Tree Best Params MAE = 176,852.226320\n",
      "Decision Tree Best Params R2 = 0.399972\n",
      "Decision Tree Best Params Fit Time = 0.0010151386260986329\n"
     ]
    }
   ],
   "source": [
    "dtree = DecisionTreeRegressor(**dtree_gscv.best_params_)\n",
    "dtree_gscv = GridSearchCV(dtree, param_grid={})\n",
    "dtree_model = dtree_gscv.fit(X_train,y_train)\n",
    "dtree_predict = dtree_model.predict(X_test)\n",
    "\n",
    "rtnval = print_more_stuff(\"Decision Tree Best Params\", y_test, dtree_predict, dtree_gscv)\n",
    "results_dict_append(rtnval)"
   ]
  },
  {
   "cell_type": "code",
   "execution_count": null,
   "id": "a0aaf254",
   "metadata": {},
   "outputs": [],
   "source": []
  },
  {
   "cell_type": "markdown",
   "id": "de323668",
   "metadata": {},
   "source": [
    "### Recursive feature elimination uses an external estimator that assigns weights to features with the goal of selecting features by recursively considering smaller and smaller sets of features."
   ]
  },
  {
   "cell_type": "code",
   "execution_count": 14,
   "id": "d1427612",
   "metadata": {},
   "outputs": [
    {
     "name": "stdout",
     "output_type": "stream",
     "text": [
      "The selected features are: ['acre_lot', 'bed', 'bath', 'house_size']\n"
     ]
    }
   ],
   "source": [
    "dtree_rfe = RFE(DecisionTreeRegressor(), n_features_to_select=num_features_to_select)\n",
    "dtree_rfe.fit(X, y)\n",
    "dtree_rfe_selected_features = dtree_rfe.get_support()\n",
    "print('The selected features are:', list(X.columns[dtree_rfe_selected_features]))"
   ]
  },
  {
   "cell_type": "code",
   "execution_count": 15,
   "id": "8c8293ac",
   "metadata": {},
   "outputs": [],
   "source": [
    "X_rfe = one_zipcode_df[list(X.columns[dtree_rfe_selected_features])]\n",
    "y_rfe = one_zipcode_df[\"price\"]\n",
    "X_rfe_train, X_rfe_test, y_rfe_train, y_rfe_test = train_test_split(X_rfe, y_rfe, test_size=0.3, random_state=random_state_value)"
   ]
  },
  {
   "cell_type": "code",
   "execution_count": 16,
   "id": "3eafd718",
   "metadata": {},
   "outputs": [
    {
     "name": "stdout",
     "output_type": "stream",
     "text": [
      "Recursive Feature Elimination EVS = 0.467470180\n",
      "Recursive Feature Elimination MSE = 62,775,895,563.915565\n",
      "Recursive Feature Elimination MAE = 171,358.433766\n",
      "Recursive Feature Elimination R2 = 0.455983\n",
      "Recursive Feature Elimination Fit Time = 0.002013826370239258\n"
     ]
    }
   ],
   "source": [
    "dtree_rfe_gscv = GridSearchCV(DecisionTreeRegressor(), param_grid={})\n",
    "dtree_rfe_model = dtree_rfe_gscv.fit(X_rfe_train,y_rfe_train)\n",
    "dtree_rfe_predict = dtree_rfe_model.predict(X_rfe_test)\n",
    "\n",
    "rtnval = print_more_stuff(\"Recursive Feature Elimination\", y_rfe_test, dtree_rfe_predict, dtree_rfe_gscv)\n",
    "results_dict_append(rtnval)"
   ]
  },
  {
   "cell_type": "code",
   "execution_count": null,
   "id": "c33df877",
   "metadata": {},
   "outputs": [],
   "source": []
  },
  {
   "cell_type": "markdown",
   "id": "caa2d08a",
   "metadata": {},
   "source": [
    "###  Sequential Feature Selector (forward selection) adds features to form a feature subset in a greedy fashion. At each stage, this estimator chooses the best feature to add or remove based on the cross-validation score of an estimator."
   ]
  },
  {
   "cell_type": "code",
   "execution_count": 17,
   "id": "21f44442",
   "metadata": {},
   "outputs": [
    {
     "name": "stdout",
     "output_type": "stream",
     "text": [
      "The selected features are: ['acre_lot', 'bed', 'bath', 'house_size']\n"
     ]
    }
   ],
   "source": [
    "dtree_sfs = SequentialFeatureSelector(DecisionTreeRegressor(), n_features_to_select=num_features_to_select)\n",
    "dtree_sfs.fit(X, y)\n",
    "dtree_sfs_selected_features = dtree_sfs.get_support()\n",
    "print('The selected features are:', list(X.columns[dtree_sfs_selected_features]))"
   ]
  },
  {
   "cell_type": "code",
   "execution_count": 18,
   "id": "c5346044",
   "metadata": {},
   "outputs": [],
   "source": [
    "X_sfs = one_zipcode_df[list(X.columns[dtree_sfs_selected_features])]\n",
    "y_sfs = one_zipcode_df[\"price\"]\n",
    "X_sfs_train, X_sfs_test, y_sfs_train, y_sfs_test = train_test_split(X_sfs, y_sfs, test_size=0.3, random_state=random_state_value)"
   ]
  },
  {
   "cell_type": "code",
   "execution_count": 19,
   "id": "a5f84a62",
   "metadata": {},
   "outputs": [
    {
     "name": "stdout",
     "output_type": "stream",
     "text": [
      "Sequential Feature Selector EVS = 0.577889846\n",
      "Sequential Feature Selector MSE = 49,759,194,656.968086\n",
      "Sequential Feature Selector MAE = 166,056.730736\n",
      "Sequential Feature Selector R2 = 0.568786\n",
      "Sequential Feature Selector Fit Time = 0.0026907920837402344\n"
     ]
    }
   ],
   "source": [
    "dtree_sfs_gscv = GridSearchCV(DecisionTreeRegressor(), param_grid={})\n",
    "dtree_sfs_model = dtree_sfs_gscv.fit(X_sfs_train,y_sfs_train)\n",
    "dtree_sfs_predict = dtree_sfs_model.predict(X_sfs_test)\n",
    "\n",
    "rtnval = print_more_stuff(\"Sequential Feature Selector\", y_sfs_test, dtree_sfs_predict, dtree_sfs_gscv)\n",
    "results_dict_append(rtnval)"
   ]
  },
  {
   "cell_type": "code",
   "execution_count": null,
   "id": "babfe3b6",
   "metadata": {},
   "outputs": [],
   "source": []
  },
  {
   "cell_type": "markdown",
   "id": "9b14ce27",
   "metadata": {},
   "source": [
    "#### Graphing the results works best when the data is provided in a DataFrame."
   ]
  },
  {
   "cell_type": "code",
   "execution_count": 20,
   "id": "d8787cfa",
   "metadata": {},
   "outputs": [],
   "source": [
    "dtree_predict_df = pd.DataFrame(dtree_predict).reset_index()\n",
    "dtree_predict_df.rename(columns={0: \"prediction\"},inplace=True)\n",
    "\n",
    "dtree_sfs_predict_df = pd.DataFrame(dtree_sfs_predict).reset_index()\n",
    "dtree_sfs_predict_df.rename(columns={0: \"prediction\"},inplace=True)\n",
    "\n",
    "dtree_rfe_predict_df = pd.DataFrame(dtree_rfe_predict).reset_index()\n",
    "dtree_rfe_predict_df.rename(columns={0: \"prediction\"},inplace=True)\n",
    "\n",
    "y_test_df = pd.DataFrame(y_test).reset_index()"
   ]
  },
  {
   "cell_type": "markdown",
   "id": "437aaee6",
   "metadata": {},
   "source": [
    "#### Scatter Plot graph of the results of Recursive Feature Elimination, Sequential Feature Selection, and Test Data."
   ]
  },
  {
   "cell_type": "code",
   "execution_count": 21,
   "id": "ea330c7d",
   "metadata": {},
   "outputs": [
    {
     "data": {
      "image/png": "[encoded data removed]",
      "text/plain": [
       "<Figure size 1000x600 with 1 Axes>"
      ]
     },
     "metadata": {},
     "output_type": "display_data"
    }
   ],
   "source": [
    "fig, ax = plt.subplots(figsize=(10, 6))\n",
    "\n",
    "ax.ticklabel_format(style='plain')\n",
    "ax.yaxis.set_major_formatter('${x:1,.0f}')\n",
    "ax.xaxis.set_major_formatter(' ')\n",
    "\n",
    "plt.scatter(y_test_df.index,y_test_df[\"price\"], color=\"red\")\n",
    "plt.scatter(dtree_rfe_predict_df.index,dtree_rfe_predict_df[\"prediction\"], color=\"blue\")\n",
    "plt.scatter(dtree_sfs_predict_df.index,dtree_sfs_predict_df[\"prediction\"], color=\"green\")\n",
    "plt.scatter(dtree_predict_df.index,dtree_predict_df[\"prediction\"], color=\"black\")\n",
    "plt.show()"
   ]
  },
  {
   "cell_type": "code",
   "execution_count": null,
   "id": "0753cad2",
   "metadata": {},
   "outputs": [],
   "source": []
  },
  {
   "cell_type": "code",
   "execution_count": 22,
   "id": "03608b5f",
   "metadata": {},
   "outputs": [
    {
     "data": {
      "text/plain": [
       "{'model': ['Decision Tree Best Params',\n",
       "  'Recursive Feature Elimination',\n",
       "  'Sequential Feature Selector'],\n",
       " 'explained variance score': ['0.399975216', '0.467470180', '0.577889846'],\n",
       " 'mae score': ['176,852.226320', '171,358.433766', '166,056.730736'],\n",
       " 'mse score': ['69,239,130,226.123459',\n",
       "  '62,775,895,563.915565',\n",
       "  '49,759,194,656.968086'],\n",
       " 'r2 score': ['0.399972', '0.455983', '0.568786'],\n",
       " 'mean fit time': [0.0010151386260986329,\n",
       "  0.002013826370239258,\n",
       "  0.0026907920837402344]}"
      ]
     },
     "execution_count": 22,
     "metadata": {},
     "output_type": "execute_result"
    }
   ],
   "source": [
    "results_dict"
   ]
  },
  {
   "cell_type": "code",
   "execution_count": 23,
   "id": "0985093c",
   "metadata": {},
   "outputs": [
    {
     "data": {
      "text/html": [
       "<div>\n",
       "<style scoped>\n",
       "    .dataframe tbody tr th:only-of-type {\n",
       "        vertical-align: middle;\n",
       "    }\n",
       "\n",
       "    .dataframe tbody tr th {\n",
       "        vertical-align: top;\n",
       "    }\n",
       "\n",
       "    .dataframe thead th {\n",
       "        text-align: right;\n",
       "    }\n",
       "</style>\n",
       "<table border=\"1\" class=\"dataframe\">\n",
       "  <thead>\n",
       "    <tr style=\"text-align: right;\">\n",
       "      <th></th>\n",
       "      <th>explained variance score</th>\n",
       "      <th>mae score</th>\n",
       "      <th>mse score</th>\n",
       "      <th>r2 score</th>\n",
       "      <th>mean fit time</th>\n",
       "    </tr>\n",
       "    <tr>\n",
       "      <th>model</th>\n",
       "      <th></th>\n",
       "      <th></th>\n",
       "      <th></th>\n",
       "      <th></th>\n",
       "      <th></th>\n",
       "    </tr>\n",
       "  </thead>\n",
       "  <tbody>\n",
       "    <tr>\n",
       "      <th>Decision Tree Best Params</th>\n",
       "      <td>0.399975216</td>\n",
       "      <td>176,852.226320</td>\n",
       "      <td>69,239,130,226.123459</td>\n",
       "      <td>0.399972</td>\n",
       "      <td>0.001015</td>\n",
       "    </tr>\n",
       "    <tr>\n",
       "      <th>Recursive Feature Elimination</th>\n",
       "      <td>0.467470180</td>\n",
       "      <td>171,358.433766</td>\n",
       "      <td>62,775,895,563.915565</td>\n",
       "      <td>0.455983</td>\n",
       "      <td>0.002014</td>\n",
       "    </tr>\n",
       "    <tr>\n",
       "      <th>Sequential Feature Selector</th>\n",
       "      <td>0.577889846</td>\n",
       "      <td>166,056.730736</td>\n",
       "      <td>49,759,194,656.968086</td>\n",
       "      <td>0.568786</td>\n",
       "      <td>0.002691</td>\n",
       "    </tr>\n",
       "  </tbody>\n",
       "</table>\n",
       "</div>"
      ],
      "text/plain": [
       "                              explained variance score       mae score  \\\n",
       "model                                                                    \n",
       "Decision Tree Best Params                  0.399975216  176,852.226320   \n",
       "Recursive Feature Elimination              0.467470180  171,358.433766   \n",
       "Sequential Feature Selector                0.577889846  166,056.730736   \n",
       "\n",
       "                                           mse score  r2 score  mean fit time  \n",
       "model                                                                          \n",
       "Decision Tree Best Params      69,239,130,226.123459  0.399972       0.001015  \n",
       "Recursive Feature Elimination  62,775,895,563.915565  0.455983       0.002014  \n",
       "Sequential Feature Selector    49,759,194,656.968086  0.568786       0.002691  "
      ]
     },
     "execution_count": 23,
     "metadata": {},
     "output_type": "execute_result"
    }
   ],
   "source": [
    "model_comparisons = pd.DataFrame(results_dict).set_index('model')\n",
    "model_comparisons"
   ]
  }
 ],
 "metadata": {
  "kernelspec": {
   "display_name": "Python 3 (ipykernel)",
   "language": "python",
   "name": "python3"
  },
  "language_info": {
   "codemirror_mode": {
    "name": "ipython",
    "version": 3
   },
   "file_extension": ".py",
   "mimetype": "text/x-python",
   "name": "python",
   "nbconvert_exporter": "python",
   "pygments_lexer": "ipython3",
   "version": "3.11.4"
  }
 },
 "nbformat": 4,
 "nbformat_minor": 5
}
