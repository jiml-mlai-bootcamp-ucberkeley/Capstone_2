{
 "cells": [
  {
   "cell_type": "code",
   "execution_count": 20,
   "id": "6d8db377",
   "metadata": {},
   "outputs": [],
   "source": [
    "from warnings import filterwarnings \n",
    "filterwarnings(\"ignore\")\n",
    "\n",
    "import pandas as pd\n",
    "import matplotlib.pyplot as plt\n",
    "import numpy as np\n",
    "\n",
    "from sklearn.cluster import KMeans"
   ]
  },
  {
   "cell_type": "markdown",
   "id": "9ef6c594",
   "metadata": {},
   "source": [
    "#### Read the outliers file and add a feature \"prev_sold_year\""
   ]
  },
  {
   "cell_type": "code",
   "execution_count": 2,
   "id": "29612711",
   "metadata": {},
   "outputs": [],
   "source": [
    "realtor_data_df = pd.read_csv('outliers.csv')\n",
    "realtor_data_df[\"prev_sold_year\"] = pd.to_datetime(realtor_data_df[\"prev_sold_date\"], format='%Y-%m-%d').dt.year"
   ]
  },
  {
   "cell_type": "code",
   "execution_count": 3,
   "id": "c7ed6068",
   "metadata": {},
   "outputs": [],
   "source": [
    "for_sale_df = realtor_data_df"
   ]
  },
  {
   "cell_type": "markdown",
   "id": "3952f79b",
   "metadata": {},
   "source": [
    "#### Create a feature that will append '0' to the zipcode feature"
   ]
  },
  {
   "cell_type": "code",
   "execution_count": 4,
   "id": "aeefc3c3",
   "metadata": {},
   "outputs": [
    {
     "data": {
      "text/html": [
       "<div>\n",
       "<style scoped>\n",
       "    .dataframe tbody tr th:only-of-type {\n",
       "        vertical-align: middle;\n",
       "    }\n",
       "\n",
       "    .dataframe tbody tr th {\n",
       "        vertical-align: top;\n",
       "    }\n",
       "\n",
       "    .dataframe thead th {\n",
       "        text-align: right;\n",
       "    }\n",
       "</style>\n",
       "<table border=\"1\" class=\"dataframe\">\n",
       "  <thead>\n",
       "    <tr style=\"text-align: right;\">\n",
       "      <th></th>\n",
       "      <th>Unnamed: 0</th>\n",
       "      <th>bed</th>\n",
       "      <th>bath</th>\n",
       "      <th>acre_lot</th>\n",
       "      <th>zip_code</th>\n",
       "      <th>house_size</th>\n",
       "      <th>prev_sold_date</th>\n",
       "      <th>price</th>\n",
       "      <th>prev_sold_year</th>\n",
       "      <th>zip_code_str</th>\n",
       "    </tr>\n",
       "  </thead>\n",
       "  <tbody>\n",
       "    <tr>\n",
       "      <th>0</th>\n",
       "      <td>2</td>\n",
       "      <td>3.0</td>\n",
       "      <td>2.0</td>\n",
       "      <td>0.14</td>\n",
       "      <td>7001.0</td>\n",
       "      <td>1542.0</td>\n",
       "      <td>2022-01-27</td>\n",
       "      <td>305100.0</td>\n",
       "      <td>2022</td>\n",
       "      <td>07001</td>\n",
       "    </tr>\n",
       "    <tr>\n",
       "      <th>1</th>\n",
       "      <td>4</td>\n",
       "      <td>3.0</td>\n",
       "      <td>2.0</td>\n",
       "      <td>0.11</td>\n",
       "      <td>7001.0</td>\n",
       "      <td>1500.0</td>\n",
       "      <td>2016-12-21</td>\n",
       "      <td>479000.0</td>\n",
       "      <td>2016</td>\n",
       "      <td>07001</td>\n",
       "    </tr>\n",
       "    <tr>\n",
       "      <th>2</th>\n",
       "      <td>12</td>\n",
       "      <td>3.0</td>\n",
       "      <td>2.0</td>\n",
       "      <td>0.17</td>\n",
       "      <td>7001.0</td>\n",
       "      <td>7501.0</td>\n",
       "      <td>2021-11-01</td>\n",
       "      <td>340000.0</td>\n",
       "      <td>2021</td>\n",
       "      <td>07001</td>\n",
       "    </tr>\n",
       "    <tr>\n",
       "      <th>3</th>\n",
       "      <td>13</td>\n",
       "      <td>5.0</td>\n",
       "      <td>2.0</td>\n",
       "      <td>0.18</td>\n",
       "      <td>7001.0</td>\n",
       "      <td>1387.0</td>\n",
       "      <td>2020-12-22</td>\n",
       "      <td>484000.0</td>\n",
       "      <td>2020</td>\n",
       "      <td>07001</td>\n",
       "    </tr>\n",
       "    <tr>\n",
       "      <th>4</th>\n",
       "      <td>14</td>\n",
       "      <td>3.0</td>\n",
       "      <td>2.0</td>\n",
       "      <td>0.17</td>\n",
       "      <td>7001.0</td>\n",
       "      <td>1500.0</td>\n",
       "      <td>2019-05-28</td>\n",
       "      <td>425000.0</td>\n",
       "      <td>2019</td>\n",
       "      <td>07001</td>\n",
       "    </tr>\n",
       "  </tbody>\n",
       "</table>\n",
       "</div>"
      ],
      "text/plain": [
       "   Unnamed: 0  bed  bath  acre_lot  zip_code  house_size prev_sold_date  \\\n",
       "0           2  3.0   2.0      0.14    7001.0      1542.0     2022-01-27   \n",
       "1           4  3.0   2.0      0.11    7001.0      1500.0     2016-12-21   \n",
       "2          12  3.0   2.0      0.17    7001.0      7501.0     2021-11-01   \n",
       "3          13  5.0   2.0      0.18    7001.0      1387.0     2020-12-22   \n",
       "4          14  3.0   2.0      0.17    7001.0      1500.0     2019-05-28   \n",
       "\n",
       "      price  prev_sold_year zip_code_str  \n",
       "0  305100.0            2022        07001  \n",
       "1  479000.0            2016        07001  \n",
       "2  340000.0            2021        07001  \n",
       "3  484000.0            2020        07001  \n",
       "4  425000.0            2019        07001  "
      ]
     },
     "execution_count": 4,
     "metadata": {},
     "output_type": "execute_result"
    }
   ],
   "source": [
    "for_sale_df[\"zip_code_str\"] = '0'+ for_sale_df[\"zip_code\"].apply(int).apply(str)\n",
    "for_sale_df.head()"
   ]
  },
  {
   "cell_type": "markdown",
   "id": "00cc8fac",
   "metadata": {},
   "source": [
    "#### Get the unique zipcodes in the dataframe"
   ]
  },
  {
   "cell_type": "code",
   "execution_count": 5,
   "id": "af0dc973",
   "metadata": {},
   "outputs": [
    {
     "data": {
      "text/plain": [
       "530"
      ]
     },
     "execution_count": 5,
     "metadata": {},
     "output_type": "execute_result"
    }
   ],
   "source": [
    "zipcodes = for_sale_df[\"zip_code\"]\n",
    "len(zipcodes.unique())"
   ]
  },
  {
   "cell_type": "markdown",
   "id": "fd9cc5ed",
   "metadata": {},
   "source": [
    "#### Read the file with Latitude and Longitude, rename the features"
   ]
  },
  {
   "cell_type": "code",
   "execution_count": 6,
   "id": "7846aeff",
   "metadata": {},
   "outputs": [
    {
     "data": {
      "text/html": [
       "<div>\n",
       "<style scoped>\n",
       "    .dataframe tbody tr th:only-of-type {\n",
       "        vertical-align: middle;\n",
       "    }\n",
       "\n",
       "    .dataframe tbody tr th {\n",
       "        vertical-align: top;\n",
       "    }\n",
       "\n",
       "    .dataframe thead th {\n",
       "        text-align: right;\n",
       "    }\n",
       "</style>\n",
       "<table border=\"1\" class=\"dataframe\">\n",
       "  <thead>\n",
       "    <tr style=\"text-align: right;\">\n",
       "      <th></th>\n",
       "      <th>zip_code</th>\n",
       "      <th>latitude</th>\n",
       "      <th>longitude</th>\n",
       "    </tr>\n",
       "  </thead>\n",
       "  <tbody>\n",
       "    <tr>\n",
       "      <th>0</th>\n",
       "      <td>601</td>\n",
       "      <td>18.180555</td>\n",
       "      <td>-66.749961</td>\n",
       "    </tr>\n",
       "    <tr>\n",
       "      <th>1</th>\n",
       "      <td>602</td>\n",
       "      <td>18.361945</td>\n",
       "      <td>-67.175597</td>\n",
       "    </tr>\n",
       "    <tr>\n",
       "      <th>2</th>\n",
       "      <td>603</td>\n",
       "      <td>18.455183</td>\n",
       "      <td>-67.119887</td>\n",
       "    </tr>\n",
       "    <tr>\n",
       "      <th>3</th>\n",
       "      <td>606</td>\n",
       "      <td>18.158345</td>\n",
       "      <td>-66.932911</td>\n",
       "    </tr>\n",
       "    <tr>\n",
       "      <th>4</th>\n",
       "      <td>610</td>\n",
       "      <td>18.295366</td>\n",
       "      <td>-67.125135</td>\n",
       "    </tr>\n",
       "  </tbody>\n",
       "</table>\n",
       "</div>"
      ],
      "text/plain": [
       "   zip_code   latitude  longitude\n",
       "0       601  18.180555 -66.749961\n",
       "1       602  18.361945 -67.175597\n",
       "2       603  18.455183 -67.119887\n",
       "3       606  18.158345 -66.932911\n",
       "4       610  18.295366 -67.125135"
      ]
     },
     "execution_count": 6,
     "metadata": {},
     "output_type": "execute_result"
    }
   ],
   "source": [
    "# Because of its size this dataset is not saved in the code repo for this project.\n",
    "# It can be downloaded and saved in the same path to make this Notebook run.\n",
    "zip_lon_lat = pd.read_csv('../../../zip_lat_long.csv')\n",
    "zip_lon_lat.rename(columns={\"ZIP\":\"zip_code\", \"LAT\":\"latitude\", \"LNG\":\"longitude\"},inplace=True)\n",
    "zip_lon_lat.head()"
   ]
  },
  {
   "cell_type": "markdown",
   "id": "f9fda901",
   "metadata": {},
   "source": [
    "#### Find matching zipcodes that were found in the dataset"
   ]
  },
  {
   "cell_type": "code",
   "execution_count": 7,
   "id": "739bea9c",
   "metadata": {},
   "outputs": [
    {
     "data": {
      "text/html": [
       "<div>\n",
       "<style scoped>\n",
       "    .dataframe tbody tr th:only-of-type {\n",
       "        vertical-align: middle;\n",
       "    }\n",
       "\n",
       "    .dataframe tbody tr th {\n",
       "        vertical-align: top;\n",
       "    }\n",
       "\n",
       "    .dataframe thead th {\n",
       "        text-align: right;\n",
       "    }\n",
       "</style>\n",
       "<table border=\"1\" class=\"dataframe\">\n",
       "  <thead>\n",
       "    <tr style=\"text-align: right;\">\n",
       "      <th></th>\n",
       "      <th>zip_code</th>\n",
       "      <th>latitude</th>\n",
       "      <th>longitude</th>\n",
       "      <th>zip_code_str</th>\n",
       "    </tr>\n",
       "  </thead>\n",
       "  <tbody>\n",
       "    <tr>\n",
       "      <th>1974</th>\n",
       "      <td>7001</td>\n",
       "      <td>40.582316</td>\n",
       "      <td>-74.271506</td>\n",
       "      <td>07001</td>\n",
       "    </tr>\n",
       "    <tr>\n",
       "      <th>1975</th>\n",
       "      <td>7002</td>\n",
       "      <td>40.662338</td>\n",
       "      <td>-74.110275</td>\n",
       "      <td>07002</td>\n",
       "    </tr>\n",
       "    <tr>\n",
       "      <th>1976</th>\n",
       "      <td>7003</td>\n",
       "      <td>40.809128</td>\n",
       "      <td>-74.187155</td>\n",
       "      <td>07003</td>\n",
       "    </tr>\n",
       "    <tr>\n",
       "      <th>1977</th>\n",
       "      <td>7004</td>\n",
       "      <td>40.882508</td>\n",
       "      <td>-74.304593</td>\n",
       "      <td>07004</td>\n",
       "    </tr>\n",
       "    <tr>\n",
       "      <th>1978</th>\n",
       "      <td>7005</td>\n",
       "      <td>40.932771</td>\n",
       "      <td>-74.417304</td>\n",
       "      <td>07005</td>\n",
       "    </tr>\n",
       "  </tbody>\n",
       "</table>\n",
       "</div>"
      ],
      "text/plain": [
       "      zip_code   latitude  longitude zip_code_str\n",
       "1974      7001  40.582316 -74.271506        07001\n",
       "1975      7002  40.662338 -74.110275        07002\n",
       "1976      7003  40.809128 -74.187155        07003\n",
       "1977      7004  40.882508 -74.304593        07004\n",
       "1978      7005  40.932771 -74.417304        07005"
      ]
     },
     "execution_count": 7,
     "metadata": {},
     "output_type": "execute_result"
    }
   ],
   "source": [
    "find_zipcodes_df = zip_lon_lat[zip_lon_lat[\"zip_code\"].isin(zipcodes.unique())]\n",
    "find_zipcodes_df[\"zip_code_str\"] = \"0\"+find_zipcodes_df[\"zip_code\"].apply(str)\n",
    "find_zipcodes_df.head()"
   ]
  },
  {
   "cell_type": "code",
   "execution_count": null,
   "id": "8f35b383",
   "metadata": {},
   "outputs": [],
   "source": []
  },
  {
   "cell_type": "markdown",
   "id": "2ca2d460",
   "metadata": {},
   "source": []
  },
  {
   "cell_type": "markdown",
   "id": "845e3366",
   "metadata": {},
   "source": [
    "#### Merge the dataset with the Latitude and Longitude data"
   ]
  },
  {
   "cell_type": "code",
   "execution_count": 8,
   "id": "283d683e",
   "metadata": {},
   "outputs": [],
   "source": [
    "merge_df = for_sale_df.merge(find_zipcodes_df, how='outer', on='zip_code_str')\n",
    "\n",
    "merge_df.rename(columns={\"zip_code_x\":\"zip_code\"},inplace=True)\n",
    "merge_df.drop(columns=[\"zip_code_y\"],inplace=True)"
   ]
  },
  {
   "cell_type": "markdown",
   "id": "a2372659",
   "metadata": {},
   "source": [
    "#### Display the records that didn't match up"
   ]
  },
  {
   "cell_type": "code",
   "execution_count": 9,
   "id": "65cfc109",
   "metadata": {},
   "outputs": [
    {
     "data": {
      "text/html": [
       "<div>\n",
       "<style scoped>\n",
       "    .dataframe tbody tr th:only-of-type {\n",
       "        vertical-align: middle;\n",
       "    }\n",
       "\n",
       "    .dataframe tbody tr th {\n",
       "        vertical-align: top;\n",
       "    }\n",
       "\n",
       "    .dataframe thead th {\n",
       "        text-align: right;\n",
       "    }\n",
       "</style>\n",
       "<table border=\"1\" class=\"dataframe\">\n",
       "  <thead>\n",
       "    <tr style=\"text-align: right;\">\n",
       "      <th></th>\n",
       "      <th>Unnamed: 0</th>\n",
       "      <th>bed</th>\n",
       "      <th>bath</th>\n",
       "      <th>acre_lot</th>\n",
       "      <th>zip_code</th>\n",
       "      <th>house_size</th>\n",
       "      <th>prev_sold_date</th>\n",
       "      <th>price</th>\n",
       "      <th>prev_sold_year</th>\n",
       "      <th>zip_code_str</th>\n",
       "      <th>latitude</th>\n",
       "      <th>longitude</th>\n",
       "    </tr>\n",
       "  </thead>\n",
       "  <tbody>\n",
       "    <tr>\n",
       "      <th>7400</th>\n",
       "      <td>27578</td>\n",
       "      <td>4.0</td>\n",
       "      <td>1.0</td>\n",
       "      <td>0.76</td>\n",
       "      <td>8218.0</td>\n",
       "      <td>1498.0</td>\n",
       "      <td>2022-06-17</td>\n",
       "      <td>195000.0</td>\n",
       "      <td>2022</td>\n",
       "      <td>08218</td>\n",
       "      <td>NaN</td>\n",
       "      <td>NaN</td>\n",
       "    </tr>\n",
       "    <tr>\n",
       "      <th>7480</th>\n",
       "      <td>28789</td>\n",
       "      <td>5.0</td>\n",
       "      <td>2.0</td>\n",
       "      <td>1.42</td>\n",
       "      <td>8245.0</td>\n",
       "      <td>3073.0</td>\n",
       "      <td>2022-02-25</td>\n",
       "      <td>469900.0</td>\n",
       "      <td>2022</td>\n",
       "      <td>08245</td>\n",
       "      <td>NaN</td>\n",
       "      <td>NaN</td>\n",
       "    </tr>\n",
       "    <tr>\n",
       "      <th>7483</th>\n",
       "      <td>29341</td>\n",
       "      <td>4.0</td>\n",
       "      <td>4.0</td>\n",
       "      <td>0.32</td>\n",
       "      <td>8239.0</td>\n",
       "      <td>2945.0</td>\n",
       "      <td>2022-04-29</td>\n",
       "      <td>2299999.0</td>\n",
       "      <td>2022</td>\n",
       "      <td>08239</td>\n",
       "      <td>NaN</td>\n",
       "      <td>NaN</td>\n",
       "    </tr>\n",
       "  </tbody>\n",
       "</table>\n",
       "</div>"
      ],
      "text/plain": [
       "      Unnamed: 0  bed  bath  acre_lot  zip_code  house_size prev_sold_date  \\\n",
       "7400       27578  4.0   1.0      0.76    8218.0      1498.0     2022-06-17   \n",
       "7480       28789  5.0   2.0      1.42    8245.0      3073.0     2022-02-25   \n",
       "7483       29341  4.0   4.0      0.32    8239.0      2945.0     2022-04-29   \n",
       "\n",
       "          price  prev_sold_year zip_code_str  latitude  longitude  \n",
       "7400   195000.0            2022        08218       NaN        NaN  \n",
       "7480   469900.0            2022        08245       NaN        NaN  \n",
       "7483  2299999.0            2022        08239       NaN        NaN  "
      ]
     },
     "execution_count": 9,
     "metadata": {},
     "output_type": "execute_result"
    }
   ],
   "source": [
    "merge_df[merge_df[\"latitude\"].isna()]"
   ]
  },
  {
   "cell_type": "code",
   "execution_count": 10,
   "id": "f8a529f9",
   "metadata": {},
   "outputs": [],
   "source": [
    "# \"08218\",\"39.1386785\",\"-74.856442\""
   ]
  },
  {
   "cell_type": "code",
   "execution_count": 11,
   "id": "20307491",
   "metadata": {},
   "outputs": [],
   "source": [
    "# \"08239\",\"39.1979584\",\"-74.6577965\""
   ]
  },
  {
   "cell_type": "code",
   "execution_count": 12,
   "id": "a6239f51",
   "metadata": {},
   "outputs": [],
   "source": [
    "# \"08245\",\"39.1778125\",\"-74.8300693\""
   ]
  },
  {
   "cell_type": "markdown",
   "id": "da0d22aa",
   "metadata": {},
   "source": [
    "#### Drop the records that didn't match up"
   ]
  },
  {
   "cell_type": "code",
   "execution_count": 13,
   "id": "83699b0c",
   "metadata": {},
   "outputs": [],
   "source": [
    "merge_df.dropna(subset=['latitude'], inplace=True)"
   ]
  },
  {
   "cell_type": "code",
   "execution_count": 14,
   "id": "505fc14f",
   "metadata": {},
   "outputs": [
    {
     "data": {
      "text/html": [
       "<div>\n",
       "<style scoped>\n",
       "    .dataframe tbody tr th:only-of-type {\n",
       "        vertical-align: middle;\n",
       "    }\n",
       "\n",
       "    .dataframe tbody tr th {\n",
       "        vertical-align: top;\n",
       "    }\n",
       "\n",
       "    .dataframe thead th {\n",
       "        text-align: right;\n",
       "    }\n",
       "</style>\n",
       "<table border=\"1\" class=\"dataframe\">\n",
       "  <thead>\n",
       "    <tr style=\"text-align: right;\">\n",
       "      <th></th>\n",
       "      <th>Unnamed: 0</th>\n",
       "      <th>bed</th>\n",
       "      <th>bath</th>\n",
       "      <th>acre_lot</th>\n",
       "      <th>zip_code</th>\n",
       "      <th>house_size</th>\n",
       "      <th>prev_sold_date</th>\n",
       "      <th>price</th>\n",
       "      <th>prev_sold_year</th>\n",
       "      <th>zip_code_str</th>\n",
       "      <th>latitude</th>\n",
       "      <th>longitude</th>\n",
       "    </tr>\n",
       "  </thead>\n",
       "  <tbody>\n",
       "    <tr>\n",
       "      <th>0</th>\n",
       "      <td>2</td>\n",
       "      <td>3.0</td>\n",
       "      <td>2.0</td>\n",
       "      <td>0.14</td>\n",
       "      <td>7001.0</td>\n",
       "      <td>1542.0</td>\n",
       "      <td>2022-01-27</td>\n",
       "      <td>305100.0</td>\n",
       "      <td>2022</td>\n",
       "      <td>07001</td>\n",
       "      <td>40.582316</td>\n",
       "      <td>-74.271506</td>\n",
       "    </tr>\n",
       "    <tr>\n",
       "      <th>1</th>\n",
       "      <td>4</td>\n",
       "      <td>3.0</td>\n",
       "      <td>2.0</td>\n",
       "      <td>0.11</td>\n",
       "      <td>7001.0</td>\n",
       "      <td>1500.0</td>\n",
       "      <td>2016-12-21</td>\n",
       "      <td>479000.0</td>\n",
       "      <td>2016</td>\n",
       "      <td>07001</td>\n",
       "      <td>40.582316</td>\n",
       "      <td>-74.271506</td>\n",
       "    </tr>\n",
       "    <tr>\n",
       "      <th>2</th>\n",
       "      <td>12</td>\n",
       "      <td>3.0</td>\n",
       "      <td>2.0</td>\n",
       "      <td>0.17</td>\n",
       "      <td>7001.0</td>\n",
       "      <td>7501.0</td>\n",
       "      <td>2021-11-01</td>\n",
       "      <td>340000.0</td>\n",
       "      <td>2021</td>\n",
       "      <td>07001</td>\n",
       "      <td>40.582316</td>\n",
       "      <td>-74.271506</td>\n",
       "    </tr>\n",
       "    <tr>\n",
       "      <th>3</th>\n",
       "      <td>13</td>\n",
       "      <td>5.0</td>\n",
       "      <td>2.0</td>\n",
       "      <td>0.18</td>\n",
       "      <td>7001.0</td>\n",
       "      <td>1387.0</td>\n",
       "      <td>2020-12-22</td>\n",
       "      <td>484000.0</td>\n",
       "      <td>2020</td>\n",
       "      <td>07001</td>\n",
       "      <td>40.582316</td>\n",
       "      <td>-74.271506</td>\n",
       "    </tr>\n",
       "    <tr>\n",
       "      <th>4</th>\n",
       "      <td>14</td>\n",
       "      <td>3.0</td>\n",
       "      <td>2.0</td>\n",
       "      <td>0.17</td>\n",
       "      <td>7001.0</td>\n",
       "      <td>1500.0</td>\n",
       "      <td>2019-05-28</td>\n",
       "      <td>425000.0</td>\n",
       "      <td>2019</td>\n",
       "      <td>07001</td>\n",
       "      <td>40.582316</td>\n",
       "      <td>-74.271506</td>\n",
       "    </tr>\n",
       "  </tbody>\n",
       "</table>\n",
       "</div>"
      ],
      "text/plain": [
       "   Unnamed: 0  bed  bath  acre_lot  zip_code  house_size prev_sold_date  \\\n",
       "0           2  3.0   2.0      0.14    7001.0      1542.0     2022-01-27   \n",
       "1           4  3.0   2.0      0.11    7001.0      1500.0     2016-12-21   \n",
       "2          12  3.0   2.0      0.17    7001.0      7501.0     2021-11-01   \n",
       "3          13  5.0   2.0      0.18    7001.0      1387.0     2020-12-22   \n",
       "4          14  3.0   2.0      0.17    7001.0      1500.0     2019-05-28   \n",
       "\n",
       "      price  prev_sold_year zip_code_str   latitude  longitude  \n",
       "0  305100.0            2022        07001  40.582316 -74.271506  \n",
       "1  479000.0            2016        07001  40.582316 -74.271506  \n",
       "2  340000.0            2021        07001  40.582316 -74.271506  \n",
       "3  484000.0            2020        07001  40.582316 -74.271506  \n",
       "4  425000.0            2019        07001  40.582316 -74.271506  "
      ]
     },
     "execution_count": 14,
     "metadata": {},
     "output_type": "execute_result"
    }
   ],
   "source": [
    "merge_df.head()"
   ]
  },
  {
   "cell_type": "markdown",
   "id": "75a126c6",
   "metadata": {},
   "source": [
    "#### Use KMeans to cluster latitude and longitude into counties"
   ]
  },
  {
   "cell_type": "code",
   "execution_count": 18,
   "id": "764cd87f",
   "metadata": {},
   "outputs": [],
   "source": [
    "numberofcounties = 21\n",
    "kmeans = KMeans( init=\"random\", n_clusters=21,random_state=0)\n",
    "latlong = merge_df[[\"latitude\",\"longitude\"]]\n",
    "kmeans.fit(latlong)\n",
    "y_kmeans = kmeans.predict(latlong)"
   ]
  },
  {
   "cell_type": "markdown",
   "id": "e57a62d7",
   "metadata": {},
   "source": [
    "#### Plot the counties"
   ]
  },
  {
   "cell_type": "code",
   "execution_count": 21,
   "id": "41b17517",
   "metadata": {},
   "outputs": [
    {
     "data": {
      "text/plain": [
       "<matplotlib.collections.PathCollection at 0x2ccbf8a7850>"
      ]
     },
     "execution_count": 21,
     "metadata": {},
     "output_type": "execute_result"
    },
    {
     "data": {
      "image/png": "[encoded data removed]",
      "text/plain": [
       "<Figure size 600x1000 with 1 Axes>"
      ]
     },
     "metadata": {},
     "output_type": "display_data"
    }
   ],
   "source": [
    "fig, ax = plt.subplots(figsize=(6, 10))\n",
    "plt.scatter(merge_df[\"longitude\"], merge_df[\"latitude\"], c=y_kmeans, s=50, cmap='viridis')"
   ]
  },
  {
   "cell_type": "markdown",
   "id": "70732505",
   "metadata": {},
   "source": [
    "#### Add county to the dataset going forward"
   ]
  },
  {
   "cell_type": "code",
   "execution_count": 22,
   "id": "322fe66f",
   "metadata": {},
   "outputs": [],
   "source": [
    "merge_df[\"county\"] = y_kmeans"
   ]
  },
  {
   "cell_type": "code",
   "execution_count": 23,
   "id": "f5554824",
   "metadata": {},
   "outputs": [
    {
     "data": {
      "text/html": [
       "<div>\n",
       "<style scoped>\n",
       "    .dataframe tbody tr th:only-of-type {\n",
       "        vertical-align: middle;\n",
       "    }\n",
       "\n",
       "    .dataframe tbody tr th {\n",
       "        vertical-align: top;\n",
       "    }\n",
       "\n",
       "    .dataframe thead th {\n",
       "        text-align: right;\n",
       "    }\n",
       "</style>\n",
       "<table border=\"1\" class=\"dataframe\">\n",
       "  <thead>\n",
       "    <tr style=\"text-align: right;\">\n",
       "      <th></th>\n",
       "      <th>Unnamed: 0</th>\n",
       "      <th>bed</th>\n",
       "      <th>bath</th>\n",
       "      <th>acre_lot</th>\n",
       "      <th>zip_code</th>\n",
       "      <th>house_size</th>\n",
       "      <th>prev_sold_date</th>\n",
       "      <th>price</th>\n",
       "      <th>prev_sold_year</th>\n",
       "      <th>zip_code_str</th>\n",
       "      <th>latitude</th>\n",
       "      <th>longitude</th>\n",
       "      <th>county</th>\n",
       "    </tr>\n",
       "  </thead>\n",
       "  <tbody>\n",
       "    <tr>\n",
       "      <th>0</th>\n",
       "      <td>2</td>\n",
       "      <td>3.0</td>\n",
       "      <td>2.0</td>\n",
       "      <td>0.14</td>\n",
       "      <td>7001.0</td>\n",
       "      <td>1542.0</td>\n",
       "      <td>2022-01-27</td>\n",
       "      <td>305100.0</td>\n",
       "      <td>2022</td>\n",
       "      <td>07001</td>\n",
       "      <td>40.582316</td>\n",
       "      <td>-74.271506</td>\n",
       "      <td>12</td>\n",
       "    </tr>\n",
       "    <tr>\n",
       "      <th>1</th>\n",
       "      <td>4</td>\n",
       "      <td>3.0</td>\n",
       "      <td>2.0</td>\n",
       "      <td>0.11</td>\n",
       "      <td>7001.0</td>\n",
       "      <td>1500.0</td>\n",
       "      <td>2016-12-21</td>\n",
       "      <td>479000.0</td>\n",
       "      <td>2016</td>\n",
       "      <td>07001</td>\n",
       "      <td>40.582316</td>\n",
       "      <td>-74.271506</td>\n",
       "      <td>12</td>\n",
       "    </tr>\n",
       "    <tr>\n",
       "      <th>2</th>\n",
       "      <td>12</td>\n",
       "      <td>3.0</td>\n",
       "      <td>2.0</td>\n",
       "      <td>0.17</td>\n",
       "      <td>7001.0</td>\n",
       "      <td>7501.0</td>\n",
       "      <td>2021-11-01</td>\n",
       "      <td>340000.0</td>\n",
       "      <td>2021</td>\n",
       "      <td>07001</td>\n",
       "      <td>40.582316</td>\n",
       "      <td>-74.271506</td>\n",
       "      <td>12</td>\n",
       "    </tr>\n",
       "    <tr>\n",
       "      <th>3</th>\n",
       "      <td>13</td>\n",
       "      <td>5.0</td>\n",
       "      <td>2.0</td>\n",
       "      <td>0.18</td>\n",
       "      <td>7001.0</td>\n",
       "      <td>1387.0</td>\n",
       "      <td>2020-12-22</td>\n",
       "      <td>484000.0</td>\n",
       "      <td>2020</td>\n",
       "      <td>07001</td>\n",
       "      <td>40.582316</td>\n",
       "      <td>-74.271506</td>\n",
       "      <td>12</td>\n",
       "    </tr>\n",
       "    <tr>\n",
       "      <th>4</th>\n",
       "      <td>14</td>\n",
       "      <td>3.0</td>\n",
       "      <td>2.0</td>\n",
       "      <td>0.17</td>\n",
       "      <td>7001.0</td>\n",
       "      <td>1500.0</td>\n",
       "      <td>2019-05-28</td>\n",
       "      <td>425000.0</td>\n",
       "      <td>2019</td>\n",
       "      <td>07001</td>\n",
       "      <td>40.582316</td>\n",
       "      <td>-74.271506</td>\n",
       "      <td>12</td>\n",
       "    </tr>\n",
       "  </tbody>\n",
       "</table>\n",
       "</div>"
      ],
      "text/plain": [
       "   Unnamed: 0  bed  bath  acre_lot  zip_code  house_size prev_sold_date  \\\n",
       "0           2  3.0   2.0      0.14    7001.0      1542.0     2022-01-27   \n",
       "1           4  3.0   2.0      0.11    7001.0      1500.0     2016-12-21   \n",
       "2          12  3.0   2.0      0.17    7001.0      7501.0     2021-11-01   \n",
       "3          13  5.0   2.0      0.18    7001.0      1387.0     2020-12-22   \n",
       "4          14  3.0   2.0      0.17    7001.0      1500.0     2019-05-28   \n",
       "\n",
       "      price  prev_sold_year zip_code_str   latitude  longitude  county  \n",
       "0  305100.0            2022        07001  40.582316 -74.271506      12  \n",
       "1  479000.0            2016        07001  40.582316 -74.271506      12  \n",
       "2  340000.0            2021        07001  40.582316 -74.271506      12  \n",
       "3  484000.0            2020        07001  40.582316 -74.271506      12  \n",
       "4  425000.0            2019        07001  40.582316 -74.271506      12  "
      ]
     },
     "execution_count": 23,
     "metadata": {},
     "output_type": "execute_result"
    }
   ],
   "source": [
    "merge_df.head()"
   ]
  },
  {
   "cell_type": "markdown",
   "id": "672e92e0",
   "metadata": {},
   "source": [
    "#### Save the records to a csv file"
   ]
  },
  {
   "cell_type": "code",
   "execution_count": 24,
   "id": "bef09f9d",
   "metadata": {},
   "outputs": [],
   "source": [
    "merge_df.to_csv(\"geocoded.csv\")"
   ]
  },
  {
   "cell_type": "code",
   "execution_count": null,
   "id": "e758a9da",
   "metadata": {},
   "outputs": [],
   "source": []
  }
 ],
 "metadata": {
  "kernelspec": {
   "display_name": "Python 3 (ipykernel)",
   "language": "python",
   "name": "python3"
  },
  "language_info": {
   "codemirror_mode": {
    "name": "ipython",
    "version": 3
   },
   "file_extension": ".py",
   "mimetype": "text/x-python",
   "name": "python",
   "nbconvert_exporter": "python",
   "pygments_lexer": "ipython3",
   "version": "3.11.4"
  }
 },
 "nbformat": 4,
 "nbformat_minor": 5
}
