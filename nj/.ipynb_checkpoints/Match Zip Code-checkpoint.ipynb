{
 "cells": [
  {
   "cell_type": "code",
   "execution_count": 1,
   "id": "6d8db377",
   "metadata": {},
   "outputs": [],
   "source": [
    "from warnings import filterwarnings \n",
    "filterwarnings(\"ignore\")\n",
    "\n",
    "import pandas as pd\n",
    "import numpy as np"
   ]
  },
  {
   "cell_type": "code",
   "execution_count": 2,
   "id": "29612711",
   "metadata": {},
   "outputs": [],
   "source": [
    "realtor_data_df = pd.read_csv('outliers.csv')\n",
    "realtor_data_df[\"prev_sold_year\"] = pd.to_datetime(realtor_data_df[\"prev_sold_date\"], format='%Y-%m-%d').dt.year"
   ]
  },
  {
   "cell_type": "code",
   "execution_count": 3,
   "id": "c7ed6068",
   "metadata": {},
   "outputs": [
    {
     "ename": "KeyError",
     "evalue": "'state'",
     "output_type": "error",
     "traceback": [
      "\u001b[1;31m---------------------------------------------------------------------------\u001b[0m",
      "\u001b[1;31mKeyError\u001b[0m                                  Traceback (most recent call last)",
      "File \u001b[1;32m~\\anaconda3\\Lib\\site-packages\\pandas\\core\\indexes\\base.py:3802\u001b[0m, in \u001b[0;36mIndex.get_loc\u001b[1;34m(self, key, method, tolerance)\u001b[0m\n\u001b[0;32m   3801\u001b[0m \u001b[38;5;28;01mtry\u001b[39;00m:\n\u001b[1;32m-> 3802\u001b[0m     \u001b[38;5;28;01mreturn\u001b[39;00m \u001b[38;5;28mself\u001b[39m\u001b[38;5;241m.\u001b[39m_engine\u001b[38;5;241m.\u001b[39mget_loc(casted_key)\n\u001b[0;32m   3803\u001b[0m \u001b[38;5;28;01mexcept\u001b[39;00m \u001b[38;5;167;01mKeyError\u001b[39;00m \u001b[38;5;28;01mas\u001b[39;00m err:\n",
      "File \u001b[1;32m~\\anaconda3\\Lib\\site-packages\\pandas\\_libs\\index.pyx:138\u001b[0m, in \u001b[0;36mpandas._libs.index.IndexEngine.get_loc\u001b[1;34m()\u001b[0m\n",
      "File \u001b[1;32m~\\anaconda3\\Lib\\site-packages\\pandas\\_libs\\index.pyx:165\u001b[0m, in \u001b[0;36mpandas._libs.index.IndexEngine.get_loc\u001b[1;34m()\u001b[0m\n",
      "File \u001b[1;32mpandas\\_libs\\hashtable_class_helper.pxi:5745\u001b[0m, in \u001b[0;36mpandas._libs.hashtable.PyObjectHashTable.get_item\u001b[1;34m()\u001b[0m\n",
      "File \u001b[1;32mpandas\\_libs\\hashtable_class_helper.pxi:5753\u001b[0m, in \u001b[0;36mpandas._libs.hashtable.PyObjectHashTable.get_item\u001b[1;34m()\u001b[0m\n",
      "\u001b[1;31mKeyError\u001b[0m: 'state'",
      "\nThe above exception was the direct cause of the following exception:\n",
      "\u001b[1;31mKeyError\u001b[0m                                  Traceback (most recent call last)",
      "Cell \u001b[1;32mIn[3], line 2\u001b[0m\n\u001b[0;32m      1\u001b[0m for_sale_df \u001b[38;5;241m=\u001b[39m realtor_data_df[(realtor_data_df[\u001b[38;5;124m\"\u001b[39m\u001b[38;5;124mprev_sold_year\u001b[39m\u001b[38;5;124m\"\u001b[39m] \u001b[38;5;241m>\u001b[39m \u001b[38;5;241m2015.0\u001b[39m) \u001b[38;5;241m&\u001b[39m\n\u001b[1;32m----> 2\u001b[0m                                      (realtor_data_df[\u001b[38;5;124m\"\u001b[39m\u001b[38;5;124mstate\u001b[39m\u001b[38;5;124m\"\u001b[39m]\u001b[38;5;241m.\u001b[39misin([\u001b[38;5;124m\"\u001b[39m\u001b[38;5;124mNew Jersey\u001b[39m\u001b[38;5;124m\"\u001b[39m])) \u001b[38;5;241m&\u001b[39m\n\u001b[0;32m      3\u001b[0m                                      (realtor_data_df[\u001b[38;5;124m\"\u001b[39m\u001b[38;5;124mstatus\u001b[39m\u001b[38;5;124m\"\u001b[39m] \u001b[38;5;241m==\u001b[39m \u001b[38;5;124m\"\u001b[39m\u001b[38;5;124mfor_sale\u001b[39m\u001b[38;5;124m\"\u001b[39m) \n\u001b[0;32m      4\u001b[0m                                     ]\n\u001b[0;32m      5\u001b[0m for_sale_df\u001b[38;5;241m.\u001b[39mdrop(columns\u001b[38;5;241m=\u001b[39m[\u001b[38;5;124m\"\u001b[39m\u001b[38;5;124mprev_sold_date\u001b[39m\u001b[38;5;124m\"\u001b[39m,\u001b[38;5;124m\"\u001b[39m\u001b[38;5;124mUnnamed: 0\u001b[39m\u001b[38;5;124m\"\u001b[39m],inplace\u001b[38;5;241m=\u001b[39m\u001b[38;5;28;01mTrue\u001b[39;00m)\n\u001b[0;32m      6\u001b[0m for_sale_df\u001b[38;5;241m.\u001b[39minfo()\n",
      "File \u001b[1;32m~\\anaconda3\\Lib\\site-packages\\pandas\\core\\frame.py:3807\u001b[0m, in \u001b[0;36mDataFrame.__getitem__\u001b[1;34m(self, key)\u001b[0m\n\u001b[0;32m   3805\u001b[0m \u001b[38;5;28;01mif\u001b[39;00m \u001b[38;5;28mself\u001b[39m\u001b[38;5;241m.\u001b[39mcolumns\u001b[38;5;241m.\u001b[39mnlevels \u001b[38;5;241m>\u001b[39m \u001b[38;5;241m1\u001b[39m:\n\u001b[0;32m   3806\u001b[0m     \u001b[38;5;28;01mreturn\u001b[39;00m \u001b[38;5;28mself\u001b[39m\u001b[38;5;241m.\u001b[39m_getitem_multilevel(key)\n\u001b[1;32m-> 3807\u001b[0m indexer \u001b[38;5;241m=\u001b[39m \u001b[38;5;28mself\u001b[39m\u001b[38;5;241m.\u001b[39mcolumns\u001b[38;5;241m.\u001b[39mget_loc(key)\n\u001b[0;32m   3808\u001b[0m \u001b[38;5;28;01mif\u001b[39;00m is_integer(indexer):\n\u001b[0;32m   3809\u001b[0m     indexer \u001b[38;5;241m=\u001b[39m [indexer]\n",
      "File \u001b[1;32m~\\anaconda3\\Lib\\site-packages\\pandas\\core\\indexes\\base.py:3804\u001b[0m, in \u001b[0;36mIndex.get_loc\u001b[1;34m(self, key, method, tolerance)\u001b[0m\n\u001b[0;32m   3802\u001b[0m     \u001b[38;5;28;01mreturn\u001b[39;00m \u001b[38;5;28mself\u001b[39m\u001b[38;5;241m.\u001b[39m_engine\u001b[38;5;241m.\u001b[39mget_loc(casted_key)\n\u001b[0;32m   3803\u001b[0m \u001b[38;5;28;01mexcept\u001b[39;00m \u001b[38;5;167;01mKeyError\u001b[39;00m \u001b[38;5;28;01mas\u001b[39;00m err:\n\u001b[1;32m-> 3804\u001b[0m     \u001b[38;5;28;01mraise\u001b[39;00m \u001b[38;5;167;01mKeyError\u001b[39;00m(key) \u001b[38;5;28;01mfrom\u001b[39;00m \u001b[38;5;21;01merr\u001b[39;00m\n\u001b[0;32m   3805\u001b[0m \u001b[38;5;28;01mexcept\u001b[39;00m \u001b[38;5;167;01mTypeError\u001b[39;00m:\n\u001b[0;32m   3806\u001b[0m     \u001b[38;5;66;03m# If we have a listlike key, _check_indexing_error will raise\u001b[39;00m\n\u001b[0;32m   3807\u001b[0m     \u001b[38;5;66;03m#  InvalidIndexError. Otherwise we fall through and re-raise\u001b[39;00m\n\u001b[0;32m   3808\u001b[0m     \u001b[38;5;66;03m#  the TypeError.\u001b[39;00m\n\u001b[0;32m   3809\u001b[0m     \u001b[38;5;28mself\u001b[39m\u001b[38;5;241m.\u001b[39m_check_indexing_error(key)\n",
      "\u001b[1;31mKeyError\u001b[0m: 'state'"
     ]
    }
   ],
   "source": [
    "for_sale_df = realtor_data_df"
   ]
  },
  {
   "cell_type": "code",
   "execution_count": null,
   "id": "aeefc3c3",
   "metadata": {},
   "outputs": [],
   "source": [
    "for_sale_df[\"zip_code_str\"] = '0'+ for_sale_df[\"zip_code\"].apply(int).apply(str)\n",
    "for_sale_df.head()"
   ]
  },
  {
   "cell_type": "code",
   "execution_count": null,
   "id": "af0dc973",
   "metadata": {},
   "outputs": [],
   "source": [
    "zipcodes = for_sale_df[\"zip_code\"]\n",
    "len(zipcodes.unique())"
   ]
  },
  {
   "cell_type": "code",
   "execution_count": null,
   "id": "7846aeff",
   "metadata": {},
   "outputs": [],
   "source": [
    "# Because of its size this dataset is not saved in the code repo for this project.\n",
    "# It can be downloaded and saved in the same path to make this Notebook run.\n",
    "zip_lon_lat = pd.read_csv('../../../zip_lat_long.csv')\n",
    "zip_lon_lat.rename(columns={\"ZIP\":\"zip_code\", \"LAT\":\"latitude\", \"LNG\":\"longitude\"},inplace=True)\n",
    "zip_lon_lat.head()"
   ]
  },
  {
   "cell_type": "code",
   "execution_count": null,
   "id": "739bea9c",
   "metadata": {},
   "outputs": [],
   "source": [
    "find_zipcodes_df = zip_lon_lat[zip_lon_lat[\"zip_code\"].isin(zipcodes.unique())]\n",
    "find_zipcodes_df[\"zip_code_str\"] = \"0\"+find_zipcodes_df[\"zip_code\"].apply(str)\n",
    "find_zipcodes_df.head()"
   ]
  },
  {
   "cell_type": "code",
   "execution_count": null,
   "id": "8f35b383",
   "metadata": {},
   "outputs": [],
   "source": []
  },
  {
   "cell_type": "markdown",
   "id": "2ca2d460",
   "metadata": {},
   "source": [
    "merged_df.to_csv('zip-lon-lat.csv')"
   ]
  },
  {
   "cell_type": "markdown",
   "id": "845e3366",
   "metadata": {},
   "source": [
    "uniquezip.sort_values(0).to_csv(\"zipcodes.csv\")"
   ]
  },
  {
   "cell_type": "code",
   "execution_count": null,
   "id": "283d683e",
   "metadata": {},
   "outputs": [],
   "source": [
    "merge_df = for_sale_df.merge(find_zipcodes_df, how='outer', on='zip_code_str')\n",
    "\n",
    "merge_df.rename(columns={\"zip_code_x\":\"zip_code\"},inplace=True)\n",
    "merge_df.drop(columns=[\"zip_code_y\"],inplace=True)"
   ]
  },
  {
   "cell_type": "code",
   "execution_count": null,
   "id": "65cfc109",
   "metadata": {},
   "outputs": [],
   "source": [
    "merge_df[merge_df[\"latitude\"].isna()]"
   ]
  },
  {
   "cell_type": "code",
   "execution_count": null,
   "id": "f8a529f9",
   "metadata": {},
   "outputs": [],
   "source": [
    "# \"08218\",\"39.1386785\",\"-74.856442\""
   ]
  },
  {
   "cell_type": "code",
   "execution_count": null,
   "id": "20307491",
   "metadata": {},
   "outputs": [],
   "source": [
    "# \"08239\",\"39.1979584\",\"-74.6577965\""
   ]
  },
  {
   "cell_type": "code",
   "execution_count": null,
   "id": "a6239f51",
   "metadata": {},
   "outputs": [],
   "source": [
    "# \"08245\",\"39.1778125\",\"-74.8300693\""
   ]
  },
  {
   "cell_type": "code",
   "execution_count": null,
   "id": "83699b0c",
   "metadata": {},
   "outputs": [],
   "source": [
    "merge_df.dropna(subset=['latitude'], inplace=True)"
   ]
  },
  {
   "cell_type": "code",
   "execution_count": null,
   "id": "505fc14f",
   "metadata": {},
   "outputs": [],
   "source": [
    "merge_df.head()"
   ]
  },
  {
   "cell_type": "code",
   "execution_count": null,
   "id": "bef09f9d",
   "metadata": {},
   "outputs": [],
   "source": [
    "merge_df.to_csv(\"geocoded.csv\")"
   ]
  }
 ],
 "metadata": {
  "kernelspec": {
   "display_name": "Python 3 (ipykernel)",
   "language": "python",
   "name": "python3"
  },
  "language_info": {
   "codemirror_mode": {
    "name": "ipython",
    "version": 3
   },
   "file_extension": ".py",
   "mimetype": "text/x-python",
   "name": "python",
   "nbconvert_exporter": "python",
   "pygments_lexer": "ipython3",
   "version": "3.11.4"
  }
 },
 "nbformat": 4,
 "nbformat_minor": 5
}
