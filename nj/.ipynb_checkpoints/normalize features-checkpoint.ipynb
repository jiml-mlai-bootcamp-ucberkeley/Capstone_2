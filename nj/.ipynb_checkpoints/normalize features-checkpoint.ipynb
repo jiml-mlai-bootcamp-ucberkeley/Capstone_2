{
 "cells": [
  {
   "cell_type": "code",
   "execution_count": 1,
   "id": "2dd8f9a0",
   "metadata": {},
   "outputs": [],
   "source": [
    "from warnings import filterwarnings\n",
    "filterwarnings(\"ignore\")\n",
    "\n",
    "import pandas as pd\n",
    "import matplotlib.pyplot as plt\n",
    "from sklearn.preprocessing import StandardScaler"
   ]
  },
  {
   "cell_type": "code",
   "execution_count": 2,
   "id": "2e158a94",
   "metadata": {},
   "outputs": [],
   "source": [
    "outliers_df = pd.read_csv('outliers.csv')\n",
    "outliers_df.drop(columns=[\"Unnamed: 0\"],inplace=True)"
   ]
  },
  {
   "cell_type": "code",
   "execution_count": null,
   "id": "a1c9ed1e",
   "metadata": {},
   "outputs": [],
   "source": []
  },
  {
   "cell_type": "code",
   "execution_count": 3,
   "id": "a73dbe6d",
   "metadata": {},
   "outputs": [],
   "source": [
    "def normalizer(what):\n",
    "    data = what[\"data\"]\n",
    "    features_a = what[\"features_a\"]\n",
    "    features_n = what[\"features_n\"]\n",
    "    \n",
    "    normalized_df = pd.DataFrame()\n",
    "    \n",
    "    if len(features_n) > 0:\n",
    "        for feature in features_n:\n",
    "            not_normalized = data[feature]\n",
    "            normalized_df[feature] = (not_normalized - not_normalized.mean())/not_normalized.std()\n",
    "            #normalized_df = pd.DataFrame(normalized_data, columns=features_n)\n",
    "\n",
    "    if len(features_a) > 0:\n",
    "        for feature in features_a:\n",
    "            normalized_df[feature] = data[feature].values\n",
    "\n",
    "    return normalized_df"
   ]
  },
  {
   "cell_type": "code",
   "execution_count": null,
   "id": "fca666dc",
   "metadata": {},
   "outputs": [],
   "source": []
  },
  {
   "cell_type": "code",
   "execution_count": 17,
   "id": "f41c705b",
   "metadata": {},
   "outputs": [],
   "source": [
    "not_normalized = outliers_df[\"price\"]\n",
    "normalized_data = (not_normalized - not_normalized.mean())/not_normalized.std()"
   ]
  },
  {
   "cell_type": "code",
   "execution_count": 19,
   "id": "9b27e56b",
   "metadata": {},
   "outputs": [
    {
     "data": {
      "image/png": "[encoded data removed]",
      "text/plain": [
       "<Figure size 640x480 with 1 Axes>"
      ]
     },
     "metadata": {},
     "output_type": "display_data"
    }
   ],
   "source": [
    "plt.hist(outliers_df[\"price\"], color=\"orange\", alpha=.7)\n",
    "plt.hist(normalized_data, color=\"blue\", alpha=.7)\n",
    "plt.show()"
   ]
  },
  {
   "cell_type": "code",
   "execution_count": null,
   "id": "8e56dd50",
   "metadata": {},
   "outputs": [],
   "source": []
  },
  {
   "cell_type": "code",
   "execution_count": null,
   "id": "bba0f9f0",
   "metadata": {},
   "outputs": [],
   "source": []
  }
 ],
 "metadata": {
  "kernelspec": {
   "display_name": "Python 3 (ipykernel)",
   "language": "python",
   "name": "python3"
  },
  "language_info": {
   "codemirror_mode": {
    "name": "ipython",
    "version": 3
   },
   "file_extension": ".py",
   "mimetype": "text/x-python",
   "name": "python",
   "nbconvert_exporter": "python",
   "pygments_lexer": "ipython3",
   "version": "3.11.4"
  }
 },
 "nbformat": 4,
 "nbformat_minor": 5
}
