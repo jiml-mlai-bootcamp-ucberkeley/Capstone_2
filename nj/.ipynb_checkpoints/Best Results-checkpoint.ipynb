{
 "cells": [
  {
   "cell_type": "code",
   "execution_count": null,
   "id": "dae532e7",
   "metadata": {},
   "outputs": [],
   "source": [
    "nj_major_knn_df = pd.DataFrame({'model': ['Best Params', 'Sequential Feature Selector'],\n",
    " 'explained variance score': ['0.609768181', '0.679135631'],\n",
    " 'mae score': ['0.434423', '0.415878'],\n",
    " 'mse score': ['0.434249', '0.360250'],\n",
    " 'r2 score': ['0.609037', '0.675660'],\n",
    " 'mean fit time': [0.0018507480621337891, 0.0016693115234375]})"
   ]
  }
 ],
 "metadata": {
  "kernelspec": {
   "display_name": "Python 3 (ipykernel)",
   "language": "python",
   "name": "python3"
  },
  "language_info": {
   "codemirror_mode": {
    "name": "ipython",
    "version": 3
   },
   "file_extension": ".py",
   "mimetype": "text/x-python",
   "name": "python",
   "nbconvert_exporter": "python",
   "pygments_lexer": "ipython3",
   "version": "3.11.4"
  }
 },
 "nbformat": 4,
 "nbformat_minor": 5
}
