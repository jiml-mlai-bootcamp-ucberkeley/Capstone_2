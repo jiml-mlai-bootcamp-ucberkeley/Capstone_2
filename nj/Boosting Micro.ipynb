{
 "cells": [
  {
   "cell_type": "code",
   "execution_count": 1,
   "id": "26a257c8",
   "metadata": {},
   "outputs": [],
   "source": [
    "from warnings import filterwarnings\n",
    "filterwarnings(\"ignore\")\n",
    "\n",
    "import sys\n",
    "sys.path.append('../common')\n",
    "\n",
    "from print_more_stuff import print_more_stuff\n",
    "from regression_models import dosomething\n",
    "from preprocessing import mean_and_std\n",
    "\n",
    "import pandas as pd\n",
    "import matplotlib.pyplot as plt\n",
    "import numpy as np\n",
    "import seaborn as sns\n",
    "\n",
    "from sklearn.ensemble import AdaBoostRegressor\n",
    "from sklearn.model_selection import train_test_split, GridSearchCV"
   ]
  },
  {
   "cell_type": "code",
   "execution_count": 2,
   "id": "a2ecb96d",
   "metadata": {},
   "outputs": [],
   "source": [
    "outliers_df = pd.read_csv(\"geocoded.csv\")\n",
    "outliers_df.drop(columns=[\"Unnamed: 0\"],inplace=True)"
   ]
  },
  {
   "cell_type": "code",
   "execution_count": 3,
   "id": "52c271cd",
   "metadata": {},
   "outputs": [
    {
     "name": "stdout",
     "output_type": "stream",
     "text": [
      "<class 'pandas.core.frame.DataFrame'>\n",
      "RangeIndex: 7614 entries, 0 to 7613\n",
      "Data columns (total 12 columns):\n",
      " #   Column          Non-Null Count  Dtype  \n",
      "---  ------          --------------  -----  \n",
      " 0   Unnamed: 0.1    7614 non-null   int64  \n",
      " 1   bed             7614 non-null   float64\n",
      " 2   bath            7614 non-null   float64\n",
      " 3   acre_lot        7614 non-null   float64\n",
      " 4   zip_code        7614 non-null   float64\n",
      " 5   house_size      7614 non-null   float64\n",
      " 6   prev_sold_date  7614 non-null   object \n",
      " 7   price           7614 non-null   float64\n",
      " 8   prev_sold_year  7614 non-null   int64  \n",
      " 9   zip_code_str    7614 non-null   int64  \n",
      " 10  latitude        7614 non-null   float64\n",
      " 11  longitude       7614 non-null   float64\n",
      "dtypes: float64(8), int64(3), object(1)\n",
      "memory usage: 713.9+ KB\n"
     ]
    }
   ],
   "source": [
    "outliers_df.info()"
   ]
  },
  {
   "cell_type": "code",
   "execution_count": 4,
   "id": "9fd0276b",
   "metadata": {},
   "outputs": [
    {
     "data": {
      "text/html": [
       "<div>\n",
       "<style scoped>\n",
       "    .dataframe tbody tr th:only-of-type {\n",
       "        vertical-align: middle;\n",
       "    }\n",
       "\n",
       "    .dataframe tbody tr th {\n",
       "        vertical-align: top;\n",
       "    }\n",
       "\n",
       "    .dataframe thead th {\n",
       "        text-align: right;\n",
       "    }\n",
       "</style>\n",
       "<table border=\"1\" class=\"dataframe\">\n",
       "  <thead>\n",
       "    <tr style=\"text-align: right;\">\n",
       "      <th></th>\n",
       "      <th>Unnamed: 0.1</th>\n",
       "      <th>bed</th>\n",
       "      <th>bath</th>\n",
       "      <th>acre_lot</th>\n",
       "      <th>zip_code</th>\n",
       "      <th>house_size</th>\n",
       "      <th>prev_sold_date</th>\n",
       "      <th>price</th>\n",
       "      <th>prev_sold_year</th>\n",
       "      <th>zip_code_str</th>\n",
       "      <th>latitude</th>\n",
       "      <th>longitude</th>\n",
       "    </tr>\n",
       "  </thead>\n",
       "  <tbody>\n",
       "    <tr>\n",
       "      <th>0</th>\n",
       "      <td>0</td>\n",
       "      <td>3.0</td>\n",
       "      <td>2.0</td>\n",
       "      <td>0.14</td>\n",
       "      <td>7001.0</td>\n",
       "      <td>1542.0</td>\n",
       "      <td>2022-01-27</td>\n",
       "      <td>305100.0</td>\n",
       "      <td>2022</td>\n",
       "      <td>7001</td>\n",
       "      <td>40.582316</td>\n",
       "      <td>-74.271506</td>\n",
       "    </tr>\n",
       "    <tr>\n",
       "      <th>1</th>\n",
       "      <td>1</td>\n",
       "      <td>3.0</td>\n",
       "      <td>2.0</td>\n",
       "      <td>0.11</td>\n",
       "      <td>7001.0</td>\n",
       "      <td>1500.0</td>\n",
       "      <td>2016-12-21</td>\n",
       "      <td>479000.0</td>\n",
       "      <td>2016</td>\n",
       "      <td>7001</td>\n",
       "      <td>40.582316</td>\n",
       "      <td>-74.271506</td>\n",
       "    </tr>\n",
       "    <tr>\n",
       "      <th>2</th>\n",
       "      <td>2</td>\n",
       "      <td>3.0</td>\n",
       "      <td>2.0</td>\n",
       "      <td>0.17</td>\n",
       "      <td>7001.0</td>\n",
       "      <td>7501.0</td>\n",
       "      <td>2021-11-01</td>\n",
       "      <td>340000.0</td>\n",
       "      <td>2021</td>\n",
       "      <td>7001</td>\n",
       "      <td>40.582316</td>\n",
       "      <td>-74.271506</td>\n",
       "    </tr>\n",
       "    <tr>\n",
       "      <th>3</th>\n",
       "      <td>3</td>\n",
       "      <td>5.0</td>\n",
       "      <td>2.0</td>\n",
       "      <td>0.18</td>\n",
       "      <td>7001.0</td>\n",
       "      <td>1387.0</td>\n",
       "      <td>2020-12-22</td>\n",
       "      <td>484000.0</td>\n",
       "      <td>2020</td>\n",
       "      <td>7001</td>\n",
       "      <td>40.582316</td>\n",
       "      <td>-74.271506</td>\n",
       "    </tr>\n",
       "    <tr>\n",
       "      <th>4</th>\n",
       "      <td>4</td>\n",
       "      <td>3.0</td>\n",
       "      <td>2.0</td>\n",
       "      <td>0.17</td>\n",
       "      <td>7001.0</td>\n",
       "      <td>1500.0</td>\n",
       "      <td>2019-05-28</td>\n",
       "      <td>425000.0</td>\n",
       "      <td>2019</td>\n",
       "      <td>7001</td>\n",
       "      <td>40.582316</td>\n",
       "      <td>-74.271506</td>\n",
       "    </tr>\n",
       "  </tbody>\n",
       "</table>\n",
       "</div>"
      ],
      "text/plain": [
       "   Unnamed: 0.1  bed  bath  acre_lot  zip_code  house_size prev_sold_date  \\\n",
       "0             0  3.0   2.0      0.14    7001.0      1542.0     2022-01-27   \n",
       "1             1  3.0   2.0      0.11    7001.0      1500.0     2016-12-21   \n",
       "2             2  3.0   2.0      0.17    7001.0      7501.0     2021-11-01   \n",
       "3             3  5.0   2.0      0.18    7001.0      1387.0     2020-12-22   \n",
       "4             4  3.0   2.0      0.17    7001.0      1500.0     2019-05-28   \n",
       "\n",
       "      price  prev_sold_year  zip_code_str   latitude  longitude  \n",
       "0  305100.0            2022          7001  40.582316 -74.271506  \n",
       "1  479000.0            2016          7001  40.582316 -74.271506  \n",
       "2  340000.0            2021          7001  40.582316 -74.271506  \n",
       "3  484000.0            2020          7001  40.582316 -74.271506  \n",
       "4  425000.0            2019          7001  40.582316 -74.271506  "
      ]
     },
     "execution_count": 4,
     "metadata": {},
     "output_type": "execute_result"
    }
   ],
   "source": [
    "outliers_df.head()"
   ]
  },
  {
   "cell_type": "code",
   "execution_count": null,
   "id": "a1cd07cf",
   "metadata": {},
   "outputs": [],
   "source": []
  },
  {
   "cell_type": "code",
   "execution_count": 5,
   "id": "8529828b",
   "metadata": {},
   "outputs": [
    {
     "data": {
      "text/plain": [
       "8260.0"
      ]
     },
     "execution_count": 5,
     "metadata": {},
     "output_type": "execute_result"
    }
   ],
   "source": [
    "groupby_zipcode = outliers_df.groupby([\"zip_code\"])[\"zip_code\"].count().sort_values(ascending=False)\n",
    "groupby_zipcode_df = pd.DataFrame(groupby_zipcode).rename(columns={\"zip_code\":\"count\"}).reset_index()\n",
    "first_zipcode = groupby_zipcode_df.iloc[0][\"zip_code\"]\n",
    "first_zipcode"
   ]
  },
  {
   "cell_type": "code",
   "execution_count": 6,
   "id": "8f474896",
   "metadata": {},
   "outputs": [],
   "source": [
    "one_zipcode_df = outliers_df[outliers_df[\"zip_code\"].isin([first_zipcode])]"
   ]
  },
  {
   "cell_type": "code",
   "execution_count": 7,
   "id": "4377d8f4",
   "metadata": {},
   "outputs": [
    {
     "name": "stdout",
     "output_type": "stream",
     "text": [
      "<class 'pandas.core.frame.DataFrame'>\n",
      "Int64Index: 183 entries, 7066 to 7248\n",
      "Data columns (total 12 columns):\n",
      " #   Column          Non-Null Count  Dtype  \n",
      "---  ------          --------------  -----  \n",
      " 0   Unnamed: 0.1    183 non-null    int64  \n",
      " 1   bed             183 non-null    float64\n",
      " 2   bath            183 non-null    float64\n",
      " 3   acre_lot        183 non-null    float64\n",
      " 4   zip_code        183 non-null    float64\n",
      " 5   house_size      183 non-null    float64\n",
      " 6   prev_sold_date  183 non-null    object \n",
      " 7   price           183 non-null    float64\n",
      " 8   prev_sold_year  183 non-null    int64  \n",
      " 9   zip_code_str    183 non-null    int64  \n",
      " 10  latitude        183 non-null    float64\n",
      " 11  longitude       183 non-null    float64\n",
      "dtypes: float64(8), int64(3), object(1)\n",
      "memory usage: 18.6+ KB\n"
     ]
    }
   ],
   "source": [
    "one_zipcode_df.info()"
   ]
  },
  {
   "cell_type": "code",
   "execution_count": null,
   "id": "aeb34fa4",
   "metadata": {},
   "outputs": [],
   "source": []
  },
  {
   "cell_type": "code",
   "execution_count": 8,
   "id": "d801b217",
   "metadata": {},
   "outputs": [
    {
     "data": {
      "text/html": [
       "<div>\n",
       "<style scoped>\n",
       "    .dataframe tbody tr th:only-of-type {\n",
       "        vertical-align: middle;\n",
       "    }\n",
       "\n",
       "    .dataframe tbody tr th {\n",
       "        vertical-align: top;\n",
       "    }\n",
       "\n",
       "    .dataframe thead th {\n",
       "        text-align: right;\n",
       "    }\n",
       "</style>\n",
       "<table border=\"1\" class=\"dataframe\">\n",
       "  <thead>\n",
       "    <tr style=\"text-align: right;\">\n",
       "      <th></th>\n",
       "      <th>bed</th>\n",
       "      <th>bath</th>\n",
       "      <th>acre_lot</th>\n",
       "      <th>house_size</th>\n",
       "      <th>price</th>\n",
       "      <th>prev_sold_year</th>\n",
       "      <th>latitude</th>\n",
       "      <th>longitude</th>\n",
       "      <th>zip_code</th>\n",
       "    </tr>\n",
       "  </thead>\n",
       "  <tbody>\n",
       "    <tr>\n",
       "      <th>7244</th>\n",
       "      <td>-0.82102</td>\n",
       "      <td>-1.083472</td>\n",
       "      <td>0.216191</td>\n",
       "      <td>-1.368403</td>\n",
       "      <td>-0.931623</td>\n",
       "      <td>2018</td>\n",
       "      <td>38.998468</td>\n",
       "      <td>-74.843447</td>\n",
       "      <td>8260.0</td>\n",
       "    </tr>\n",
       "    <tr>\n",
       "      <th>7245</th>\n",
       "      <td>-0.82102</td>\n",
       "      <td>-1.083472</td>\n",
       "      <td>0.216191</td>\n",
       "      <td>-1.625842</td>\n",
       "      <td>-0.993673</td>\n",
       "      <td>2022</td>\n",
       "      <td>38.998468</td>\n",
       "      <td>-74.843447</td>\n",
       "      <td>8260.0</td>\n",
       "    </tr>\n",
       "    <tr>\n",
       "      <th>7246</th>\n",
       "      <td>-1.64204</td>\n",
       "      <td>-1.083472</td>\n",
       "      <td>0.216191</td>\n",
       "      <td>0.080097</td>\n",
       "      <td>-0.993363</td>\n",
       "      <td>2022</td>\n",
       "      <td>38.998468</td>\n",
       "      <td>-74.843447</td>\n",
       "      <td>8260.0</td>\n",
       "    </tr>\n",
       "    <tr>\n",
       "      <th>7247</th>\n",
       "      <td>0.82102</td>\n",
       "      <td>0.710875</td>\n",
       "      <td>0.216191</td>\n",
       "      <td>0.080097</td>\n",
       "      <td>0.448989</td>\n",
       "      <td>2022</td>\n",
       "      <td>38.998468</td>\n",
       "      <td>-74.843447</td>\n",
       "      <td>8260.0</td>\n",
       "    </tr>\n",
       "    <tr>\n",
       "      <th>7248</th>\n",
       "      <td>-0.82102</td>\n",
       "      <td>-0.186298</td>\n",
       "      <td>0.216191</td>\n",
       "      <td>0.075209</td>\n",
       "      <td>-0.373173</td>\n",
       "      <td>2017</td>\n",
       "      <td>38.998468</td>\n",
       "      <td>-74.843447</td>\n",
       "      <td>8260.0</td>\n",
       "    </tr>\n",
       "  </tbody>\n",
       "</table>\n",
       "</div>"
      ],
      "text/plain": [
       "          bed      bath  acre_lot  house_size     price  prev_sold_year  \\\n",
       "7244 -0.82102 -1.083472  0.216191   -1.368403 -0.931623            2018   \n",
       "7245 -0.82102 -1.083472  0.216191   -1.625842 -0.993673            2022   \n",
       "7246 -1.64204 -1.083472  0.216191    0.080097 -0.993363            2022   \n",
       "7247  0.82102  0.710875  0.216191    0.080097  0.448989            2022   \n",
       "7248 -0.82102 -0.186298  0.216191    0.075209 -0.373173            2017   \n",
       "\n",
       "       latitude  longitude  zip_code  \n",
       "7244  38.998468 -74.843447    8260.0  \n",
       "7245  38.998468 -74.843447    8260.0  \n",
       "7246  38.998468 -74.843447    8260.0  \n",
       "7247  38.998468 -74.843447    8260.0  \n",
       "7248  38.998468 -74.843447    8260.0  "
      ]
     },
     "execution_count": 8,
     "metadata": {},
     "output_type": "execute_result"
    }
   ],
   "source": [
    "params = {\n",
    "    \"data\":one_zipcode_df,\n",
    "    \"features_a\":[\"prev_sold_year\",\"latitude\",\"longitude\",\"zip_code\"],\n",
    "    \"features_n\":[\"bed\",\"bath\",\"acre_lot\",\"house_size\",\"price\"]\n",
    "}\n",
    "normalize_df = mean_and_std(params)\n",
    "normalize_df.tail()"
   ]
  },
  {
   "cell_type": "code",
   "execution_count": 9,
   "id": "91c222ef",
   "metadata": {},
   "outputs": [
    {
     "data": {
      "text/plain": [
       "acre_lot         -0.022765\n",
       "bed               0.643951\n",
       "bath              0.801066\n",
       "house_size        0.669718\n",
       "prev_sold_year   -0.056514\n",
       "price             1.000000\n",
       "Name: price, dtype: float64"
      ]
     },
     "execution_count": 9,
     "metadata": {},
     "output_type": "execute_result"
    }
   ],
   "source": [
    "correlation = normalize_df[[\"acre_lot\",\"bed\",\"bath\",\"house_size\",\"prev_sold_year\",\"price\"]].corr()\n",
    "correlation[\"price\"]"
   ]
  },
  {
   "cell_type": "code",
   "execution_count": 10,
   "id": "1f97ba90",
   "metadata": {},
   "outputs": [
    {
     "data": {
      "text/plain": [
       "Text(0.5, 1.0, 'Correlation Between Variables')"
      ]
     },
     "execution_count": 10,
     "metadata": {},
     "output_type": "execute_result"
    },
    {
     "data": {
      "image/png": "[encoded data removed]",
      "text/plain": [
       "<Figure size 640x480 with 2 Axes>"
      ]
     },
     "metadata": {},
     "output_type": "display_data"
    }
   ],
   "source": [
    "sns.heatmap(correlation, vmin=-1, vmax=1, cmap = 'coolwarm', annot=True, fmt='.2f', linewidths=0.1)\n",
    "plt.title(\"Correlation Between Variables\", pad=20)"
   ]
  },
  {
   "cell_type": "code",
   "execution_count": 11,
   "id": "9b769506",
   "metadata": {},
   "outputs": [
    {
     "name": "stdout",
     "output_type": "stream",
     "text": [
      "['latitude', 'longitude', 'bed', 'bath', 'house_size']\n"
     ]
    }
   ],
   "source": [
    "'''\n",
    "'''\n",
    "savefeatures = [\"latitude\",\"longitude\"]\n",
    "for feature, value in correlation[\"price\"].items():\n",
    "    if abs(value) < 0.81 and abs(value) >= 0.20:\n",
    "        savefeatures.append(feature)\n",
    "\n",
    "print(savefeatures)"
   ]
  },
  {
   "cell_type": "code",
   "execution_count": null,
   "id": "d83b5af5",
   "metadata": {},
   "outputs": [],
   "source": []
  },
  {
   "cell_type": "code",
   "execution_count": 12,
   "id": "d8dcd46e",
   "metadata": {},
   "outputs": [],
   "source": [
    "#features = [\"latitude\",\"longitude\",\"bed\",\"bath\",\"house_size\"]\n",
    "features = savefeatures\n",
    "num_features_to_select = len(features)-1\n",
    "random_state_value = 42"
   ]
  },
  {
   "cell_type": "code",
   "execution_count": 13,
   "id": "b3d6ac49",
   "metadata": {},
   "outputs": [],
   "source": [
    "X = normalize_df[savefeatures]\n",
    "y = normalize_df[\"price\"]\n",
    "X_train, X_test, y_train, y_test = train_test_split(X, y, test_size=0.3, random_state=random_state_value)"
   ]
  },
  {
   "cell_type": "code",
   "execution_count": null,
   "id": "9a3835ce",
   "metadata": {},
   "outputs": [],
   "source": []
  },
  {
   "cell_type": "code",
   "execution_count": 14,
   "id": "05c888c7",
   "metadata": {},
   "outputs": [],
   "source": [
    "results_dict = {\"model\":[], \"explained variance score\":[],\"mae score\":[],\"mse score\":[],\"r2 score\":[], \"mean fit time\":[]}"
   ]
  },
  {
   "cell_type": "code",
   "execution_count": 15,
   "id": "1b7c29e9",
   "metadata": {},
   "outputs": [],
   "source": [
    "def results_dict_append(rtnval):\n",
    "    results_dict[\"model\"].append(rtnval[\"model\"])\n",
    "    results_dict[\"explained variance score\"].append(rtnval[\"explained variance score\"])\n",
    "    results_dict[\"mae score\"].append(rtnval[\"mae score\"])\n",
    "    results_dict[\"mse score\"].append(rtnval[\"mse score\"])\n",
    "    results_dict[\"r2 score\"].append(rtnval[\"r2 score\"])\n",
    "    results_dict[\"mean fit time\"].append(rtnval[\"mean fit time\"])"
   ]
  },
  {
   "cell_type": "code",
   "execution_count": null,
   "id": "6dc74098",
   "metadata": {},
   "outputs": [],
   "source": []
  },
  {
   "cell_type": "code",
   "execution_count": 16,
   "id": "08435cb6",
   "metadata": {},
   "outputs": [
    {
     "name": "stdout",
     "output_type": "stream",
     "text": [
      "The selected features are: ['latitude', 'longitude', 'bed', 'bath', 'house_size']\n",
      "Best Params EVS = 0.550121134\n",
      "Best Params MSE = 0.503936\n",
      "Best Params MAE = 0.491743\n",
      "Best Params R2 = 0.546297\n",
      "Best Params Fit Time = 0.009407854080200196\n"
     ]
    }
   ],
   "source": [
    "adaboost = dosomething(\"Ada Boost\",\"Best Params\", normalize_df, features, \"price\")\n",
    "results_dict_append(adaboost[\"results\"])\n",
    "adaboost_predict = adaboost[\"predictions\"]"
   ]
  },
  {
   "cell_type": "code",
   "execution_count": null,
   "id": "835a38c4",
   "metadata": {},
   "outputs": [],
   "source": []
  },
  {
   "cell_type": "code",
   "execution_count": 17,
   "id": "69e73ea0",
   "metadata": {},
   "outputs": [
    {
     "name": "stdout",
     "output_type": "stream",
     "text": [
      "The selected features are: ['latitude', 'longitude', 'bed', 'bath', 'house_size']\n",
      "Best Params EVS = 0.632895715\n",
      "Best Params MSE = 0.407782\n",
      "Best Params MAE = 0.441303\n",
      "Best Params R2 = 0.632867\n",
      "Best Params Fit Time = 0.026487159729003906\n"
     ]
    }
   ],
   "source": [
    "gbr = dosomething(\"Gradient Boosting\",\"Best Params\", normalize_df, features, \"price\")\n",
    "results_dict_append(gbr[\"results\"])\n",
    "gbr_predict = gbr[\"predictions\"]"
   ]
  },
  {
   "cell_type": "code",
   "execution_count": null,
   "id": "a4ad5b69",
   "metadata": {},
   "outputs": [],
   "source": []
  },
  {
   "cell_type": "code",
   "execution_count": 18,
   "id": "a5b34817",
   "metadata": {},
   "outputs": [
    {
     "name": "stdout",
     "output_type": "stream",
     "text": [
      "The selected features are: ['latitude', 'longitude', 'bed', 'bath', 'house_size']\n",
      "Best Params EVS = 0.543123573\n",
      "Best Params MSE = 0.510044\n",
      "Best Params MAE = 0.480300\n",
      "Best Params R2 = 0.540798\n",
      "Best Params Fit Time = 0.08525576591491699\n"
     ]
    }
   ],
   "source": [
    "histgbr = dosomething(\"Hist Gradient Boosting\",\"Best Params\", normalize_df, features, \"price\")\n",
    "results_dict_append(histgbr[\"results\"])\n",
    "histgbr_predict = histgbr[\"predictions\"]"
   ]
  },
  {
   "cell_type": "code",
   "execution_count": null,
   "id": "50fbd603",
   "metadata": {},
   "outputs": [],
   "source": []
  },
  {
   "cell_type": "code",
   "execution_count": 19,
   "id": "39bec0ff",
   "metadata": {},
   "outputs": [
    {
     "name": "stdout",
     "output_type": "stream",
     "text": [
      "The selected features are: ['latitude', 'longitude', 'bed', 'bath', 'house_size']\n",
      "Best Params EVS = 0.652750514\n",
      "Best Params MSE = 0.387432\n",
      "Best Params MAE = 0.421347\n",
      "Best Params R2 = 0.651187\n",
      "Best Params Fit Time = 0.07579445838928223\n"
     ]
    }
   ],
   "source": [
    "rf = dosomething(\"Random Forest\",\"Best Params\", normalize_df, features, \"price\")\n",
    "results_dict_append(rf[\"results\"])\n",
    "rf_predict = rf[\"predictions\"]"
   ]
  },
  {
   "cell_type": "code",
   "execution_count": null,
   "id": "2d58af4c",
   "metadata": {},
   "outputs": [],
   "source": []
  },
  {
   "cell_type": "code",
   "execution_count": 20,
   "id": "052290d6",
   "metadata": {},
   "outputs": [],
   "source": [
    "adaboost_predict_df = pd.DataFrame(adaboost_predict).reset_index()\n",
    "adaboost_predict_df.rename(columns={0: \"prediction\"},inplace=True)\n",
    "\n",
    "gbr_predict_df = pd.DataFrame(gbr_predict).reset_index()\n",
    "gbr_predict_df.rename(columns={0: \"prediction\"},inplace=True)\n",
    "\n",
    "rf_predict_df = pd.DataFrame(rf_predict).reset_index()\n",
    "rf_predict_df.rename(columns={0: \"prediction\"},inplace=True)\n",
    "\n",
    "histgbr_predict_df = pd.DataFrame(histgbr_predict).reset_index()\n",
    "histgbr_predict_df.rename(columns={0: \"prediction\"},inplace=True)\n",
    "\n",
    "y_test_df = pd.DataFrame(y_test).reset_index()"
   ]
  },
  {
   "cell_type": "code",
   "execution_count": 21,
   "id": "7fee38a1",
   "metadata": {},
   "outputs": [
    {
     "data": {
      "image/png": "[encoded data removed]",
      "text/plain": [
       "<Figure size 1000x600 with 1 Axes>"
      ]
     },
     "metadata": {},
     "output_type": "display_data"
    }
   ],
   "source": [
    "fig, ax = plt.subplots(figsize=(10, 6))\n",
    "\n",
    "ax.ticklabel_format(style='plain')\n",
    "ax.yaxis.set_major_formatter('${x:1,.0f}')\n",
    "ax.xaxis.set_major_formatter(' ')\n",
    "\n",
    "plt.scatter(y_test_df.index,y_test_df[\"price\"], color=\"red\")\n",
    "plt.scatter(gbr_predict_df.index,gbr_predict_df[\"prediction\"], color=\"blue\")\n",
    "plt.scatter(histgbr_predict_df.index,histgbr_predict_df[\"prediction\"], color=\"green\")\n",
    "#plt.scatter(adaboost_predict_df.index,adaboost_predict_df[\"prediction\"], color=\"black\")\n",
    "#plt.scatter(rf_predict_df.index,rf_predict_df[\"prediction\"], color=\"black\")\n",
    "plt.show()"
   ]
  },
  {
   "cell_type": "code",
   "execution_count": null,
   "id": "eb4fc48f",
   "metadata": {},
   "outputs": [],
   "source": []
  },
  {
   "cell_type": "code",
   "execution_count": 22,
   "id": "5236bcb3",
   "metadata": {},
   "outputs": [
    {
     "data": {
      "text/plain": [
       "{'model': ['Best Params', 'Best Params', 'Best Params', 'Best Params'],\n",
       " 'explained variance score': ['0.550121134',\n",
       "  '0.632895715',\n",
       "  '0.543123573',\n",
       "  '0.652750514'],\n",
       " 'mae score': ['0.491743', '0.441303', '0.480300', '0.421347'],\n",
       " 'mse score': ['0.503936', '0.407782', '0.510044', '0.387432'],\n",
       " 'r2 score': ['0.546297', '0.632867', '0.540798', '0.651187'],\n",
       " 'mean fit time': [0.009407854080200196,\n",
       "  0.026487159729003906,\n",
       "  0.08525576591491699,\n",
       "  0.07579445838928223]}"
      ]
     },
     "execution_count": 22,
     "metadata": {},
     "output_type": "execute_result"
    }
   ],
   "source": [
    "results_dict"
   ]
  },
  {
   "cell_type": "code",
   "execution_count": 23,
   "id": "f0ee20f8",
   "metadata": {},
   "outputs": [
    {
     "data": {
      "text/html": [
       "<div>\n",
       "<style scoped>\n",
       "    .dataframe tbody tr th:only-of-type {\n",
       "        vertical-align: middle;\n",
       "    }\n",
       "\n",
       "    .dataframe tbody tr th {\n",
       "        vertical-align: top;\n",
       "    }\n",
       "\n",
       "    .dataframe thead th {\n",
       "        text-align: right;\n",
       "    }\n",
       "</style>\n",
       "<table border=\"1\" class=\"dataframe\">\n",
       "  <thead>\n",
       "    <tr style=\"text-align: right;\">\n",
       "      <th></th>\n",
       "      <th>explained variance score</th>\n",
       "      <th>mae score</th>\n",
       "      <th>mse score</th>\n",
       "      <th>r2 score</th>\n",
       "      <th>mean fit time</th>\n",
       "    </tr>\n",
       "    <tr>\n",
       "      <th>model</th>\n",
       "      <th></th>\n",
       "      <th></th>\n",
       "      <th></th>\n",
       "      <th></th>\n",
       "      <th></th>\n",
       "    </tr>\n",
       "  </thead>\n",
       "  <tbody>\n",
       "    <tr>\n",
       "      <th>Best Params</th>\n",
       "      <td>0.550121134</td>\n",
       "      <td>0.491743</td>\n",
       "      <td>0.503936</td>\n",
       "      <td>0.546297</td>\n",
       "      <td>0.009408</td>\n",
       "    </tr>\n",
       "    <tr>\n",
       "      <th>Best Params</th>\n",
       "      <td>0.632895715</td>\n",
       "      <td>0.441303</td>\n",
       "      <td>0.407782</td>\n",
       "      <td>0.632867</td>\n",
       "      <td>0.026487</td>\n",
       "    </tr>\n",
       "    <tr>\n",
       "      <th>Best Params</th>\n",
       "      <td>0.543123573</td>\n",
       "      <td>0.480300</td>\n",
       "      <td>0.510044</td>\n",
       "      <td>0.540798</td>\n",
       "      <td>0.085256</td>\n",
       "    </tr>\n",
       "    <tr>\n",
       "      <th>Best Params</th>\n",
       "      <td>0.652750514</td>\n",
       "      <td>0.421347</td>\n",
       "      <td>0.387432</td>\n",
       "      <td>0.651187</td>\n",
       "      <td>0.075794</td>\n",
       "    </tr>\n",
       "  </tbody>\n",
       "</table>\n",
       "</div>"
      ],
      "text/plain": [
       "            explained variance score mae score mse score  r2 score  \\\n",
       "model                                                                \n",
       "Best Params              0.550121134  0.491743  0.503936  0.546297   \n",
       "Best Params              0.632895715  0.441303  0.407782  0.632867   \n",
       "Best Params              0.543123573  0.480300  0.510044  0.540798   \n",
       "Best Params              0.652750514  0.421347  0.387432  0.651187   \n",
       "\n",
       "             mean fit time  \n",
       "model                       \n",
       "Best Params       0.009408  \n",
       "Best Params       0.026487  \n",
       "Best Params       0.085256  \n",
       "Best Params       0.075794  "
      ]
     },
     "execution_count": 23,
     "metadata": {},
     "output_type": "execute_result"
    }
   ],
   "source": [
    "model_comparisons = pd.DataFrame(results_dict).set_index('model')\n",
    "model_comparisons"
   ]
  },
  {
   "cell_type": "code",
   "execution_count": null,
   "id": "547489fb",
   "metadata": {},
   "outputs": [],
   "source": []
  }
 ],
 "metadata": {
  "kernelspec": {
   "display_name": "Python 3 (ipykernel)",
   "language": "python",
   "name": "python3"
  },
  "language_info": {
   "codemirror_mode": {
    "name": "ipython",
    "version": 3
   },
   "file_extension": ".py",
   "mimetype": "text/x-python",
   "name": "python",
   "nbconvert_exporter": "python",
   "pygments_lexer": "ipython3",
   "version": "3.11.4"
  }
 },
 "nbformat": 4,
 "nbformat_minor": 5
}
