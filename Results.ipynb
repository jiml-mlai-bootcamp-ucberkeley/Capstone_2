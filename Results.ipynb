{
 "cells": [
  {
   "cell_type": "code",
   "execution_count": null,
   "id": "ed78166a",
   "metadata": {},
   "outputs": [],
   "source": [
    "import pandas as pd"
   ]
  },
  {
   "cell_type": "code",
   "execution_count": null,
   "id": "8f4f8fa0",
   "metadata": {},
   "outputs": [],
   "source": [
    "boosting_df = pd.DataFrame()"
   ]
  },
  {
   "cell_type": "code",
   "execution_count": null,
   "id": "44d872fe",
   "metadata": {},
   "outputs": [],
   "source": [
    "decision_tree_df = pd.DataFrame()"
   ]
  },
  {
   "cell_type": "code",
   "execution_count": null,
   "id": "9e1fe42a",
   "metadata": {},
   "outputs": [],
   "source": [
    "knn_df = pd.DataFrame()"
   ]
  },
  {
   "cell_type": "code",
   "execution_count": null,
   "id": "871393b8",
   "metadata": {},
   "outputs": [],
   "source": [
    "lasso_df = pd.DataFrame()"
   ]
  },
  {
   "cell_type": "code",
   "execution_count": null,
   "id": "e86f3edc",
   "metadata": {},
   "outputs": [],
   "source": [
    "linear_df = pd.DataFrame()"
   ]
  },
  {
   "cell_type": "code",
   "execution_count": null,
   "id": "534688c7",
   "metadata": {},
   "outputs": [],
   "source": [
    "ridge_df = pd.DataFrame()"
   ]
  },
  {
   "cell_type": "code",
   "execution_count": null,
   "id": "f4b71309",
   "metadata": {},
   "outputs": [],
   "source": []
  },
  {
   "cell_type": "code",
   "execution_count": null,
   "id": "93254d71",
   "metadata": {},
   "outputs": [],
   "source": [
    "boosting_df"
   ]
  },
  {
   "cell_type": "code",
   "execution_count": null,
   "id": "be3ff6a3",
   "metadata": {},
   "outputs": [],
   "source": [
    "decision_tree_df"
   ]
  },
  {
   "cell_type": "code",
   "execution_count": null,
   "id": "af9b660b",
   "metadata": {},
   "outputs": [],
   "source": [
    "knn_df"
   ]
  },
  {
   "cell_type": "code",
   "execution_count": null,
   "id": "add57c96",
   "metadata": {},
   "outputs": [],
   "source": [
    "lasso_df"
   ]
  },
  {
   "cell_type": "code",
   "execution_count": null,
   "id": "ce5c625e",
   "metadata": {},
   "outputs": [],
   "source": [
    "linear_df"
   ]
  },
  {
   "cell_type": "code",
   "execution_count": null,
   "id": "7cd9d7f8",
   "metadata": {},
   "outputs": [],
   "source": [
    "ridge_df"
   ]
  }
 ],
 "metadata": {
  "kernelspec": {
   "display_name": "Python 3 (ipykernel)",
   "language": "python",
   "name": "python3"
  },
  "language_info": {
   "codemirror_mode": {
    "name": "ipython",
    "version": 3
   },
   "file_extension": ".py",
   "mimetype": "text/x-python",
   "name": "python",
   "nbconvert_exporter": "python",
   "pygments_lexer": "ipython3",
   "version": "3.11.4"
  }
 },
 "nbformat": 4,
 "nbformat_minor": 5
}
