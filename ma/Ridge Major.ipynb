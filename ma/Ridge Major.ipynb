{
 "cells": [
  {
   "cell_type": "markdown",
   "id": "760924d5",
   "metadata": {},
   "source": [
    "### Ridge regression addresses some of the problems of Ordinary Least Squares by imposing a penalty on the size of the coefficients. The ridge coefficients minimize a penalized residual sum of squares"
   ]
  },
  {
   "cell_type": "code",
   "execution_count": 1,
   "id": "6703d5d1",
   "metadata": {},
   "outputs": [],
   "source": [
    "from warnings import filterwarnings\n",
    "filterwarnings(\"ignore\")\n",
    "\n",
    "import sys\n",
    "sys.path.append('../common')\n",
    "\n",
    "from print_more_stuff import print_more_stuff\n",
    "from preprocessing import mean_and_std\n",
    "from regression_models import dosomething\n",
    "\n",
    "import pandas as pd\n",
    "import matplotlib.pyplot as plt\n",
    "import numpy as np\n",
    "import seaborn as sns\n",
    "\n",
    "from sklearn.linear_model import Ridge\n",
    "from sklearn.model_selection import train_test_split, cross_val_score, GridSearchCV"
   ]
  },
  {
   "cell_type": "code",
   "execution_count": 2,
   "id": "e76f44b1",
   "metadata": {},
   "outputs": [],
   "source": [
    "outliers_df = pd.read_csv('geocoded.csv')\n",
    "outliers_df.drop(columns=[\"Unnamed: 0\"],inplace=True)"
   ]
  },
  {
   "cell_type": "code",
   "execution_count": 3,
   "id": "3a3b5d51",
   "metadata": {},
   "outputs": [
    {
     "name": "stdout",
     "output_type": "stream",
     "text": [
      "<class 'pandas.core.frame.DataFrame'>\n",
      "RangeIndex: 459 entries, 0 to 458\n",
      "Data columns (total 13 columns):\n",
      " #   Column          Non-Null Count  Dtype  \n",
      "---  ------          --------------  -----  \n",
      " 0   Unnamed: 0.1    459 non-null    int64  \n",
      " 1   bed             459 non-null    float64\n",
      " 2   bath            459 non-null    float64\n",
      " 3   acre_lot        459 non-null    float64\n",
      " 4   zip_code        459 non-null    float64\n",
      " 5   house_size      459 non-null    float64\n",
      " 6   prev_sold_date  459 non-null    object \n",
      " 7   price           459 non-null    float64\n",
      " 8   prev_sold_year  459 non-null    int64  \n",
      " 9   zip_code_str    459 non-null    int64  \n",
      " 10  latitude        459 non-null    float64\n",
      " 11  longitude       459 non-null    float64\n",
      " 12  county          459 non-null    int64  \n",
      "dtypes: float64(8), int64(4), object(1)\n",
      "memory usage: 46.7+ KB\n"
     ]
    }
   ],
   "source": [
    "outliers_df.info()"
   ]
  },
  {
   "cell_type": "markdown",
   "id": "7ad0a7e7",
   "metadata": {},
   "source": [
    "#### Create an object to pass to the function that will normalize the data"
   ]
  },
  {
   "cell_type": "code",
   "execution_count": 4,
   "id": "4a65123a",
   "metadata": {},
   "outputs": [
    {
     "data": {
      "text/html": [
       "<div>\n",
       "<style scoped>\n",
       "    .dataframe tbody tr th:only-of-type {\n",
       "        vertical-align: middle;\n",
       "    }\n",
       "\n",
       "    .dataframe tbody tr th {\n",
       "        vertical-align: top;\n",
       "    }\n",
       "\n",
       "    .dataframe thead th {\n",
       "        text-align: right;\n",
       "    }\n",
       "</style>\n",
       "<table border=\"1\" class=\"dataframe\">\n",
       "  <thead>\n",
       "    <tr style=\"text-align: right;\">\n",
       "      <th></th>\n",
       "      <th>bed</th>\n",
       "      <th>bath</th>\n",
       "      <th>acre_lot</th>\n",
       "      <th>house_size</th>\n",
       "      <th>price</th>\n",
       "      <th>prev_sold_year</th>\n",
       "      <th>zip_code</th>\n",
       "      <th>latitude</th>\n",
       "      <th>longitude</th>\n",
       "    </tr>\n",
       "  </thead>\n",
       "  <tbody>\n",
       "    <tr>\n",
       "      <th>454</th>\n",
       "      <td>-1.439025</td>\n",
       "      <td>-1.091234</td>\n",
       "      <td>-0.255881</td>\n",
       "      <td>-1.626991</td>\n",
       "      <td>-0.404191</td>\n",
       "      <td>2019</td>\n",
       "      <td>2657.0</td>\n",
       "      <td>42.059829</td>\n",
       "      <td>-70.200407</td>\n",
       "    </tr>\n",
       "    <tr>\n",
       "      <th>455</th>\n",
       "      <td>-0.341828</td>\n",
       "      <td>-1.091234</td>\n",
       "      <td>-0.255881</td>\n",
       "      <td>-1.415688</td>\n",
       "      <td>-0.219714</td>\n",
       "      <td>2021</td>\n",
       "      <td>2657.0</td>\n",
       "      <td>42.059829</td>\n",
       "      <td>-70.200407</td>\n",
       "    </tr>\n",
       "    <tr>\n",
       "      <th>456</th>\n",
       "      <td>0.755369</td>\n",
       "      <td>1.334317</td>\n",
       "      <td>-0.016568</td>\n",
       "      <td>2.206659</td>\n",
       "      <td>1.356727</td>\n",
       "      <td>2018</td>\n",
       "      <td>2657.0</td>\n",
       "      <td>42.059829</td>\n",
       "      <td>-70.200407</td>\n",
       "    </tr>\n",
       "    <tr>\n",
       "      <th>457</th>\n",
       "      <td>-0.341828</td>\n",
       "      <td>-1.091234</td>\n",
       "      <td>-0.176110</td>\n",
       "      <td>-1.125900</td>\n",
       "      <td>-0.907311</td>\n",
       "      <td>2021</td>\n",
       "      <td>2723.0</td>\n",
       "      <td>41.692705</td>\n",
       "      <td>-71.129726</td>\n",
       "    </tr>\n",
       "    <tr>\n",
       "      <th>458</th>\n",
       "      <td>0.755369</td>\n",
       "      <td>-1.091234</td>\n",
       "      <td>-0.309062</td>\n",
       "      <td>-0.132773</td>\n",
       "      <td>-0.488045</td>\n",
       "      <td>2016</td>\n",
       "      <td>2724.0</td>\n",
       "      <td>41.683936</td>\n",
       "      <td>-71.177500</td>\n",
       "    </tr>\n",
       "  </tbody>\n",
       "</table>\n",
       "</div>"
      ],
      "text/plain": [
       "          bed      bath  acre_lot  house_size     price  prev_sold_year  \\\n",
       "454 -1.439025 -1.091234 -0.255881   -1.626991 -0.404191            2019   \n",
       "455 -0.341828 -1.091234 -0.255881   -1.415688 -0.219714            2021   \n",
       "456  0.755369  1.334317 -0.016568    2.206659  1.356727            2018   \n",
       "457 -0.341828 -1.091234 -0.176110   -1.125900 -0.907311            2021   \n",
       "458  0.755369 -1.091234 -0.309062   -0.132773 -0.488045            2016   \n",
       "\n",
       "     zip_code   latitude  longitude  \n",
       "454    2657.0  42.059829 -70.200407  \n",
       "455    2657.0  42.059829 -70.200407  \n",
       "456    2657.0  42.059829 -70.200407  \n",
       "457    2723.0  41.692705 -71.129726  \n",
       "458    2724.0  41.683936 -71.177500  "
      ]
     },
     "execution_count": 4,
     "metadata": {},
     "output_type": "execute_result"
    }
   ],
   "source": [
    "params = {\n",
    "    \"data\":outliers_df,\n",
    "    \"features_a\":[\"prev_sold_year\",\"zip_code\",\"latitude\",\"longitude\"],\n",
    "    \"features_n\":[\"bed\",\"bath\",\"acre_lot\",\"house_size\",\"price\"]\n",
    "}\n",
    "normalize_df = mean_and_std(params)\n",
    "#normalize_df = outliers_df\n",
    "normalize_df.tail()"
   ]
  },
  {
   "cell_type": "markdown",
   "id": "1c169a3a",
   "metadata": {},
   "source": [
    "#### Create a variable for the correlation of the normalized data"
   ]
  },
  {
   "cell_type": "code",
   "execution_count": 5,
   "id": "5d93d4f9",
   "metadata": {},
   "outputs": [
    {
     "data": {
      "text/plain": [
       "acre_lot          0.072629\n",
       "bed               0.210193\n",
       "bath              0.462797\n",
       "house_size        0.443264\n",
       "prev_sold_year    0.045388\n",
       "price             1.000000\n",
       "Name: price, dtype: float64"
      ]
     },
     "execution_count": 5,
     "metadata": {},
     "output_type": "execute_result"
    }
   ],
   "source": [
    "correlation = normalize_df[[\"acre_lot\",\"bed\",\"bath\",\"house_size\",\"prev_sold_year\",\"price\"]].corr()\n",
    "correlation[\"price\"]"
   ]
  },
  {
   "cell_type": "markdown",
   "id": "9059693a",
   "metadata": {},
   "source": [
    "#### Display a Heatmap with the correlated data"
   ]
  },
  {
   "cell_type": "code",
   "execution_count": 6,
   "id": "ade3651b",
   "metadata": {},
   "outputs": [
    {
     "data": {
      "text/plain": [
       "Text(0.5, 1.0, 'Correlation Between Variables')"
      ]
     },
     "execution_count": 6,
     "metadata": {},
     "output_type": "execute_result"
    },
    {
     "data": {
      "image/png": "[encoded data removed]",
      "text/plain": [
       "<Figure size 640x480 with 2 Axes>"
      ]
     },
     "metadata": {},
     "output_type": "display_data"
    }
   ],
   "source": [
    "sns.heatmap(correlation, vmin=-1, vmax=1, cmap = 'coolwarm', annot=True, fmt='.2f', linewidths=0.1)\n",
    "plt.title(\"Correlation Between Variables\", pad=20)"
   ]
  },
  {
   "cell_type": "markdown",
   "id": "95092fee",
   "metadata": {},
   "source": [
    "#### Create a variable to hold the features that correlate with the price feature between 0.20 and 0.80"
   ]
  },
  {
   "cell_type": "code",
   "execution_count": 7,
   "id": "e438ace4",
   "metadata": {},
   "outputs": [
    {
     "name": "stdout",
     "output_type": "stream",
     "text": [
      "['latitude', 'longitude', 'bed', 'bath', 'house_size']\n"
     ]
    }
   ],
   "source": [
    "'''\n",
    "'''\n",
    "savefeatures = [\"latitude\",\"longitude\"]\n",
    "for feature, value in correlation[\"price\"].items():\n",
    "    if abs(value) < 0.81 and abs(value) >= 0.20:\n",
    "        savefeatures.append(feature)\n",
    "\n",
    "print(savefeatures)"
   ]
  },
  {
   "cell_type": "code",
   "execution_count": null,
   "id": "5083bce3",
   "metadata": {},
   "outputs": [],
   "source": []
  },
  {
   "cell_type": "markdown",
   "id": "eb5d6854",
   "metadata": {},
   "source": [
    "#### Create common variables to store frequently used values."
   ]
  },
  {
   "cell_type": "code",
   "execution_count": 8,
   "id": "aa1c1059",
   "metadata": {},
   "outputs": [],
   "source": [
    "features = savefeatures\n",
    "num_features_to_select = len(features)-1\n",
    "random_state_value = 42"
   ]
  },
  {
   "cell_type": "markdown",
   "id": "d2df4928",
   "metadata": {},
   "source": [
    "#### Datasets for modeling, testing the models, and making predictions."
   ]
  },
  {
   "cell_type": "code",
   "execution_count": 9,
   "id": "7bff4fc2",
   "metadata": {},
   "outputs": [],
   "source": [
    "X = normalize_df[features]\n",
    "y = normalize_df[\"price\"]\n",
    "X_train, X_test, y_train, y_test = train_test_split(X, y, test_size=0.3, random_state=random_state_value)"
   ]
  },
  {
   "cell_type": "code",
   "execution_count": null,
   "id": "25f416da",
   "metadata": {},
   "outputs": [],
   "source": []
  },
  {
   "cell_type": "markdown",
   "id": "6cf44df9",
   "metadata": {},
   "source": [
    "#### Variable to store the results generated by the models."
   ]
  },
  {
   "cell_type": "code",
   "execution_count": 10,
   "id": "3bbe39f7",
   "metadata": {},
   "outputs": [],
   "source": [
    "results_dict = {\"model\":[], \"explained variance score\":[],\"mae score\":[],\"mse score\":[],\"r2 score\":[], \"mean fit time\":[]}"
   ]
  },
  {
   "cell_type": "markdown",
   "id": "e4262559",
   "metadata": {},
   "source": [
    "#### Function to format the results generated by the models."
   ]
  },
  {
   "cell_type": "code",
   "execution_count": 11,
   "id": "d1427612",
   "metadata": {},
   "outputs": [],
   "source": [
    "def results_dict_append(rtnval):\n",
    "    results_dict[\"model\"].append(rtnval[\"model\"])\n",
    "    results_dict[\"explained variance score\"].append(rtnval[\"explained variance score\"])\n",
    "    results_dict[\"mae score\"].append(rtnval[\"mae score\"])\n",
    "    results_dict[\"mse score\"].append(rtnval[\"mse score\"])\n",
    "    results_dict[\"r2 score\"].append(rtnval[\"r2 score\"])\n",
    "    results_dict[\"mean fit time\"].append(rtnval[\"mean fit time\"])"
   ]
  },
  {
   "cell_type": "code",
   "execution_count": null,
   "id": "65b401a0",
   "metadata": {},
   "outputs": [],
   "source": []
  },
  {
   "cell_type": "markdown",
   "id": "1251c0e1",
   "metadata": {},
   "source": [
    "#### Use Grid Search CV to find the best Hyperparameters for Ridge Regression"
   ]
  },
  {
   "cell_type": "code",
   "execution_count": 12,
   "id": "f686f4ec",
   "metadata": {},
   "outputs": [
    {
     "name": "stdout",
     "output_type": "stream",
     "text": [
      "Best parameters found: {'alpha': 1e-09}\n"
     ]
    }
   ],
   "source": [
    "ridge_gscv = GridSearchCV(Ridge(random_state=42), {'alpha': [1e-11, 1e-10, 1e-9]}, scoring='neg_mean_squared_error')\n",
    "ridge_gscv_model = ridge_gscv.fit(X, y)\n",
    "print(f\"Best parameters found: {ridge_gscv.best_params_}\")"
   ]
  },
  {
   "cell_type": "markdown",
   "id": "9c7e5ed5",
   "metadata": {},
   "source": [
    "#### The best params attribute will be used to fit  model with the training data and make a prediction with the test data."
   ]
  },
  {
   "cell_type": "code",
   "execution_count": 13,
   "id": "18340346",
   "metadata": {},
   "outputs": [
    {
     "name": "stdout",
     "output_type": "stream",
     "text": [
      "The selected features are: ['latitude', 'longitude', 'bed', 'bath', 'house_size']\n",
      "Best Params EVS = 0.323697558\n",
      "Best Params MSE = 0.794388\n",
      "Best Params MAE = 0.598191\n",
      "Best Params R2 = 0.317586\n",
      "Best Params Fit Time = 0.0020092487335205077\n"
     ]
    }
   ],
   "source": [
    "ridge_bp = dosomething(\"Ridge\",\"Best Params\", normalize_df, features, \"price\", ridge_gscv.best_params_)\n",
    "results_dict_append(ridge_bp[\"results\"])\n",
    "ridge_bp_predict = ridge_bp[\"predictions\"]"
   ]
  },
  {
   "cell_type": "code",
   "execution_count": null,
   "id": "26c395f9",
   "metadata": {},
   "outputs": [],
   "source": []
  },
  {
   "cell_type": "markdown",
   "id": "0c24bbba",
   "metadata": {},
   "source": [
    "### SelectFromModel is a meta-transformer that can be used alongside any estimator that assigns importance to each feature through a specific attribute or via an importance_getter callable after fitting. The features are considered unimportant and removed if the corresponding importance of the feature values are below the provided threshold parameter."
   ]
  },
  {
   "cell_type": "code",
   "execution_count": 14,
   "id": "dfd5c36c",
   "metadata": {},
   "outputs": [
    {
     "name": "stdout",
     "output_type": "stream",
     "text": [
      "The selected features are: ['longitude', 'house_size']\n",
      "Select From Model EVS = 0.346193254\n",
      "Select From Model MSE = 0.764735\n",
      "Select From Model MAE = 0.573166\n",
      "Select From Model R2 = 0.343059\n",
      "Select From Model Fit Time = 0.00023837089538574218\n"
     ]
    }
   ],
   "source": [
    "ridge_sfm = dosomething(\"Ridge\",\"Select From Model\", normalize_df, features, \"price\")\n",
    "results_dict_append(ridge_sfm[\"results\"])\n",
    "ridge_sfm_predict = ridge_sfm[\"predictions\"]"
   ]
  },
  {
   "cell_type": "code",
   "execution_count": null,
   "id": "2ed4510e",
   "metadata": {},
   "outputs": [],
   "source": []
  },
  {
   "cell_type": "markdown",
   "id": "178bbc2b",
   "metadata": {},
   "source": [
    "###  Sequential Feature Selector (forward selection) adds features to form a feature subset in a greedy fashion. At each stage, this estimator chooses the best feature to add or remove based on the cross-validation score of an estimator."
   ]
  },
  {
   "cell_type": "code",
   "execution_count": 15,
   "id": "70329d90",
   "metadata": {},
   "outputs": [
    {
     "name": "stdout",
     "output_type": "stream",
     "text": [
      "The selected features are: ['latitude', 'longitude', 'bed', 'house_size']\n",
      "Sequential Feature Selector EVS = 0.317646904\n",
      "Sequential Feature Selector MSE = 0.803411\n",
      "Sequential Feature Selector MAE = 0.588934\n",
      "Sequential Feature Selector R2 = 0.309834\n",
      "Sequential Feature Selector Fit Time = 0.0009173870086669922\n"
     ]
    }
   ],
   "source": [
    "ridge_sfs = dosomething(\"Ridge\",\"Sequential Feature Selector\", normalize_df, features, \"price\")\n",
    "results_dict_append(ridge_sfs[\"results\"])\n",
    "ridge_sfs_predict = ridge_sfs[\"predictions\"]"
   ]
  },
  {
   "cell_type": "code",
   "execution_count": null,
   "id": "3eafd718",
   "metadata": {},
   "outputs": [],
   "source": []
  },
  {
   "cell_type": "markdown",
   "id": "9aef9f0c",
   "metadata": {},
   "source": [
    "### Recursive feature elimination uses an external estimator that assigns weights to features with the goal of selecting features by recursively considering smaller and smaller sets of features."
   ]
  },
  {
   "cell_type": "code",
   "execution_count": 16,
   "id": "4431ed9f",
   "metadata": {},
   "outputs": [
    {
     "name": "stdout",
     "output_type": "stream",
     "text": [
      "The selected features are: ['latitude', 'longitude', 'bath', 'house_size']\n",
      "Recursive Feature Elimination EVS = 0.365849865\n",
      "Recursive Feature Elimination MSE = 0.742962\n",
      "Recursive Feature Elimination MAE = 0.579849\n",
      "Recursive Feature Elimination R2 = 0.361762\n",
      "Recursive Feature Elimination Fit Time = 0.0\n"
     ]
    }
   ],
   "source": [
    "ridge_rfe = dosomething(\"Ridge\",\"Recursive Feature Elimination\", normalize_df, features, \"price\")\n",
    "results_dict_append(ridge_rfe[\"results\"])\n",
    "ridge_rfe_predict = ridge_rfe[\"predictions\"]"
   ]
  },
  {
   "cell_type": "code",
   "execution_count": null,
   "id": "716a61ea",
   "metadata": {},
   "outputs": [],
   "source": []
  },
  {
   "cell_type": "markdown",
   "id": "3e44bd35",
   "metadata": {},
   "source": [
    "#### Graphing the results works best when the data is provided in a DataFrame."
   ]
  },
  {
   "cell_type": "code",
   "execution_count": 17,
   "id": "4a4fb079",
   "metadata": {},
   "outputs": [],
   "source": [
    "ridge_bp_predict_df = pd.DataFrame(ridge_bp_predict).reset_index()\n",
    "ridge_bp_predict_df.rename(columns={0: \"prediction\"},inplace=True)\n",
    "\n",
    "ridge_sfm_predict_df = pd.DataFrame(ridge_sfm_predict).reset_index()\n",
    "ridge_sfm_predict_df.rename(columns={0: \"prediction\"},inplace=True)\n",
    "\n",
    "ridge_sfs_predict_df = pd.DataFrame(ridge_sfs_predict).reset_index()\n",
    "ridge_sfs_predict_df.rename(columns={0: \"prediction\"},inplace=True)\n",
    "\n",
    "ridge_rfe_predict_df = pd.DataFrame(ridge_rfe_predict).reset_index()\n",
    "ridge_rfe_predict_df.rename(columns={0: \"prediction\"},inplace=True)\n",
    "\n",
    "y_test_df = pd.DataFrame(y_test).reset_index()"
   ]
  },
  {
   "cell_type": "code",
   "execution_count": 18,
   "id": "71cb2b0a",
   "metadata": {},
   "outputs": [
    {
     "data": {
      "image/png": "[encoded data removed]",
      "text/plain": [
       "<Figure size 1000x600 with 1 Axes>"
      ]
     },
     "metadata": {},
     "output_type": "display_data"
    }
   ],
   "source": [
    "fig, ax = plt.subplots(figsize=(10, 6))\n",
    "\n",
    "ax.ticklabel_format(style='plain')\n",
    "ax.yaxis.set_major_formatter('${x:1,.0f}')\n",
    "ax.xaxis.set_major_formatter(' ')\n",
    "\n",
    "plt.scatter(y_test_df.index,y_test_df[\"price\"], color=\"red\")\n",
    "plt.scatter(ridge_sfs_predict_df.index,ridge_sfs_predict_df[\"prediction\"], color=\"green\")\n",
    "plt.scatter(ridge_sfm_predict_df.index,ridge_sfm_predict_df[\"prediction\"], color=\"blue\")\n",
    "plt.scatter(ridge_bp_predict_df.index,ridge_bp_predict_df[\"prediction\"], color=\"black\")\n",
    "plt.show()"
   ]
  },
  {
   "cell_type": "code",
   "execution_count": null,
   "id": "256264b3",
   "metadata": {},
   "outputs": [],
   "source": []
  },
  {
   "cell_type": "markdown",
   "id": "3d3255cf",
   "metadata": {},
   "source": [
    "#### Output the results so they can be copied into another Notebook comparing the results of all the models."
   ]
  },
  {
   "cell_type": "code",
   "execution_count": 19,
   "id": "cf40daca",
   "metadata": {},
   "outputs": [
    {
     "data": {
      "text/plain": [
       "{'model': ['Best Params',\n",
       "  'Select From Model',\n",
       "  'Sequential Feature Selector',\n",
       "  'Recursive Feature Elimination'],\n",
       " 'explained variance score': ['0.323697558',\n",
       "  '0.346193254',\n",
       "  '0.317646904',\n",
       "  '0.365849865'],\n",
       " 'mae score': ['0.598191', '0.573166', '0.588934', '0.579849'],\n",
       " 'mse score': ['0.794388', '0.764735', '0.803411', '0.742962'],\n",
       " 'r2 score': ['0.317586', '0.343059', '0.309834', '0.361762'],\n",
       " 'mean fit time': [0.0020092487335205077,\n",
       "  0.00023837089538574218,\n",
       "  0.0009173870086669922,\n",
       "  0.0]}"
      ]
     },
     "execution_count": 19,
     "metadata": {},
     "output_type": "execute_result"
    }
   ],
   "source": [
    "results_dict"
   ]
  },
  {
   "cell_type": "code",
   "execution_count": 20,
   "id": "d8787cfa",
   "metadata": {},
   "outputs": [
    {
     "data": {
      "text/html": [
       "<div>\n",
       "<style scoped>\n",
       "    .dataframe tbody tr th:only-of-type {\n",
       "        vertical-align: middle;\n",
       "    }\n",
       "\n",
       "    .dataframe tbody tr th {\n",
       "        vertical-align: top;\n",
       "    }\n",
       "\n",
       "    .dataframe thead th {\n",
       "        text-align: right;\n",
       "    }\n",
       "</style>\n",
       "<table border=\"1\" class=\"dataframe\">\n",
       "  <thead>\n",
       "    <tr style=\"text-align: right;\">\n",
       "      <th></th>\n",
       "      <th>explained variance score</th>\n",
       "      <th>mae score</th>\n",
       "      <th>mse score</th>\n",
       "      <th>r2 score</th>\n",
       "      <th>mean fit time</th>\n",
       "    </tr>\n",
       "    <tr>\n",
       "      <th>model</th>\n",
       "      <th></th>\n",
       "      <th></th>\n",
       "      <th></th>\n",
       "      <th></th>\n",
       "      <th></th>\n",
       "    </tr>\n",
       "  </thead>\n",
       "  <tbody>\n",
       "    <tr>\n",
       "      <th>Best Params</th>\n",
       "      <td>0.323697558</td>\n",
       "      <td>0.598191</td>\n",
       "      <td>0.794388</td>\n",
       "      <td>0.317586</td>\n",
       "      <td>0.002009</td>\n",
       "    </tr>\n",
       "    <tr>\n",
       "      <th>Select From Model</th>\n",
       "      <td>0.346193254</td>\n",
       "      <td>0.573166</td>\n",
       "      <td>0.764735</td>\n",
       "      <td>0.343059</td>\n",
       "      <td>0.000238</td>\n",
       "    </tr>\n",
       "    <tr>\n",
       "      <th>Sequential Feature Selector</th>\n",
       "      <td>0.317646904</td>\n",
       "      <td>0.588934</td>\n",
       "      <td>0.803411</td>\n",
       "      <td>0.309834</td>\n",
       "      <td>0.000917</td>\n",
       "    </tr>\n",
       "    <tr>\n",
       "      <th>Recursive Feature Elimination</th>\n",
       "      <td>0.365849865</td>\n",
       "      <td>0.579849</td>\n",
       "      <td>0.742962</td>\n",
       "      <td>0.361762</td>\n",
       "      <td>0.000000</td>\n",
       "    </tr>\n",
       "  </tbody>\n",
       "</table>\n",
       "</div>"
      ],
      "text/plain": [
       "                              explained variance score mae score mse score  \\\n",
       "model                                                                        \n",
       "Best Params                                0.323697558  0.598191  0.794388   \n",
       "Select From Model                          0.346193254  0.573166  0.764735   \n",
       "Sequential Feature Selector                0.317646904  0.588934  0.803411   \n",
       "Recursive Feature Elimination              0.365849865  0.579849  0.742962   \n",
       "\n",
       "                               r2 score  mean fit time  \n",
       "model                                                   \n",
       "Best Params                    0.317586       0.002009  \n",
       "Select From Model              0.343059       0.000238  \n",
       "Sequential Feature Selector    0.309834       0.000917  \n",
       "Recursive Feature Elimination  0.361762       0.000000  "
      ]
     },
     "execution_count": 20,
     "metadata": {},
     "output_type": "execute_result"
    }
   ],
   "source": [
    "model_comparisons = pd.DataFrame(results_dict).set_index('model')\n",
    "model_comparisons"
   ]
  }
 ],
 "metadata": {
  "kernelspec": {
   "display_name": "Python 3 (ipykernel)",
   "language": "python",
   "name": "python3"
  },
  "language_info": {
   "codemirror_mode": {
    "name": "ipython",
    "version": 3
   },
   "file_extension": ".py",
   "mimetype": "text/x-python",
   "name": "python",
   "nbconvert_exporter": "python",
   "pygments_lexer": "ipython3",
   "version": "3.11.4"
  }
 },
 "nbformat": 4,
 "nbformat_minor": 5
}
