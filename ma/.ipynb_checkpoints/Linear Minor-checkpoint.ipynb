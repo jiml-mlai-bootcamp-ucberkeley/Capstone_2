{
 "cells": [
  {
   "cell_type": "markdown",
   "id": "760924d5",
   "metadata": {},
   "source": [
    "### Ordinary least squares Linear Regression. LinearRegression fits a linear model with coefficients w = (w1, …, wp) to minimize the residual sum of squares between the observed targets in the dataset, and the targets predicted by the linear approximation."
   ]
  },
  {
   "cell_type": "code",
   "execution_count": 1,
   "id": "6703d5d1",
   "metadata": {},
   "outputs": [],
   "source": [
    "from warnings import filterwarnings\n",
    "filterwarnings(\"ignore\")\n",
    "\n",
    "import sys\n",
    "sys.path.append('../common')\n",
    "\n",
    "from print_more_stuff import print_more_stuff\n",
    "from preprocessing import mean_and_std\n",
    "from regression_models import dosomething\n",
    "\n",
    "import pandas as pd\n",
    "import matplotlib.pyplot as plt\n",
    "import numpy as np\n",
    "import seaborn as sns\n",
    "\n",
    "from sklearn.linear_model import LinearRegression\n",
    "from sklearn.preprocessing import PolynomialFeatures\n",
    "from sklearn.pipeline import Pipeline\n",
    "from sklearn.model_selection import train_test_split, cross_val_score, GridSearchCV"
   ]
  },
  {
   "cell_type": "code",
   "execution_count": 2,
   "id": "e76f44b1",
   "metadata": {},
   "outputs": [],
   "source": [
    "outliers_df = pd.read_csv('geocoded.csv')\n",
    "outliers_df.drop(columns=[\"Unnamed: 0\"],inplace=True)"
   ]
  },
  {
   "cell_type": "code",
   "execution_count": 3,
   "id": "3a3b5d51",
   "metadata": {},
   "outputs": [
    {
     "name": "stdout",
     "output_type": "stream",
     "text": [
      "<class 'pandas.core.frame.DataFrame'>\n",
      "RangeIndex: 459 entries, 0 to 458\n",
      "Data columns (total 13 columns):\n",
      " #   Column          Non-Null Count  Dtype  \n",
      "---  ------          --------------  -----  \n",
      " 0   Unnamed: 0.1    459 non-null    int64  \n",
      " 1   bed             459 non-null    float64\n",
      " 2   bath            459 non-null    float64\n",
      " 3   acre_lot        459 non-null    float64\n",
      " 4   zip_code        459 non-null    float64\n",
      " 5   house_size      459 non-null    float64\n",
      " 6   prev_sold_date  459 non-null    object \n",
      " 7   price           459 non-null    float64\n",
      " 8   prev_sold_year  459 non-null    int64  \n",
      " 9   zip_code_str    459 non-null    int64  \n",
      " 10  latitude        459 non-null    float64\n",
      " 11  longitude       459 non-null    float64\n",
      " 12  county          459 non-null    int64  \n",
      "dtypes: float64(8), int64(4), object(1)\n",
      "memory usage: 46.7+ KB\n"
     ]
    }
   ],
   "source": [
    "outliers_df.info()"
   ]
  },
  {
   "cell_type": "markdown",
   "id": "fdab24c3",
   "metadata": {},
   "source": [
    "#### Find the zip code of that has the most houses."
   ]
  },
  {
   "cell_type": "code",
   "execution_count": 4,
   "id": "e79184ab",
   "metadata": {},
   "outputs": [
    {
     "data": {
      "text/plain": [
       "2127.0"
      ]
     },
     "execution_count": 4,
     "metadata": {},
     "output_type": "execute_result"
    }
   ],
   "source": [
    "groupby_zipcode = outliers_df.groupby([\"zip_code\"])[\"zip_code\"].count().sort_values(ascending=False)\n",
    "groupby_zipcode_df = pd.DataFrame(groupby_zipcode).rename(columns={\"zip_code\":\"count\"}).reset_index()\n",
    "first_zipcode = groupby_zipcode_df.iloc[0][\"zip_code\"]\n",
    "first_zipcode"
   ]
  },
  {
   "cell_type": "markdown",
   "id": "ae8126af",
   "metadata": {},
   "source": [
    "#### Find the rows of the zip code that has the most houses."
   ]
  },
  {
   "cell_type": "code",
   "execution_count": 5,
   "id": "1b712355",
   "metadata": {},
   "outputs": [],
   "source": [
    "one_zipcode_df = outliers_df[outliers_df[\"zip_code\"].isin([first_zipcode])]"
   ]
  },
  {
   "cell_type": "code",
   "execution_count": 6,
   "id": "c9f768fb",
   "metadata": {},
   "outputs": [
    {
     "name": "stdout",
     "output_type": "stream",
     "text": [
      "<class 'pandas.core.frame.DataFrame'>\n",
      "Int64Index: 19 entries, 276 to 294\n",
      "Data columns (total 13 columns):\n",
      " #   Column          Non-Null Count  Dtype  \n",
      "---  ------          --------------  -----  \n",
      " 0   Unnamed: 0.1    19 non-null     int64  \n",
      " 1   bed             19 non-null     float64\n",
      " 2   bath            19 non-null     float64\n",
      " 3   acre_lot        19 non-null     float64\n",
      " 4   zip_code        19 non-null     float64\n",
      " 5   house_size      19 non-null     float64\n",
      " 6   prev_sold_date  19 non-null     object \n",
      " 7   price           19 non-null     float64\n",
      " 8   prev_sold_year  19 non-null     int64  \n",
      " 9   zip_code_str    19 non-null     int64  \n",
      " 10  latitude        19 non-null     float64\n",
      " 11  longitude       19 non-null     float64\n",
      " 12  county          19 non-null     int64  \n",
      "dtypes: float64(8), int64(4), object(1)\n",
      "memory usage: 2.1+ KB\n"
     ]
    }
   ],
   "source": [
    "one_zipcode_df.info()"
   ]
  },
  {
   "cell_type": "markdown",
   "id": "403c8731",
   "metadata": {},
   "source": [
    "#### Create an object to pass to the function that will normalize the data"
   ]
  },
  {
   "cell_type": "code",
   "execution_count": 7,
   "id": "4a65123a",
   "metadata": {},
   "outputs": [
    {
     "data": {
      "text/html": [
       "<div>\n",
       "<style scoped>\n",
       "    .dataframe tbody tr th:only-of-type {\n",
       "        vertical-align: middle;\n",
       "    }\n",
       "\n",
       "    .dataframe tbody tr th {\n",
       "        vertical-align: top;\n",
       "    }\n",
       "\n",
       "    .dataframe thead th {\n",
       "        text-align: right;\n",
       "    }\n",
       "</style>\n",
       "<table border=\"1\" class=\"dataframe\">\n",
       "  <thead>\n",
       "    <tr style=\"text-align: right;\">\n",
       "      <th></th>\n",
       "      <th>bed</th>\n",
       "      <th>bath</th>\n",
       "      <th>acre_lot</th>\n",
       "      <th>house_size</th>\n",
       "      <th>price</th>\n",
       "      <th>prev_sold_year</th>\n",
       "      <th>zip_code</th>\n",
       "      <th>latitude</th>\n",
       "      <th>longitude</th>\n",
       "    </tr>\n",
       "  </thead>\n",
       "  <tbody>\n",
       "    <tr>\n",
       "      <th>290</th>\n",
       "      <td>-1.057452</td>\n",
       "      <td>-0.830057</td>\n",
       "      <td>-1.013783</td>\n",
       "      <td>-1.015062</td>\n",
       "      <td>-0.638721</td>\n",
       "      <td>2020</td>\n",
       "      <td>2127.0</td>\n",
       "      <td>42.334992</td>\n",
       "      <td>-71.039093</td>\n",
       "    </tr>\n",
       "    <tr>\n",
       "      <th>291</th>\n",
       "      <td>-1.057452</td>\n",
       "      <td>-0.830057</td>\n",
       "      <td>1.023531</td>\n",
       "      <td>0.414085</td>\n",
       "      <td>0.294821</td>\n",
       "      <td>2020</td>\n",
       "      <td>2127.0</td>\n",
       "      <td>42.334992</td>\n",
       "      <td>-71.039093</td>\n",
       "    </tr>\n",
       "    <tr>\n",
       "      <th>292</th>\n",
       "      <td>2.291147</td>\n",
       "      <td>1.141329</td>\n",
       "      <td>1.023531</td>\n",
       "      <td>1.977671</td>\n",
       "      <td>2.815385</td>\n",
       "      <td>2019</td>\n",
       "      <td>2127.0</td>\n",
       "      <td>42.334992</td>\n",
       "      <td>-71.039093</td>\n",
       "    </tr>\n",
       "    <tr>\n",
       "      <th>293</th>\n",
       "      <td>0.616847</td>\n",
       "      <td>1.141329</td>\n",
       "      <td>-0.828573</td>\n",
       "      <td>0.864164</td>\n",
       "      <td>0.315566</td>\n",
       "      <td>2019</td>\n",
       "      <td>2127.0</td>\n",
       "      <td>42.334992</td>\n",
       "      <td>-71.039093</td>\n",
       "    </tr>\n",
       "    <tr>\n",
       "      <th>294</th>\n",
       "      <td>0.616847</td>\n",
       "      <td>1.141329</td>\n",
       "      <td>1.023531</td>\n",
       "      <td>0.709266</td>\n",
       "      <td>0.917182</td>\n",
       "      <td>2018</td>\n",
       "      <td>2127.0</td>\n",
       "      <td>42.334992</td>\n",
       "      <td>-71.039093</td>\n",
       "    </tr>\n",
       "  </tbody>\n",
       "</table>\n",
       "</div>"
      ],
      "text/plain": [
       "          bed      bath  acre_lot  house_size     price  prev_sold_year  \\\n",
       "290 -1.057452 -0.830057 -1.013783   -1.015062 -0.638721            2020   \n",
       "291 -1.057452 -0.830057  1.023531    0.414085  0.294821            2020   \n",
       "292  2.291147  1.141329  1.023531    1.977671  2.815385            2019   \n",
       "293  0.616847  1.141329 -0.828573    0.864164  0.315566            2019   \n",
       "294  0.616847  1.141329  1.023531    0.709266  0.917182            2018   \n",
       "\n",
       "     zip_code   latitude  longitude  \n",
       "290    2127.0  42.334992 -71.039093  \n",
       "291    2127.0  42.334992 -71.039093  \n",
       "292    2127.0  42.334992 -71.039093  \n",
       "293    2127.0  42.334992 -71.039093  \n",
       "294    2127.0  42.334992 -71.039093  "
      ]
     },
     "execution_count": 7,
     "metadata": {},
     "output_type": "execute_result"
    }
   ],
   "source": [
    "params = {\n",
    "    \"data\":one_zipcode_df,\n",
    "    \"features_a\":[\"prev_sold_year\",\"zip_code\",\"latitude\",\"longitude\"],\n",
    "    \"features_n\":[\"bed\",\"bath\",\"acre_lot\",\"house_size\",\"price\"]\n",
    "}\n",
    "normalize_df = mean_and_std(params)\n",
    "#normalize_df = one_zipcode_df\n",
    "normalize_df.tail()"
   ]
  },
  {
   "cell_type": "markdown",
   "id": "a3e53aa6",
   "metadata": {},
   "source": [
    "#### Create a variable for the correlation of the normalized data"
   ]
  },
  {
   "cell_type": "code",
   "execution_count": 8,
   "id": "5d93d4f9",
   "metadata": {},
   "outputs": [
    {
     "data": {
      "text/plain": [
       "acre_lot          0.226971\n",
       "bed               0.648117\n",
       "bath              0.647215\n",
       "house_size        0.921788\n",
       "prev_sold_year   -0.154952\n",
       "price             1.000000\n",
       "Name: price, dtype: float64"
      ]
     },
     "execution_count": 8,
     "metadata": {},
     "output_type": "execute_result"
    }
   ],
   "source": [
    "correlation = normalize_df[[\"acre_lot\",\"bed\",\"bath\",\"house_size\",\"prev_sold_year\",\"price\"]].corr()\n",
    "correlation[\"price\"]"
   ]
  },
  {
   "cell_type": "markdown",
   "id": "8ab796c5",
   "metadata": {},
   "source": [
    "#### Display a Heatmap with the correlated data"
   ]
  },
  {
   "cell_type": "code",
   "execution_count": 9,
   "id": "ade3651b",
   "metadata": {},
   "outputs": [
    {
     "data": {
      "text/plain": [
       "Text(0.5, 1.0, 'Correlation Between Variables')"
      ]
     },
     "execution_count": 9,
     "metadata": {},
     "output_type": "execute_result"
    },
    {
     "data": {
      "image/png": "[encoded data removed]",
      "text/plain": [
       "<Figure size 640x480 with 2 Axes>"
      ]
     },
     "metadata": {},
     "output_type": "display_data"
    }
   ],
   "source": [
    "sns.heatmap(correlation, vmin=-1, vmax=1, cmap = 'coolwarm', annot=True, fmt='.2f', linewidths=0.1)\n",
    "plt.title(\"Correlation Between Variables\", pad=20)"
   ]
  },
  {
   "cell_type": "markdown",
   "id": "f4f5ef44",
   "metadata": {},
   "source": [
    "#### Create a variable to hold the features that correlate with the price feature between 0.20 and 0.80"
   ]
  },
  {
   "cell_type": "code",
   "execution_count": 10,
   "id": "e438ace4",
   "metadata": {},
   "outputs": [
    {
     "name": "stdout",
     "output_type": "stream",
     "text": [
      "['latitude', 'longitude', 'acre_lot', 'bed', 'bath']\n"
     ]
    }
   ],
   "source": [
    "'''\n",
    "'''\n",
    "savefeatures = [\"latitude\",\"longitude\"]\n",
    "for feature, value in correlation[\"price\"].items():\n",
    "    if abs(value) < 0.81 and abs(value) >= 0.20:\n",
    "        savefeatures.append(feature)\n",
    "\n",
    "print(savefeatures)"
   ]
  },
  {
   "cell_type": "code",
   "execution_count": null,
   "id": "5083bce3",
   "metadata": {},
   "outputs": [],
   "source": []
  },
  {
   "cell_type": "markdown",
   "id": "eb5d6854",
   "metadata": {},
   "source": [
    "#### Create common variables to store frequently used values."
   ]
  },
  {
   "cell_type": "code",
   "execution_count": 11,
   "id": "aa1c1059",
   "metadata": {},
   "outputs": [],
   "source": [
    "features = savefeatures\n",
    "num_features_to_select = len(features)-1\n",
    "random_state_value = 42"
   ]
  },
  {
   "cell_type": "markdown",
   "id": "d2df4928",
   "metadata": {},
   "source": [
    "#### Datasets for modeling, testing the models, and making predictions."
   ]
  },
  {
   "cell_type": "code",
   "execution_count": 12,
   "id": "7bff4fc2",
   "metadata": {},
   "outputs": [],
   "source": [
    "X = normalize_df[features]\n",
    "y = normalize_df[\"price\"]\n",
    "X_train, X_test, y_train, y_test = train_test_split(X, y, test_size=0.3, random_state=random_state_value)"
   ]
  },
  {
   "cell_type": "code",
   "execution_count": null,
   "id": "25f416da",
   "metadata": {},
   "outputs": [],
   "source": []
  },
  {
   "cell_type": "markdown",
   "id": "6cf44df9",
   "metadata": {},
   "source": [
    "#### Variable to store the results generated by the models."
   ]
  },
  {
   "cell_type": "code",
   "execution_count": 13,
   "id": "3bbe39f7",
   "metadata": {},
   "outputs": [],
   "source": [
    "results_dict = {\"model\":[], \"explained variance score\":[],\"mae score\":[],\"mse score\":[],\"r2 score\":[], \"mean fit time\":[]}"
   ]
  },
  {
   "cell_type": "markdown",
   "id": "e4262559",
   "metadata": {},
   "source": [
    "#### Function to format the results generated by the models."
   ]
  },
  {
   "cell_type": "code",
   "execution_count": 14,
   "id": "d1427612",
   "metadata": {},
   "outputs": [],
   "source": [
    "def results_dict_append(rtnval):\n",
    "    results_dict[\"model\"].append(rtnval[\"model\"])\n",
    "    results_dict[\"explained variance score\"].append(rtnval[\"explained variance score\"])\n",
    "    results_dict[\"mae score\"].append(rtnval[\"mae score\"])\n",
    "    results_dict[\"mse score\"].append(rtnval[\"mse score\"])\n",
    "    results_dict[\"r2 score\"].append(rtnval[\"r2 score\"])\n",
    "    results_dict[\"mean fit time\"].append(rtnval[\"mean fit time\"])"
   ]
  },
  {
   "cell_type": "code",
   "execution_count": null,
   "id": "65b401a0",
   "metadata": {},
   "outputs": [],
   "source": []
  },
  {
   "cell_type": "markdown",
   "id": "1251c0e1",
   "metadata": {},
   "source": [
    "#### Use Grid Search CV to find the best Hyperparameters for Linear Regression"
   ]
  },
  {
   "cell_type": "code",
   "execution_count": null,
   "id": "f686f4ec",
   "metadata": {},
   "outputs": [],
   "source": []
  },
  {
   "cell_type": "markdown",
   "id": "9c7e5ed5",
   "metadata": {},
   "source": [
    "#### The best params attribute will be used to fit  model with the training data and make a prediction with the test data."
   ]
  },
  {
   "cell_type": "code",
   "execution_count": 15,
   "id": "18340346",
   "metadata": {},
   "outputs": [
    {
     "name": "stdout",
     "output_type": "stream",
     "text": [
      "The selected features are: ['latitude', 'longitude', 'acre_lot', 'bed', 'bath']\n",
      "Best Params EVS = 0.009793441\n",
      "Best Params MSE = 1.436593\n",
      "Best Params MAE = 1.090351\n",
      "Best Params R2 = -0.071071\n",
      "Best Params Fit Time = 0.0013183116912841796\n"
     ]
    }
   ],
   "source": [
    "linear_bp = dosomething(\"linear\",\"Best Params\", normalize_df, features, \"price\")\n",
    "results_dict_append(linear_bp[\"results\"])\n",
    "linear_bp_predict = linear_bp[\"predictions\"]"
   ]
  },
  {
   "cell_type": "code",
   "execution_count": null,
   "id": "26c395f9",
   "metadata": {},
   "outputs": [],
   "source": []
  },
  {
   "cell_type": "markdown",
   "id": "0c24bbba",
   "metadata": {},
   "source": [
    "### SelectFromModel is a meta-transformer that can be used alongside any estimator that assigns importance to each feature through a specific attribute or via an importance_getter callable after fitting. The features are considered unimportant and removed if the corresponding importance of the feature values are below the provided threshold parameter."
   ]
  },
  {
   "cell_type": "code",
   "execution_count": 16,
   "id": "dfd5c36c",
   "metadata": {},
   "outputs": [
    {
     "name": "stdout",
     "output_type": "stream",
     "text": [
      "The selected features are: ['latitude', 'longitude']\n",
      "Select From Model EVS = 0.000000000\n",
      "Select From Model MSE = 2.589643\n",
      "Select From Model MAE = 1.125011\n",
      "Select From Model R2 = -0.930742\n",
      "Select From Model Fit Time = 0.0026300430297851564\n"
     ]
    }
   ],
   "source": [
    "linear_sfm = dosomething(\"linear\",\"Select From Model\", normalize_df, features, \"price\")\n",
    "results_dict_append(linear_sfm[\"results\"])\n",
    "linear_sfm_predict = linear_sfm[\"predictions\"]"
   ]
  },
  {
   "cell_type": "code",
   "execution_count": null,
   "id": "2ed4510e",
   "metadata": {},
   "outputs": [],
   "source": []
  },
  {
   "cell_type": "markdown",
   "id": "178bbc2b",
   "metadata": {},
   "source": [
    "###  Sequential Feature Selector (forward selection) adds features to form a feature subset in a greedy fashion. At each stage, this estimator chooses the best feature to add or remove based on the cross-validation score of an estimator."
   ]
  },
  {
   "cell_type": "code",
   "execution_count": 17,
   "id": "70329d90",
   "metadata": {},
   "outputs": [
    {
     "name": "stdout",
     "output_type": "stream",
     "text": [
      "The selected features are: ['latitude', 'longitude', 'bed', 'bath']\n",
      "Sequential Feature Selector EVS = -0.014661771\n",
      "Sequential Feature Selector MSE = 1.508375\n",
      "Sequential Feature Selector MAE = 1.093935\n",
      "Sequential Feature Selector R2 = -0.124589\n",
      "Sequential Feature Selector Fit Time = 0.0010371685028076171\n"
     ]
    }
   ],
   "source": [
    "linear_sfs = dosomething(\"linear\",\"Sequential Feature Selector\", normalize_df, features, \"price\")\n",
    "results_dict_append(linear_sfs[\"results\"])\n",
    "linear_sfs_predict = linear_sfs[\"predictions\"]"
   ]
  },
  {
   "cell_type": "code",
   "execution_count": null,
   "id": "3eafd718",
   "metadata": {},
   "outputs": [],
   "source": []
  },
  {
   "cell_type": "markdown",
   "id": "9aef9f0c",
   "metadata": {},
   "source": [
    "### Recursive feature elimination uses an external estimator that assigns weights to features with the goal of selecting features by recursively considering smaller and smaller sets of features."
   ]
  },
  {
   "cell_type": "code",
   "execution_count": 18,
   "id": "4431ed9f",
   "metadata": {},
   "outputs": [
    {
     "name": "stdout",
     "output_type": "stream",
     "text": [
      "The selected features are: ['latitude', 'longitude', 'bed', 'bath']\n",
      "Recursive Feature Elimination EVS = -0.014661771\n",
      "Recursive Feature Elimination MSE = 1.508375\n",
      "Recursive Feature Elimination MAE = 1.093935\n",
      "Recursive Feature Elimination R2 = -0.124589\n",
      "Recursive Feature Elimination Fit Time = 0.0023096084594726564\n"
     ]
    }
   ],
   "source": [
    "linear_rfe = dosomething(\"linear\",\"Recursive Feature Elimination\", normalize_df, features, \"price\")\n",
    "results_dict_append(linear_rfe[\"results\"])\n",
    "linear_rfe_predict = linear_rfe[\"predictions\"]"
   ]
  },
  {
   "cell_type": "code",
   "execution_count": null,
   "id": "716a61ea",
   "metadata": {},
   "outputs": [],
   "source": []
  },
  {
   "cell_type": "markdown",
   "id": "4a0b1ce2",
   "metadata": {},
   "source": [
    "### Use Grid Search CV to find the best Parameters for Polynomial Regression"
   ]
  },
  {
   "cell_type": "code",
   "execution_count": 19,
   "id": "67f299e5",
   "metadata": {},
   "outputs": [],
   "source": [
    "pipeline_gscv = Pipeline([\n",
    "    ('poly_features', PolynomialFeatures()), \n",
    "    ('poly_model', LinearRegression())\n",
    "])\n",
    "\n",
    "pipeline_params={\"poly_features__degree\":[1,2,3,4,5],\"poly_features__include_bias\":[False],\"poly_model__fit_intercept\":[True]}\n",
    "grid_searchcv = GridSearchCV(pipeline_gscv, param_grid=pipeline_params, cv=5, verbose=1)"
   ]
  },
  {
   "cell_type": "code",
   "execution_count": 20,
   "id": "feb3565a",
   "metadata": {},
   "outputs": [
    {
     "name": "stdout",
     "output_type": "stream",
     "text": [
      "Fitting 5 folds for each of 5 candidates, totalling 25 fits\n"
     ]
    },
    {
     "data": {
      "text/html": [
       "<style>#sk-container-id-1 {color: black;}#sk-container-id-1 pre{padding: 0;}#sk-container-id-1 div.sk-toggleable {background-color: white;}#sk-container-id-1 label.sk-toggleable__label {cursor: pointer;display: block;width: 100%;margin-bottom: 0;padding: 0.3em;box-sizing: border-box;text-align: center;}#sk-container-id-1 label.sk-toggleable__label-arrow:before {content: \"▸\";float: left;margin-right: 0.25em;color: #696969;}#sk-container-id-1 label.sk-toggleable__label-arrow:hover:before {color: black;}#sk-container-id-1 div.sk-estimator:hover label.sk-toggleable__label-arrow:before {color: black;}#sk-container-id-1 div.sk-toggleable__content {max-height: 0;max-width: 0;overflow: hidden;text-align: left;background-color: #f0f8ff;}#sk-container-id-1 div.sk-toggleable__content pre {margin: 0.2em;color: black;border-radius: 0.25em;background-color: #f0f8ff;}#sk-container-id-1 input.sk-toggleable__control:checked~div.sk-toggleable__content {max-height: 200px;max-width: 100%;overflow: auto;}#sk-container-id-1 input.sk-toggleable__control:checked~label.sk-toggleable__label-arrow:before {content: \"▾\";}#sk-container-id-1 div.sk-estimator input.sk-toggleable__control:checked~label.sk-toggleable__label {background-color: #d4ebff;}#sk-container-id-1 div.sk-label input.sk-toggleable__control:checked~label.sk-toggleable__label {background-color: #d4ebff;}#sk-container-id-1 input.sk-hidden--visually {border: 0;clip: rect(1px 1px 1px 1px);clip: rect(1px, 1px, 1px, 1px);height: 1px;margin: -1px;overflow: hidden;padding: 0;position: absolute;width: 1px;}#sk-container-id-1 div.sk-estimator {font-family: monospace;background-color: #f0f8ff;border: 1px dotted black;border-radius: 0.25em;box-sizing: border-box;margin-bottom: 0.5em;}#sk-container-id-1 div.sk-estimator:hover {background-color: #d4ebff;}#sk-container-id-1 div.sk-parallel-item::after {content: \"\";width: 100%;border-bottom: 1px solid gray;flex-grow: 1;}#sk-container-id-1 div.sk-label:hover label.sk-toggleable__label {background-color: #d4ebff;}#sk-container-id-1 div.sk-serial::before {content: \"\";position: absolute;border-left: 1px solid gray;box-sizing: border-box;top: 0;bottom: 0;left: 50%;z-index: 0;}#sk-container-id-1 div.sk-serial {display: flex;flex-direction: column;align-items: center;background-color: white;padding-right: 0.2em;padding-left: 0.2em;position: relative;}#sk-container-id-1 div.sk-item {position: relative;z-index: 1;}#sk-container-id-1 div.sk-parallel {display: flex;align-items: stretch;justify-content: center;background-color: white;position: relative;}#sk-container-id-1 div.sk-item::before, #sk-container-id-1 div.sk-parallel-item::before {content: \"\";position: absolute;border-left: 1px solid gray;box-sizing: border-box;top: 0;bottom: 0;left: 50%;z-index: -1;}#sk-container-id-1 div.sk-parallel-item {display: flex;flex-direction: column;z-index: 1;position: relative;background-color: white;}#sk-container-id-1 div.sk-parallel-item:first-child::after {align-self: flex-end;width: 50%;}#sk-container-id-1 div.sk-parallel-item:last-child::after {align-self: flex-start;width: 50%;}#sk-container-id-1 div.sk-parallel-item:only-child::after {width: 0;}#sk-container-id-1 div.sk-dashed-wrapped {border: 1px dashed gray;margin: 0 0.4em 0.5em 0.4em;box-sizing: border-box;padding-bottom: 0.4em;background-color: white;}#sk-container-id-1 div.sk-label label {font-family: monospace;font-weight: bold;display: inline-block;line-height: 1.2em;}#sk-container-id-1 div.sk-label-container {text-align: center;}#sk-container-id-1 div.sk-container {/* jupyter's `normalize.less` sets `[hidden] { display: none; }` but bootstrap.min.css set `[hidden] { display: none !important; }` so we also need the `!important` here to be able to override the default hidden behavior on the sphinx rendered scikit-learn.org. See: https://github.com/scikit-learn/scikit-learn/issues/21755 */display: inline-block !important;position: relative;}#sk-container-id-1 div.sk-text-repr-fallback {display: none;}</style><div id=\"sk-container-id-1\" class=\"sk-top-container\"><div class=\"sk-text-repr-fallback\"><pre>GridSearchCV(cv=5,\n",
       "             estimator=Pipeline(steps=[(&#x27;poly_features&#x27;, PolynomialFeatures()),\n",
       "                                       (&#x27;poly_model&#x27;, LinearRegression())]),\n",
       "             param_grid={&#x27;poly_features__degree&#x27;: [1, 2, 3, 4, 5],\n",
       "                         &#x27;poly_features__include_bias&#x27;: [False],\n",
       "                         &#x27;poly_model__fit_intercept&#x27;: [True]},\n",
       "             verbose=1)</pre><b>In a Jupyter environment, please rerun this cell to show the HTML representation or trust the notebook. <br />On GitHub, the HTML representation is unable to render, please try loading this page with nbviewer.org.</b></div><div class=\"sk-container\" hidden><div class=\"sk-item sk-dashed-wrapped\"><div class=\"sk-label-container\"><div class=\"sk-label sk-toggleable\"><input class=\"sk-toggleable__control sk-hidden--visually\" id=\"sk-estimator-id-1\" type=\"checkbox\" ><label for=\"sk-estimator-id-1\" class=\"sk-toggleable__label sk-toggleable__label-arrow\">GridSearchCV</label><div class=\"sk-toggleable__content\"><pre>GridSearchCV(cv=5,\n",
       "             estimator=Pipeline(steps=[(&#x27;poly_features&#x27;, PolynomialFeatures()),\n",
       "                                       (&#x27;poly_model&#x27;, LinearRegression())]),\n",
       "             param_grid={&#x27;poly_features__degree&#x27;: [1, 2, 3, 4, 5],\n",
       "                         &#x27;poly_features__include_bias&#x27;: [False],\n",
       "                         &#x27;poly_model__fit_intercept&#x27;: [True]},\n",
       "             verbose=1)</pre></div></div></div><div class=\"sk-parallel\"><div class=\"sk-parallel-item\"><div class=\"sk-item\"><div class=\"sk-label-container\"><div class=\"sk-label sk-toggleable\"><input class=\"sk-toggleable__control sk-hidden--visually\" id=\"sk-estimator-id-2\" type=\"checkbox\" ><label for=\"sk-estimator-id-2\" class=\"sk-toggleable__label sk-toggleable__label-arrow\">estimator: Pipeline</label><div class=\"sk-toggleable__content\"><pre>Pipeline(steps=[(&#x27;poly_features&#x27;, PolynomialFeatures()),\n",
       "                (&#x27;poly_model&#x27;, LinearRegression())])</pre></div></div></div><div class=\"sk-serial\"><div class=\"sk-item\"><div class=\"sk-serial\"><div class=\"sk-item\"><div class=\"sk-estimator sk-toggleable\"><input class=\"sk-toggleable__control sk-hidden--visually\" id=\"sk-estimator-id-3\" type=\"checkbox\" ><label for=\"sk-estimator-id-3\" class=\"sk-toggleable__label sk-toggleable__label-arrow\">PolynomialFeatures</label><div class=\"sk-toggleable__content\"><pre>PolynomialFeatures()</pre></div></div></div><div class=\"sk-item\"><div class=\"sk-estimator sk-toggleable\"><input class=\"sk-toggleable__control sk-hidden--visually\" id=\"sk-estimator-id-4\" type=\"checkbox\" ><label for=\"sk-estimator-id-4\" class=\"sk-toggleable__label sk-toggleable__label-arrow\">LinearRegression</label><div class=\"sk-toggleable__content\"><pre>LinearRegression()</pre></div></div></div></div></div></div></div></div></div></div></div></div>"
      ],
      "text/plain": [
       "GridSearchCV(cv=5,\n",
       "             estimator=Pipeline(steps=[('poly_features', PolynomialFeatures()),\n",
       "                                       ('poly_model', LinearRegression())]),\n",
       "             param_grid={'poly_features__degree': [1, 2, 3, 4, 5],\n",
       "                         'poly_features__include_bias': [False],\n",
       "                         'poly_model__fit_intercept': [True]},\n",
       "             verbose=1)"
      ]
     },
     "execution_count": 20,
     "metadata": {},
     "output_type": "execute_result"
    }
   ],
   "source": [
    "grid_searchcv.fit(X, y)"
   ]
  },
  {
   "cell_type": "code",
   "execution_count": 21,
   "id": "9e5ddad2",
   "metadata": {},
   "outputs": [
    {
     "name": "stdout",
     "output_type": "stream",
     "text": [
      "Best parameters found: {'poly_features__degree': 1, 'poly_features__include_bias': False, 'poly_model__fit_intercept': True}\n"
     ]
    }
   ],
   "source": [
    "print(f\"Best parameters found: {grid_searchcv.best_params_}\")"
   ]
  },
  {
   "cell_type": "code",
   "execution_count": 22,
   "id": "bd6ecc0e",
   "metadata": {},
   "outputs": [
    {
     "data": {
      "text/plain": [
       "{'poly_features__degree': [1],\n",
       " 'poly_features__include_bias': [False],\n",
       " 'poly_model__fit_intercept': [True]}"
      ]
     },
     "execution_count": 22,
     "metadata": {},
     "output_type": "execute_result"
    }
   ],
   "source": [
    "pipeline_params = {}\n",
    "for what in grid_searchcv.best_params_:\n",
    "    if pipeline_params.get(what) == None:\n",
    "        pipeline_params[what] = []\n",
    "    pipeline_params[what].append(grid_searchcv.best_params_[what])\n",
    "pipeline_params"
   ]
  },
  {
   "cell_type": "code",
   "execution_count": 23,
   "id": "51b457e8",
   "metadata": {},
   "outputs": [
    {
     "name": "stdout",
     "output_type": "stream",
     "text": [
      "PolynomialFeatures EVS = 0.009793441\n",
      "PolynomialFeatures MSE = 1.436593\n",
      "PolynomialFeatures MAE = 1.090351\n",
      "PolynomialFeatures R2 = -0.071071\n",
      "PolynomialFeatures Fit Time = 0.0031280040740966795\n"
     ]
    }
   ],
   "source": [
    "poly_bp = dosomething(\"linear\",\"PolynomialFeatures\", normalize_df, features, \"price\", pipeline_params)\n",
    "results_dict_append(poly_bp[\"results\"])\n",
    "poly_predict = poly_bp[\"predictions\"]"
   ]
  },
  {
   "cell_type": "code",
   "execution_count": null,
   "id": "dca19991",
   "metadata": {},
   "outputs": [],
   "source": []
  },
  {
   "cell_type": "code",
   "execution_count": null,
   "id": "eb393fff",
   "metadata": {},
   "outputs": [],
   "source": []
  },
  {
   "cell_type": "markdown",
   "id": "3e44bd35",
   "metadata": {},
   "source": [
    "#### Graphing the results works best when the data is provided in a DataFrame."
   ]
  },
  {
   "cell_type": "code",
   "execution_count": 24,
   "id": "4a4fb079",
   "metadata": {},
   "outputs": [],
   "source": [
    "poly_predict_df = pd.DataFrame(poly_predict).reset_index()\n",
    "poly_predict_df.rename(columns={0: \"prediction\"},inplace=True)\n",
    "\n",
    "linear_bp_predict = pd.DataFrame(linear_bp_predict).reset_index()\n",
    "linear_bp_predict.rename(columns={0: \"prediction\"},inplace=True)\n",
    "\n",
    "linear_sfm_predict_df = pd.DataFrame(linear_sfm_predict).reset_index()\n",
    "linear_sfm_predict_df.rename(columns={0: \"prediction\"},inplace=True)\n",
    "\n",
    "linear_sfs_predict_df = pd.DataFrame(linear_sfs_predict).reset_index()\n",
    "linear_sfs_predict_df.rename(columns={0: \"prediction\"},inplace=True)\n",
    "\n",
    "linear_rfe_predict_df = pd.DataFrame(linear_rfe_predict).reset_index()\n",
    "linear_rfe_predict_df.rename(columns={0: \"prediction\"},inplace=True)\n",
    "\n",
    "y_test_df = pd.DataFrame(y_test).reset_index()"
   ]
  },
  {
   "cell_type": "code",
   "execution_count": 25,
   "id": "1de48b41",
   "metadata": {},
   "outputs": [
    {
     "data": {
      "image/png": "[encoded data removed]",
      "text/plain": [
       "<Figure size 1000x600 with 1 Axes>"
      ]
     },
     "metadata": {},
     "output_type": "display_data"
    }
   ],
   "source": [
    "fig, ax = plt.subplots(figsize=(10, 6))\n",
    "\n",
    "ax.ticklabel_format(style='plain')\n",
    "ax.yaxis.set_major_formatter('${x:1,.0f}')\n",
    "ax.xaxis.set_major_formatter(' ')\n",
    "\n",
    "plt.scatter(y_test_df.index,y_test_df[\"price\"], color=\"red\")\n",
    "plt.scatter(poly_predict_df.index,poly_predict_df[\"prediction\"], color=\"blue\")\n",
    "plt.scatter(linear_bp_predict.index,linear_bp_predict[\"prediction\"], color=\"green\")\n",
    "plt.show()"
   ]
  },
  {
   "cell_type": "code",
   "execution_count": 26,
   "id": "71cb2b0a",
   "metadata": {},
   "outputs": [
    {
     "data": {
      "image/png": "[encoded data removed]",
      "text/plain": [
       "<Figure size 1000x600 with 1 Axes>"
      ]
     },
     "metadata": {},
     "output_type": "display_data"
    }
   ],
   "source": [
    "fig, ax = plt.subplots(figsize=(10, 6))\n",
    "\n",
    "ax.ticklabel_format(style='plain')\n",
    "ax.yaxis.set_major_formatter('${x:1,.0f}')\n",
    "ax.xaxis.set_major_formatter(' ')\n",
    "\n",
    "plt.scatter(y_test_df.index,y_test_df[\"price\"], color=\"red\")\n",
    "plt.scatter(linear_sfs_predict_df.index,linear_sfs_predict_df[\"prediction\"], color=\"green\")\n",
    "plt.scatter(linear_sfm_predict_df.index,linear_sfm_predict_df[\"prediction\"], color=\"blue\")\n",
    "plt.scatter(linear_bp_predict.index,linear_bp_predict[\"prediction\"], color=\"black\")\n",
    "plt.show()"
   ]
  },
  {
   "cell_type": "code",
   "execution_count": null,
   "id": "256264b3",
   "metadata": {},
   "outputs": [],
   "source": []
  },
  {
   "cell_type": "markdown",
   "id": "3d3255cf",
   "metadata": {},
   "source": [
    "#### Output the results so they can be copied into another Notebook comparing the results of all the models."
   ]
  },
  {
   "cell_type": "code",
   "execution_count": 27,
   "id": "cf40daca",
   "metadata": {},
   "outputs": [
    {
     "data": {
      "text/plain": [
       "{'model': ['Best Params',\n",
       "  'Select From Model',\n",
       "  'Sequential Feature Selector',\n",
       "  'Recursive Feature Elimination',\n",
       "  'PolynomialFeatures'],\n",
       " 'explained variance score': ['0.009793441',\n",
       "  '0.000000000',\n",
       "  '-0.014661771',\n",
       "  '-0.014661771',\n",
       "  '0.009793441'],\n",
       " 'mae score': ['1.090351', '1.125011', '1.093935', '1.093935', '1.090351'],\n",
       " 'mse score': ['1.436593', '2.589643', '1.508375', '1.508375', '1.436593'],\n",
       " 'r2 score': ['-0.071071', '-0.930742', '-0.124589', '-0.124589', '-0.071071'],\n",
       " 'mean fit time': [0.0013183116912841796,\n",
       "  0.0026300430297851564,\n",
       "  0.0010371685028076171,\n",
       "  0.0023096084594726564,\n",
       "  0.0031280040740966795]}"
      ]
     },
     "execution_count": 27,
     "metadata": {},
     "output_type": "execute_result"
    }
   ],
   "source": [
    "results_dict"
   ]
  },
  {
   "cell_type": "code",
   "execution_count": 28,
   "id": "d8787cfa",
   "metadata": {},
   "outputs": [
    {
     "data": {
      "text/html": [
       "<div>\n",
       "<style scoped>\n",
       "    .dataframe tbody tr th:only-of-type {\n",
       "        vertical-align: middle;\n",
       "    }\n",
       "\n",
       "    .dataframe tbody tr th {\n",
       "        vertical-align: top;\n",
       "    }\n",
       "\n",
       "    .dataframe thead th {\n",
       "        text-align: right;\n",
       "    }\n",
       "</style>\n",
       "<table border=\"1\" class=\"dataframe\">\n",
       "  <thead>\n",
       "    <tr style=\"text-align: right;\">\n",
       "      <th></th>\n",
       "      <th>explained variance score</th>\n",
       "      <th>mae score</th>\n",
       "      <th>mse score</th>\n",
       "      <th>r2 score</th>\n",
       "      <th>mean fit time</th>\n",
       "    </tr>\n",
       "    <tr>\n",
       "      <th>model</th>\n",
       "      <th></th>\n",
       "      <th></th>\n",
       "      <th></th>\n",
       "      <th></th>\n",
       "      <th></th>\n",
       "    </tr>\n",
       "  </thead>\n",
       "  <tbody>\n",
       "    <tr>\n",
       "      <th>Best Params</th>\n",
       "      <td>0.009793441</td>\n",
       "      <td>1.090351</td>\n",
       "      <td>1.436593</td>\n",
       "      <td>-0.071071</td>\n",
       "      <td>0.001318</td>\n",
       "    </tr>\n",
       "    <tr>\n",
       "      <th>Select From Model</th>\n",
       "      <td>0.000000000</td>\n",
       "      <td>1.125011</td>\n",
       "      <td>2.589643</td>\n",
       "      <td>-0.930742</td>\n",
       "      <td>0.002630</td>\n",
       "    </tr>\n",
       "    <tr>\n",
       "      <th>Sequential Feature Selector</th>\n",
       "      <td>-0.014661771</td>\n",
       "      <td>1.093935</td>\n",
       "      <td>1.508375</td>\n",
       "      <td>-0.124589</td>\n",
       "      <td>0.001037</td>\n",
       "    </tr>\n",
       "    <tr>\n",
       "      <th>Recursive Feature Elimination</th>\n",
       "      <td>-0.014661771</td>\n",
       "      <td>1.093935</td>\n",
       "      <td>1.508375</td>\n",
       "      <td>-0.124589</td>\n",
       "      <td>0.002310</td>\n",
       "    </tr>\n",
       "    <tr>\n",
       "      <th>PolynomialFeatures</th>\n",
       "      <td>0.009793441</td>\n",
       "      <td>1.090351</td>\n",
       "      <td>1.436593</td>\n",
       "      <td>-0.071071</td>\n",
       "      <td>0.003128</td>\n",
       "    </tr>\n",
       "  </tbody>\n",
       "</table>\n",
       "</div>"
      ],
      "text/plain": [
       "                              explained variance score mae score mse score  \\\n",
       "model                                                                        \n",
       "Best Params                                0.009793441  1.090351  1.436593   \n",
       "Select From Model                          0.000000000  1.125011  2.589643   \n",
       "Sequential Feature Selector               -0.014661771  1.093935  1.508375   \n",
       "Recursive Feature Elimination             -0.014661771  1.093935  1.508375   \n",
       "PolynomialFeatures                         0.009793441  1.090351  1.436593   \n",
       "\n",
       "                                r2 score  mean fit time  \n",
       "model                                                    \n",
       "Best Params                    -0.071071       0.001318  \n",
       "Select From Model              -0.930742       0.002630  \n",
       "Sequential Feature Selector    -0.124589       0.001037  \n",
       "Recursive Feature Elimination  -0.124589       0.002310  \n",
       "PolynomialFeatures             -0.071071       0.003128  "
      ]
     },
     "execution_count": 28,
     "metadata": {},
     "output_type": "execute_result"
    }
   ],
   "source": [
    "model_comparisons = pd.DataFrame(results_dict).set_index('model')\n",
    "model_comparisons"
   ]
  }
 ],
 "metadata": {
  "kernelspec": {
   "display_name": "Python 3 (ipykernel)",
   "language": "python",
   "name": "python3"
  },
  "language_info": {
   "codemirror_mode": {
    "name": "ipython",
    "version": 3
   },
   "file_extension": ".py",
   "mimetype": "text/x-python",
   "name": "python",
   "nbconvert_exporter": "python",
   "pygments_lexer": "ipython3",
   "version": "3.11.4"
  }
 },
 "nbformat": 4,
 "nbformat_minor": 5
}
