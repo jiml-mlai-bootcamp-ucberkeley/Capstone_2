{
 "cells": [
  {
   "cell_type": "markdown",
   "id": "878db100",
   "metadata": {},
   "source": [
    "## Try different Boosting models to get better predictions"
   ]
  },
  {
   "cell_type": "code",
   "execution_count": 1,
   "id": "fcece851",
   "metadata": {},
   "outputs": [],
   "source": [
    "from warnings import filterwarnings\n",
    "filterwarnings(\"ignore\")\n",
    "\n",
    "import sys\n",
    "sys.path.append('../common')\n",
    "\n",
    "from print_more_stuff import print_more_stuff\n",
    "from regression_models import dosomething\n",
    "from preprocessing import mean_and_std\n",
    "\n",
    "import pandas as pd\n",
    "import matplotlib.pyplot as plt\n",
    "import numpy as np\n",
    "import seaborn as sns\n",
    "\n",
    "from sklearn.ensemble import AdaBoostRegressor\n",
    "from sklearn.model_selection import train_test_split, GridSearchCV"
   ]
  },
  {
   "cell_type": "code",
   "execution_count": 2,
   "id": "a2ecb96d",
   "metadata": {},
   "outputs": [],
   "source": [
    "outliers_df = pd.read_csv(\"geocoded.csv\")\n",
    "outliers_df.drop(columns=[\"Unnamed: 0\"],inplace=True)"
   ]
  },
  {
   "cell_type": "code",
   "execution_count": 3,
   "id": "52c271cd",
   "metadata": {},
   "outputs": [
    {
     "name": "stdout",
     "output_type": "stream",
     "text": [
      "<class 'pandas.core.frame.DataFrame'>\n",
      "RangeIndex: 459 entries, 0 to 458\n",
      "Data columns (total 13 columns):\n",
      " #   Column          Non-Null Count  Dtype  \n",
      "---  ------          --------------  -----  \n",
      " 0   Unnamed: 0.1    459 non-null    int64  \n",
      " 1   bed             459 non-null    float64\n",
      " 2   bath            459 non-null    float64\n",
      " 3   acre_lot        459 non-null    float64\n",
      " 4   zip_code        459 non-null    float64\n",
      " 5   house_size      459 non-null    float64\n",
      " 6   prev_sold_date  459 non-null    object \n",
      " 7   price           459 non-null    float64\n",
      " 8   prev_sold_year  459 non-null    int64  \n",
      " 9   zip_code_str    459 non-null    int64  \n",
      " 10  latitude        459 non-null    float64\n",
      " 11  longitude       459 non-null    float64\n",
      " 12  county          459 non-null    int64  \n",
      "dtypes: float64(8), int64(4), object(1)\n",
      "memory usage: 46.7+ KB\n"
     ]
    }
   ],
   "source": [
    "outliers_df.info()"
   ]
  },
  {
   "cell_type": "code",
   "execution_count": 4,
   "id": "9fd0276b",
   "metadata": {},
   "outputs": [
    {
     "data": {
      "text/html": [
       "<div>\n",
       "<style scoped>\n",
       "    .dataframe tbody tr th:only-of-type {\n",
       "        vertical-align: middle;\n",
       "    }\n",
       "\n",
       "    .dataframe tbody tr th {\n",
       "        vertical-align: top;\n",
       "    }\n",
       "\n",
       "    .dataframe thead th {\n",
       "        text-align: right;\n",
       "    }\n",
       "</style>\n",
       "<table border=\"1\" class=\"dataframe\">\n",
       "  <thead>\n",
       "    <tr style=\"text-align: right;\">\n",
       "      <th></th>\n",
       "      <th>Unnamed: 0.1</th>\n",
       "      <th>bed</th>\n",
       "      <th>bath</th>\n",
       "      <th>acre_lot</th>\n",
       "      <th>zip_code</th>\n",
       "      <th>house_size</th>\n",
       "      <th>prev_sold_date</th>\n",
       "      <th>price</th>\n",
       "      <th>prev_sold_year</th>\n",
       "      <th>zip_code_str</th>\n",
       "      <th>latitude</th>\n",
       "      <th>longitude</th>\n",
       "      <th>county</th>\n",
       "    </tr>\n",
       "  </thead>\n",
       "  <tbody>\n",
       "    <tr>\n",
       "      <th>0</th>\n",
       "      <td>0</td>\n",
       "      <td>2.0</td>\n",
       "      <td>2.0</td>\n",
       "      <td>0.23</td>\n",
       "      <td>1001.0</td>\n",
       "      <td>892.0</td>\n",
       "      <td>2019-04-30</td>\n",
       "      <td>169900.0</td>\n",
       "      <td>2019</td>\n",
       "      <td>1001</td>\n",
       "      <td>42.062368</td>\n",
       "      <td>-72.625754</td>\n",
       "      <td>11</td>\n",
       "    </tr>\n",
       "    <tr>\n",
       "      <th>1</th>\n",
       "      <td>1</td>\n",
       "      <td>2.0</td>\n",
       "      <td>3.0</td>\n",
       "      <td>0.23</td>\n",
       "      <td>1001.0</td>\n",
       "      <td>1229.0</td>\n",
       "      <td>2016-06-07</td>\n",
       "      <td>239900.0</td>\n",
       "      <td>2016</td>\n",
       "      <td>1001</td>\n",
       "      <td>42.062368</td>\n",
       "      <td>-72.625754</td>\n",
       "      <td>11</td>\n",
       "    </tr>\n",
       "    <tr>\n",
       "      <th>2</th>\n",
       "      <td>2</td>\n",
       "      <td>2.0</td>\n",
       "      <td>2.0</td>\n",
       "      <td>0.23</td>\n",
       "      <td>1001.0</td>\n",
       "      <td>1056.0</td>\n",
       "      <td>2019-09-12</td>\n",
       "      <td>175000.0</td>\n",
       "      <td>2019</td>\n",
       "      <td>1001</td>\n",
       "      <td>42.062368</td>\n",
       "      <td>-72.625754</td>\n",
       "      <td>11</td>\n",
       "    </tr>\n",
       "    <tr>\n",
       "      <th>3</th>\n",
       "      <td>3</td>\n",
       "      <td>2.0</td>\n",
       "      <td>2.0</td>\n",
       "      <td>0.23</td>\n",
       "      <td>1001.0</td>\n",
       "      <td>960.0</td>\n",
       "      <td>2018-12-14</td>\n",
       "      <td>195000.0</td>\n",
       "      <td>2018</td>\n",
       "      <td>1001</td>\n",
       "      <td>42.062368</td>\n",
       "      <td>-72.625754</td>\n",
       "      <td>11</td>\n",
       "    </tr>\n",
       "    <tr>\n",
       "      <th>4</th>\n",
       "      <td>4</td>\n",
       "      <td>3.0</td>\n",
       "      <td>2.0</td>\n",
       "      <td>0.16</td>\n",
       "      <td>1002.0</td>\n",
       "      <td>1280.0</td>\n",
       "      <td>2021-08-19</td>\n",
       "      <td>275000.0</td>\n",
       "      <td>2021</td>\n",
       "      <td>1002</td>\n",
       "      <td>42.364061</td>\n",
       "      <td>-72.458739</td>\n",
       "      <td>9</td>\n",
       "    </tr>\n",
       "  </tbody>\n",
       "</table>\n",
       "</div>"
      ],
      "text/plain": [
       "   Unnamed: 0.1  bed  bath  acre_lot  zip_code  house_size prev_sold_date  \\\n",
       "0             0  2.0   2.0      0.23    1001.0       892.0     2019-04-30   \n",
       "1             1  2.0   3.0      0.23    1001.0      1229.0     2016-06-07   \n",
       "2             2  2.0   2.0      0.23    1001.0      1056.0     2019-09-12   \n",
       "3             3  2.0   2.0      0.23    1001.0       960.0     2018-12-14   \n",
       "4             4  3.0   2.0      0.16    1002.0      1280.0     2021-08-19   \n",
       "\n",
       "      price  prev_sold_year  zip_code_str   latitude  longitude  county  \n",
       "0  169900.0            2019          1001  42.062368 -72.625754      11  \n",
       "1  239900.0            2016          1001  42.062368 -72.625754      11  \n",
       "2  175000.0            2019          1001  42.062368 -72.625754      11  \n",
       "3  195000.0            2018          1001  42.062368 -72.625754      11  \n",
       "4  275000.0            2021          1002  42.364061 -72.458739       9  "
      ]
     },
     "execution_count": 4,
     "metadata": {},
     "output_type": "execute_result"
    }
   ],
   "source": [
    "outliers_df.head()"
   ]
  },
  {
   "cell_type": "markdown",
   "id": "c2eb273b",
   "metadata": {},
   "source": [
    "#### Create an object to pass to the function that will normalize the data"
   ]
  },
  {
   "cell_type": "code",
   "execution_count": 5,
   "id": "d801b217",
   "metadata": {},
   "outputs": [
    {
     "data": {
      "text/html": [
       "<div>\n",
       "<style scoped>\n",
       "    .dataframe tbody tr th:only-of-type {\n",
       "        vertical-align: middle;\n",
       "    }\n",
       "\n",
       "    .dataframe tbody tr th {\n",
       "        vertical-align: top;\n",
       "    }\n",
       "\n",
       "    .dataframe thead th {\n",
       "        text-align: right;\n",
       "    }\n",
       "</style>\n",
       "<table border=\"1\" class=\"dataframe\">\n",
       "  <thead>\n",
       "    <tr style=\"text-align: right;\">\n",
       "      <th></th>\n",
       "      <th>bed</th>\n",
       "      <th>bath</th>\n",
       "      <th>acre_lot</th>\n",
       "      <th>house_size</th>\n",
       "      <th>price</th>\n",
       "      <th>prev_sold_year</th>\n",
       "      <th>latitude</th>\n",
       "      <th>longitude</th>\n",
       "      <th>zip_code</th>\n",
       "    </tr>\n",
       "  </thead>\n",
       "  <tbody>\n",
       "    <tr>\n",
       "      <th>454</th>\n",
       "      <td>-1.439025</td>\n",
       "      <td>-1.091234</td>\n",
       "      <td>-0.255881</td>\n",
       "      <td>-1.626991</td>\n",
       "      <td>-0.404191</td>\n",
       "      <td>2019</td>\n",
       "      <td>42.059829</td>\n",
       "      <td>-70.200407</td>\n",
       "      <td>2657.0</td>\n",
       "    </tr>\n",
       "    <tr>\n",
       "      <th>455</th>\n",
       "      <td>-0.341828</td>\n",
       "      <td>-1.091234</td>\n",
       "      <td>-0.255881</td>\n",
       "      <td>-1.415688</td>\n",
       "      <td>-0.219714</td>\n",
       "      <td>2021</td>\n",
       "      <td>42.059829</td>\n",
       "      <td>-70.200407</td>\n",
       "      <td>2657.0</td>\n",
       "    </tr>\n",
       "    <tr>\n",
       "      <th>456</th>\n",
       "      <td>0.755369</td>\n",
       "      <td>1.334317</td>\n",
       "      <td>-0.016568</td>\n",
       "      <td>2.206659</td>\n",
       "      <td>1.356727</td>\n",
       "      <td>2018</td>\n",
       "      <td>42.059829</td>\n",
       "      <td>-70.200407</td>\n",
       "      <td>2657.0</td>\n",
       "    </tr>\n",
       "    <tr>\n",
       "      <th>457</th>\n",
       "      <td>-0.341828</td>\n",
       "      <td>-1.091234</td>\n",
       "      <td>-0.176110</td>\n",
       "      <td>-1.125900</td>\n",
       "      <td>-0.907311</td>\n",
       "      <td>2021</td>\n",
       "      <td>41.692705</td>\n",
       "      <td>-71.129726</td>\n",
       "      <td>2723.0</td>\n",
       "    </tr>\n",
       "    <tr>\n",
       "      <th>458</th>\n",
       "      <td>0.755369</td>\n",
       "      <td>-1.091234</td>\n",
       "      <td>-0.309062</td>\n",
       "      <td>-0.132773</td>\n",
       "      <td>-0.488045</td>\n",
       "      <td>2016</td>\n",
       "      <td>41.683936</td>\n",
       "      <td>-71.177500</td>\n",
       "      <td>2724.0</td>\n",
       "    </tr>\n",
       "  </tbody>\n",
       "</table>\n",
       "</div>"
      ],
      "text/plain": [
       "          bed      bath  acre_lot  house_size     price  prev_sold_year  \\\n",
       "454 -1.439025 -1.091234 -0.255881   -1.626991 -0.404191            2019   \n",
       "455 -0.341828 -1.091234 -0.255881   -1.415688 -0.219714            2021   \n",
       "456  0.755369  1.334317 -0.016568    2.206659  1.356727            2018   \n",
       "457 -0.341828 -1.091234 -0.176110   -1.125900 -0.907311            2021   \n",
       "458  0.755369 -1.091234 -0.309062   -0.132773 -0.488045            2016   \n",
       "\n",
       "      latitude  longitude  zip_code  \n",
       "454  42.059829 -70.200407    2657.0  \n",
       "455  42.059829 -70.200407    2657.0  \n",
       "456  42.059829 -70.200407    2657.0  \n",
       "457  41.692705 -71.129726    2723.0  \n",
       "458  41.683936 -71.177500    2724.0  "
      ]
     },
     "execution_count": 5,
     "metadata": {},
     "output_type": "execute_result"
    }
   ],
   "source": [
    "params = {\n",
    "    \"data\":outliers_df,\n",
    "    \"features_a\":[\"prev_sold_year\",\"latitude\",\"longitude\",\"zip_code\"],\n",
    "    \"features_n\":[\"bed\",\"bath\",\"acre_lot\",\"house_size\",\"price\"]\n",
    "}\n",
    "normalize_df = mean_and_std(params)\n",
    "#normalize_df = outliers_df\n",
    "normalize_df.tail()"
   ]
  },
  {
   "cell_type": "markdown",
   "id": "0d8a4cdd",
   "metadata": {},
   "source": [
    "#### Create a variable for the correlation of the normalized data"
   ]
  },
  {
   "cell_type": "code",
   "execution_count": 6,
   "id": "91c222ef",
   "metadata": {},
   "outputs": [
    {
     "data": {
      "text/plain": [
       "acre_lot          0.072629\n",
       "bed               0.210193\n",
       "bath              0.462797\n",
       "house_size        0.443264\n",
       "prev_sold_year    0.045388\n",
       "price             1.000000\n",
       "Name: price, dtype: float64"
      ]
     },
     "execution_count": 6,
     "metadata": {},
     "output_type": "execute_result"
    }
   ],
   "source": [
    "correlation = normalize_df[[\"acre_lot\",\"bed\",\"bath\",\"house_size\",\"prev_sold_year\",\"price\"]].corr()\n",
    "correlation[\"price\"]"
   ]
  },
  {
   "cell_type": "markdown",
   "id": "70a086e0",
   "metadata": {},
   "source": [
    "#### Display a Heatmap with the correlated data"
   ]
  },
  {
   "cell_type": "code",
   "execution_count": 7,
   "id": "1f97ba90",
   "metadata": {},
   "outputs": [
    {
     "data": {
      "text/plain": [
       "Text(0.5, 1.0, 'Correlation Between Variables')"
      ]
     },
     "execution_count": 7,
     "metadata": {},
     "output_type": "execute_result"
    },
    {
     "data": {
      "image/png": "[encoded data removed]",
      "text/plain": [
       "<Figure size 640x480 with 2 Axes>"
      ]
     },
     "metadata": {},
     "output_type": "display_data"
    }
   ],
   "source": [
    "sns.heatmap(correlation, vmin=-1, vmax=1, cmap = 'coolwarm', annot=True, fmt='.2f', linewidths=0.1)\n",
    "plt.title(\"Correlation Between Variables\", pad=20)"
   ]
  },
  {
   "cell_type": "markdown",
   "id": "acb30c92",
   "metadata": {},
   "source": [
    "#### Create a variable to hold the features that correlate with the price feature between 0.20 and 0.80"
   ]
  },
  {
   "cell_type": "code",
   "execution_count": 8,
   "id": "9b769506",
   "metadata": {},
   "outputs": [
    {
     "name": "stdout",
     "output_type": "stream",
     "text": [
      "['latitude', 'longitude', 'acre_lot', 'bed', 'bath', 'house_size', 'prev_sold_year']\n"
     ]
    }
   ],
   "source": [
    "'''\n",
    "'''\n",
    "savefeatures = [\"latitude\",\"longitude\"]\n",
    "for feature, value in correlation[\"price\"].items():\n",
    "    if abs(value) < 0.81 and abs(value) >= 0.03:\n",
    "        savefeatures.append(feature)\n",
    "\n",
    "print(savefeatures)"
   ]
  },
  {
   "cell_type": "markdown",
   "id": "67edd629",
   "metadata": {},
   "source": [
    "#### Create common variables to store frequently used values."
   ]
  },
  {
   "cell_type": "code",
   "execution_count": 9,
   "id": "d8dcd46e",
   "metadata": {},
   "outputs": [],
   "source": [
    "#features = [\"latitude\",\"longitude\",\"bed\",\"bath\",\"house_size\"]\n",
    "features = savefeatures\n",
    "num_features_to_select = len(features)-1\n",
    "random_state_value = 42"
   ]
  },
  {
   "cell_type": "markdown",
   "id": "33db6fc1",
   "metadata": {},
   "source": [
    "#### Datasets for modeling, testing the models, and making predictions."
   ]
  },
  {
   "cell_type": "code",
   "execution_count": 10,
   "id": "b3d6ac49",
   "metadata": {},
   "outputs": [],
   "source": [
    "X = normalize_df[savefeatures]\n",
    "y = normalize_df[\"price\"]\n",
    "X_train, X_test, y_train, y_test = train_test_split(X, y, test_size=0.3, random_state=random_state_value)"
   ]
  },
  {
   "cell_type": "markdown",
   "id": "9e6501dd",
   "metadata": {},
   "source": [
    "#### Variable to store the results generated by the models."
   ]
  },
  {
   "cell_type": "code",
   "execution_count": 11,
   "id": "05c888c7",
   "metadata": {},
   "outputs": [],
   "source": [
    "results_dict = {\"model\":[], \"explained variance score\":[],\"mae score\":[],\"mse score\":[],\"r2 score\":[], \"mean fit time\":[]}"
   ]
  },
  {
   "cell_type": "markdown",
   "id": "966b0587",
   "metadata": {},
   "source": [
    "#### Function to format the results generated by the models."
   ]
  },
  {
   "cell_type": "code",
   "execution_count": 12,
   "id": "1b7c29e9",
   "metadata": {},
   "outputs": [],
   "source": [
    "def results_dict_append(rtnval):\n",
    "    results_dict[\"model\"].append(rtnval[\"model\"])\n",
    "    results_dict[\"explained variance score\"].append(rtnval[\"explained variance score\"])\n",
    "    results_dict[\"mae score\"].append(rtnval[\"mae score\"])\n",
    "    results_dict[\"mse score\"].append(rtnval[\"mse score\"])\n",
    "    results_dict[\"r2 score\"].append(rtnval[\"r2 score\"])\n",
    "    results_dict[\"mean fit time\"].append(rtnval[\"mean fit time\"])"
   ]
  },
  {
   "cell_type": "markdown",
   "id": "a41440f6",
   "metadata": {},
   "source": [
    "#### Ada Boosting"
   ]
  },
  {
   "cell_type": "code",
   "execution_count": 13,
   "id": "08435cb6",
   "metadata": {},
   "outputs": [
    {
     "name": "stdout",
     "output_type": "stream",
     "text": [
      "The selected features are: ['latitude', 'longitude', 'acre_lot', 'bed', 'bath', 'house_size', 'prev_sold_year']\n",
      "Ada Boost EVS = 0.664320011\n",
      "Ada Boost MSE = 0.447138\n",
      "Ada Boost MAE = 0.509707\n",
      "Ada Boost R2 = 0.615889\n",
      "Ada Boost Fit Time = 0.06111502647399902\n"
     ]
    }
   ],
   "source": [
    "adaboost = dosomething(\"Ada Boost\",\"Ada Boost\", normalize_df, features, \"price\")\n",
    "results_dict_append(adaboost[\"results\"])\n",
    "adaboost_predict = adaboost[\"predictions\"]"
   ]
  },
  {
   "cell_type": "markdown",
   "id": "7f6ef86d",
   "metadata": {},
   "source": [
    "#### Gradient Boosting"
   ]
  },
  {
   "cell_type": "code",
   "execution_count": 14,
   "id": "69e73ea0",
   "metadata": {},
   "outputs": [
    {
     "name": "stdout",
     "output_type": "stream",
     "text": [
      "The selected features are: ['latitude', 'longitude', 'acre_lot', 'bed', 'bath', 'house_size', 'prev_sold_year']\n",
      "Gradient Boosting EVS = 0.744387315\n",
      "Gradient Boosting MSE = 0.299437\n",
      "Gradient Boosting MAE = 0.322739\n",
      "Gradient Boosting R2 = 0.742771\n",
      "Gradient Boosting Fit Time = 0.09474420547485352\n"
     ]
    }
   ],
   "source": [
    "gbr = dosomething(\"Gradient Boosting\",\"Gradient Boosting\", normalize_df, features, \"price\")\n",
    "results_dict_append(gbr[\"results\"])\n",
    "gbr_predict = gbr[\"predictions\"]"
   ]
  },
  {
   "cell_type": "markdown",
   "id": "0f197def",
   "metadata": {},
   "source": [
    "#### Hist Gradient Boosting"
   ]
  },
  {
   "cell_type": "code",
   "execution_count": 15,
   "id": "a5b34817",
   "metadata": {},
   "outputs": [
    {
     "name": "stdout",
     "output_type": "stream",
     "text": [
      "The selected features are: ['latitude', 'longitude', 'acre_lot', 'bed', 'bath', 'house_size', 'prev_sold_year']\n",
      "Hist Gradient Boosting EVS = 0.714108384\n",
      "Hist Gradient Boosting MSE = 0.333122\n",
      "Hist Gradient Boosting MAE = 0.346004\n",
      "Hist Gradient Boosting R2 = 0.713833\n",
      "Hist Gradient Boosting Fit Time = 0.20879764556884767\n"
     ]
    }
   ],
   "source": [
    "histgbr = dosomething(\"Hist Gradient Boosting\",\"Hist Gradient Boosting\", normalize_df, features, \"price\")\n",
    "results_dict_append(histgbr[\"results\"])\n",
    "histgbr_predict = histgbr[\"predictions\"]"
   ]
  },
  {
   "cell_type": "markdown",
   "id": "0a108ae9",
   "metadata": {},
   "source": [
    "#### Random Forest"
   ]
  },
  {
   "cell_type": "code",
   "execution_count": 16,
   "id": "39bec0ff",
   "metadata": {},
   "outputs": [
    {
     "name": "stdout",
     "output_type": "stream",
     "text": [
      "The selected features are: ['latitude', 'longitude', 'acre_lot', 'bed', 'bath', 'house_size', 'prev_sold_year']\n",
      "Random Forest EVS = 0.725741767\n",
      "Random Forest MSE = 0.319691\n",
      "Random Forest MAE = 0.320631\n",
      "Random Forest R2 = 0.725371\n",
      "Random Forest Fit Time = 0.22972640991210938\n"
     ]
    }
   ],
   "source": [
    "rf = dosomething(\"Random Forest\",\"Random Forest\", normalize_df, features, \"price\")\n",
    "results_dict_append(rf[\"results\"])\n",
    "rf_predict = rf[\"predictions\"]"
   ]
  },
  {
   "cell_type": "markdown",
   "id": "8db8c764",
   "metadata": {},
   "source": [
    "#### Graphing the results works best when the data is provided in a DataFrame."
   ]
  },
  {
   "cell_type": "code",
   "execution_count": 17,
   "id": "052290d6",
   "metadata": {},
   "outputs": [],
   "source": [
    "adaboost_predict_df = pd.DataFrame(adaboost_predict).reset_index()\n",
    "adaboost_predict_df.rename(columns={0: \"prediction\"},inplace=True)\n",
    "\n",
    "gbr_predict_df = pd.DataFrame(gbr_predict).reset_index()\n",
    "gbr_predict_df.rename(columns={0: \"prediction\"},inplace=True)\n",
    "\n",
    "rf_predict_df = pd.DataFrame(rf_predict).reset_index()\n",
    "rf_predict_df.rename(columns={0: \"prediction\"},inplace=True)\n",
    "\n",
    "histgbr_predict_df = pd.DataFrame(histgbr_predict).reset_index()\n",
    "histgbr_predict_df.rename(columns={0: \"prediction\"},inplace=True)\n",
    "\n",
    "y_test_df = pd.DataFrame(y_test).reset_index()"
   ]
  },
  {
   "cell_type": "code",
   "execution_count": 18,
   "id": "7fee38a1",
   "metadata": {},
   "outputs": [
    {
     "data": {
      "image/png": "[encoded data removed]",
      "text/plain": [
       "<Figure size 1000x600 with 1 Axes>"
      ]
     },
     "metadata": {},
     "output_type": "display_data"
    }
   ],
   "source": [
    "fig, ax = plt.subplots(figsize=(10, 6))\n",
    "\n",
    "ax.ticklabel_format(style='plain')\n",
    "ax.yaxis.set_major_formatter('${x:1,.0f}')\n",
    "ax.xaxis.set_major_formatter(' ')\n",
    "\n",
    "plt.scatter(y_test_df.index,y_test_df[\"price\"], color=\"red\")\n",
    "plt.scatter(gbr_predict_df.index,gbr_predict_df[\"prediction\"], color=\"blue\")\n",
    "plt.scatter(histgbr_predict_df.index,histgbr_predict_df[\"prediction\"], color=\"green\")\n",
    "#plt.scatter(adaboost_predict_df.index,adaboost_predict_df[\"prediction\"], color=\"black\")\n",
    "plt.scatter(rf_predict_df.index,rf_predict_df[\"prediction\"], color=\"black\")\n",
    "plt.show()"
   ]
  },
  {
   "cell_type": "markdown",
   "id": "2e3a88b2",
   "metadata": {},
   "source": [
    "#### Output the results so they can be copied into another Notebook comparing the results of all the models."
   ]
  },
  {
   "cell_type": "code",
   "execution_count": 19,
   "id": "530085fb",
   "metadata": {},
   "outputs": [
    {
     "data": {
      "text/plain": [
       "{'model': ['Ada Boost',\n",
       "  'Gradient Boosting',\n",
       "  'Hist Gradient Boosting',\n",
       "  'Random Forest'],\n",
       " 'explained variance score': ['0.664320011',\n",
       "  '0.744387315',\n",
       "  '0.714108384',\n",
       "  '0.725741767'],\n",
       " 'mae score': ['0.509707', '0.322739', '0.346004', '0.320631'],\n",
       " 'mse score': ['0.447138', '0.299437', '0.333122', '0.319691'],\n",
       " 'r2 score': ['0.615889', '0.742771', '0.713833', '0.725371'],\n",
       " 'mean fit time': [0.06111502647399902,\n",
       "  0.09474420547485352,\n",
       "  0.20879764556884767,\n",
       "  0.22972640991210938]}"
      ]
     },
     "execution_count": 19,
     "metadata": {},
     "output_type": "execute_result"
    }
   ],
   "source": [
    "results_dict"
   ]
  },
  {
   "cell_type": "code",
   "execution_count": 20,
   "id": "cb4da965",
   "metadata": {},
   "outputs": [
    {
     "data": {
      "text/html": [
       "<div>\n",
       "<style scoped>\n",
       "    .dataframe tbody tr th:only-of-type {\n",
       "        vertical-align: middle;\n",
       "    }\n",
       "\n",
       "    .dataframe tbody tr th {\n",
       "        vertical-align: top;\n",
       "    }\n",
       "\n",
       "    .dataframe thead th {\n",
       "        text-align: right;\n",
       "    }\n",
       "</style>\n",
       "<table border=\"1\" class=\"dataframe\">\n",
       "  <thead>\n",
       "    <tr style=\"text-align: right;\">\n",
       "      <th></th>\n",
       "      <th>explained variance score</th>\n",
       "      <th>mae score</th>\n",
       "      <th>mse score</th>\n",
       "      <th>r2 score</th>\n",
       "      <th>mean fit time</th>\n",
       "    </tr>\n",
       "    <tr>\n",
       "      <th>model</th>\n",
       "      <th></th>\n",
       "      <th></th>\n",
       "      <th></th>\n",
       "      <th></th>\n",
       "      <th></th>\n",
       "    </tr>\n",
       "  </thead>\n",
       "  <tbody>\n",
       "    <tr>\n",
       "      <th>Ada Boost</th>\n",
       "      <td>0.664320011</td>\n",
       "      <td>0.509707</td>\n",
       "      <td>0.447138</td>\n",
       "      <td>0.615889</td>\n",
       "      <td>0.061115</td>\n",
       "    </tr>\n",
       "    <tr>\n",
       "      <th>Gradient Boosting</th>\n",
       "      <td>0.744387315</td>\n",
       "      <td>0.322739</td>\n",
       "      <td>0.299437</td>\n",
       "      <td>0.742771</td>\n",
       "      <td>0.094744</td>\n",
       "    </tr>\n",
       "    <tr>\n",
       "      <th>Hist Gradient Boosting</th>\n",
       "      <td>0.714108384</td>\n",
       "      <td>0.346004</td>\n",
       "      <td>0.333122</td>\n",
       "      <td>0.713833</td>\n",
       "      <td>0.208798</td>\n",
       "    </tr>\n",
       "    <tr>\n",
       "      <th>Random Forest</th>\n",
       "      <td>0.725741767</td>\n",
       "      <td>0.320631</td>\n",
       "      <td>0.319691</td>\n",
       "      <td>0.725371</td>\n",
       "      <td>0.229726</td>\n",
       "    </tr>\n",
       "  </tbody>\n",
       "</table>\n",
       "</div>"
      ],
      "text/plain": [
       "                       explained variance score mae score mse score  r2 score  \\\n",
       "model                                                                           \n",
       "Ada Boost                           0.664320011  0.509707  0.447138  0.615889   \n",
       "Gradient Boosting                   0.744387315  0.322739  0.299437  0.742771   \n",
       "Hist Gradient Boosting              0.714108384  0.346004  0.333122  0.713833   \n",
       "Random Forest                       0.725741767  0.320631  0.319691  0.725371   \n",
       "\n",
       "                        mean fit time  \n",
       "model                                  \n",
       "Ada Boost                    0.061115  \n",
       "Gradient Boosting            0.094744  \n",
       "Hist Gradient Boosting       0.208798  \n",
       "Random Forest                0.229726  "
      ]
     },
     "execution_count": 20,
     "metadata": {},
     "output_type": "execute_result"
    }
   ],
   "source": [
    "model_comparisons = pd.DataFrame(results_dict).set_index('model')\n",
    "model_comparisons"
   ]
  },
  {
   "cell_type": "code",
   "execution_count": null,
   "id": "edd4a599",
   "metadata": {},
   "outputs": [],
   "source": []
  }
 ],
 "metadata": {
  "kernelspec": {
   "display_name": "Python 3 (ipykernel)",
   "language": "python",
   "name": "python3"
  },
  "language_info": {
   "codemirror_mode": {
    "name": "ipython",
    "version": 3
   },
   "file_extension": ".py",
   "mimetype": "text/x-python",
   "name": "python",
   "nbconvert_exporter": "python",
   "pygments_lexer": "ipython3",
   "version": "3.11.4"
  }
 },
 "nbformat": 4,
 "nbformat_minor": 5
}
