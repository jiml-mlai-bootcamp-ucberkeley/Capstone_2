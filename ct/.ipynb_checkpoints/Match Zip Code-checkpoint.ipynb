{
 "cells": [
  {
   "cell_type": "code",
   "execution_count": 1,
   "id": "6d8db377",
   "metadata": {},
   "outputs": [],
   "source": [
    "from warnings import filterwarnings \n",
    "filterwarnings(\"ignore\")\n",
    "\n",
    "import pandas as pd\n",
    "import matplotlib.pyplot as plt\n",
    "import numpy as np\n",
    "\n",
    "from sklearn.cluster import KMeans"
   ]
  },
  {
   "cell_type": "markdown",
   "id": "9ef6c594",
   "metadata": {},
   "source": [
    "#### Read the outliers file and add a feature \"prev_sold_year\""
   ]
  },
  {
   "cell_type": "code",
   "execution_count": 2,
   "id": "29612711",
   "metadata": {},
   "outputs": [],
   "source": [
    "realtor_data_df = pd.read_csv('outliers.csv')\n",
    "realtor_data_df[\"prev_sold_year\"] = pd.to_datetime(realtor_data_df[\"prev_sold_date\"], format='%Y-%m-%d').dt.year"
   ]
  },
  {
   "cell_type": "code",
   "execution_count": 3,
   "id": "c7ed6068",
   "metadata": {},
   "outputs": [],
   "source": [
    "for_sale_df = realtor_data_df"
   ]
  },
  {
   "cell_type": "markdown",
   "id": "3952f79b",
   "metadata": {},
   "source": [
    "#### Create a feature that will append '0' to the zipcode feature"
   ]
  },
  {
   "cell_type": "code",
   "execution_count": 4,
   "id": "aeefc3c3",
   "metadata": {},
   "outputs": [
    {
     "data": {
      "text/html": [
       "<div>\n",
       "<style scoped>\n",
       "    .dataframe tbody tr th:only-of-type {\n",
       "        vertical-align: middle;\n",
       "    }\n",
       "\n",
       "    .dataframe tbody tr th {\n",
       "        vertical-align: top;\n",
       "    }\n",
       "\n",
       "    .dataframe thead th {\n",
       "        text-align: right;\n",
       "    }\n",
       "</style>\n",
       "<table border=\"1\" class=\"dataframe\">\n",
       "  <thead>\n",
       "    <tr style=\"text-align: right;\">\n",
       "      <th></th>\n",
       "      <th>Unnamed: 0</th>\n",
       "      <th>bed</th>\n",
       "      <th>bath</th>\n",
       "      <th>acre_lot</th>\n",
       "      <th>zip_code</th>\n",
       "      <th>house_size</th>\n",
       "      <th>prev_sold_date</th>\n",
       "      <th>price</th>\n",
       "      <th>prev_sold_year</th>\n",
       "      <th>zip_code_str</th>\n",
       "    </tr>\n",
       "  </thead>\n",
       "  <tbody>\n",
       "    <tr>\n",
       "      <th>0</th>\n",
       "      <td>1</td>\n",
       "      <td>4.0</td>\n",
       "      <td>3.0</td>\n",
       "      <td>2.34</td>\n",
       "      <td>6238.0</td>\n",
       "      <td>3320.0</td>\n",
       "      <td>2021-06-01</td>\n",
       "      <td>579900.0</td>\n",
       "      <td>2021</td>\n",
       "      <td>06238</td>\n",
       "    </tr>\n",
       "    <tr>\n",
       "      <th>1</th>\n",
       "      <td>2</td>\n",
       "      <td>1.0</td>\n",
       "      <td>1.0</td>\n",
       "      <td>0.17</td>\n",
       "      <td>6279.0</td>\n",
       "      <td>680.0</td>\n",
       "      <td>2019-08-16</td>\n",
       "      <td>65000.0</td>\n",
       "      <td>2019</td>\n",
       "      <td>06279</td>\n",
       "    </tr>\n",
       "    <tr>\n",
       "      <th>2</th>\n",
       "      <td>4</td>\n",
       "      <td>2.0</td>\n",
       "      <td>1.0</td>\n",
       "      <td>0.36</td>\n",
       "      <td>6066.0</td>\n",
       "      <td>860.0</td>\n",
       "      <td>2016-09-02</td>\n",
       "      <td>144900.0</td>\n",
       "      <td>2016</td>\n",
       "      <td>06066</td>\n",
       "    </tr>\n",
       "    <tr>\n",
       "      <th>3</th>\n",
       "      <td>8</td>\n",
       "      <td>2.0</td>\n",
       "      <td>2.0</td>\n",
       "      <td>0.17</td>\n",
       "      <td>6074.0</td>\n",
       "      <td>1168.0</td>\n",
       "      <td>2020-12-28</td>\n",
       "      <td>172500.0</td>\n",
       "      <td>2020</td>\n",
       "      <td>06074</td>\n",
       "    </tr>\n",
       "    <tr>\n",
       "      <th>4</th>\n",
       "      <td>31</td>\n",
       "      <td>3.0</td>\n",
       "      <td>2.0</td>\n",
       "      <td>5.88</td>\n",
       "      <td>6071.0</td>\n",
       "      <td>1152.0</td>\n",
       "      <td>2017-01-03</td>\n",
       "      <td>89900.0</td>\n",
       "      <td>2017</td>\n",
       "      <td>06071</td>\n",
       "    </tr>\n",
       "  </tbody>\n",
       "</table>\n",
       "</div>"
      ],
      "text/plain": [
       "   Unnamed: 0  bed  bath  acre_lot  zip_code  house_size prev_sold_date  \\\n",
       "0           1  4.0   3.0      2.34    6238.0      3320.0     2021-06-01   \n",
       "1           2  1.0   1.0      0.17    6279.0       680.0     2019-08-16   \n",
       "2           4  2.0   1.0      0.36    6066.0       860.0     2016-09-02   \n",
       "3           8  2.0   2.0      0.17    6074.0      1168.0     2020-12-28   \n",
       "4          31  3.0   2.0      5.88    6071.0      1152.0     2017-01-03   \n",
       "\n",
       "      price  prev_sold_year zip_code_str  \n",
       "0  579900.0            2021        06238  \n",
       "1   65000.0            2019        06279  \n",
       "2  144900.0            2016        06066  \n",
       "3  172500.0            2020        06074  \n",
       "4   89900.0            2017        06071  "
      ]
     },
     "execution_count": 4,
     "metadata": {},
     "output_type": "execute_result"
    }
   ],
   "source": [
    "for_sale_df[\"zip_code_str\"] = '0'+ for_sale_df[\"zip_code\"].apply(int).apply(str)\n",
    "for_sale_df.head()"
   ]
  },
  {
   "cell_type": "markdown",
   "id": "00cc8fac",
   "metadata": {},
   "source": [
    "#### Get the unique zipcodes in the dataframe"
   ]
  },
  {
   "cell_type": "code",
   "execution_count": 5,
   "id": "af0dc973",
   "metadata": {},
   "outputs": [
    {
     "data": {
      "text/plain": [
       "245"
      ]
     },
     "execution_count": 5,
     "metadata": {},
     "output_type": "execute_result"
    }
   ],
   "source": [
    "zipcodes = for_sale_df[\"zip_code\"]\n",
    "len(zipcodes.unique())"
   ]
  },
  {
   "cell_type": "markdown",
   "id": "fd9cc5ed",
   "metadata": {},
   "source": [
    "#### Read the file with Latitude and Longitude, rename the features"
   ]
  },
  {
   "cell_type": "code",
   "execution_count": 6,
   "id": "7846aeff",
   "metadata": {},
   "outputs": [
    {
     "data": {
      "text/html": [
       "<div>\n",
       "<style scoped>\n",
       "    .dataframe tbody tr th:only-of-type {\n",
       "        vertical-align: middle;\n",
       "    }\n",
       "\n",
       "    .dataframe tbody tr th {\n",
       "        vertical-align: top;\n",
       "    }\n",
       "\n",
       "    .dataframe thead th {\n",
       "        text-align: right;\n",
       "    }\n",
       "</style>\n",
       "<table border=\"1\" class=\"dataframe\">\n",
       "  <thead>\n",
       "    <tr style=\"text-align: right;\">\n",
       "      <th></th>\n",
       "      <th>zip_code</th>\n",
       "      <th>latitude</th>\n",
       "      <th>longitude</th>\n",
       "    </tr>\n",
       "  </thead>\n",
       "  <tbody>\n",
       "    <tr>\n",
       "      <th>0</th>\n",
       "      <td>601</td>\n",
       "      <td>18.180555</td>\n",
       "      <td>-66.749961</td>\n",
       "    </tr>\n",
       "    <tr>\n",
       "      <th>1</th>\n",
       "      <td>602</td>\n",
       "      <td>18.361945</td>\n",
       "      <td>-67.175597</td>\n",
       "    </tr>\n",
       "    <tr>\n",
       "      <th>2</th>\n",
       "      <td>603</td>\n",
       "      <td>18.455183</td>\n",
       "      <td>-67.119887</td>\n",
       "    </tr>\n",
       "    <tr>\n",
       "      <th>3</th>\n",
       "      <td>606</td>\n",
       "      <td>18.158345</td>\n",
       "      <td>-66.932911</td>\n",
       "    </tr>\n",
       "    <tr>\n",
       "      <th>4</th>\n",
       "      <td>610</td>\n",
       "      <td>18.295366</td>\n",
       "      <td>-67.125135</td>\n",
       "    </tr>\n",
       "  </tbody>\n",
       "</table>\n",
       "</div>"
      ],
      "text/plain": [
       "   zip_code   latitude  longitude\n",
       "0       601  18.180555 -66.749961\n",
       "1       602  18.361945 -67.175597\n",
       "2       603  18.455183 -67.119887\n",
       "3       606  18.158345 -66.932911\n",
       "4       610  18.295366 -67.125135"
      ]
     },
     "execution_count": 6,
     "metadata": {},
     "output_type": "execute_result"
    }
   ],
   "source": [
    "# Because of its size this dataset is not saved in the code repo for this project.\n",
    "# It can be downloaded and saved in the same path to make this Notebook run.\n",
    "zip_lon_lat = pd.read_csv('../../../zip_lat_long.csv')\n",
    "zip_lon_lat.rename(columns={\"ZIP\":\"zip_code\", \"LAT\":\"latitude\", \"LNG\":\"longitude\"},inplace=True)\n",
    "zip_lon_lat.head()"
   ]
  },
  {
   "cell_type": "markdown",
   "id": "f9fda901",
   "metadata": {},
   "source": [
    "#### Find matching zipcodes that were found in the dataset"
   ]
  },
  {
   "cell_type": "code",
   "execution_count": 7,
   "id": "739bea9c",
   "metadata": {},
   "outputs": [
    {
     "data": {
      "text/html": [
       "<div>\n",
       "<style scoped>\n",
       "    .dataframe tbody tr th:only-of-type {\n",
       "        vertical-align: middle;\n",
       "    }\n",
       "\n",
       "    .dataframe tbody tr th {\n",
       "        vertical-align: top;\n",
       "    }\n",
       "\n",
       "    .dataframe thead th {\n",
       "        text-align: right;\n",
       "    }\n",
       "</style>\n",
       "<table border=\"1\" class=\"dataframe\">\n",
       "  <thead>\n",
       "    <tr style=\"text-align: right;\">\n",
       "      <th></th>\n",
       "      <th>zip_code</th>\n",
       "      <th>latitude</th>\n",
       "      <th>longitude</th>\n",
       "      <th>zip_code_str</th>\n",
       "    </tr>\n",
       "  </thead>\n",
       "  <tbody>\n",
       "    <tr>\n",
       "      <th>1691</th>\n",
       "      <td>6001</td>\n",
       "      <td>41.787159</td>\n",
       "      <td>-72.852046</td>\n",
       "      <td>06001</td>\n",
       "    </tr>\n",
       "    <tr>\n",
       "      <th>1692</th>\n",
       "      <td>6002</td>\n",
       "      <td>41.844930</td>\n",
       "      <td>-72.740951</td>\n",
       "      <td>06002</td>\n",
       "    </tr>\n",
       "    <tr>\n",
       "      <th>1693</th>\n",
       "      <td>6010</td>\n",
       "      <td>41.681578</td>\n",
       "      <td>-72.940749</td>\n",
       "      <td>06010</td>\n",
       "    </tr>\n",
       "    <tr>\n",
       "      <th>1694</th>\n",
       "      <td>6013</td>\n",
       "      <td>41.749079</td>\n",
       "      <td>-72.948657</td>\n",
       "      <td>06013</td>\n",
       "    </tr>\n",
       "    <tr>\n",
       "      <th>1695</th>\n",
       "      <td>6016</td>\n",
       "      <td>41.901899</td>\n",
       "      <td>-72.547432</td>\n",
       "      <td>06016</td>\n",
       "    </tr>\n",
       "  </tbody>\n",
       "</table>\n",
       "</div>"
      ],
      "text/plain": [
       "      zip_code   latitude  longitude zip_code_str\n",
       "1691      6001  41.787159 -72.852046        06001\n",
       "1692      6002  41.844930 -72.740951        06002\n",
       "1693      6010  41.681578 -72.940749        06010\n",
       "1694      6013  41.749079 -72.948657        06013\n",
       "1695      6016  41.901899 -72.547432        06016"
      ]
     },
     "execution_count": 7,
     "metadata": {},
     "output_type": "execute_result"
    }
   ],
   "source": [
    "find_zipcodes_df = zip_lon_lat[zip_lon_lat[\"zip_code\"].isin(zipcodes.unique())]\n",
    "find_zipcodes_df[\"zip_code_str\"] = \"0\"+find_zipcodes_df[\"zip_code\"].apply(str)\n",
    "find_zipcodes_df.head()"
   ]
  },
  {
   "cell_type": "code",
   "execution_count": null,
   "id": "8f35b383",
   "metadata": {},
   "outputs": [],
   "source": []
  },
  {
   "cell_type": "markdown",
   "id": "2ca2d460",
   "metadata": {},
   "source": []
  },
  {
   "cell_type": "markdown",
   "id": "845e3366",
   "metadata": {},
   "source": [
    "#### Merge the dataset with the Latitude and Longitude data"
   ]
  },
  {
   "cell_type": "code",
   "execution_count": 8,
   "id": "283d683e",
   "metadata": {},
   "outputs": [],
   "source": [
    "merge_df = for_sale_df.merge(find_zipcodes_df, how='outer', on='zip_code_str')\n",
    "\n",
    "merge_df.rename(columns={\"zip_code_x\":\"zip_code\"},inplace=True)\n",
    "merge_df.drop(columns=[\"zip_code_y\"],inplace=True)"
   ]
  },
  {
   "cell_type": "markdown",
   "id": "a2372659",
   "metadata": {},
   "source": [
    "#### Display the records that didn't match up"
   ]
  },
  {
   "cell_type": "code",
   "execution_count": 9,
   "id": "65cfc109",
   "metadata": {},
   "outputs": [
    {
     "data": {
      "text/html": [
       "<div>\n",
       "<style scoped>\n",
       "    .dataframe tbody tr th:only-of-type {\n",
       "        vertical-align: middle;\n",
       "    }\n",
       "\n",
       "    .dataframe tbody tr th {\n",
       "        vertical-align: top;\n",
       "    }\n",
       "\n",
       "    .dataframe thead th {\n",
       "        text-align: right;\n",
       "    }\n",
       "</style>\n",
       "<table border=\"1\" class=\"dataframe\">\n",
       "  <thead>\n",
       "    <tr style=\"text-align: right;\">\n",
       "      <th></th>\n",
       "      <th>Unnamed: 0</th>\n",
       "      <th>bed</th>\n",
       "      <th>bath</th>\n",
       "      <th>acre_lot</th>\n",
       "      <th>zip_code</th>\n",
       "      <th>house_size</th>\n",
       "      <th>prev_sold_date</th>\n",
       "      <th>price</th>\n",
       "      <th>prev_sold_year</th>\n",
       "      <th>zip_code_str</th>\n",
       "      <th>latitude</th>\n",
       "      <th>longitude</th>\n",
       "    </tr>\n",
       "  </thead>\n",
       "  <tbody>\n",
       "  </tbody>\n",
       "</table>\n",
       "</div>"
      ],
      "text/plain": [
       "Empty DataFrame\n",
       "Columns: [Unnamed: 0, bed, bath, acre_lot, zip_code, house_size, prev_sold_date, price, prev_sold_year, zip_code_str, latitude, longitude]\n",
       "Index: []"
      ]
     },
     "execution_count": 9,
     "metadata": {},
     "output_type": "execute_result"
    }
   ],
   "source": [
    "merge_df[merge_df[\"latitude\"].isna()]"
   ]
  },
  {
   "cell_type": "code",
   "execution_count": 10,
   "id": "f8a529f9",
   "metadata": {},
   "outputs": [],
   "source": [
    "# \"08218\",\"39.1386785\",\"-74.856442\""
   ]
  },
  {
   "cell_type": "code",
   "execution_count": 11,
   "id": "20307491",
   "metadata": {},
   "outputs": [],
   "source": [
    "# \"08239\",\"39.1979584\",\"-74.6577965\""
   ]
  },
  {
   "cell_type": "code",
   "execution_count": 12,
   "id": "a6239f51",
   "metadata": {},
   "outputs": [],
   "source": [
    "# \"08245\",\"39.1778125\",\"-74.8300693\""
   ]
  },
  {
   "cell_type": "markdown",
   "id": "da0d22aa",
   "metadata": {},
   "source": [
    "#### Drop the records that didn't match up"
   ]
  },
  {
   "cell_type": "code",
   "execution_count": 13,
   "id": "83699b0c",
   "metadata": {},
   "outputs": [],
   "source": [
    "merge_df.dropna(subset=['latitude'], inplace=True)"
   ]
  },
  {
   "cell_type": "code",
   "execution_count": 14,
   "id": "505fc14f",
   "metadata": {},
   "outputs": [
    {
     "data": {
      "text/html": [
       "<div>\n",
       "<style scoped>\n",
       "    .dataframe tbody tr th:only-of-type {\n",
       "        vertical-align: middle;\n",
       "    }\n",
       "\n",
       "    .dataframe tbody tr th {\n",
       "        vertical-align: top;\n",
       "    }\n",
       "\n",
       "    .dataframe thead th {\n",
       "        text-align: right;\n",
       "    }\n",
       "</style>\n",
       "<table border=\"1\" class=\"dataframe\">\n",
       "  <thead>\n",
       "    <tr style=\"text-align: right;\">\n",
       "      <th></th>\n",
       "      <th>Unnamed: 0</th>\n",
       "      <th>bed</th>\n",
       "      <th>bath</th>\n",
       "      <th>acre_lot</th>\n",
       "      <th>zip_code</th>\n",
       "      <th>house_size</th>\n",
       "      <th>prev_sold_date</th>\n",
       "      <th>price</th>\n",
       "      <th>prev_sold_year</th>\n",
       "      <th>zip_code_str</th>\n",
       "      <th>latitude</th>\n",
       "      <th>longitude</th>\n",
       "    </tr>\n",
       "  </thead>\n",
       "  <tbody>\n",
       "    <tr>\n",
       "      <th>0</th>\n",
       "      <td>1</td>\n",
       "      <td>4.0</td>\n",
       "      <td>3.0</td>\n",
       "      <td>2.34</td>\n",
       "      <td>6238.0</td>\n",
       "      <td>3320.0</td>\n",
       "      <td>2021-06-01</td>\n",
       "      <td>579900.0</td>\n",
       "      <td>2021</td>\n",
       "      <td>06238</td>\n",
       "      <td>41.780138</td>\n",
       "      <td>-72.343943</td>\n",
       "    </tr>\n",
       "    <tr>\n",
       "      <th>1</th>\n",
       "      <td>713</td>\n",
       "      <td>2.0</td>\n",
       "      <td>1.0</td>\n",
       "      <td>0.11</td>\n",
       "      <td>6238.0</td>\n",
       "      <td>963.0</td>\n",
       "      <td>2018-07-05</td>\n",
       "      <td>89000.0</td>\n",
       "      <td>2018</td>\n",
       "      <td>06238</td>\n",
       "      <td>41.780138</td>\n",
       "      <td>-72.343943</td>\n",
       "    </tr>\n",
       "    <tr>\n",
       "      <th>2</th>\n",
       "      <td>762</td>\n",
       "      <td>3.0</td>\n",
       "      <td>2.0</td>\n",
       "      <td>5.49</td>\n",
       "      <td>6238.0</td>\n",
       "      <td>1288.0</td>\n",
       "      <td>2021-06-04</td>\n",
       "      <td>164900.0</td>\n",
       "      <td>2021</td>\n",
       "      <td>06238</td>\n",
       "      <td>41.780138</td>\n",
       "      <td>-72.343943</td>\n",
       "    </tr>\n",
       "    <tr>\n",
       "      <th>3</th>\n",
       "      <td>957</td>\n",
       "      <td>3.0</td>\n",
       "      <td>1.0</td>\n",
       "      <td>0.34</td>\n",
       "      <td>6238.0</td>\n",
       "      <td>1104.0</td>\n",
       "      <td>2017-03-27</td>\n",
       "      <td>199999.0</td>\n",
       "      <td>2017</td>\n",
       "      <td>06238</td>\n",
       "      <td>41.780138</td>\n",
       "      <td>-72.343943</td>\n",
       "    </tr>\n",
       "    <tr>\n",
       "      <th>4</th>\n",
       "      <td>1027</td>\n",
       "      <td>4.0</td>\n",
       "      <td>3.0</td>\n",
       "      <td>1.72</td>\n",
       "      <td>6238.0</td>\n",
       "      <td>2313.0</td>\n",
       "      <td>2020-09-15</td>\n",
       "      <td>519900.0</td>\n",
       "      <td>2020</td>\n",
       "      <td>06238</td>\n",
       "      <td>41.780138</td>\n",
       "      <td>-72.343943</td>\n",
       "    </tr>\n",
       "  </tbody>\n",
       "</table>\n",
       "</div>"
      ],
      "text/plain": [
       "   Unnamed: 0  bed  bath  acre_lot  zip_code  house_size prev_sold_date  \\\n",
       "0           1  4.0   3.0      2.34    6238.0      3320.0     2021-06-01   \n",
       "1         713  2.0   1.0      0.11    6238.0       963.0     2018-07-05   \n",
       "2         762  3.0   2.0      5.49    6238.0      1288.0     2021-06-04   \n",
       "3         957  3.0   1.0      0.34    6238.0      1104.0     2017-03-27   \n",
       "4        1027  4.0   3.0      1.72    6238.0      2313.0     2020-09-15   \n",
       "\n",
       "      price  prev_sold_year zip_code_str   latitude  longitude  \n",
       "0  579900.0            2021        06238  41.780138 -72.343943  \n",
       "1   89000.0            2018        06238  41.780138 -72.343943  \n",
       "2  164900.0            2021        06238  41.780138 -72.343943  \n",
       "3  199999.0            2017        06238  41.780138 -72.343943  \n",
       "4  519900.0            2020        06238  41.780138 -72.343943  "
      ]
     },
     "execution_count": 14,
     "metadata": {},
     "output_type": "execute_result"
    }
   ],
   "source": [
    "merge_df.head()"
   ]
  },
  {
   "cell_type": "markdown",
   "id": "b2772eb2",
   "metadata": {},
   "source": [
    "#### Use KMeans to cluster latitude and longitude into counties"
   ]
  },
  {
   "cell_type": "code",
   "execution_count": 15,
   "id": "73fc96ac",
   "metadata": {},
   "outputs": [],
   "source": [
    "numberofcounties = 8\n",
    "kmeans = KMeans( init=\"random\", n_clusters=21,random_state=0)\n",
    "latlong = merge_df[[\"latitude\",\"longitude\"]]\n",
    "kmeans.fit(latlong)\n",
    "y_kmeans = kmeans.predict(latlong)"
   ]
  },
  {
   "cell_type": "markdown",
   "id": "f29537dc",
   "metadata": {},
   "source": [
    "#### Plot the counties"
   ]
  },
  {
   "cell_type": "code",
   "execution_count": 16,
   "id": "82f0a805",
   "metadata": {},
   "outputs": [
    {
     "data": {
      "text/plain": [
       "<matplotlib.collections.PathCollection at 0x2a6595ac890>"
      ]
     },
     "execution_count": 16,
     "metadata": {},
     "output_type": "execute_result"
    },
    {
     "data": {
      "image/png": "[encoded data removed]",
      "text/plain": [
       "<Figure size 1000x1000 with 1 Axes>"
      ]
     },
     "metadata": {},
     "output_type": "display_data"
    }
   ],
   "source": [
    "fig, ax = plt.subplots(figsize=(10, 10))\n",
    "plt.scatter(merge_df[\"longitude\"], merge_df[\"latitude\"], c=y_kmeans, s=50, cmap='viridis')"
   ]
  },
  {
   "cell_type": "markdown",
   "id": "06f72fd9",
   "metadata": {},
   "source": [
    "#### Add county to the dataset going forward"
   ]
  },
  {
   "cell_type": "code",
   "execution_count": 17,
   "id": "a1c1ae50",
   "metadata": {},
   "outputs": [],
   "source": [
    "merge_df[\"county\"] = y_kmeans"
   ]
  },
  {
   "cell_type": "code",
   "execution_count": 18,
   "id": "2877a45b",
   "metadata": {},
   "outputs": [
    {
     "data": {
      "text/html": [
       "<div>\n",
       "<style scoped>\n",
       "    .dataframe tbody tr th:only-of-type {\n",
       "        vertical-align: middle;\n",
       "    }\n",
       "\n",
       "    .dataframe tbody tr th {\n",
       "        vertical-align: top;\n",
       "    }\n",
       "\n",
       "    .dataframe thead th {\n",
       "        text-align: right;\n",
       "    }\n",
       "</style>\n",
       "<table border=\"1\" class=\"dataframe\">\n",
       "  <thead>\n",
       "    <tr style=\"text-align: right;\">\n",
       "      <th></th>\n",
       "      <th>Unnamed: 0</th>\n",
       "      <th>bed</th>\n",
       "      <th>bath</th>\n",
       "      <th>acre_lot</th>\n",
       "      <th>zip_code</th>\n",
       "      <th>house_size</th>\n",
       "      <th>prev_sold_date</th>\n",
       "      <th>price</th>\n",
       "      <th>prev_sold_year</th>\n",
       "      <th>zip_code_str</th>\n",
       "      <th>latitude</th>\n",
       "      <th>longitude</th>\n",
       "      <th>county</th>\n",
       "    </tr>\n",
       "  </thead>\n",
       "  <tbody>\n",
       "    <tr>\n",
       "      <th>0</th>\n",
       "      <td>1</td>\n",
       "      <td>4.0</td>\n",
       "      <td>3.0</td>\n",
       "      <td>2.34</td>\n",
       "      <td>6238.0</td>\n",
       "      <td>3320.0</td>\n",
       "      <td>2021-06-01</td>\n",
       "      <td>579900.0</td>\n",
       "      <td>2021</td>\n",
       "      <td>06238</td>\n",
       "      <td>41.780138</td>\n",
       "      <td>-72.343943</td>\n",
       "      <td>11</td>\n",
       "    </tr>\n",
       "    <tr>\n",
       "      <th>1</th>\n",
       "      <td>713</td>\n",
       "      <td>2.0</td>\n",
       "      <td>1.0</td>\n",
       "      <td>0.11</td>\n",
       "      <td>6238.0</td>\n",
       "      <td>963.0</td>\n",
       "      <td>2018-07-05</td>\n",
       "      <td>89000.0</td>\n",
       "      <td>2018</td>\n",
       "      <td>06238</td>\n",
       "      <td>41.780138</td>\n",
       "      <td>-72.343943</td>\n",
       "      <td>11</td>\n",
       "    </tr>\n",
       "    <tr>\n",
       "      <th>2</th>\n",
       "      <td>762</td>\n",
       "      <td>3.0</td>\n",
       "      <td>2.0</td>\n",
       "      <td>5.49</td>\n",
       "      <td>6238.0</td>\n",
       "      <td>1288.0</td>\n",
       "      <td>2021-06-04</td>\n",
       "      <td>164900.0</td>\n",
       "      <td>2021</td>\n",
       "      <td>06238</td>\n",
       "      <td>41.780138</td>\n",
       "      <td>-72.343943</td>\n",
       "      <td>11</td>\n",
       "    </tr>\n",
       "    <tr>\n",
       "      <th>3</th>\n",
       "      <td>957</td>\n",
       "      <td>3.0</td>\n",
       "      <td>1.0</td>\n",
       "      <td>0.34</td>\n",
       "      <td>6238.0</td>\n",
       "      <td>1104.0</td>\n",
       "      <td>2017-03-27</td>\n",
       "      <td>199999.0</td>\n",
       "      <td>2017</td>\n",
       "      <td>06238</td>\n",
       "      <td>41.780138</td>\n",
       "      <td>-72.343943</td>\n",
       "      <td>11</td>\n",
       "    </tr>\n",
       "    <tr>\n",
       "      <th>4</th>\n",
       "      <td>1027</td>\n",
       "      <td>4.0</td>\n",
       "      <td>3.0</td>\n",
       "      <td>1.72</td>\n",
       "      <td>6238.0</td>\n",
       "      <td>2313.0</td>\n",
       "      <td>2020-09-15</td>\n",
       "      <td>519900.0</td>\n",
       "      <td>2020</td>\n",
       "      <td>06238</td>\n",
       "      <td>41.780138</td>\n",
       "      <td>-72.343943</td>\n",
       "      <td>11</td>\n",
       "    </tr>\n",
       "  </tbody>\n",
       "</table>\n",
       "</div>"
      ],
      "text/plain": [
       "   Unnamed: 0  bed  bath  acre_lot  zip_code  house_size prev_sold_date  \\\n",
       "0           1  4.0   3.0      2.34    6238.0      3320.0     2021-06-01   \n",
       "1         713  2.0   1.0      0.11    6238.0       963.0     2018-07-05   \n",
       "2         762  3.0   2.0      5.49    6238.0      1288.0     2021-06-04   \n",
       "3         957  3.0   1.0      0.34    6238.0      1104.0     2017-03-27   \n",
       "4        1027  4.0   3.0      1.72    6238.0      2313.0     2020-09-15   \n",
       "\n",
       "      price  prev_sold_year zip_code_str   latitude  longitude  county  \n",
       "0  579900.0            2021        06238  41.780138 -72.343943      11  \n",
       "1   89000.0            2018        06238  41.780138 -72.343943      11  \n",
       "2  164900.0            2021        06238  41.780138 -72.343943      11  \n",
       "3  199999.0            2017        06238  41.780138 -72.343943      11  \n",
       "4  519900.0            2020        06238  41.780138 -72.343943      11  "
      ]
     },
     "execution_count": 18,
     "metadata": {},
     "output_type": "execute_result"
    }
   ],
   "source": [
    "merge_df.head()"
   ]
  },
  {
   "cell_type": "markdown",
   "id": "672e92e0",
   "metadata": {},
   "source": [
    "#### Save the records to a csv file"
   ]
  },
  {
   "cell_type": "code",
   "execution_count": 19,
   "id": "bef09f9d",
   "metadata": {},
   "outputs": [],
   "source": [
    "merge_df.to_csv(\"geocoded.csv\")"
   ]
  },
  {
   "cell_type": "code",
   "execution_count": null,
   "id": "d95d5796",
   "metadata": {},
   "outputs": [],
   "source": []
  }
 ],
 "metadata": {
  "kernelspec": {
   "display_name": "Python 3 (ipykernel)",
   "language": "python",
   "name": "python3"
  },
  "language_info": {
   "codemirror_mode": {
    "name": "ipython",
    "version": 3
   },
   "file_extension": ".py",
   "mimetype": "text/x-python",
   "name": "python",
   "nbconvert_exporter": "python",
   "pygments_lexer": "ipython3",
   "version": "3.11.4"
  }
 },
 "nbformat": 4,
 "nbformat_minor": 5
}
