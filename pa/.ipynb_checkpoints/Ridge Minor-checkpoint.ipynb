{
 "cells": [
  {
   "cell_type": "markdown",
   "id": "760924d5",
   "metadata": {},
   "source": [
    "### Ridge regression addresses some of the problems of Ordinary Least Squares by imposing a penalty on the size of the coefficients. The ridge coefficients minimize a penalized residual sum of squares"
   ]
  },
  {
   "cell_type": "code",
   "execution_count": 1,
   "id": "6703d5d1",
   "metadata": {},
   "outputs": [],
   "source": [
    "from warnings import filterwarnings\n",
    "filterwarnings(\"ignore\")\n",
    "\n",
    "import sys\n",
    "sys.path.append('../common')\n",
    "\n",
    "from print_more_stuff import print_more_stuff\n",
    "from preprocessing import mean_and_std\n",
    "from regression_models import dosomething\n",
    "\n",
    "import pandas as pd\n",
    "import matplotlib.pyplot as plt\n",
    "import numpy as np\n",
    "import seaborn as sns\n",
    "\n",
    "from sklearn.linear_model import Ridge\n",
    "from sklearn.model_selection import train_test_split, cross_val_score, GridSearchCV"
   ]
  },
  {
   "cell_type": "code",
   "execution_count": 2,
   "id": "e76f44b1",
   "metadata": {},
   "outputs": [],
   "source": [
    "outliers_df = pd.read_csv('geocoded.csv')\n",
    "outliers_df.drop(columns=[\"Unnamed: 0\"],inplace=True)"
   ]
  },
  {
   "cell_type": "code",
   "execution_count": 3,
   "id": "3a3b5d51",
   "metadata": {},
   "outputs": [
    {
     "name": "stdout",
     "output_type": "stream",
     "text": [
      "<class 'pandas.core.frame.DataFrame'>\n",
      "RangeIndex: 2353 entries, 0 to 2352\n",
      "Data columns (total 13 columns):\n",
      " #   Column          Non-Null Count  Dtype  \n",
      "---  ------          --------------  -----  \n",
      " 0   Unnamed: 0.1    2353 non-null   int64  \n",
      " 1   bed             2353 non-null   float64\n",
      " 2   bath            2353 non-null   float64\n",
      " 3   acre_lot        2353 non-null   float64\n",
      " 4   zip_code        2353 non-null   float64\n",
      " 5   house_size      2353 non-null   float64\n",
      " 6   prev_sold_date  2353 non-null   object \n",
      " 7   price           2353 non-null   float64\n",
      " 8   prev_sold_year  2353 non-null   int64  \n",
      " 9   zip_code_str    2353 non-null   int64  \n",
      " 10  latitude        2353 non-null   float64\n",
      " 11  longitude       2353 non-null   float64\n",
      " 12  county          2353 non-null   int64  \n",
      "dtypes: float64(8), int64(4), object(1)\n",
      "memory usage: 239.1+ KB\n"
     ]
    }
   ],
   "source": [
    "outliers_df.info()"
   ]
  },
  {
   "cell_type": "markdown",
   "id": "5a60f11c",
   "metadata": {},
   "source": [
    "#### Find the zip code of that has the most houses."
   ]
  },
  {
   "cell_type": "code",
   "execution_count": 4,
   "id": "c1a83bca",
   "metadata": {},
   "outputs": [
    {
     "data": {
      "text/plain": [
       "19146.0"
      ]
     },
     "execution_count": 4,
     "metadata": {},
     "output_type": "execute_result"
    }
   ],
   "source": [
    "groupby_zipcode = outliers_df.groupby([\"zip_code\"])[\"zip_code\"].count().sort_values(ascending=False)\n",
    "groupby_zipcode_df = pd.DataFrame(groupby_zipcode).rename(columns={\"zip_code\":\"count\"}).reset_index()\n",
    "first_zipcode = groupby_zipcode_df.iloc[0][\"zip_code\"]\n",
    "first_zipcode"
   ]
  },
  {
   "cell_type": "code",
   "execution_count": 5,
   "id": "6c7634d1",
   "metadata": {},
   "outputs": [],
   "source": [
    "one_zipcode_df = outliers_df[outliers_df[\"zip_code\"].isin([first_zipcode])]"
   ]
  },
  {
   "cell_type": "code",
   "execution_count": 6,
   "id": "63c6d164",
   "metadata": {},
   "outputs": [
    {
     "name": "stdout",
     "output_type": "stream",
     "text": [
      "<class 'pandas.core.frame.DataFrame'>\n",
      "Int64Index: 134 entries, 1099 to 1232\n",
      "Data columns (total 13 columns):\n",
      " #   Column          Non-Null Count  Dtype  \n",
      "---  ------          --------------  -----  \n",
      " 0   Unnamed: 0.1    134 non-null    int64  \n",
      " 1   bed             134 non-null    float64\n",
      " 2   bath            134 non-null    float64\n",
      " 3   acre_lot        134 non-null    float64\n",
      " 4   zip_code        134 non-null    float64\n",
      " 5   house_size      134 non-null    float64\n",
      " 6   prev_sold_date  134 non-null    object \n",
      " 7   price           134 non-null    float64\n",
      " 8   prev_sold_year  134 non-null    int64  \n",
      " 9   zip_code_str    134 non-null    int64  \n",
      " 10  latitude        134 non-null    float64\n",
      " 11  longitude       134 non-null    float64\n",
      " 12  county          134 non-null    int64  \n",
      "dtypes: float64(8), int64(4), object(1)\n",
      "memory usage: 14.7+ KB\n"
     ]
    }
   ],
   "source": [
    "one_zipcode_df.info()"
   ]
  },
  {
   "cell_type": "markdown",
   "id": "78d825b8",
   "metadata": {},
   "source": [
    "#### Create an object to pass to the function that will normalize the data"
   ]
  },
  {
   "cell_type": "code",
   "execution_count": 7,
   "id": "4a65123a",
   "metadata": {},
   "outputs": [
    {
     "data": {
      "text/html": [
       "<div>\n",
       "<style scoped>\n",
       "    .dataframe tbody tr th:only-of-type {\n",
       "        vertical-align: middle;\n",
       "    }\n",
       "\n",
       "    .dataframe tbody tr th {\n",
       "        vertical-align: top;\n",
       "    }\n",
       "\n",
       "    .dataframe thead th {\n",
       "        text-align: right;\n",
       "    }\n",
       "</style>\n",
       "<table border=\"1\" class=\"dataframe\">\n",
       "  <thead>\n",
       "    <tr style=\"text-align: right;\">\n",
       "      <th></th>\n",
       "      <th>bed</th>\n",
       "      <th>bath</th>\n",
       "      <th>acre_lot</th>\n",
       "      <th>house_size</th>\n",
       "      <th>price</th>\n",
       "      <th>prev_sold_year</th>\n",
       "      <th>zip_code</th>\n",
       "      <th>latitude</th>\n",
       "      <th>longitude</th>\n",
       "    </tr>\n",
       "  </thead>\n",
       "  <tbody>\n",
       "    <tr>\n",
       "      <th>1228</th>\n",
       "      <td>0.196139</td>\n",
       "      <td>0.553037</td>\n",
       "      <td>0.153380</td>\n",
       "      <td>-0.751480</td>\n",
       "      <td>2.402579</td>\n",
       "      <td>2018</td>\n",
       "      <td>19146.0</td>\n",
       "      <td>39.939496</td>\n",
       "      <td>-75.184146</td>\n",
       "    </tr>\n",
       "    <tr>\n",
       "      <th>1229</th>\n",
       "      <td>-2.432121</td>\n",
       "      <td>-1.692628</td>\n",
       "      <td>0.153380</td>\n",
       "      <td>-1.152960</td>\n",
       "      <td>-0.384075</td>\n",
       "      <td>2016</td>\n",
       "      <td>19146.0</td>\n",
       "      <td>39.939496</td>\n",
       "      <td>-75.184146</td>\n",
       "    </tr>\n",
       "    <tr>\n",
       "      <th>1230</th>\n",
       "      <td>1.510269</td>\n",
       "      <td>0.553037</td>\n",
       "      <td>-1.715065</td>\n",
       "      <td>0.360765</td>\n",
       "      <td>-0.121360</td>\n",
       "      <td>2017</td>\n",
       "      <td>19146.0</td>\n",
       "      <td>39.939496</td>\n",
       "      <td>-75.184146</td>\n",
       "    </tr>\n",
       "    <tr>\n",
       "      <th>1231</th>\n",
       "      <td>0.196139</td>\n",
       "      <td>-0.569796</td>\n",
       "      <td>0.153380</td>\n",
       "      <td>-0.180488</td>\n",
       "      <td>-0.623224</td>\n",
       "      <td>2021</td>\n",
       "      <td>19146.0</td>\n",
       "      <td>39.939496</td>\n",
       "      <td>-75.184146</td>\n",
       "    </tr>\n",
       "    <tr>\n",
       "      <th>1232</th>\n",
       "      <td>0.196139</td>\n",
       "      <td>-0.569796</td>\n",
       "      <td>0.153380</td>\n",
       "      <td>-0.480854</td>\n",
       "      <td>-0.528966</td>\n",
       "      <td>2018</td>\n",
       "      <td>19146.0</td>\n",
       "      <td>39.939496</td>\n",
       "      <td>-75.184146</td>\n",
       "    </tr>\n",
       "  </tbody>\n",
       "</table>\n",
       "</div>"
      ],
      "text/plain": [
       "           bed      bath  acre_lot  house_size     price  prev_sold_year  \\\n",
       "1228  0.196139  0.553037  0.153380   -0.751480  2.402579            2018   \n",
       "1229 -2.432121 -1.692628  0.153380   -1.152960 -0.384075            2016   \n",
       "1230  1.510269  0.553037 -1.715065    0.360765 -0.121360            2017   \n",
       "1231  0.196139 -0.569796  0.153380   -0.180488 -0.623224            2021   \n",
       "1232  0.196139 -0.569796  0.153380   -0.480854 -0.528966            2018   \n",
       "\n",
       "      zip_code   latitude  longitude  \n",
       "1228   19146.0  39.939496 -75.184146  \n",
       "1229   19146.0  39.939496 -75.184146  \n",
       "1230   19146.0  39.939496 -75.184146  \n",
       "1231   19146.0  39.939496 -75.184146  \n",
       "1232   19146.0  39.939496 -75.184146  "
      ]
     },
     "execution_count": 7,
     "metadata": {},
     "output_type": "execute_result"
    }
   ],
   "source": [
    "params = {\n",
    "    \"data\":one_zipcode_df,\n",
    "    \"features_a\":[\"prev_sold_year\",\"zip_code\",\"latitude\",\"longitude\"],\n",
    "    \"features_n\":[\"bed\",\"bath\",\"acre_lot\",\"house_size\",\"price\"]\n",
    "}\n",
    "normalize_df = mean_and_std(params)\n",
    "#normalize_df = outliers_df\n",
    "normalize_df.tail()"
   ]
  },
  {
   "cell_type": "markdown",
   "id": "6ea90b64",
   "metadata": {},
   "source": [
    "#### Create a variable for the correlation of the normalized data"
   ]
  },
  {
   "cell_type": "code",
   "execution_count": 8,
   "id": "5d93d4f9",
   "metadata": {},
   "outputs": [
    {
     "data": {
      "text/plain": [
       "acre_lot          0.121093\n",
       "bed               0.318752\n",
       "bath              0.595084\n",
       "house_size        0.681330\n",
       "prev_sold_year    0.021525\n",
       "price             1.000000\n",
       "Name: price, dtype: float64"
      ]
     },
     "execution_count": 8,
     "metadata": {},
     "output_type": "execute_result"
    }
   ],
   "source": [
    "correlation = normalize_df[[\"acre_lot\",\"bed\",\"bath\",\"house_size\",\"prev_sold_year\",\"price\"]].corr()\n",
    "correlation[\"price\"]"
   ]
  },
  {
   "cell_type": "markdown",
   "id": "21d9fd97",
   "metadata": {},
   "source": [
    "#### Display a Heatmap with the correlated data"
   ]
  },
  {
   "cell_type": "code",
   "execution_count": 9,
   "id": "ade3651b",
   "metadata": {},
   "outputs": [
    {
     "data": {
      "text/plain": [
       "Text(0.5, 1.0, 'Correlation Between Variables')"
      ]
     },
     "execution_count": 9,
     "metadata": {},
     "output_type": "execute_result"
    },
    {
     "data": {
      "image/png": "[encoded data removed]",
      "text/plain": [
       "<Figure size 640x480 with 2 Axes>"
      ]
     },
     "metadata": {},
     "output_type": "display_data"
    }
   ],
   "source": [
    "sns.heatmap(correlation, vmin=-1, vmax=1, cmap = 'coolwarm', annot=True, fmt='.2f', linewidths=0.1)\n",
    "plt.title(\"Correlation Between Variables\", pad=20)"
   ]
  },
  {
   "cell_type": "markdown",
   "id": "c713fb28",
   "metadata": {},
   "source": [
    "#### Create a variable to hold the features that correlate with the price feature between 0.20 and 0.80"
   ]
  },
  {
   "cell_type": "code",
   "execution_count": 10,
   "id": "e438ace4",
   "metadata": {},
   "outputs": [
    {
     "name": "stdout",
     "output_type": "stream",
     "text": [
      "['latitude', 'longitude', 'bed', 'bath', 'house_size']\n"
     ]
    }
   ],
   "source": [
    "'''\n",
    "'''\n",
    "savefeatures = [\"latitude\",\"longitude\"]\n",
    "for feature, value in correlation[\"price\"].items():\n",
    "    if abs(value) < 0.81 and abs(value) >= 0.20:\n",
    "        savefeatures.append(feature)\n",
    "\n",
    "print(savefeatures)"
   ]
  },
  {
   "cell_type": "code",
   "execution_count": null,
   "id": "5083bce3",
   "metadata": {},
   "outputs": [],
   "source": []
  },
  {
   "cell_type": "markdown",
   "id": "eb5d6854",
   "metadata": {},
   "source": [
    "#### Create common variables to store frequently used values."
   ]
  },
  {
   "cell_type": "code",
   "execution_count": 11,
   "id": "aa1c1059",
   "metadata": {},
   "outputs": [],
   "source": [
    "features = savefeatures\n",
    "num_features_to_select = len(features)-1\n",
    "random_state_value = 42"
   ]
  },
  {
   "cell_type": "markdown",
   "id": "d2df4928",
   "metadata": {},
   "source": [
    "#### Datasets for modeling, testing the models, and making predictions."
   ]
  },
  {
   "cell_type": "code",
   "execution_count": 12,
   "id": "7bff4fc2",
   "metadata": {},
   "outputs": [],
   "source": [
    "X = normalize_df[features]\n",
    "y = normalize_df[\"price\"]\n",
    "X_train, X_test, y_train, y_test = train_test_split(X, y, test_size=0.3, random_state=random_state_value)"
   ]
  },
  {
   "cell_type": "code",
   "execution_count": null,
   "id": "25f416da",
   "metadata": {},
   "outputs": [],
   "source": []
  },
  {
   "cell_type": "markdown",
   "id": "6cf44df9",
   "metadata": {},
   "source": [
    "#### Variable to store the results generated by the models."
   ]
  },
  {
   "cell_type": "code",
   "execution_count": 13,
   "id": "3bbe39f7",
   "metadata": {},
   "outputs": [],
   "source": [
    "results_dict = {\"model\":[], \"explained variance score\":[],\"mae score\":[],\"mse score\":[],\"r2 score\":[], \"mean fit time\":[]}"
   ]
  },
  {
   "cell_type": "markdown",
   "id": "e4262559",
   "metadata": {},
   "source": [
    "#### Function to format the results generated by the models."
   ]
  },
  {
   "cell_type": "code",
   "execution_count": 14,
   "id": "d1427612",
   "metadata": {},
   "outputs": [],
   "source": [
    "def results_dict_append(rtnval):\n",
    "    results_dict[\"model\"].append(rtnval[\"model\"])\n",
    "    results_dict[\"explained variance score\"].append(rtnval[\"explained variance score\"])\n",
    "    results_dict[\"mae score\"].append(rtnval[\"mae score\"])\n",
    "    results_dict[\"mse score\"].append(rtnval[\"mse score\"])\n",
    "    results_dict[\"r2 score\"].append(rtnval[\"r2 score\"])\n",
    "    results_dict[\"mean fit time\"].append(rtnval[\"mean fit time\"])"
   ]
  },
  {
   "cell_type": "code",
   "execution_count": null,
   "id": "65b401a0",
   "metadata": {},
   "outputs": [],
   "source": []
  },
  {
   "cell_type": "markdown",
   "id": "1251c0e1",
   "metadata": {},
   "source": [
    "#### Use Grid Search CV to find the best Hyperparameters for Ridge Regression"
   ]
  },
  {
   "cell_type": "code",
   "execution_count": 15,
   "id": "f686f4ec",
   "metadata": {},
   "outputs": [
    {
     "name": "stdout",
     "output_type": "stream",
     "text": [
      "Best parameters found: {'alpha': 1e-09}\n"
     ]
    }
   ],
   "source": [
    "ridge_gscv = GridSearchCV(Ridge(random_state=42), {'alpha': [1e-11, 1e-10, 1e-9]}, scoring='neg_mean_squared_error')\n",
    "ridge_gscv_model = ridge_gscv.fit(X, y)\n",
    "print(f\"Best parameters found: {ridge_gscv.best_params_}\")"
   ]
  },
  {
   "cell_type": "markdown",
   "id": "9c7e5ed5",
   "metadata": {},
   "source": [
    "#### The best params attribute will be used to fit  model with the training data and make a prediction with the test data."
   ]
  },
  {
   "cell_type": "code",
   "execution_count": 16,
   "id": "18340346",
   "metadata": {},
   "outputs": [
    {
     "name": "stdout",
     "output_type": "stream",
     "text": [
      "The selected features are: ['latitude', 'longitude', 'bed', 'bath', 'house_size']\n",
      "Best Params EVS = 0.288064360\n",
      "Best Params MSE = 0.406576\n",
      "Best Params MAE = 0.463259\n",
      "Best Params R2 = 0.233826\n",
      "Best Params Fit Time = 0.0010613441467285157\n"
     ]
    }
   ],
   "source": [
    "ridge_bp = dosomething(\"Ridge\",\"Best Params\", normalize_df, features, \"price\", ridge_gscv.best_params_)\n",
    "results_dict_append(ridge_bp[\"results\"])\n",
    "ridge_bp_predict = ridge_bp[\"predictions\"]"
   ]
  },
  {
   "cell_type": "code",
   "execution_count": null,
   "id": "26c395f9",
   "metadata": {},
   "outputs": [],
   "source": []
  },
  {
   "cell_type": "markdown",
   "id": "0c24bbba",
   "metadata": {},
   "source": [
    "### SelectFromModel is a meta-transformer that can be used alongside any estimator that assigns importance to each feature through a specific attribute or via an importance_getter callable after fitting. The features are considered unimportant and removed if the corresponding importance of the feature values are below the provided threshold parameter."
   ]
  },
  {
   "cell_type": "code",
   "execution_count": 17,
   "id": "dfd5c36c",
   "metadata": {},
   "outputs": [
    {
     "name": "stdout",
     "output_type": "stream",
     "text": [
      "The selected features are: ['bed', 'bath', 'house_size']\n",
      "Select From Model EVS = 0.302486157\n",
      "Select From Model MSE = 0.398775\n",
      "Select From Model MAE = 0.461195\n",
      "Select From Model R2 = 0.248528\n",
      "Select From Model Fit Time = 0.001784515380859375\n"
     ]
    }
   ],
   "source": [
    "ridge_sfm = dosomething(\"Ridge\",\"Select From Model\", normalize_df, features, \"price\")\n",
    "results_dict_append(ridge_sfm[\"results\"])\n",
    "ridge_sfm_predict = ridge_sfm[\"predictions\"]"
   ]
  },
  {
   "cell_type": "code",
   "execution_count": null,
   "id": "2ed4510e",
   "metadata": {},
   "outputs": [],
   "source": []
  },
  {
   "cell_type": "markdown",
   "id": "178bbc2b",
   "metadata": {},
   "source": [
    "###  Sequential Feature Selector (forward selection) adds features to form a feature subset in a greedy fashion. At each stage, this estimator chooses the best feature to add or remove based on the cross-validation score of an estimator."
   ]
  },
  {
   "cell_type": "code",
   "execution_count": 18,
   "id": "70329d90",
   "metadata": {},
   "outputs": [
    {
     "name": "stdout",
     "output_type": "stream",
     "text": [
      "The selected features are: ['latitude', 'bed', 'bath', 'house_size']\n",
      "Sequential Feature Selector EVS = 0.302486157\n",
      "Sequential Feature Selector MSE = 0.398775\n",
      "Sequential Feature Selector MAE = 0.461195\n",
      "Sequential Feature Selector R2 = 0.248528\n",
      "Sequential Feature Selector Fit Time = 0.0022294998168945314\n"
     ]
    }
   ],
   "source": [
    "ridge_sfs = dosomething(\"Ridge\",\"Sequential Feature Selector\", normalize_df, features, \"price\")\n",
    "results_dict_append(ridge_sfs[\"results\"])\n",
    "ridge_sfs_predict = ridge_sfs[\"predictions\"]"
   ]
  },
  {
   "cell_type": "code",
   "execution_count": null,
   "id": "3eafd718",
   "metadata": {},
   "outputs": [],
   "source": []
  },
  {
   "cell_type": "markdown",
   "id": "9aef9f0c",
   "metadata": {},
   "source": [
    "### Recursive feature elimination uses an external estimator that assigns weights to features with the goal of selecting features by recursively considering smaller and smaller sets of features."
   ]
  },
  {
   "cell_type": "code",
   "execution_count": 19,
   "id": "4431ed9f",
   "metadata": {},
   "outputs": [
    {
     "name": "stdout",
     "output_type": "stream",
     "text": [
      "The selected features are: ['longitude', 'bed', 'bath', 'house_size']\n",
      "Recursive Feature Elimination EVS = 0.302486157\n",
      "Recursive Feature Elimination MSE = 0.398775\n",
      "Recursive Feature Elimination MAE = 0.461195\n",
      "Recursive Feature Elimination R2 = 0.248528\n",
      "Recursive Feature Elimination Fit Time = 0.0\n"
     ]
    }
   ],
   "source": [
    "ridge_rfe = dosomething(\"Ridge\",\"Recursive Feature Elimination\", normalize_df, features, \"price\")\n",
    "results_dict_append(ridge_rfe[\"results\"])\n",
    "ridge_rfe_predict = ridge_rfe[\"predictions\"]"
   ]
  },
  {
   "cell_type": "code",
   "execution_count": null,
   "id": "716a61ea",
   "metadata": {},
   "outputs": [],
   "source": []
  },
  {
   "cell_type": "markdown",
   "id": "3e44bd35",
   "metadata": {},
   "source": [
    "#### Graphing the results works best when the data is provided in a DataFrame."
   ]
  },
  {
   "cell_type": "code",
   "execution_count": 20,
   "id": "4a4fb079",
   "metadata": {},
   "outputs": [],
   "source": [
    "ridge_bp_predict_df = pd.DataFrame(ridge_bp_predict).reset_index()\n",
    "ridge_bp_predict_df.rename(columns={0: \"prediction\"},inplace=True)\n",
    "\n",
    "ridge_sfm_predict_df = pd.DataFrame(ridge_sfm_predict).reset_index()\n",
    "ridge_sfm_predict_df.rename(columns={0: \"prediction\"},inplace=True)\n",
    "\n",
    "ridge_sfs_predict_df = pd.DataFrame(ridge_sfs_predict).reset_index()\n",
    "ridge_sfs_predict_df.rename(columns={0: \"prediction\"},inplace=True)\n",
    "\n",
    "ridge_rfe_predict_df = pd.DataFrame(ridge_rfe_predict).reset_index()\n",
    "ridge_rfe_predict_df.rename(columns={0: \"prediction\"},inplace=True)\n",
    "\n",
    "y_test_df = pd.DataFrame(y_test).reset_index()"
   ]
  },
  {
   "cell_type": "code",
   "execution_count": 21,
   "id": "71cb2b0a",
   "metadata": {},
   "outputs": [
    {
     "data": {
      "image/png": "[encoded data removed]",
      "text/plain": [
       "<Figure size 1000x600 with 1 Axes>"
      ]
     },
     "metadata": {},
     "output_type": "display_data"
    }
   ],
   "source": [
    "fig, ax = plt.subplots(figsize=(10, 6))\n",
    "\n",
    "ax.ticklabel_format(style='plain')\n",
    "ax.yaxis.set_major_formatter('${x:1,.0f}')\n",
    "ax.xaxis.set_major_formatter(' ')\n",
    "\n",
    "plt.scatter(y_test_df.index,y_test_df[\"price\"], color=\"red\")\n",
    "plt.scatter(ridge_sfs_predict_df.index,ridge_sfs_predict_df[\"prediction\"], color=\"green\")\n",
    "plt.scatter(ridge_sfm_predict_df.index,ridge_sfm_predict_df[\"prediction\"], color=\"blue\")\n",
    "plt.scatter(ridge_bp_predict_df.index,ridge_bp_predict_df[\"prediction\"], color=\"black\")\n",
    "plt.show()"
   ]
  },
  {
   "cell_type": "code",
   "execution_count": null,
   "id": "256264b3",
   "metadata": {},
   "outputs": [],
   "source": []
  },
  {
   "cell_type": "markdown",
   "id": "3d3255cf",
   "metadata": {},
   "source": [
    "#### Output the results so they can be copied into another Notebook comparing the results of all the models."
   ]
  },
  {
   "cell_type": "code",
   "execution_count": 22,
   "id": "cf40daca",
   "metadata": {},
   "outputs": [
    {
     "data": {
      "text/plain": [
       "{'model': ['Best Params',\n",
       "  'Select From Model',\n",
       "  'Sequential Feature Selector',\n",
       "  'Recursive Feature Elimination'],\n",
       " 'explained variance score': ['0.288064360',\n",
       "  '0.302486157',\n",
       "  '0.302486157',\n",
       "  '0.302486157'],\n",
       " 'mae score': ['0.463259', '0.461195', '0.461195', '0.461195'],\n",
       " 'mse score': ['0.406576', '0.398775', '0.398775', '0.398775'],\n",
       " 'r2 score': ['0.233826', '0.248528', '0.248528', '0.248528'],\n",
       " 'mean fit time': [0.0010613441467285157,\n",
       "  0.001784515380859375,\n",
       "  0.0022294998168945314,\n",
       "  0.0]}"
      ]
     },
     "execution_count": 22,
     "metadata": {},
     "output_type": "execute_result"
    }
   ],
   "source": [
    "results_dict"
   ]
  },
  {
   "cell_type": "code",
   "execution_count": 23,
   "id": "d8787cfa",
   "metadata": {},
   "outputs": [
    {
     "data": {
      "text/html": [
       "<div>\n",
       "<style scoped>\n",
       "    .dataframe tbody tr th:only-of-type {\n",
       "        vertical-align: middle;\n",
       "    }\n",
       "\n",
       "    .dataframe tbody tr th {\n",
       "        vertical-align: top;\n",
       "    }\n",
       "\n",
       "    .dataframe thead th {\n",
       "        text-align: right;\n",
       "    }\n",
       "</style>\n",
       "<table border=\"1\" class=\"dataframe\">\n",
       "  <thead>\n",
       "    <tr style=\"text-align: right;\">\n",
       "      <th></th>\n",
       "      <th>explained variance score</th>\n",
       "      <th>mae score</th>\n",
       "      <th>mse score</th>\n",
       "      <th>r2 score</th>\n",
       "      <th>mean fit time</th>\n",
       "    </tr>\n",
       "    <tr>\n",
       "      <th>model</th>\n",
       "      <th></th>\n",
       "      <th></th>\n",
       "      <th></th>\n",
       "      <th></th>\n",
       "      <th></th>\n",
       "    </tr>\n",
       "  </thead>\n",
       "  <tbody>\n",
       "    <tr>\n",
       "      <th>Best Params</th>\n",
       "      <td>0.288064360</td>\n",
       "      <td>0.463259</td>\n",
       "      <td>0.406576</td>\n",
       "      <td>0.233826</td>\n",
       "      <td>0.001061</td>\n",
       "    </tr>\n",
       "    <tr>\n",
       "      <th>Select From Model</th>\n",
       "      <td>0.302486157</td>\n",
       "      <td>0.461195</td>\n",
       "      <td>0.398775</td>\n",
       "      <td>0.248528</td>\n",
       "      <td>0.001785</td>\n",
       "    </tr>\n",
       "    <tr>\n",
       "      <th>Sequential Feature Selector</th>\n",
       "      <td>0.302486157</td>\n",
       "      <td>0.461195</td>\n",
       "      <td>0.398775</td>\n",
       "      <td>0.248528</td>\n",
       "      <td>0.002229</td>\n",
       "    </tr>\n",
       "    <tr>\n",
       "      <th>Recursive Feature Elimination</th>\n",
       "      <td>0.302486157</td>\n",
       "      <td>0.461195</td>\n",
       "      <td>0.398775</td>\n",
       "      <td>0.248528</td>\n",
       "      <td>0.000000</td>\n",
       "    </tr>\n",
       "  </tbody>\n",
       "</table>\n",
       "</div>"
      ],
      "text/plain": [
       "                              explained variance score mae score mse score  \\\n",
       "model                                                                        \n",
       "Best Params                                0.288064360  0.463259  0.406576   \n",
       "Select From Model                          0.302486157  0.461195  0.398775   \n",
       "Sequential Feature Selector                0.302486157  0.461195  0.398775   \n",
       "Recursive Feature Elimination              0.302486157  0.461195  0.398775   \n",
       "\n",
       "                               r2 score  mean fit time  \n",
       "model                                                   \n",
       "Best Params                    0.233826       0.001061  \n",
       "Select From Model              0.248528       0.001785  \n",
       "Sequential Feature Selector    0.248528       0.002229  \n",
       "Recursive Feature Elimination  0.248528       0.000000  "
      ]
     },
     "execution_count": 23,
     "metadata": {},
     "output_type": "execute_result"
    }
   ],
   "source": [
    "model_comparisons = pd.DataFrame(results_dict).set_index('model')\n",
    "model_comparisons"
   ]
  }
 ],
 "metadata": {
  "kernelspec": {
   "display_name": "Python 3 (ipykernel)",
   "language": "python",
   "name": "python3"
  },
  "language_info": {
   "codemirror_mode": {
    "name": "ipython",
    "version": 3
   },
   "file_extension": ".py",
   "mimetype": "text/x-python",
   "name": "python",
   "nbconvert_exporter": "python",
   "pygments_lexer": "ipython3",
   "version": "3.11.4"
  }
 },
 "nbformat": 4,
 "nbformat_minor": 5
}
