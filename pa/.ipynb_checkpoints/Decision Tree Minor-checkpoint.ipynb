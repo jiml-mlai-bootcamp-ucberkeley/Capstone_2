{
 "cells": [
  {
   "cell_type": "markdown",
   "id": "51fa145f",
   "metadata": {},
   "source": [
    "## The goal of Decision Tree is to create a model that predicts the value of a target variable by learning simple decision rules inferred from the data features. "
   ]
  },
  {
   "cell_type": "code",
   "execution_count": 1,
   "id": "d35d12f2",
   "metadata": {},
   "outputs": [],
   "source": [
    "from warnings import filterwarnings\n",
    "filterwarnings(\"ignore\")\n",
    "\n",
    "import sys\n",
    "sys.path.append('../common')\n",
    "\n",
    "from print_more_stuff import print_more_stuff\n",
    "from preprocessing import mean_and_std\n",
    "from regression_models import dosomething\n",
    "\n",
    "import pandas as pd\n",
    "import matplotlib.pyplot as plt\n",
    "import numpy as np\n",
    "import seaborn as sns\n",
    "\n",
    "from sklearn.tree import DecisionTreeRegressor\n",
    "from sklearn.model_selection import train_test_split, cross_val_score, GridSearchCV"
   ]
  },
  {
   "cell_type": "code",
   "execution_count": 2,
   "id": "e76f44b1",
   "metadata": {},
   "outputs": [],
   "source": [
    "outliers_df = pd.read_csv('geocoded.csv')\n",
    "outliers_df.drop(columns=[\"Unnamed: 0\"],inplace=True)"
   ]
  },
  {
   "cell_type": "code",
   "execution_count": null,
   "id": "21530dc5",
   "metadata": {},
   "outputs": [],
   "source": []
  },
  {
   "cell_type": "markdown",
   "id": "1008fad0",
   "metadata": {},
   "source": [
    "#### Find the zip code of that has the most houses."
   ]
  },
  {
   "cell_type": "code",
   "execution_count": 3,
   "id": "09137e34",
   "metadata": {},
   "outputs": [
    {
     "data": {
      "text/plain": [
       "19146.0"
      ]
     },
     "execution_count": 3,
     "metadata": {},
     "output_type": "execute_result"
    }
   ],
   "source": [
    "groupby_zipcode = outliers_df.groupby([\"zip_code\"])[\"zip_code\"].count().sort_values(ascending=False)\n",
    "groupby_zipcode_df = pd.DataFrame(groupby_zipcode).rename(columns={\"zip_code\":\"count\"}).reset_index()\n",
    "first_zipcode = groupby_zipcode_df.iloc[0][\"zip_code\"]\n",
    "first_zipcode"
   ]
  },
  {
   "cell_type": "markdown",
   "id": "40133616",
   "metadata": {},
   "source": [
    "#### Find the rows of the zip code that has the most houses."
   ]
  },
  {
   "cell_type": "code",
   "execution_count": 4,
   "id": "f752bf5b",
   "metadata": {},
   "outputs": [],
   "source": [
    "one_zipcode_df = outliers_df[outliers_df[\"zip_code\"].isin([first_zipcode])]"
   ]
  },
  {
   "cell_type": "code",
   "execution_count": 5,
   "id": "77e664b3",
   "metadata": {},
   "outputs": [
    {
     "name": "stdout",
     "output_type": "stream",
     "text": [
      "<class 'pandas.core.frame.DataFrame'>\n",
      "Int64Index: 134 entries, 1099 to 1232\n",
      "Data columns (total 13 columns):\n",
      " #   Column          Non-Null Count  Dtype  \n",
      "---  ------          --------------  -----  \n",
      " 0   Unnamed: 0.1    134 non-null    int64  \n",
      " 1   bed             134 non-null    float64\n",
      " 2   bath            134 non-null    float64\n",
      " 3   acre_lot        134 non-null    float64\n",
      " 4   zip_code        134 non-null    float64\n",
      " 5   house_size      134 non-null    float64\n",
      " 6   prev_sold_date  134 non-null    object \n",
      " 7   price           134 non-null    float64\n",
      " 8   prev_sold_year  134 non-null    int64  \n",
      " 9   zip_code_str    134 non-null    int64  \n",
      " 10  latitude        134 non-null    float64\n",
      " 11  longitude       134 non-null    float64\n",
      " 12  county          134 non-null    int64  \n",
      "dtypes: float64(8), int64(4), object(1)\n",
      "memory usage: 14.7+ KB\n"
     ]
    }
   ],
   "source": [
    "one_zipcode_df.info()"
   ]
  },
  {
   "cell_type": "markdown",
   "id": "f4148c70",
   "metadata": {},
   "source": [
    "#### Create an object to pass to the function that will normalize the data"
   ]
  },
  {
   "cell_type": "code",
   "execution_count": 6,
   "id": "8865ecd5",
   "metadata": {},
   "outputs": [
    {
     "data": {
      "text/html": [
       "<div>\n",
       "<style scoped>\n",
       "    .dataframe tbody tr th:only-of-type {\n",
       "        vertical-align: middle;\n",
       "    }\n",
       "\n",
       "    .dataframe tbody tr th {\n",
       "        vertical-align: top;\n",
       "    }\n",
       "\n",
       "    .dataframe thead th {\n",
       "        text-align: right;\n",
       "    }\n",
       "</style>\n",
       "<table border=\"1\" class=\"dataframe\">\n",
       "  <thead>\n",
       "    <tr style=\"text-align: right;\">\n",
       "      <th></th>\n",
       "      <th>bed</th>\n",
       "      <th>bath</th>\n",
       "      <th>acre_lot</th>\n",
       "      <th>house_size</th>\n",
       "      <th>price</th>\n",
       "      <th>prev_sold_year</th>\n",
       "    </tr>\n",
       "  </thead>\n",
       "  <tbody>\n",
       "    <tr>\n",
       "      <th>1228</th>\n",
       "      <td>0.196139</td>\n",
       "      <td>0.553037</td>\n",
       "      <td>0.153380</td>\n",
       "      <td>-0.751480</td>\n",
       "      <td>2.402579</td>\n",
       "      <td>2018</td>\n",
       "    </tr>\n",
       "    <tr>\n",
       "      <th>1229</th>\n",
       "      <td>-2.432121</td>\n",
       "      <td>-1.692628</td>\n",
       "      <td>0.153380</td>\n",
       "      <td>-1.152960</td>\n",
       "      <td>-0.384075</td>\n",
       "      <td>2016</td>\n",
       "    </tr>\n",
       "    <tr>\n",
       "      <th>1230</th>\n",
       "      <td>1.510269</td>\n",
       "      <td>0.553037</td>\n",
       "      <td>-1.715065</td>\n",
       "      <td>0.360765</td>\n",
       "      <td>-0.121360</td>\n",
       "      <td>2017</td>\n",
       "    </tr>\n",
       "    <tr>\n",
       "      <th>1231</th>\n",
       "      <td>0.196139</td>\n",
       "      <td>-0.569796</td>\n",
       "      <td>0.153380</td>\n",
       "      <td>-0.180488</td>\n",
       "      <td>-0.623224</td>\n",
       "      <td>2021</td>\n",
       "    </tr>\n",
       "    <tr>\n",
       "      <th>1232</th>\n",
       "      <td>0.196139</td>\n",
       "      <td>-0.569796</td>\n",
       "      <td>0.153380</td>\n",
       "      <td>-0.480854</td>\n",
       "      <td>-0.528966</td>\n",
       "      <td>2018</td>\n",
       "    </tr>\n",
       "  </tbody>\n",
       "</table>\n",
       "</div>"
      ],
      "text/plain": [
       "           bed      bath  acre_lot  house_size     price  prev_sold_year\n",
       "1228  0.196139  0.553037  0.153380   -0.751480  2.402579            2018\n",
       "1229 -2.432121 -1.692628  0.153380   -1.152960 -0.384075            2016\n",
       "1230  1.510269  0.553037 -1.715065    0.360765 -0.121360            2017\n",
       "1231  0.196139 -0.569796  0.153380   -0.180488 -0.623224            2021\n",
       "1232  0.196139 -0.569796  0.153380   -0.480854 -0.528966            2018"
      ]
     },
     "execution_count": 6,
     "metadata": {},
     "output_type": "execute_result"
    }
   ],
   "source": [
    "params = {\n",
    "    \"data\":one_zipcode_df,\n",
    "    \"features_a\":[\"prev_sold_year\"],\n",
    "    \"features_n\":[\"bed\",\"bath\",\"acre_lot\",\"house_size\",\"price\"]\n",
    "    \n",
    "}\n",
    "normalize_df = mean_and_std(params)\n",
    "#normalize_df = one_zipcode_df\n",
    "normalize_df.tail()"
   ]
  },
  {
   "cell_type": "markdown",
   "id": "b1fa34d8",
   "metadata": {},
   "source": [
    "#### Create a variable for the correlation of the normalized data"
   ]
  },
  {
   "cell_type": "code",
   "execution_count": 7,
   "id": "1e4cb3e2",
   "metadata": {},
   "outputs": [
    {
     "data": {
      "text/plain": [
       "acre_lot          0.121093\n",
       "bed               0.318752\n",
       "bath              0.595084\n",
       "house_size        0.681330\n",
       "prev_sold_year    0.021525\n",
       "price             1.000000\n",
       "Name: price, dtype: float64"
      ]
     },
     "execution_count": 7,
     "metadata": {},
     "output_type": "execute_result"
    }
   ],
   "source": [
    "correlation = normalize_df[[\"acre_lot\",\"bed\",\"bath\",\"house_size\",\"prev_sold_year\",\"price\"]].corr()\n",
    "correlation[\"price\"]"
   ]
  },
  {
   "cell_type": "markdown",
   "id": "77e7251b",
   "metadata": {},
   "source": [
    "#### Display a Heatmap with the correlated data"
   ]
  },
  {
   "cell_type": "code",
   "execution_count": 8,
   "id": "082b938d",
   "metadata": {},
   "outputs": [
    {
     "data": {
      "text/plain": [
       "Text(0.5, 1.0, 'Correlation Between Variables')"
      ]
     },
     "execution_count": 8,
     "metadata": {},
     "output_type": "execute_result"
    },
    {
     "data": {
      "image/png": "[encoded data removed]",
      "text/plain": [
       "<Figure size 640x480 with 2 Axes>"
      ]
     },
     "metadata": {},
     "output_type": "display_data"
    }
   ],
   "source": [
    "sns.heatmap(correlation, vmin=-1, vmax=1, cmap = 'coolwarm', annot=True, fmt='.2f', linewidths=0.1)\n",
    "plt.title(\"Correlation Between Variables\", pad=20)"
   ]
  },
  {
   "cell_type": "markdown",
   "id": "f4ce7be3",
   "metadata": {},
   "source": [
    "#### Create a variable to hold the features that correlate with the price feature between 0.20 and 0.80"
   ]
  },
  {
   "cell_type": "code",
   "execution_count": 9,
   "id": "8b1309e0",
   "metadata": {},
   "outputs": [
    {
     "name": "stdout",
     "output_type": "stream",
     "text": [
      "['bed', 'bath', 'house_size']\n"
     ]
    }
   ],
   "source": [
    "'''\n",
    "'''\n",
    "savefeatures = []\n",
    "for feature, value in correlation[\"price\"].items():\n",
    "    if abs(value) < 0.81 and abs(value) >= 0.20:\n",
    "        savefeatures.append(feature)\n",
    "\n",
    "print(savefeatures)"
   ]
  },
  {
   "cell_type": "markdown",
   "id": "6561d05d",
   "metadata": {},
   "source": [
    "#### Create common variables to store frequently used values."
   ]
  },
  {
   "cell_type": "code",
   "execution_count": 10,
   "id": "aa1c1059",
   "metadata": {},
   "outputs": [],
   "source": [
    "#features = [\"acre_lot\",\"bed\",\"bath\",\"house_size\",\"prev_sold_year\"]\n",
    "#features = [\"bed\",\"bath\",\"house_size\"]\n",
    "features = savefeatures\n",
    "num_features_to_select = len(features)-1\n",
    "random_state_value = 42"
   ]
  },
  {
   "cell_type": "markdown",
   "id": "afb1b03d",
   "metadata": {},
   "source": [
    "#### Datasets for modeling, testing the models, and making predictions."
   ]
  },
  {
   "cell_type": "code",
   "execution_count": 11,
   "id": "7bff4fc2",
   "metadata": {},
   "outputs": [],
   "source": [
    "X = normalize_df[features]\n",
    "y = normalize_df[\"price\"]\n",
    "X_train, X_test, y_train, y_test = train_test_split(X, y, test_size=0.3, random_state=random_state_value)"
   ]
  },
  {
   "cell_type": "markdown",
   "id": "da06cb9b",
   "metadata": {},
   "source": [
    "#### Variable to store the results generated by the models."
   ]
  },
  {
   "cell_type": "code",
   "execution_count": 12,
   "id": "8dcdc3d2",
   "metadata": {},
   "outputs": [],
   "source": [
    "results_dict = {\"model\":[], \"explained variance score\":[],\"mae score\":[],\"mse score\":[],\"r2 score\":[], \"mean fit time\":[]}"
   ]
  },
  {
   "cell_type": "markdown",
   "id": "23303ec8",
   "metadata": {},
   "source": [
    "#### Function to format the results generated by the models."
   ]
  },
  {
   "cell_type": "code",
   "execution_count": 13,
   "id": "01dc0a27",
   "metadata": {},
   "outputs": [],
   "source": [
    "def results_dict_append(rtnval):\n",
    "    results_dict[\"model\"].append(rtnval[\"model\"])\n",
    "    results_dict[\"explained variance score\"].append(rtnval[\"explained variance score\"])\n",
    "    results_dict[\"mae score\"].append(rtnval[\"mae score\"])\n",
    "    results_dict[\"mse score\"].append(rtnval[\"mse score\"])\n",
    "    results_dict[\"r2 score\"].append(rtnval[\"r2 score\"])\n",
    "    results_dict[\"mean fit time\"].append(rtnval[\"mean fit time\"])"
   ]
  },
  {
   "cell_type": "code",
   "execution_count": null,
   "id": "1095b282",
   "metadata": {},
   "outputs": [],
   "source": []
  },
  {
   "cell_type": "markdown",
   "id": "0b7cc9ee",
   "metadata": {},
   "source": [
    "### GridSearchCV exhaustively generates candidates from a grid of parameter values specified."
   ]
  },
  {
   "cell_type": "code",
   "execution_count": 14,
   "id": "81aa8bec",
   "metadata": {},
   "outputs": [
    {
     "name": "stdout",
     "output_type": "stream",
     "text": [
      "Best parameters found: {'min_samples_leaf': 7}\n"
     ]
    }
   ],
   "source": [
    "dtree_gscv = GridSearchCV(DecisionTreeRegressor(random_state=42), {'min_samples_leaf': np.arange(5,15,1)})\n",
    "dtree_gscv_model = dtree_gscv.fit(X, y)\n",
    "print(f\"Best parameters found: {dtree_gscv.best_params_}\")"
   ]
  },
  {
   "cell_type": "markdown",
   "id": "564ddfef",
   "metadata": {},
   "source": [
    "#### The best params attribute will be used to fit  model with the training data and make a prediction with the test data."
   ]
  },
  {
   "cell_type": "code",
   "execution_count": 15,
   "id": "13b915d3",
   "metadata": {},
   "outputs": [
    {
     "name": "stdout",
     "output_type": "stream",
     "text": [
      "The selected features are: ['bed', 'bath', 'house_size']\n",
      "Decision Tree Best Params EVS = -0.013938664\n",
      "Decision Tree Best Params MSE = 0.570457\n",
      "Decision Tree Best Params MAE = 0.572719\n",
      "Decision Tree Best Params R2 = -0.075000\n",
      "Decision Tree Best Params Fit Time = 0.0028786659240722656\n"
     ]
    }
   ],
   "source": [
    "dtree = dosomething(\"Decision Tree\",\"Decision Tree Best Params\", normalize_df, features, \"price\", dtree_gscv.best_params_)\n",
    "results_dict_append(dtree[\"results\"])\n",
    "dtree_bp_predict = dtree[\"predictions\"]"
   ]
  },
  {
   "cell_type": "code",
   "execution_count": null,
   "id": "a0aaf254",
   "metadata": {},
   "outputs": [],
   "source": []
  },
  {
   "cell_type": "markdown",
   "id": "de323668",
   "metadata": {},
   "source": [
    "### Recursive feature elimination uses an external estimator that assigns weights to features with the goal of selecting features by recursively considering smaller and smaller sets of features."
   ]
  },
  {
   "cell_type": "code",
   "execution_count": 16,
   "id": "c33df877",
   "metadata": {},
   "outputs": [
    {
     "name": "stdout",
     "output_type": "stream",
     "text": [
      "The selected features are: ['bath', 'house_size']\n",
      "Recursive Feature Elimination EVS = -0.705674416\n",
      "Recursive Feature Elimination MSE = 0.905164\n",
      "Recursive Feature Elimination MAE = 0.595010\n",
      "Recursive Feature Elimination R2 = -0.705740\n",
      "Recursive Feature Elimination Fit Time = 0.0007879734039306641\n"
     ]
    }
   ],
   "source": [
    "dtree_rfe = dosomething(\"Decision Tree\",\"Recursive Feature Elimination\", normalize_df, features, \"price\")\n",
    "results_dict_append(dtree_rfe[\"results\"])\n",
    "dtree_rfe_predict = dtree_rfe[\"predictions\"]"
   ]
  },
  {
   "cell_type": "markdown",
   "id": "caa2d08a",
   "metadata": {},
   "source": [
    "###  Sequential Feature Selector (forward selection) adds features to form a feature subset in a greedy fashion. At each stage, this estimator chooses the best feature to add or remove based on the cross-validation score of an estimator."
   ]
  },
  {
   "cell_type": "code",
   "execution_count": 17,
   "id": "babfe3b6",
   "metadata": {},
   "outputs": [
    {
     "name": "stdout",
     "output_type": "stream",
     "text": [
      "The selected features are: ['bath', 'house_size']\n",
      "Sequential Feature Selector EVS = -0.705182617\n",
      "Sequential Feature Selector MSE = 0.904918\n",
      "Sequential Feature Selector MAE = 0.593837\n",
      "Sequential Feature Selector R2 = -0.705276\n",
      "Sequential Feature Selector Fit Time = 0.0\n"
     ]
    }
   ],
   "source": [
    "dtree_sfs = dosomething(\"Decision Tree\",\"Sequential Feature Selector\", normalize_df, features, \"price\")\n",
    "results_dict_append(dtree_sfs[\"results\"])\n",
    "dtree_sfs_predict = dtree_sfs[\"predictions\"]"
   ]
  },
  {
   "cell_type": "markdown",
   "id": "9b14ce27",
   "metadata": {},
   "source": [
    "#### Graphing the results works best when the data is provided in a DataFrame."
   ]
  },
  {
   "cell_type": "code",
   "execution_count": 18,
   "id": "d8787cfa",
   "metadata": {},
   "outputs": [],
   "source": [
    "dtree_bp_predict_df = pd.DataFrame(dtree_bp_predict).reset_index()\n",
    "dtree_bp_predict_df.rename(columns={0: \"prediction\"},inplace=True)\n",
    "\n",
    "dtree_sfs_predict_df = pd.DataFrame(dtree_sfs_predict).reset_index()\n",
    "dtree_sfs_predict_df.rename(columns={0: \"prediction\"},inplace=True)\n",
    "\n",
    "dtree_rfe_predict_df = pd.DataFrame(dtree_rfe_predict).reset_index()\n",
    "dtree_rfe_predict_df.rename(columns={0: \"prediction\"},inplace=True)\n",
    "\n",
    "y_test_df = pd.DataFrame(y_test).reset_index()"
   ]
  },
  {
   "cell_type": "markdown",
   "id": "437aaee6",
   "metadata": {},
   "source": [
    "#### Scatter Plot graph of the results of Recursive Feature Elimination, Sequential Feature Selection, and Test Data."
   ]
  },
  {
   "cell_type": "code",
   "execution_count": 19,
   "id": "ea330c7d",
   "metadata": {},
   "outputs": [
    {
     "data": {
      "image/png": "[encoded data removed]",
      "text/plain": [
       "<Figure size 1000x600 with 1 Axes>"
      ]
     },
     "metadata": {},
     "output_type": "display_data"
    }
   ],
   "source": [
    "fig, ax = plt.subplots(figsize=(10, 6))\n",
    "\n",
    "ax.ticklabel_format(style='plain')\n",
    "ax.xaxis.set_major_formatter(' ')\n",
    "\n",
    "plt.scatter(y_test_df.index,y_test_df[\"price\"], color=\"red\")\n",
    "plt.scatter(dtree_rfe_predict_df.index,dtree_rfe_predict_df[\"prediction\"], color=\"blue\")\n",
    "plt.scatter(dtree_sfs_predict_df.index,dtree_sfs_predict_df[\"prediction\"], color=\"green\")\n",
    "plt.scatter(dtree_bp_predict_df.index,dtree_bp_predict_df[\"prediction\"], color=\"black\")\n",
    "plt.show()"
   ]
  },
  {
   "cell_type": "markdown",
   "id": "1f8f3820",
   "metadata": {},
   "source": [
    "#### Output the results so they can be copied into another Notebook comparing the results of all the models."
   ]
  },
  {
   "cell_type": "code",
   "execution_count": 20,
   "id": "03608b5f",
   "metadata": {},
   "outputs": [
    {
     "data": {
      "text/plain": [
       "{'model': ['Decision Tree Best Params',\n",
       "  'Recursive Feature Elimination',\n",
       "  'Sequential Feature Selector'],\n",
       " 'explained variance score': ['-0.013938664', '-0.705674416', '-0.705182617'],\n",
       " 'mae score': ['0.572719', '0.595010', '0.593837'],\n",
       " 'mse score': ['0.570457', '0.905164', '0.904918'],\n",
       " 'r2 score': ['-0.075000', '-0.705740', '-0.705276'],\n",
       " 'mean fit time': [0.0028786659240722656, 0.0007879734039306641, 0.0]}"
      ]
     },
     "execution_count": 20,
     "metadata": {},
     "output_type": "execute_result"
    }
   ],
   "source": [
    "results_dict"
   ]
  },
  {
   "cell_type": "code",
   "execution_count": 21,
   "id": "0985093c",
   "metadata": {},
   "outputs": [
    {
     "data": {
      "text/html": [
       "<div>\n",
       "<style scoped>\n",
       "    .dataframe tbody tr th:only-of-type {\n",
       "        vertical-align: middle;\n",
       "    }\n",
       "\n",
       "    .dataframe tbody tr th {\n",
       "        vertical-align: top;\n",
       "    }\n",
       "\n",
       "    .dataframe thead th {\n",
       "        text-align: right;\n",
       "    }\n",
       "</style>\n",
       "<table border=\"1\" class=\"dataframe\">\n",
       "  <thead>\n",
       "    <tr style=\"text-align: right;\">\n",
       "      <th></th>\n",
       "      <th>explained variance score</th>\n",
       "      <th>mae score</th>\n",
       "      <th>mse score</th>\n",
       "      <th>r2 score</th>\n",
       "      <th>mean fit time</th>\n",
       "    </tr>\n",
       "    <tr>\n",
       "      <th>model</th>\n",
       "      <th></th>\n",
       "      <th></th>\n",
       "      <th></th>\n",
       "      <th></th>\n",
       "      <th></th>\n",
       "    </tr>\n",
       "  </thead>\n",
       "  <tbody>\n",
       "    <tr>\n",
       "      <th>Decision Tree Best Params</th>\n",
       "      <td>-0.013938664</td>\n",
       "      <td>0.572719</td>\n",
       "      <td>0.570457</td>\n",
       "      <td>-0.075000</td>\n",
       "      <td>0.002879</td>\n",
       "    </tr>\n",
       "    <tr>\n",
       "      <th>Recursive Feature Elimination</th>\n",
       "      <td>-0.705674416</td>\n",
       "      <td>0.595010</td>\n",
       "      <td>0.905164</td>\n",
       "      <td>-0.705740</td>\n",
       "      <td>0.000788</td>\n",
       "    </tr>\n",
       "    <tr>\n",
       "      <th>Sequential Feature Selector</th>\n",
       "      <td>-0.705182617</td>\n",
       "      <td>0.593837</td>\n",
       "      <td>0.904918</td>\n",
       "      <td>-0.705276</td>\n",
       "      <td>0.000000</td>\n",
       "    </tr>\n",
       "  </tbody>\n",
       "</table>\n",
       "</div>"
      ],
      "text/plain": [
       "                              explained variance score mae score mse score  \\\n",
       "model                                                                        \n",
       "Decision Tree Best Params                 -0.013938664  0.572719  0.570457   \n",
       "Recursive Feature Elimination             -0.705674416  0.595010  0.905164   \n",
       "Sequential Feature Selector               -0.705182617  0.593837  0.904918   \n",
       "\n",
       "                                r2 score  mean fit time  \n",
       "model                                                    \n",
       "Decision Tree Best Params      -0.075000       0.002879  \n",
       "Recursive Feature Elimination  -0.705740       0.000788  \n",
       "Sequential Feature Selector    -0.705276       0.000000  "
      ]
     },
     "execution_count": 21,
     "metadata": {},
     "output_type": "execute_result"
    }
   ],
   "source": [
    "model_comparisons = pd.DataFrame(results_dict).set_index('model')\n",
    "model_comparisons"
   ]
  }
 ],
 "metadata": {
  "kernelspec": {
   "display_name": "Python 3 (ipykernel)",
   "language": "python",
   "name": "python3"
  },
  "language_info": {
   "codemirror_mode": {
    "name": "ipython",
    "version": 3
   },
   "file_extension": ".py",
   "mimetype": "text/x-python",
   "name": "python",
   "nbconvert_exporter": "python",
   "pygments_lexer": "ipython3",
   "version": "3.11.4"
  }
 },
 "nbformat": 4,
 "nbformat_minor": 5
}
