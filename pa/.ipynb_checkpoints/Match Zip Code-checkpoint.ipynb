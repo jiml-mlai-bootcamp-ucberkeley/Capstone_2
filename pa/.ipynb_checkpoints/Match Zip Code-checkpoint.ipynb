{
 "cells": [
  {
   "cell_type": "code",
   "execution_count": 1,
   "id": "6d8db377",
   "metadata": {},
   "outputs": [],
   "source": [
    "from warnings import filterwarnings \n",
    "filterwarnings(\"ignore\")\n",
    "\n",
    "import pandas as pd\n",
    "import matplotlib.pyplot as plt\n",
    "import numpy as np\n",
    "\n",
    "from sklearn.cluster import KMeans"
   ]
  },
  {
   "cell_type": "markdown",
   "id": "9ef6c594",
   "metadata": {},
   "source": [
    "#### Read the outliers file and add a feature \"prev_sold_year\""
   ]
  },
  {
   "cell_type": "code",
   "execution_count": 2,
   "id": "29612711",
   "metadata": {},
   "outputs": [],
   "source": [
    "realtor_data_df = pd.read_csv('outliers.csv')\n",
    "realtor_data_df[\"prev_sold_year\"] = pd.to_datetime(realtor_data_df[\"prev_sold_date\"], format='%Y-%m-%d').dt.year"
   ]
  },
  {
   "cell_type": "code",
   "execution_count": 3,
   "id": "c7ed6068",
   "metadata": {},
   "outputs": [],
   "source": [
    "for_sale_df = realtor_data_df"
   ]
  },
  {
   "cell_type": "markdown",
   "id": "3952f79b",
   "metadata": {},
   "source": [
    "#### Create a feature that will append '0' to the zipcode feature"
   ]
  },
  {
   "cell_type": "code",
   "execution_count": 4,
   "id": "aeefc3c3",
   "metadata": {},
   "outputs": [
    {
     "data": {
      "text/html": [
       "<div>\n",
       "<style scoped>\n",
       "    .dataframe tbody tr th:only-of-type {\n",
       "        vertical-align: middle;\n",
       "    }\n",
       "\n",
       "    .dataframe tbody tr th {\n",
       "        vertical-align: top;\n",
       "    }\n",
       "\n",
       "    .dataframe thead th {\n",
       "        text-align: right;\n",
       "    }\n",
       "</style>\n",
       "<table border=\"1\" class=\"dataframe\">\n",
       "  <thead>\n",
       "    <tr style=\"text-align: right;\">\n",
       "      <th></th>\n",
       "      <th>Unnamed: 0</th>\n",
       "      <th>bed</th>\n",
       "      <th>bath</th>\n",
       "      <th>acre_lot</th>\n",
       "      <th>zip_code</th>\n",
       "      <th>house_size</th>\n",
       "      <th>prev_sold_date</th>\n",
       "      <th>price</th>\n",
       "      <th>prev_sold_year</th>\n",
       "      <th>zip_code_str</th>\n",
       "    </tr>\n",
       "  </thead>\n",
       "  <tbody>\n",
       "    <tr>\n",
       "      <th>0</th>\n",
       "      <td>7</td>\n",
       "      <td>3.0</td>\n",
       "      <td>3.0</td>\n",
       "      <td>1.14</td>\n",
       "      <td>18013.0</td>\n",
       "      <td>1865.0</td>\n",
       "      <td>2017-08-01</td>\n",
       "      <td>279900.0</td>\n",
       "      <td>2017</td>\n",
       "      <td>018013</td>\n",
       "    </tr>\n",
       "    <tr>\n",
       "      <th>1</th>\n",
       "      <td>12</td>\n",
       "      <td>3.0</td>\n",
       "      <td>2.0</td>\n",
       "      <td>0.13</td>\n",
       "      <td>18301.0</td>\n",
       "      <td>1306.0</td>\n",
       "      <td>2021-09-03</td>\n",
       "      <td>259900.0</td>\n",
       "      <td>2021</td>\n",
       "      <td>018301</td>\n",
       "    </tr>\n",
       "    <tr>\n",
       "      <th>2</th>\n",
       "      <td>13</td>\n",
       "      <td>3.0</td>\n",
       "      <td>1.0</td>\n",
       "      <td>0.09</td>\n",
       "      <td>18013.0</td>\n",
       "      <td>904.0</td>\n",
       "      <td>2019-03-26</td>\n",
       "      <td>135900.0</td>\n",
       "      <td>2019</td>\n",
       "      <td>018013</td>\n",
       "    </tr>\n",
       "    <tr>\n",
       "      <th>3</th>\n",
       "      <td>20</td>\n",
       "      <td>3.0</td>\n",
       "      <td>2.0</td>\n",
       "      <td>0.24</td>\n",
       "      <td>18360.0</td>\n",
       "      <td>1161.0</td>\n",
       "      <td>2020-02-25</td>\n",
       "      <td>285000.0</td>\n",
       "      <td>2020</td>\n",
       "      <td>018360</td>\n",
       "    </tr>\n",
       "    <tr>\n",
       "      <th>4</th>\n",
       "      <td>22</td>\n",
       "      <td>4.0</td>\n",
       "      <td>3.0</td>\n",
       "      <td>0.40</td>\n",
       "      <td>18324.0</td>\n",
       "      <td>2661.0</td>\n",
       "      <td>2019-12-23</td>\n",
       "      <td>349000.0</td>\n",
       "      <td>2019</td>\n",
       "      <td>018324</td>\n",
       "    </tr>\n",
       "  </tbody>\n",
       "</table>\n",
       "</div>"
      ],
      "text/plain": [
       "   Unnamed: 0  bed  bath  acre_lot  zip_code  house_size prev_sold_date  \\\n",
       "0           7  3.0   3.0      1.14   18013.0      1865.0     2017-08-01   \n",
       "1          12  3.0   2.0      0.13   18301.0      1306.0     2021-09-03   \n",
       "2          13  3.0   1.0      0.09   18013.0       904.0     2019-03-26   \n",
       "3          20  3.0   2.0      0.24   18360.0      1161.0     2020-02-25   \n",
       "4          22  4.0   3.0      0.40   18324.0      2661.0     2019-12-23   \n",
       "\n",
       "      price  prev_sold_year zip_code_str  \n",
       "0  279900.0            2017       018013  \n",
       "1  259900.0            2021       018301  \n",
       "2  135900.0            2019       018013  \n",
       "3  285000.0            2020       018360  \n",
       "4  349000.0            2019       018324  "
      ]
     },
     "execution_count": 4,
     "metadata": {},
     "output_type": "execute_result"
    }
   ],
   "source": [
    "for_sale_df[\"zip_code_str\"] = '0'+ for_sale_df[\"zip_code\"].apply(int).apply(str)\n",
    "for_sale_df.head()"
   ]
  },
  {
   "cell_type": "markdown",
   "id": "00cc8fac",
   "metadata": {},
   "source": [
    "#### Get the unique zipcodes in the dataframe"
   ]
  },
  {
   "cell_type": "code",
   "execution_count": 5,
   "id": "af0dc973",
   "metadata": {},
   "outputs": [
    {
     "data": {
      "text/plain": [
       "156"
      ]
     },
     "execution_count": 5,
     "metadata": {},
     "output_type": "execute_result"
    }
   ],
   "source": [
    "zipcodes = for_sale_df[\"zip_code\"]\n",
    "len(zipcodes.unique())"
   ]
  },
  {
   "cell_type": "markdown",
   "id": "fd9cc5ed",
   "metadata": {},
   "source": [
    "#### Read the file with Latitude and Longitude, rename the features"
   ]
  },
  {
   "cell_type": "code",
   "execution_count": 6,
   "id": "7846aeff",
   "metadata": {},
   "outputs": [
    {
     "data": {
      "text/html": [
       "<div>\n",
       "<style scoped>\n",
       "    .dataframe tbody tr th:only-of-type {\n",
       "        vertical-align: middle;\n",
       "    }\n",
       "\n",
       "    .dataframe tbody tr th {\n",
       "        vertical-align: top;\n",
       "    }\n",
       "\n",
       "    .dataframe thead th {\n",
       "        text-align: right;\n",
       "    }\n",
       "</style>\n",
       "<table border=\"1\" class=\"dataframe\">\n",
       "  <thead>\n",
       "    <tr style=\"text-align: right;\">\n",
       "      <th></th>\n",
       "      <th>zip_code</th>\n",
       "      <th>latitude</th>\n",
       "      <th>longitude</th>\n",
       "    </tr>\n",
       "  </thead>\n",
       "  <tbody>\n",
       "    <tr>\n",
       "      <th>0</th>\n",
       "      <td>601</td>\n",
       "      <td>18.180555</td>\n",
       "      <td>-66.749961</td>\n",
       "    </tr>\n",
       "    <tr>\n",
       "      <th>1</th>\n",
       "      <td>602</td>\n",
       "      <td>18.361945</td>\n",
       "      <td>-67.175597</td>\n",
       "    </tr>\n",
       "    <tr>\n",
       "      <th>2</th>\n",
       "      <td>603</td>\n",
       "      <td>18.455183</td>\n",
       "      <td>-67.119887</td>\n",
       "    </tr>\n",
       "    <tr>\n",
       "      <th>3</th>\n",
       "      <td>606</td>\n",
       "      <td>18.158345</td>\n",
       "      <td>-66.932911</td>\n",
       "    </tr>\n",
       "    <tr>\n",
       "      <th>4</th>\n",
       "      <td>610</td>\n",
       "      <td>18.295366</td>\n",
       "      <td>-67.125135</td>\n",
       "    </tr>\n",
       "  </tbody>\n",
       "</table>\n",
       "</div>"
      ],
      "text/plain": [
       "   zip_code   latitude  longitude\n",
       "0       601  18.180555 -66.749961\n",
       "1       602  18.361945 -67.175597\n",
       "2       603  18.455183 -67.119887\n",
       "3       606  18.158345 -66.932911\n",
       "4       610  18.295366 -67.125135"
      ]
     },
     "execution_count": 6,
     "metadata": {},
     "output_type": "execute_result"
    }
   ],
   "source": [
    "# Because of its size this dataset is not saved in the code repo for this project.\n",
    "# It can be downloaded and saved in the same path to make this Notebook run.\n",
    "zip_lon_lat = pd.read_csv('../../../zip_lat_long.csv')\n",
    "zip_lon_lat.rename(columns={\"ZIP\":\"zip_code\", \"LAT\":\"latitude\", \"LNG\":\"longitude\"},inplace=True)\n",
    "zip_lon_lat.head()"
   ]
  },
  {
   "cell_type": "markdown",
   "id": "f9fda901",
   "metadata": {},
   "source": [
    "#### Find matching zipcodes that were found in the dataset"
   ]
  },
  {
   "cell_type": "code",
   "execution_count": 7,
   "id": "739bea9c",
   "metadata": {},
   "outputs": [
    {
     "data": {
      "text/html": [
       "<div>\n",
       "<style scoped>\n",
       "    .dataframe tbody tr th:only-of-type {\n",
       "        vertical-align: middle;\n",
       "    }\n",
       "\n",
       "    .dataframe tbody tr th {\n",
       "        vertical-align: top;\n",
       "    }\n",
       "\n",
       "    .dataframe thead th {\n",
       "        text-align: right;\n",
       "    }\n",
       "</style>\n",
       "<table border=\"1\" class=\"dataframe\">\n",
       "  <thead>\n",
       "    <tr style=\"text-align: right;\">\n",
       "      <th></th>\n",
       "      <th>zip_code</th>\n",
       "      <th>latitude</th>\n",
       "      <th>longitude</th>\n",
       "      <th>zip_code_str</th>\n",
       "    </tr>\n",
       "  </thead>\n",
       "  <tbody>\n",
       "    <tr>\n",
       "      <th>5211</th>\n",
       "      <td>16925</td>\n",
       "      <td>41.948556</td>\n",
       "      <td>-76.783808</td>\n",
       "      <td>016925</td>\n",
       "    </tr>\n",
       "    <tr>\n",
       "      <th>5616</th>\n",
       "      <td>18013</td>\n",
       "      <td>40.848762</td>\n",
       "      <td>-75.177293</td>\n",
       "      <td>018013</td>\n",
       "    </tr>\n",
       "    <tr>\n",
       "      <th>5658</th>\n",
       "      <td>18077</td>\n",
       "      <td>40.570065</td>\n",
       "      <td>-75.237114</td>\n",
       "      <td>018077</td>\n",
       "    </tr>\n",
       "    <tr>\n",
       "      <th>5715</th>\n",
       "      <td>18301</td>\n",
       "      <td>41.042703</td>\n",
       "      <td>-75.175581</td>\n",
       "      <td>018301</td>\n",
       "    </tr>\n",
       "    <tr>\n",
       "      <th>5716</th>\n",
       "      <td>18302</td>\n",
       "      <td>41.096550</td>\n",
       "      <td>-75.111107</td>\n",
       "      <td>018302</td>\n",
       "    </tr>\n",
       "  </tbody>\n",
       "</table>\n",
       "</div>"
      ],
      "text/plain": [
       "      zip_code   latitude  longitude zip_code_str\n",
       "5211     16925  41.948556 -76.783808       016925\n",
       "5616     18013  40.848762 -75.177293       018013\n",
       "5658     18077  40.570065 -75.237114       018077\n",
       "5715     18301  41.042703 -75.175581       018301\n",
       "5716     18302  41.096550 -75.111107       018302"
      ]
     },
     "execution_count": 7,
     "metadata": {},
     "output_type": "execute_result"
    }
   ],
   "source": [
    "find_zipcodes_df = zip_lon_lat[zip_lon_lat[\"zip_code\"].isin(zipcodes.unique())]\n",
    "find_zipcodes_df[\"zip_code_str\"] = \"0\"+find_zipcodes_df[\"zip_code\"].apply(str)\n",
    "find_zipcodes_df.head()"
   ]
  },
  {
   "cell_type": "code",
   "execution_count": null,
   "id": "8f35b383",
   "metadata": {},
   "outputs": [],
   "source": []
  },
  {
   "cell_type": "markdown",
   "id": "2ca2d460",
   "metadata": {},
   "source": []
  },
  {
   "cell_type": "markdown",
   "id": "845e3366",
   "metadata": {},
   "source": [
    "#### Merge the dataset with the Latitude and Longitude data"
   ]
  },
  {
   "cell_type": "code",
   "execution_count": 8,
   "id": "283d683e",
   "metadata": {},
   "outputs": [],
   "source": [
    "merge_df = for_sale_df.merge(find_zipcodes_df, how='outer', on='zip_code_str')\n",
    "\n",
    "merge_df.rename(columns={\"zip_code_x\":\"zip_code\"},inplace=True)\n",
    "merge_df.drop(columns=[\"zip_code_y\"],inplace=True)"
   ]
  },
  {
   "cell_type": "markdown",
   "id": "a2372659",
   "metadata": {},
   "source": [
    "#### Display the records that didn't match up"
   ]
  },
  {
   "cell_type": "code",
   "execution_count": 9,
   "id": "65cfc109",
   "metadata": {},
   "outputs": [
    {
     "data": {
      "text/html": [
       "<div>\n",
       "<style scoped>\n",
       "    .dataframe tbody tr th:only-of-type {\n",
       "        vertical-align: middle;\n",
       "    }\n",
       "\n",
       "    .dataframe tbody tr th {\n",
       "        vertical-align: top;\n",
       "    }\n",
       "\n",
       "    .dataframe thead th {\n",
       "        text-align: right;\n",
       "    }\n",
       "</style>\n",
       "<table border=\"1\" class=\"dataframe\">\n",
       "  <thead>\n",
       "    <tr style=\"text-align: right;\">\n",
       "      <th></th>\n",
       "      <th>Unnamed: 0</th>\n",
       "      <th>bed</th>\n",
       "      <th>bath</th>\n",
       "      <th>acre_lot</th>\n",
       "      <th>zip_code</th>\n",
       "      <th>house_size</th>\n",
       "      <th>prev_sold_date</th>\n",
       "      <th>price</th>\n",
       "      <th>prev_sold_year</th>\n",
       "      <th>zip_code_str</th>\n",
       "      <th>latitude</th>\n",
       "      <th>longitude</th>\n",
       "    </tr>\n",
       "  </thead>\n",
       "  <tbody>\n",
       "  </tbody>\n",
       "</table>\n",
       "</div>"
      ],
      "text/plain": [
       "Empty DataFrame\n",
       "Columns: [Unnamed: 0, bed, bath, acre_lot, zip_code, house_size, prev_sold_date, price, prev_sold_year, zip_code_str, latitude, longitude]\n",
       "Index: []"
      ]
     },
     "execution_count": 9,
     "metadata": {},
     "output_type": "execute_result"
    }
   ],
   "source": [
    "merge_df[merge_df[\"latitude\"].isna()]"
   ]
  },
  {
   "cell_type": "code",
   "execution_count": 10,
   "id": "f8a529f9",
   "metadata": {},
   "outputs": [],
   "source": [
    "# \"08218\",\"39.1386785\",\"-74.856442\""
   ]
  },
  {
   "cell_type": "code",
   "execution_count": 11,
   "id": "20307491",
   "metadata": {},
   "outputs": [],
   "source": [
    "# \"08239\",\"39.1979584\",\"-74.6577965\""
   ]
  },
  {
   "cell_type": "code",
   "execution_count": 12,
   "id": "a6239f51",
   "metadata": {},
   "outputs": [],
   "source": [
    "# \"08245\",\"39.1778125\",\"-74.8300693\""
   ]
  },
  {
   "cell_type": "markdown",
   "id": "da0d22aa",
   "metadata": {},
   "source": [
    "#### Drop the records that didn't match up"
   ]
  },
  {
   "cell_type": "code",
   "execution_count": 13,
   "id": "83699b0c",
   "metadata": {},
   "outputs": [],
   "source": [
    "merge_df.dropna(subset=['latitude'], inplace=True)"
   ]
  },
  {
   "cell_type": "code",
   "execution_count": 14,
   "id": "505fc14f",
   "metadata": {},
   "outputs": [
    {
     "data": {
      "text/html": [
       "<div>\n",
       "<style scoped>\n",
       "    .dataframe tbody tr th:only-of-type {\n",
       "        vertical-align: middle;\n",
       "    }\n",
       "\n",
       "    .dataframe tbody tr th {\n",
       "        vertical-align: top;\n",
       "    }\n",
       "\n",
       "    .dataframe thead th {\n",
       "        text-align: right;\n",
       "    }\n",
       "</style>\n",
       "<table border=\"1\" class=\"dataframe\">\n",
       "  <thead>\n",
       "    <tr style=\"text-align: right;\">\n",
       "      <th></th>\n",
       "      <th>Unnamed: 0</th>\n",
       "      <th>bed</th>\n",
       "      <th>bath</th>\n",
       "      <th>acre_lot</th>\n",
       "      <th>zip_code</th>\n",
       "      <th>house_size</th>\n",
       "      <th>prev_sold_date</th>\n",
       "      <th>price</th>\n",
       "      <th>prev_sold_year</th>\n",
       "      <th>zip_code_str</th>\n",
       "      <th>latitude</th>\n",
       "      <th>longitude</th>\n",
       "    </tr>\n",
       "  </thead>\n",
       "  <tbody>\n",
       "    <tr>\n",
       "      <th>0</th>\n",
       "      <td>7</td>\n",
       "      <td>3.0</td>\n",
       "      <td>3.0</td>\n",
       "      <td>1.14</td>\n",
       "      <td>18013.0</td>\n",
       "      <td>1865.0</td>\n",
       "      <td>2017-08-01</td>\n",
       "      <td>279900.0</td>\n",
       "      <td>2017</td>\n",
       "      <td>018013</td>\n",
       "      <td>40.848762</td>\n",
       "      <td>-75.177293</td>\n",
       "    </tr>\n",
       "    <tr>\n",
       "      <th>1</th>\n",
       "      <td>13</td>\n",
       "      <td>3.0</td>\n",
       "      <td>1.0</td>\n",
       "      <td>0.09</td>\n",
       "      <td>18013.0</td>\n",
       "      <td>904.0</td>\n",
       "      <td>2019-03-26</td>\n",
       "      <td>135900.0</td>\n",
       "      <td>2019</td>\n",
       "      <td>018013</td>\n",
       "      <td>40.848762</td>\n",
       "      <td>-75.177293</td>\n",
       "    </tr>\n",
       "    <tr>\n",
       "      <th>2</th>\n",
       "      <td>635</td>\n",
       "      <td>4.0</td>\n",
       "      <td>3.0</td>\n",
       "      <td>2.67</td>\n",
       "      <td>18013.0</td>\n",
       "      <td>2607.0</td>\n",
       "      <td>2019-07-10</td>\n",
       "      <td>575000.0</td>\n",
       "      <td>2019</td>\n",
       "      <td>018013</td>\n",
       "      <td>40.848762</td>\n",
       "      <td>-75.177293</td>\n",
       "    </tr>\n",
       "    <tr>\n",
       "      <th>3</th>\n",
       "      <td>656</td>\n",
       "      <td>3.0</td>\n",
       "      <td>2.0</td>\n",
       "      <td>1.85</td>\n",
       "      <td>18013.0</td>\n",
       "      <td>2567.0</td>\n",
       "      <td>2019-05-21</td>\n",
       "      <td>549900.0</td>\n",
       "      <td>2019</td>\n",
       "      <td>018013</td>\n",
       "      <td>40.848762</td>\n",
       "      <td>-75.177293</td>\n",
       "    </tr>\n",
       "    <tr>\n",
       "      <th>4</th>\n",
       "      <td>686</td>\n",
       "      <td>3.0</td>\n",
       "      <td>2.0</td>\n",
       "      <td>0.09</td>\n",
       "      <td>18013.0</td>\n",
       "      <td>1377.0</td>\n",
       "      <td>2022-03-04</td>\n",
       "      <td>190000.0</td>\n",
       "      <td>2022</td>\n",
       "      <td>018013</td>\n",
       "      <td>40.848762</td>\n",
       "      <td>-75.177293</td>\n",
       "    </tr>\n",
       "  </tbody>\n",
       "</table>\n",
       "</div>"
      ],
      "text/plain": [
       "   Unnamed: 0  bed  bath  acre_lot  zip_code  house_size prev_sold_date  \\\n",
       "0           7  3.0   3.0      1.14   18013.0      1865.0     2017-08-01   \n",
       "1          13  3.0   1.0      0.09   18013.0       904.0     2019-03-26   \n",
       "2         635  4.0   3.0      2.67   18013.0      2607.0     2019-07-10   \n",
       "3         656  3.0   2.0      1.85   18013.0      2567.0     2019-05-21   \n",
       "4         686  3.0   2.0      0.09   18013.0      1377.0     2022-03-04   \n",
       "\n",
       "      price  prev_sold_year zip_code_str   latitude  longitude  \n",
       "0  279900.0            2017       018013  40.848762 -75.177293  \n",
       "1  135900.0            2019       018013  40.848762 -75.177293  \n",
       "2  575000.0            2019       018013  40.848762 -75.177293  \n",
       "3  549900.0            2019       018013  40.848762 -75.177293  \n",
       "4  190000.0            2022       018013  40.848762 -75.177293  "
      ]
     },
     "execution_count": 14,
     "metadata": {},
     "output_type": "execute_result"
    }
   ],
   "source": [
    "merge_df.head()"
   ]
  },
  {
   "cell_type": "markdown",
   "id": "b2772eb2",
   "metadata": {},
   "source": [
    "#### Use KMeans to cluster latitude and longitude into counties"
   ]
  },
  {
   "cell_type": "code",
   "execution_count": 15,
   "id": "73fc96ac",
   "metadata": {},
   "outputs": [],
   "source": [
    "numberofcounties = 67\n",
    "kmeans = KMeans( init=\"random\", n_clusters=21,random_state=0)\n",
    "latlong = merge_df[[\"latitude\",\"longitude\"]]\n",
    "kmeans.fit(latlong)\n",
    "y_kmeans = kmeans.predict(latlong)"
   ]
  },
  {
   "cell_type": "markdown",
   "id": "f29537dc",
   "metadata": {},
   "source": [
    "#### Plot the counties"
   ]
  },
  {
   "cell_type": "code",
   "execution_count": 16,
   "id": "82f0a805",
   "metadata": {},
   "outputs": [
    {
     "data": {
      "text/plain": [
       "<matplotlib.collections.PathCollection at 0x1ea9a770cd0>"
      ]
     },
     "execution_count": 16,
     "metadata": {},
     "output_type": "execute_result"
    },
    {
     "data": {
      "image/png": "[encoded data removed]",
      "text/plain": [
       "<Figure size 1000x1000 with 1 Axes>"
      ]
     },
     "metadata": {},
     "output_type": "display_data"
    }
   ],
   "source": [
    "fig, ax = plt.subplots(figsize=(10, 10))\n",
    "plt.scatter(merge_df[\"longitude\"], merge_df[\"latitude\"], c=y_kmeans, s=50, cmap='viridis')"
   ]
  },
  {
   "cell_type": "markdown",
   "id": "06f72fd9",
   "metadata": {},
   "source": [
    "#### Add county to the dataset going forward"
   ]
  },
  {
   "cell_type": "code",
   "execution_count": 17,
   "id": "a1c1ae50",
   "metadata": {},
   "outputs": [],
   "source": [
    "merge_df[\"county\"] = y_kmeans"
   ]
  },
  {
   "cell_type": "code",
   "execution_count": 18,
   "id": "2877a45b",
   "metadata": {},
   "outputs": [
    {
     "data": {
      "text/html": [
       "<div>\n",
       "<style scoped>\n",
       "    .dataframe tbody tr th:only-of-type {\n",
       "        vertical-align: middle;\n",
       "    }\n",
       "\n",
       "    .dataframe tbody tr th {\n",
       "        vertical-align: top;\n",
       "    }\n",
       "\n",
       "    .dataframe thead th {\n",
       "        text-align: right;\n",
       "    }\n",
       "</style>\n",
       "<table border=\"1\" class=\"dataframe\">\n",
       "  <thead>\n",
       "    <tr style=\"text-align: right;\">\n",
       "      <th></th>\n",
       "      <th>Unnamed: 0</th>\n",
       "      <th>bed</th>\n",
       "      <th>bath</th>\n",
       "      <th>acre_lot</th>\n",
       "      <th>zip_code</th>\n",
       "      <th>house_size</th>\n",
       "      <th>prev_sold_date</th>\n",
       "      <th>price</th>\n",
       "      <th>prev_sold_year</th>\n",
       "      <th>zip_code_str</th>\n",
       "      <th>latitude</th>\n",
       "      <th>longitude</th>\n",
       "      <th>county</th>\n",
       "    </tr>\n",
       "  </thead>\n",
       "  <tbody>\n",
       "    <tr>\n",
       "      <th>0</th>\n",
       "      <td>7</td>\n",
       "      <td>3.0</td>\n",
       "      <td>3.0</td>\n",
       "      <td>1.14</td>\n",
       "      <td>18013.0</td>\n",
       "      <td>1865.0</td>\n",
       "      <td>2017-08-01</td>\n",
       "      <td>279900.0</td>\n",
       "      <td>2017</td>\n",
       "      <td>018013</td>\n",
       "      <td>40.848762</td>\n",
       "      <td>-75.177293</td>\n",
       "      <td>19</td>\n",
       "    </tr>\n",
       "    <tr>\n",
       "      <th>1</th>\n",
       "      <td>13</td>\n",
       "      <td>3.0</td>\n",
       "      <td>1.0</td>\n",
       "      <td>0.09</td>\n",
       "      <td>18013.0</td>\n",
       "      <td>904.0</td>\n",
       "      <td>2019-03-26</td>\n",
       "      <td>135900.0</td>\n",
       "      <td>2019</td>\n",
       "      <td>018013</td>\n",
       "      <td>40.848762</td>\n",
       "      <td>-75.177293</td>\n",
       "      <td>19</td>\n",
       "    </tr>\n",
       "    <tr>\n",
       "      <th>2</th>\n",
       "      <td>635</td>\n",
       "      <td>4.0</td>\n",
       "      <td>3.0</td>\n",
       "      <td>2.67</td>\n",
       "      <td>18013.0</td>\n",
       "      <td>2607.0</td>\n",
       "      <td>2019-07-10</td>\n",
       "      <td>575000.0</td>\n",
       "      <td>2019</td>\n",
       "      <td>018013</td>\n",
       "      <td>40.848762</td>\n",
       "      <td>-75.177293</td>\n",
       "      <td>19</td>\n",
       "    </tr>\n",
       "    <tr>\n",
       "      <th>3</th>\n",
       "      <td>656</td>\n",
       "      <td>3.0</td>\n",
       "      <td>2.0</td>\n",
       "      <td>1.85</td>\n",
       "      <td>18013.0</td>\n",
       "      <td>2567.0</td>\n",
       "      <td>2019-05-21</td>\n",
       "      <td>549900.0</td>\n",
       "      <td>2019</td>\n",
       "      <td>018013</td>\n",
       "      <td>40.848762</td>\n",
       "      <td>-75.177293</td>\n",
       "      <td>19</td>\n",
       "    </tr>\n",
       "    <tr>\n",
       "      <th>4</th>\n",
       "      <td>686</td>\n",
       "      <td>3.0</td>\n",
       "      <td>2.0</td>\n",
       "      <td>0.09</td>\n",
       "      <td>18013.0</td>\n",
       "      <td>1377.0</td>\n",
       "      <td>2022-03-04</td>\n",
       "      <td>190000.0</td>\n",
       "      <td>2022</td>\n",
       "      <td>018013</td>\n",
       "      <td>40.848762</td>\n",
       "      <td>-75.177293</td>\n",
       "      <td>19</td>\n",
       "    </tr>\n",
       "  </tbody>\n",
       "</table>\n",
       "</div>"
      ],
      "text/plain": [
       "   Unnamed: 0  bed  bath  acre_lot  zip_code  house_size prev_sold_date  \\\n",
       "0           7  3.0   3.0      1.14   18013.0      1865.0     2017-08-01   \n",
       "1          13  3.0   1.0      0.09   18013.0       904.0     2019-03-26   \n",
       "2         635  4.0   3.0      2.67   18013.0      2607.0     2019-07-10   \n",
       "3         656  3.0   2.0      1.85   18013.0      2567.0     2019-05-21   \n",
       "4         686  3.0   2.0      0.09   18013.0      1377.0     2022-03-04   \n",
       "\n",
       "      price  prev_sold_year zip_code_str   latitude  longitude  county  \n",
       "0  279900.0            2017       018013  40.848762 -75.177293      19  \n",
       "1  135900.0            2019       018013  40.848762 -75.177293      19  \n",
       "2  575000.0            2019       018013  40.848762 -75.177293      19  \n",
       "3  549900.0            2019       018013  40.848762 -75.177293      19  \n",
       "4  190000.0            2022       018013  40.848762 -75.177293      19  "
      ]
     },
     "execution_count": 18,
     "metadata": {},
     "output_type": "execute_result"
    }
   ],
   "source": [
    "merge_df.head()"
   ]
  },
  {
   "cell_type": "markdown",
   "id": "672e92e0",
   "metadata": {},
   "source": [
    "#### Save the records to a csv file"
   ]
  },
  {
   "cell_type": "code",
   "execution_count": 19,
   "id": "bef09f9d",
   "metadata": {},
   "outputs": [],
   "source": [
    "merge_df.to_csv(\"geocoded.csv\")"
   ]
  },
  {
   "cell_type": "code",
   "execution_count": null,
   "id": "d95d5796",
   "metadata": {},
   "outputs": [],
   "source": []
  }
 ],
 "metadata": {
  "kernelspec": {
   "display_name": "Python 3 (ipykernel)",
   "language": "python",
   "name": "python3"
  },
  "language_info": {
   "codemirror_mode": {
    "name": "ipython",
    "version": 3
   },
   "file_extension": ".py",
   "mimetype": "text/x-python",
   "name": "python",
   "nbconvert_exporter": "python",
   "pygments_lexer": "ipython3",
   "version": "3.11.4"
  }
 },
 "nbformat": 4,
 "nbformat_minor": 5
}
